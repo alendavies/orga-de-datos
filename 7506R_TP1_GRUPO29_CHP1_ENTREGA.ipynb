{
 "cells": [
  {
   "attachments": {},
   "cell_type": "markdown",
   "metadata": {},
   "source": [
    "# <center>Organizaci&oacute;n de Datos</center>\n",
    "#### <center>C&aacute;tedra Ing. Rodriguez, Juan Manuel </center>\n",
    "## <center>Trabajo Práctico 1 : Reservas de Hotel </center>\n",
    "#### Grupo 29:\n",
    "* Alen Davies Leccese - 107084\n",
    "* Luca Lazcano - 107044\n",
    "* Nicolas Tonizzo - 107280"
   ]
  },
  {
   "attachments": {},
   "cell_type": "markdown",
   "metadata": {},
   "source": [
    "## Tabla de contenidos\n",
    "- [Importación y configuración](#Imports-y-configs)\n",
    "\n"
   ]
  },
  {
   "attachments": {},
   "cell_type": "markdown",
   "metadata": {},
   "source": [
    "#### Imports y configs"
   ]
  },
  {
   "cell_type": "markdown",
   "metadata": {},
   "source": [
    "Importamos las librerias y creamos el dataframe"
   ]
  },
  {
   "cell_type": "code",
   "execution_count": 1,
   "metadata": {},
   "outputs": [],
   "source": [
    "import pandas as pd\n",
    "import numpy as np\n",
    "import sklearn as sk\n",
    "import seaborn as sns\n",
    "from matplotlib import pyplot as plt\n",
    "\n",
    "df = pd.read_csv('./Datasets/hotels_train.csv')\n",
    "df.drop(columns=['reservation_status_date'], inplace=True)\n",
    "\n",
    "hotel = df.copy()"
   ]
  },
  {
   "attachments": {},
   "cell_type": "markdown",
   "metadata": {},
   "source": [
    "## Análisis Exploratorio y Preprocesamiento de Datos"
   ]
  },
  {
   "attachments": {},
   "cell_type": "markdown",
   "metadata": {},
   "source": [
    "### **Exploración inicial**"
   ]
  },
  {
   "attachments": {},
   "cell_type": "markdown",
   "metadata": {},
   "source": [
    "#### Primera aproximación a los datos"
   ]
  },
  {
   "attachments": {},
   "cell_type": "markdown",
   "metadata": {},
   "source": [
    "Primero vemos cómo están organizados los datos, imprimiendo algunas filas:"
   ]
  },
  {
   "cell_type": "code",
   "execution_count": 2,
   "metadata": {},
   "outputs": [
    {
     "data": {
      "text/html": [
       "<div>\n",
       "<style scoped>\n",
       "    .dataframe tbody tr th:only-of-type {\n",
       "        vertical-align: middle;\n",
       "    }\n",
       "\n",
       "    .dataframe tbody tr th {\n",
       "        vertical-align: top;\n",
       "    }\n",
       "\n",
       "    .dataframe thead th {\n",
       "        text-align: right;\n",
       "    }\n",
       "</style>\n",
       "<table border=\"1\" class=\"dataframe\">\n",
       "  <thead>\n",
       "    <tr style=\"text-align: right;\">\n",
       "      <th></th>\n",
       "      <th>hotel</th>\n",
       "      <th>lead_time</th>\n",
       "      <th>arrival_date_year</th>\n",
       "      <th>arrival_date_month</th>\n",
       "      <th>arrival_date_week_number</th>\n",
       "      <th>arrival_date_day_of_month</th>\n",
       "      <th>stays_in_weekend_nights</th>\n",
       "      <th>stays_in_week_nights</th>\n",
       "      <th>adults</th>\n",
       "      <th>children</th>\n",
       "      <th>...</th>\n",
       "      <th>deposit_type</th>\n",
       "      <th>agent</th>\n",
       "      <th>company</th>\n",
       "      <th>days_in_waiting_list</th>\n",
       "      <th>customer_type</th>\n",
       "      <th>adr</th>\n",
       "      <th>required_car_parking_spaces</th>\n",
       "      <th>total_of_special_requests</th>\n",
       "      <th>id</th>\n",
       "      <th>is_canceled</th>\n",
       "    </tr>\n",
       "  </thead>\n",
       "  <tbody>\n",
       "    <tr>\n",
       "      <th>1946</th>\n",
       "      <td>City Hotel</td>\n",
       "      <td>14</td>\n",
       "      <td>2016</td>\n",
       "      <td>July</td>\n",
       "      <td>27</td>\n",
       "      <td>2</td>\n",
       "      <td>2</td>\n",
       "      <td>3</td>\n",
       "      <td>2</td>\n",
       "      <td>0.0</td>\n",
       "      <td>...</td>\n",
       "      <td>No Deposit</td>\n",
       "      <td>9.0</td>\n",
       "      <td>NaN</td>\n",
       "      <td>0</td>\n",
       "      <td>Transient</td>\n",
       "      <td>151.0</td>\n",
       "      <td>0</td>\n",
       "      <td>2</td>\n",
       "      <td>7a7eb05c-76c0-49ca-a8b7-625e941fe80c</td>\n",
       "      <td>0</td>\n",
       "    </tr>\n",
       "    <tr>\n",
       "      <th>678</th>\n",
       "      <td>Resort Hotel</td>\n",
       "      <td>0</td>\n",
       "      <td>2017</td>\n",
       "      <td>February</td>\n",
       "      <td>7</td>\n",
       "      <td>14</td>\n",
       "      <td>0</td>\n",
       "      <td>1</td>\n",
       "      <td>2</td>\n",
       "      <td>0.0</td>\n",
       "      <td>...</td>\n",
       "      <td>No Deposit</td>\n",
       "      <td>NaN</td>\n",
       "      <td>NaN</td>\n",
       "      <td>0</td>\n",
       "      <td>Transient</td>\n",
       "      <td>0.0</td>\n",
       "      <td>0</td>\n",
       "      <td>1</td>\n",
       "      <td>c9ea7079-d0a5-48f9-a79d-4329c445c995</td>\n",
       "      <td>0</td>\n",
       "    </tr>\n",
       "    <tr>\n",
       "      <th>11412</th>\n",
       "      <td>Resort Hotel</td>\n",
       "      <td>124</td>\n",
       "      <td>2017</td>\n",
       "      <td>April</td>\n",
       "      <td>15</td>\n",
       "      <td>9</td>\n",
       "      <td>2</td>\n",
       "      <td>5</td>\n",
       "      <td>2</td>\n",
       "      <td>0.0</td>\n",
       "      <td>...</td>\n",
       "      <td>Non Refund</td>\n",
       "      <td>492.0</td>\n",
       "      <td>NaN</td>\n",
       "      <td>0</td>\n",
       "      <td>Transient</td>\n",
       "      <td>80.0</td>\n",
       "      <td>0</td>\n",
       "      <td>0</td>\n",
       "      <td>88b87a04-39fa-48a0-8c2b-e31e900a6e9e</td>\n",
       "      <td>1</td>\n",
       "    </tr>\n",
       "    <tr>\n",
       "      <th>13544</th>\n",
       "      <td>City Hotel</td>\n",
       "      <td>418</td>\n",
       "      <td>2016</td>\n",
       "      <td>September</td>\n",
       "      <td>40</td>\n",
       "      <td>26</td>\n",
       "      <td>1</td>\n",
       "      <td>2</td>\n",
       "      <td>2</td>\n",
       "      <td>0.0</td>\n",
       "      <td>...</td>\n",
       "      <td>No Deposit</td>\n",
       "      <td>21.0</td>\n",
       "      <td>NaN</td>\n",
       "      <td>223</td>\n",
       "      <td>Transient-Party</td>\n",
       "      <td>75.0</td>\n",
       "      <td>0</td>\n",
       "      <td>0</td>\n",
       "      <td>588aa382-e347-4ebb-af2a-163f990644dd</td>\n",
       "      <td>1</td>\n",
       "    </tr>\n",
       "    <tr>\n",
       "      <th>19548</th>\n",
       "      <td>City Hotel</td>\n",
       "      <td>74</td>\n",
       "      <td>2015</td>\n",
       "      <td>September</td>\n",
       "      <td>38</td>\n",
       "      <td>18</td>\n",
       "      <td>0</td>\n",
       "      <td>2</td>\n",
       "      <td>1</td>\n",
       "      <td>0.0</td>\n",
       "      <td>...</td>\n",
       "      <td>No Deposit</td>\n",
       "      <td>6.0</td>\n",
       "      <td>NaN</td>\n",
       "      <td>0</td>\n",
       "      <td>Transient-Party</td>\n",
       "      <td>87.0</td>\n",
       "      <td>0</td>\n",
       "      <td>0</td>\n",
       "      <td>f80c2e51-470c-4d68-acd7-e8c37f1eaef5</td>\n",
       "      <td>0</td>\n",
       "    </tr>\n",
       "  </tbody>\n",
       "</table>\n",
       "<p>5 rows × 31 columns</p>\n",
       "</div>"
      ],
      "text/plain": [
       "              hotel  lead_time  arrival_date_year arrival_date_month  \\\n",
       "1946     City Hotel         14               2016               July   \n",
       "678    Resort Hotel          0               2017           February   \n",
       "11412  Resort Hotel        124               2017              April   \n",
       "13544    City Hotel        418               2016          September   \n",
       "19548    City Hotel         74               2015          September   \n",
       "\n",
       "       arrival_date_week_number  arrival_date_day_of_month  \\\n",
       "1946                         27                          2   \n",
       "678                           7                         14   \n",
       "11412                        15                          9   \n",
       "13544                        40                         26   \n",
       "19548                        38                         18   \n",
       "\n",
       "       stays_in_weekend_nights  stays_in_week_nights  adults  children  ...  \\\n",
       "1946                         2                     3       2       0.0  ...   \n",
       "678                          0                     1       2       0.0  ...   \n",
       "11412                        2                     5       2       0.0  ...   \n",
       "13544                        1                     2       2       0.0  ...   \n",
       "19548                        0                     2       1       0.0  ...   \n",
       "\n",
       "       deposit_type  agent company days_in_waiting_list    customer_type  \\\n",
       "1946     No Deposit    9.0     NaN                    0        Transient   \n",
       "678      No Deposit    NaN     NaN                    0        Transient   \n",
       "11412    Non Refund  492.0     NaN                    0        Transient   \n",
       "13544    No Deposit   21.0     NaN                  223  Transient-Party   \n",
       "19548    No Deposit    6.0     NaN                    0  Transient-Party   \n",
       "\n",
       "         adr  required_car_parking_spaces  total_of_special_requests  \\\n",
       "1946   151.0                            0                          2   \n",
       "678      0.0                            0                          1   \n",
       "11412   80.0                            0                          0   \n",
       "13544   75.0                            0                          0   \n",
       "19548   87.0                            0                          0   \n",
       "\n",
       "                                         id is_canceled  \n",
       "1946   7a7eb05c-76c0-49ca-a8b7-625e941fe80c           0  \n",
       "678    c9ea7079-d0a5-48f9-a79d-4329c445c995           0  \n",
       "11412  88b87a04-39fa-48a0-8c2b-e31e900a6e9e           1  \n",
       "13544  588aa382-e347-4ebb-af2a-163f990644dd           1  \n",
       "19548  f80c2e51-470c-4d68-acd7-e8c37f1eaef5           0  \n",
       "\n",
       "[5 rows x 31 columns]"
      ]
     },
     "execution_count": 2,
     "metadata": {},
     "output_type": "execute_result"
    }
   ],
   "source": [
    "hotel.sample(5)"
   ]
  },
  {
   "attachments": {},
   "cell_type": "markdown",
   "metadata": {},
   "source": [
    "Vemos que el dataset contiene información sobre las reservas en dos hoteles distintos."
   ]
  },
  {
   "cell_type": "code",
   "execution_count": 3,
   "metadata": {},
   "outputs": [
    {
     "data": {
      "text/plain": [
       "City Hotel      42129\n",
       "Resort Hotel    19784\n",
       "Name: hotel, dtype: int64"
      ]
     },
     "execution_count": 3,
     "metadata": {},
     "output_type": "execute_result"
    }
   ],
   "source": [
    "hotel.hotel.value_counts()"
   ]
  },
  {
   "attachments": {},
   "cell_type": "markdown",
   "metadata": {},
   "source": [
    "Luego vemos el tipo de dato de cada columna y determinamos a qué tipo de variable corresponde, así sabemos el análisis que se le puede efectuar."
   ]
  },
  {
   "cell_type": "code",
   "execution_count": 4,
   "metadata": {},
   "outputs": [
    {
     "name": "stdout",
     "output_type": "stream",
     "text": [
      "<class 'pandas.core.frame.DataFrame'>\n",
      "RangeIndex: 61913 entries, 0 to 61912\n",
      "Data columns (total 31 columns):\n",
      " #   Column                          Non-Null Count  Dtype  \n",
      "---  ------                          --------------  -----  \n",
      " 0   hotel                           61913 non-null  object \n",
      " 1   lead_time                       61913 non-null  int64  \n",
      " 2   arrival_date_year               61913 non-null  int64  \n",
      " 3   arrival_date_month              61913 non-null  object \n",
      " 4   arrival_date_week_number        61913 non-null  int64  \n",
      " 5   arrival_date_day_of_month       61913 non-null  int64  \n",
      " 6   stays_in_weekend_nights         61913 non-null  int64  \n",
      " 7   stays_in_week_nights            61913 non-null  int64  \n",
      " 8   adults                          61913 non-null  int64  \n",
      " 9   children                        61909 non-null  float64\n",
      " 10  babies                          61913 non-null  int64  \n",
      " 11  meal                            61913 non-null  object \n",
      " 12  country                         61692 non-null  object \n",
      " 13  market_segment                  61913 non-null  object \n",
      " 14  distribution_channel            61913 non-null  object \n",
      " 15  is_repeated_guest               61913 non-null  int64  \n",
      " 16  previous_cancellations          61913 non-null  int64  \n",
      " 17  previous_bookings_not_canceled  61913 non-null  int64  \n",
      " 18  reserved_room_type              61913 non-null  object \n",
      " 19  assigned_room_type              61913 non-null  object \n",
      " 20  booking_changes                 61913 non-null  int64  \n",
      " 21  deposit_type                    61913 non-null  object \n",
      " 22  agent                           54023 non-null  float64\n",
      " 23  company                         3152 non-null   float64\n",
      " 24  days_in_waiting_list            61913 non-null  int64  \n",
      " 25  customer_type                   61913 non-null  object \n",
      " 26  adr                             61913 non-null  float64\n",
      " 27  required_car_parking_spaces     61913 non-null  int64  \n",
      " 28  total_of_special_requests       61913 non-null  int64  \n",
      " 29  id                              61913 non-null  object \n",
      " 30  is_canceled                     61913 non-null  int64  \n",
      "dtypes: float64(4), int64(16), object(11)\n",
      "memory usage: 14.6+ MB\n"
     ]
    }
   ],
   "source": [
    "hotel.info()"
   ]
  },
  {
   "attachments": {},
   "cell_type": "markdown",
   "metadata": {},
   "source": [
    "Vemos que hay un mix de variables, cualitativas, ordinales y cuantitativas (discretas y continuas). Se observa que están representadas por varios tipos de datos. Por ejemplo algunas que son de tipo numérico, son cualitativas, como por ejemplo 'agent' y 'company'. El número seguramente representa un índice o id. Otras columnas son \"booleanas\", el valor numérico representa \"verdadero\" o \"falso\". Normalmente un 1 en dicha columna será verdadero, y un 0, falso. Estas columnas son 'is_repeated_guest' e 'is_canceled'."
   ]
  },
  {
   "attachments": {},
   "cell_type": "markdown",
   "metadata": {},
   "source": [
    "Vemos si hay duplicados en el dataset:"
   ]
  },
  {
   "cell_type": "code",
   "execution_count": 5,
   "metadata": {},
   "outputs": [
    {
     "name": "stdout",
     "output_type": "stream",
     "text": [
      "Cantidad de filas duplicadas: 0\n"
     ]
    }
   ],
   "source": [
    "print(f'Cantidad de filas duplicadas: {hotel.duplicated().sum()}')"
   ]
  },
  {
   "attachments": {},
   "cell_type": "markdown",
   "metadata": {},
   "source": [
    "Convertimos las columnas `'arrival_date_year'`, `'arrival_date_month'`, `'arrival_date_day_of_month'` en una sola columna `'arrival_date'` de tipo datetime."
   ]
  },
  {
   "cell_type": "code",
   "execution_count": 6,
   "metadata": {},
   "outputs": [],
   "source": [
    "hotel['arrival_date'] = pd.to_datetime(hotel['arrival_date_year'].astype(str) + '-' + hotel['arrival_date_month'] + '-' + hotel['arrival_date_day_of_month'].astype(str))\n",
    "\n",
    "# hotel.drop(columns=['arrival_date_year', 'arrival_date_month', 'arrival_date_day_of_month'], inplace=True)"
   ]
  },
  {
   "attachments": {},
   "cell_type": "markdown",
   "metadata": {},
   "source": [
    "Verificamos que se hayan convertido correctamente:"
   ]
  },
  {
   "cell_type": "code",
   "execution_count": 7,
   "metadata": {},
   "outputs": [
    {
     "data": {
      "text/plain": [
       "0       2016-09-05\n",
       "1       2015-10-31\n",
       "2       2016-10-13\n",
       "3       2016-12-12\n",
       "4       2017-03-19\n",
       "           ...    \n",
       "61908   2017-01-27\n",
       "61909   2016-09-02\n",
       "61910   2017-05-08\n",
       "61911   2015-10-10\n",
       "61912   2016-04-17\n",
       "Name: arrival_date, Length: 61913, dtype: datetime64[ns]"
      ]
     },
     "execution_count": 7,
     "metadata": {},
     "output_type": "execute_result"
    }
   ],
   "source": [
    "hotel.arrival_date"
   ]
  },
  {
   "cell_type": "code",
   "execution_count": 8,
   "metadata": {},
   "outputs": [
    {
     "data": {
      "text/html": [
       "<div>\n",
       "<style scoped>\n",
       "    .dataframe tbody tr th:only-of-type {\n",
       "        vertical-align: middle;\n",
       "    }\n",
       "\n",
       "    .dataframe tbody tr th {\n",
       "        vertical-align: top;\n",
       "    }\n",
       "\n",
       "    .dataframe thead th {\n",
       "        text-align: right;\n",
       "    }\n",
       "</style>\n",
       "<table border=\"1\" class=\"dataframe\">\n",
       "  <thead>\n",
       "    <tr style=\"text-align: right;\">\n",
       "      <th></th>\n",
       "      <th>hotel</th>\n",
       "      <th>lead_time</th>\n",
       "      <th>arrival_date_year</th>\n",
       "      <th>arrival_date_month</th>\n",
       "      <th>arrival_date_week_number</th>\n",
       "      <th>arrival_date_day_of_month</th>\n",
       "      <th>stays_in_weekend_nights</th>\n",
       "      <th>stays_in_week_nights</th>\n",
       "      <th>adults</th>\n",
       "      <th>children</th>\n",
       "      <th>...</th>\n",
       "      <th>agent</th>\n",
       "      <th>company</th>\n",
       "      <th>days_in_waiting_list</th>\n",
       "      <th>customer_type</th>\n",
       "      <th>adr</th>\n",
       "      <th>required_car_parking_spaces</th>\n",
       "      <th>total_of_special_requests</th>\n",
       "      <th>id</th>\n",
       "      <th>is_canceled</th>\n",
       "      <th>arrival_date</th>\n",
       "    </tr>\n",
       "  </thead>\n",
       "  <tbody>\n",
       "    <tr>\n",
       "      <th>0</th>\n",
       "      <td>City Hotel</td>\n",
       "      <td>49</td>\n",
       "      <td>2016</td>\n",
       "      <td>September</td>\n",
       "      <td>37</td>\n",
       "      <td>5</td>\n",
       "      <td>1</td>\n",
       "      <td>2</td>\n",
       "      <td>1</td>\n",
       "      <td>0.0</td>\n",
       "      <td>...</td>\n",
       "      <td>9.0</td>\n",
       "      <td>NaN</td>\n",
       "      <td>0</td>\n",
       "      <td>Transient</td>\n",
       "      <td>115.5</td>\n",
       "      <td>0</td>\n",
       "      <td>1</td>\n",
       "      <td>7aa4cc6b-b92c-4061-b21d-4f9e0cac4689</td>\n",
       "      <td>1</td>\n",
       "      <td>2016-09-05</td>\n",
       "    </tr>\n",
       "    <tr>\n",
       "      <th>1</th>\n",
       "      <td>Resort Hotel</td>\n",
       "      <td>4</td>\n",
       "      <td>2015</td>\n",
       "      <td>October</td>\n",
       "      <td>44</td>\n",
       "      <td>31</td>\n",
       "      <td>0</td>\n",
       "      <td>1</td>\n",
       "      <td>2</td>\n",
       "      <td>0.0</td>\n",
       "      <td>...</td>\n",
       "      <td>NaN</td>\n",
       "      <td>NaN</td>\n",
       "      <td>0</td>\n",
       "      <td>Transient</td>\n",
       "      <td>42.0</td>\n",
       "      <td>1</td>\n",
       "      <td>0</td>\n",
       "      <td>b1428f80-c56c-4ae4-91a9-6962edae08b1</td>\n",
       "      <td>0</td>\n",
       "      <td>2015-10-31</td>\n",
       "    </tr>\n",
       "    <tr>\n",
       "      <th>2</th>\n",
       "      <td>City Hotel</td>\n",
       "      <td>25</td>\n",
       "      <td>2016</td>\n",
       "      <td>October</td>\n",
       "      <td>42</td>\n",
       "      <td>13</td>\n",
       "      <td>0</td>\n",
       "      <td>1</td>\n",
       "      <td>2</td>\n",
       "      <td>2.0</td>\n",
       "      <td>...</td>\n",
       "      <td>9.0</td>\n",
       "      <td>NaN</td>\n",
       "      <td>0</td>\n",
       "      <td>Transient</td>\n",
       "      <td>229.0</td>\n",
       "      <td>0</td>\n",
       "      <td>2</td>\n",
       "      <td>2226c018-ea20-4c4e-8f71-ea66aee70d7c</td>\n",
       "      <td>0</td>\n",
       "      <td>2016-10-13</td>\n",
       "    </tr>\n",
       "    <tr>\n",
       "      <th>3</th>\n",
       "      <td>City Hotel</td>\n",
       "      <td>26</td>\n",
       "      <td>2016</td>\n",
       "      <td>December</td>\n",
       "      <td>51</td>\n",
       "      <td>12</td>\n",
       "      <td>2</td>\n",
       "      <td>5</td>\n",
       "      <td>2</td>\n",
       "      <td>0.0</td>\n",
       "      <td>...</td>\n",
       "      <td>154.0</td>\n",
       "      <td>NaN</td>\n",
       "      <td>0</td>\n",
       "      <td>Transient</td>\n",
       "      <td>75.0</td>\n",
       "      <td>0</td>\n",
       "      <td>0</td>\n",
       "      <td>314f56dc-2e4d-4298-9bdd-27bb008bffff</td>\n",
       "      <td>1</td>\n",
       "      <td>2016-12-12</td>\n",
       "    </tr>\n",
       "    <tr>\n",
       "      <th>4</th>\n",
       "      <td>City Hotel</td>\n",
       "      <td>104</td>\n",
       "      <td>2017</td>\n",
       "      <td>March</td>\n",
       "      <td>12</td>\n",
       "      <td>19</td>\n",
       "      <td>2</td>\n",
       "      <td>5</td>\n",
       "      <td>2</td>\n",
       "      <td>0.0</td>\n",
       "      <td>...</td>\n",
       "      <td>20.0</td>\n",
       "      <td>NaN</td>\n",
       "      <td>0</td>\n",
       "      <td>Transient-Party</td>\n",
       "      <td>75.0</td>\n",
       "      <td>0</td>\n",
       "      <td>1</td>\n",
       "      <td>28c75445-c603-413a-babf-ad377018b592</td>\n",
       "      <td>0</td>\n",
       "      <td>2017-03-19</td>\n",
       "    </tr>\n",
       "  </tbody>\n",
       "</table>\n",
       "<p>5 rows × 32 columns</p>\n",
       "</div>"
      ],
      "text/plain": [
       "          hotel  lead_time  arrival_date_year arrival_date_month  \\\n",
       "0    City Hotel         49               2016          September   \n",
       "1  Resort Hotel          4               2015            October   \n",
       "2    City Hotel         25               2016            October   \n",
       "3    City Hotel         26               2016           December   \n",
       "4    City Hotel        104               2017              March   \n",
       "\n",
       "   arrival_date_week_number  arrival_date_day_of_month  \\\n",
       "0                        37                          5   \n",
       "1                        44                         31   \n",
       "2                        42                         13   \n",
       "3                        51                         12   \n",
       "4                        12                         19   \n",
       "\n",
       "   stays_in_weekend_nights  stays_in_week_nights  adults  children  ...  \\\n",
       "0                        1                     2       1       0.0  ...   \n",
       "1                        0                     1       2       0.0  ...   \n",
       "2                        0                     1       2       2.0  ...   \n",
       "3                        2                     5       2       0.0  ...   \n",
       "4                        2                     5       2       0.0  ...   \n",
       "\n",
       "   agent company days_in_waiting_list    customer_type    adr  \\\n",
       "0    9.0     NaN                    0        Transient  115.5   \n",
       "1    NaN     NaN                    0        Transient   42.0   \n",
       "2    9.0     NaN                    0        Transient  229.0   \n",
       "3  154.0     NaN                    0        Transient   75.0   \n",
       "4   20.0     NaN                    0  Transient-Party   75.0   \n",
       "\n",
       "   required_car_parking_spaces  total_of_special_requests  \\\n",
       "0                            0                          1   \n",
       "1                            1                          0   \n",
       "2                            0                          2   \n",
       "3                            0                          0   \n",
       "4                            0                          1   \n",
       "\n",
       "                                     id is_canceled arrival_date  \n",
       "0  7aa4cc6b-b92c-4061-b21d-4f9e0cac4689           1   2016-09-05  \n",
       "1  b1428f80-c56c-4ae4-91a9-6962edae08b1           0   2015-10-31  \n",
       "2  2226c018-ea20-4c4e-8f71-ea66aee70d7c           0   2016-10-13  \n",
       "3  314f56dc-2e4d-4298-9bdd-27bb008bffff           1   2016-12-12  \n",
       "4  28c75445-c603-413a-babf-ad377018b592           0   2017-03-19  \n",
       "\n",
       "[5 rows x 32 columns]"
      ]
     },
     "execution_count": 8,
     "metadata": {},
     "output_type": "execute_result"
    }
   ],
   "source": [
    "hotel.head()"
   ]
  },
  {
   "attachments": {},
   "cell_type": "markdown",
   "metadata": {},
   "source": [
    "#### Variables cualitativas"
   ]
  },
  {
   "attachments": {},
   "cell_type": "markdown",
   "metadata": {},
   "source": [
    "Para las variables cualitativas se pueden determinar los valores posibles, y a qué corresponden."
   ]
  },
  {
   "cell_type": "code",
   "execution_count": 9,
   "metadata": {},
   "outputs": [
    {
     "data": {
      "text/html": [
       "<div>\n",
       "<style scoped>\n",
       "    .dataframe tbody tr th:only-of-type {\n",
       "        vertical-align: middle;\n",
       "    }\n",
       "\n",
       "    .dataframe tbody tr th {\n",
       "        vertical-align: top;\n",
       "    }\n",
       "\n",
       "    .dataframe thead th {\n",
       "        text-align: right;\n",
       "    }\n",
       "</style>\n",
       "<table border=\"1\" class=\"dataframe\">\n",
       "  <thead>\n",
       "    <tr style=\"text-align: right;\">\n",
       "      <th></th>\n",
       "      <th>hotel</th>\n",
       "      <th>arrival_date_week_number</th>\n",
       "      <th>meal</th>\n",
       "      <th>country</th>\n",
       "      <th>market_segment</th>\n",
       "      <th>distribution_channel</th>\n",
       "      <th>is_repeated_guest</th>\n",
       "      <th>reserved_room_type</th>\n",
       "      <th>assigned_room_type</th>\n",
       "      <th>deposit_type</th>\n",
       "      <th>agent</th>\n",
       "      <th>company</th>\n",
       "      <th>customer_type</th>\n",
       "      <th>is_canceled</th>\n",
       "      <th>agent</th>\n",
       "      <th>company</th>\n",
       "    </tr>\n",
       "  </thead>\n",
       "  <tbody>\n",
       "    <tr>\n",
       "      <th>0</th>\n",
       "      <td>City Hotel</td>\n",
       "      <td>37</td>\n",
       "      <td>BB</td>\n",
       "      <td>USA</td>\n",
       "      <td>Online TA</td>\n",
       "      <td>TA/TO</td>\n",
       "      <td>0</td>\n",
       "      <td>D</td>\n",
       "      <td>D</td>\n",
       "      <td>No Deposit</td>\n",
       "      <td>9.0</td>\n",
       "      <td>NaN</td>\n",
       "      <td>Transient</td>\n",
       "      <td>1</td>\n",
       "      <td>9.0</td>\n",
       "      <td>NaN</td>\n",
       "    </tr>\n",
       "    <tr>\n",
       "      <th>1</th>\n",
       "      <td>Resort Hotel</td>\n",
       "      <td>44</td>\n",
       "      <td>BB</td>\n",
       "      <td>PRT</td>\n",
       "      <td>Groups</td>\n",
       "      <td>Direct</td>\n",
       "      <td>0</td>\n",
       "      <td>A</td>\n",
       "      <td>A</td>\n",
       "      <td>No Deposit</td>\n",
       "      <td>NaN</td>\n",
       "      <td>NaN</td>\n",
       "      <td>Transient</td>\n",
       "      <td>0</td>\n",
       "      <td>NaN</td>\n",
       "      <td>NaN</td>\n",
       "    </tr>\n",
       "    <tr>\n",
       "      <th>2</th>\n",
       "      <td>City Hotel</td>\n",
       "      <td>42</td>\n",
       "      <td>BB</td>\n",
       "      <td>CHE</td>\n",
       "      <td>Online TA</td>\n",
       "      <td>TA/TO</td>\n",
       "      <td>0</td>\n",
       "      <td>F</td>\n",
       "      <td>F</td>\n",
       "      <td>No Deposit</td>\n",
       "      <td>9.0</td>\n",
       "      <td>NaN</td>\n",
       "      <td>Transient</td>\n",
       "      <td>0</td>\n",
       "      <td>9.0</td>\n",
       "      <td>NaN</td>\n",
       "    </tr>\n",
       "    <tr>\n",
       "      <th>3</th>\n",
       "      <td>City Hotel</td>\n",
       "      <td>51</td>\n",
       "      <td>BB</td>\n",
       "      <td>PRT</td>\n",
       "      <td>Groups</td>\n",
       "      <td>TA/TO</td>\n",
       "      <td>0</td>\n",
       "      <td>A</td>\n",
       "      <td>A</td>\n",
       "      <td>Non Refund</td>\n",
       "      <td>154.0</td>\n",
       "      <td>NaN</td>\n",
       "      <td>Transient</td>\n",
       "      <td>1</td>\n",
       "      <td>154.0</td>\n",
       "      <td>NaN</td>\n",
       "    </tr>\n",
       "    <tr>\n",
       "      <th>4</th>\n",
       "      <td>City Hotel</td>\n",
       "      <td>12</td>\n",
       "      <td>BB</td>\n",
       "      <td>FRA</td>\n",
       "      <td>Offline TA/TO</td>\n",
       "      <td>TA/TO</td>\n",
       "      <td>0</td>\n",
       "      <td>A</td>\n",
       "      <td>A</td>\n",
       "      <td>No Deposit</td>\n",
       "      <td>20.0</td>\n",
       "      <td>NaN</td>\n",
       "      <td>Transient-Party</td>\n",
       "      <td>0</td>\n",
       "      <td>20.0</td>\n",
       "      <td>NaN</td>\n",
       "    </tr>\n",
       "    <tr>\n",
       "      <th>...</th>\n",
       "      <td>...</td>\n",
       "      <td>...</td>\n",
       "      <td>...</td>\n",
       "      <td>...</td>\n",
       "      <td>...</td>\n",
       "      <td>...</td>\n",
       "      <td>...</td>\n",
       "      <td>...</td>\n",
       "      <td>...</td>\n",
       "      <td>...</td>\n",
       "      <td>...</td>\n",
       "      <td>...</td>\n",
       "      <td>...</td>\n",
       "      <td>...</td>\n",
       "      <td>...</td>\n",
       "      <td>...</td>\n",
       "    </tr>\n",
       "    <tr>\n",
       "      <th>61908</th>\n",
       "      <td>Resort Hotel</td>\n",
       "      <td>4</td>\n",
       "      <td>BB</td>\n",
       "      <td>ESP</td>\n",
       "      <td>Online TA</td>\n",
       "      <td>TA/TO</td>\n",
       "      <td>0</td>\n",
       "      <td>A</td>\n",
       "      <td>D</td>\n",
       "      <td>No Deposit</td>\n",
       "      <td>240.0</td>\n",
       "      <td>NaN</td>\n",
       "      <td>Transient</td>\n",
       "      <td>1</td>\n",
       "      <td>240.0</td>\n",
       "      <td>NaN</td>\n",
       "    </tr>\n",
       "    <tr>\n",
       "      <th>61909</th>\n",
       "      <td>City Hotel</td>\n",
       "      <td>36</td>\n",
       "      <td>SC</td>\n",
       "      <td>FRA</td>\n",
       "      <td>Online TA</td>\n",
       "      <td>TA/TO</td>\n",
       "      <td>0</td>\n",
       "      <td>A</td>\n",
       "      <td>A</td>\n",
       "      <td>No Deposit</td>\n",
       "      <td>NaN</td>\n",
       "      <td>NaN</td>\n",
       "      <td>Transient</td>\n",
       "      <td>0</td>\n",
       "      <td>NaN</td>\n",
       "      <td>NaN</td>\n",
       "    </tr>\n",
       "    <tr>\n",
       "      <th>61910</th>\n",
       "      <td>City Hotel</td>\n",
       "      <td>19</td>\n",
       "      <td>BB</td>\n",
       "      <td>FRA</td>\n",
       "      <td>Aviation</td>\n",
       "      <td>Corporate</td>\n",
       "      <td>0</td>\n",
       "      <td>A</td>\n",
       "      <td>A</td>\n",
       "      <td>No Deposit</td>\n",
       "      <td>NaN</td>\n",
       "      <td>153.0</td>\n",
       "      <td>Transient</td>\n",
       "      <td>0</td>\n",
       "      <td>NaN</td>\n",
       "      <td>153.0</td>\n",
       "    </tr>\n",
       "    <tr>\n",
       "      <th>61911</th>\n",
       "      <td>Resort Hotel</td>\n",
       "      <td>41</td>\n",
       "      <td>BB</td>\n",
       "      <td>PRT</td>\n",
       "      <td>Groups</td>\n",
       "      <td>TA/TO</td>\n",
       "      <td>0</td>\n",
       "      <td>A</td>\n",
       "      <td>A</td>\n",
       "      <td>Non Refund</td>\n",
       "      <td>96.0</td>\n",
       "      <td>NaN</td>\n",
       "      <td>Transient</td>\n",
       "      <td>1</td>\n",
       "      <td>96.0</td>\n",
       "      <td>NaN</td>\n",
       "    </tr>\n",
       "    <tr>\n",
       "      <th>61912</th>\n",
       "      <td>City Hotel</td>\n",
       "      <td>17</td>\n",
       "      <td>HB</td>\n",
       "      <td>ISR</td>\n",
       "      <td>Online TA</td>\n",
       "      <td>TA/TO</td>\n",
       "      <td>0</td>\n",
       "      <td>D</td>\n",
       "      <td>D</td>\n",
       "      <td>No Deposit</td>\n",
       "      <td>9.0</td>\n",
       "      <td>NaN</td>\n",
       "      <td>Transient</td>\n",
       "      <td>1</td>\n",
       "      <td>9.0</td>\n",
       "      <td>NaN</td>\n",
       "    </tr>\n",
       "  </tbody>\n",
       "</table>\n",
       "<p>61913 rows × 16 columns</p>\n",
       "</div>"
      ],
      "text/plain": [
       "              hotel  arrival_date_week_number meal country market_segment  \\\n",
       "0        City Hotel                        37   BB     USA      Online TA   \n",
       "1      Resort Hotel                        44   BB     PRT         Groups   \n",
       "2        City Hotel                        42   BB     CHE      Online TA   \n",
       "3        City Hotel                        51   BB     PRT         Groups   \n",
       "4        City Hotel                        12   BB     FRA  Offline TA/TO   \n",
       "...             ...                       ...  ...     ...            ...   \n",
       "61908  Resort Hotel                         4   BB     ESP      Online TA   \n",
       "61909    City Hotel                        36   SC     FRA      Online TA   \n",
       "61910    City Hotel                        19   BB     FRA       Aviation   \n",
       "61911  Resort Hotel                        41   BB     PRT         Groups   \n",
       "61912    City Hotel                        17   HB     ISR      Online TA   \n",
       "\n",
       "      distribution_channel  is_repeated_guest reserved_room_type  \\\n",
       "0                    TA/TO                  0                  D   \n",
       "1                   Direct                  0                  A   \n",
       "2                    TA/TO                  0                  F   \n",
       "3                    TA/TO                  0                  A   \n",
       "4                    TA/TO                  0                  A   \n",
       "...                    ...                ...                ...   \n",
       "61908                TA/TO                  0                  A   \n",
       "61909                TA/TO                  0                  A   \n",
       "61910            Corporate                  0                  A   \n",
       "61911                TA/TO                  0                  A   \n",
       "61912                TA/TO                  0                  D   \n",
       "\n",
       "      assigned_room_type deposit_type  agent  company    customer_type  \\\n",
       "0                      D   No Deposit    9.0      NaN        Transient   \n",
       "1                      A   No Deposit    NaN      NaN        Transient   \n",
       "2                      F   No Deposit    9.0      NaN        Transient   \n",
       "3                      A   Non Refund  154.0      NaN        Transient   \n",
       "4                      A   No Deposit   20.0      NaN  Transient-Party   \n",
       "...                  ...          ...    ...      ...              ...   \n",
       "61908                  D   No Deposit  240.0      NaN        Transient   \n",
       "61909                  A   No Deposit    NaN      NaN        Transient   \n",
       "61910                  A   No Deposit    NaN    153.0        Transient   \n",
       "61911                  A   Non Refund   96.0      NaN        Transient   \n",
       "61912                  D   No Deposit    9.0      NaN        Transient   \n",
       "\n",
       "       is_canceled  agent  company  \n",
       "0                1    9.0      NaN  \n",
       "1                0    NaN      NaN  \n",
       "2                0    9.0      NaN  \n",
       "3                1  154.0      NaN  \n",
       "4                0   20.0      NaN  \n",
       "...            ...    ...      ...  \n",
       "61908            1  240.0      NaN  \n",
       "61909            0    NaN      NaN  \n",
       "61910            0    NaN    153.0  \n",
       "61911            1   96.0      NaN  \n",
       "61912            1    9.0      NaN  \n",
       "\n",
       "[61913 rows x 16 columns]"
      ]
     },
     "execution_count": 9,
     "metadata": {},
     "output_type": "execute_result"
    }
   ],
   "source": [
    "cualitativas = hotel[['hotel','arrival_date_week_number', 'meal', 'country', 'market_segment', 'distribution_channel', 'is_repeated_guest', 'reserved_room_type', 'assigned_room_type', 'deposit_type', 'agent', 'company', 'customer_type', 'is_canceled', 'agent', 'company']]\n",
    "cualitativas"
   ]
  },
  {
   "attachments": {},
   "cell_type": "markdown",
   "metadata": {},
   "source": [
    "La variable 'hotel' puede tomar los siguientes valores:"
   ]
  },
  {
   "cell_type": "code",
   "execution_count": 10,
   "metadata": {},
   "outputs": [
    {
     "data": {
      "text/plain": [
       "City Hotel      42129\n",
       "Resort Hotel    19784\n",
       "Name: hotel, dtype: int64"
      ]
     },
     "execution_count": 10,
     "metadata": {},
     "output_type": "execute_result"
    }
   ],
   "source": [
    "hotel['hotel'].value_counts()"
   ]
  },
  {
   "attachments": {},
   "cell_type": "markdown",
   "metadata": {},
   "source": [
    "La variable 'arrival_date_month' puede tomar los siguientes valores:"
   ]
  },
  {
   "cell_type": "code",
   "execution_count": 11,
   "metadata": {},
   "outputs": [
    {
     "data": {
      "text/plain": [
       "August       7176\n",
       "July         6524\n",
       "May          6159\n",
       "April        5878\n",
       "October      5863\n",
       "June         5772\n",
       "September    5619\n",
       "March        4899\n",
       "February     4125\n",
       "December     3493\n",
       "November     3404\n",
       "January      3001\n",
       "Name: arrival_date_month, dtype: int64"
      ]
     },
     "execution_count": 11,
     "metadata": {},
     "output_type": "execute_result"
    }
   ],
   "source": [
    "hotel['arrival_date_month'].value_counts()"
   ]
  },
  {
   "attachments": {},
   "cell_type": "markdown",
   "metadata": {},
   "source": [
    "La variable 'arrival_date_week_number' puede tomar los siguientes valores:"
   ]
  },
  {
   "cell_type": "code",
   "execution_count": 12,
   "metadata": {},
   "outputs": [
    {
     "data": {
      "text/plain": [
       "1      552\n",
       "2      642\n",
       "3      668\n",
       "4      733\n",
       "5      655\n",
       "6      735\n",
       "7     1073\n",
       "8     1170\n",
       "9     1082\n",
       "10    1085\n",
       "11    1028\n",
       "12     995\n",
       "13    1257\n",
       "14    1189\n",
       "15    1385\n",
       "16    1250\n",
       "17    1547\n",
       "18    1611\n",
       "19    1196\n",
       "20    1464\n",
       "21    1467\n",
       "22    1370\n",
       "23    1362\n",
       "24    1354\n",
       "25    1412\n",
       "26    1232\n",
       "27    1359\n",
       "28    1490\n",
       "29    1424\n",
       "30    1609\n",
       "31    1397\n",
       "32    1600\n",
       "33    1876\n",
       "34    1533\n",
       "35    1305\n",
       "36    1166\n",
       "37    1166\n",
       "38    1456\n",
       "39    1368\n",
       "40    1271\n",
       "41    1449\n",
       "42    1449\n",
       "43    1224\n",
       "44    1170\n",
       "45    1037\n",
       "46     837\n",
       "47     788\n",
       "48     721\n",
       "49     915\n",
       "50     781\n",
       "51     464\n",
       "52     575\n",
       "53     969\n",
       "Name: arrival_date_week_number, dtype: int64"
      ]
     },
     "execution_count": 12,
     "metadata": {},
     "output_type": "execute_result"
    }
   ],
   "source": [
    "hotel['arrival_date_week_number'].value_counts().sort_index()\n"
   ]
  },
  {
   "attachments": {},
   "cell_type": "markdown",
   "metadata": {},
   "source": [
    "La variable 'meal' puede tomar los siguientes valores:"
   ]
  },
  {
   "cell_type": "code",
   "execution_count": 13,
   "metadata": {},
   "outputs": [
    {
     "data": {
      "text/plain": [
       "BB           47837\n",
       "FB             477\n",
       "HB            7452\n",
       "SC            5556\n",
       "Undefined      591\n",
       "Name: meal, dtype: int64"
      ]
     },
     "execution_count": 13,
     "metadata": {},
     "output_type": "execute_result"
    }
   ],
   "source": [
    "hotel['meal'].value_counts().sort_index()"
   ]
  },
  {
   "attachments": {},
   "cell_type": "markdown",
   "metadata": {},
   "source": [
    "La variable 'country' puede tomar los siguientes valores:"
   ]
  },
  {
   "cell_type": "code",
   "execution_count": 14,
   "metadata": {},
   "outputs": [
    {
     "data": {
      "text/plain": [
       "PRT    27950\n",
       "GBR     5733\n",
       "FRA     4809\n",
       "ESP     4210\n",
       "DEU     3312\n",
       "       ...  \n",
       "HND        1\n",
       "FJI        1\n",
       "LIE        1\n",
       "ATA        1\n",
       "RWA        1\n",
       "Name: country, Length: 149, dtype: int64"
      ]
     },
     "execution_count": 14,
     "metadata": {},
     "output_type": "execute_result"
    }
   ],
   "source": [
    "hotel['country'].value_counts()"
   ]
  },
  {
   "attachments": {},
   "cell_type": "markdown",
   "metadata": {},
   "source": [
    "La variable 'market_segment' puede tomar los siguientes valores:"
   ]
  },
  {
   "cell_type": "code",
   "execution_count": 15,
   "metadata": {},
   "outputs": [
    {
     "data": {
      "text/plain": [
       "Online TA        29269\n",
       "Offline TA/TO    12384\n",
       "Groups           11545\n",
       "Direct            5757\n",
       "Corporate         2484\n",
       "Complementary      359\n",
       "Aviation           113\n",
       "Undefined            2\n",
       "Name: market_segment, dtype: int64"
      ]
     },
     "execution_count": 15,
     "metadata": {},
     "output_type": "execute_result"
    }
   ],
   "source": [
    "hotel['market_segment'].value_counts()\n"
   ]
  },
  {
   "attachments": {},
   "cell_type": "markdown",
   "metadata": {},
   "source": [
    "La variable 'distribution_channel' puede tomar los siguientes valores:"
   ]
  },
  {
   "cell_type": "code",
   "execution_count": 16,
   "metadata": {},
   "outputs": [
    {
     "data": {
      "text/plain": [
       "TA/TO        51849\n",
       "Direct        6799\n",
       "Corporate     3172\n",
       "GDS             89\n",
       "Undefined        4\n",
       "Name: distribution_channel, dtype: int64"
      ]
     },
     "execution_count": 16,
     "metadata": {},
     "output_type": "execute_result"
    }
   ],
   "source": [
    "hotel['distribution_channel'].value_counts()\n"
   ]
  },
  {
   "attachments": {},
   "cell_type": "markdown",
   "metadata": {},
   "source": [
    "La variable 'is_repeated_guest' puede tomar los siguientes valores:"
   ]
  },
  {
   "cell_type": "code",
   "execution_count": 17,
   "metadata": {},
   "outputs": [
    {
     "data": {
      "text/plain": [
       "0    60180\n",
       "1     1733\n",
       "Name: is_repeated_guest, dtype: int64"
      ]
     },
     "execution_count": 17,
     "metadata": {},
     "output_type": "execute_result"
    }
   ],
   "source": [
    "hotel['is_repeated_guest'].value_counts()"
   ]
  },
  {
   "attachments": {},
   "cell_type": "markdown",
   "metadata": {},
   "source": [
    "La variable 'reserved_room_type' puede tomar los siguientes valores:"
   ]
  },
  {
   "cell_type": "code",
   "execution_count": 18,
   "metadata": {},
   "outputs": [
    {
     "data": {
      "text/plain": [
       "A    45134\n",
       "B      580\n",
       "C      482\n",
       "D     9585\n",
       "E     3249\n",
       "F     1451\n",
       "G     1090\n",
       "H      334\n",
       "L        1\n",
       "P        7\n",
       "Name: reserved_room_type, dtype: int64"
      ]
     },
     "execution_count": 18,
     "metadata": {},
     "output_type": "execute_result"
    }
   ],
   "source": [
    "hotel['reserved_room_type'].value_counts().sort_index()"
   ]
  },
  {
   "attachments": {},
   "cell_type": "markdown",
   "metadata": {},
   "source": [
    "La variable 'assigned_room_type' puede tomar los siguientes valors:"
   ]
  },
  {
   "cell_type": "code",
   "execution_count": 19,
   "metadata": {},
   "outputs": [
    {
     "data": {
      "text/plain": [
       "A    40007\n",
       "B     1056\n",
       "C     1127\n",
       "D    12190\n",
       "E     3779\n",
       "F     1821\n",
       "G     1277\n",
       "H      384\n",
       "I      145\n",
       "K      119\n",
       "L        1\n",
       "P        7\n",
       "Name: assigned_room_type, dtype: int64"
      ]
     },
     "execution_count": 19,
     "metadata": {},
     "output_type": "execute_result"
    }
   ],
   "source": [
    "hotel['assigned_room_type'].value_counts().sort_index()\n"
   ]
  },
  {
   "attachments": {},
   "cell_type": "markdown",
   "metadata": {},
   "source": [
    "La variable 'deposit_type' puede tomar los siguientes valores:"
   ]
  },
  {
   "cell_type": "code",
   "execution_count": 20,
   "metadata": {},
   "outputs": [
    {
     "data": {
      "text/plain": [
       "No Deposit    51685\n",
       "Non Refund    10150\n",
       "Refundable       78\n",
       "Name: deposit_type, dtype: int64"
      ]
     },
     "execution_count": 20,
     "metadata": {},
     "output_type": "execute_result"
    }
   ],
   "source": [
    "hotel['deposit_type'].value_counts()"
   ]
  },
  {
   "attachments": {},
   "cell_type": "markdown",
   "metadata": {},
   "source": [
    "La variable 'agent' puede tomar los siguientes valores:"
   ]
  },
  {
   "cell_type": "code",
   "execution_count": 21,
   "metadata": {},
   "outputs": [
    {
     "data": {
      "text/plain": [
       "9.0      17004\n",
       "240.0     7386\n",
       "1.0       4424\n",
       "14.0      1700\n",
       "6.0       1639\n",
       "         ...  \n",
       "420.0        1\n",
       "352.0        1\n",
       "450.0        1\n",
       "283.0        1\n",
       "25.0         1\n",
       "Name: agent, Length: 296, dtype: int64"
      ]
     },
     "execution_count": 21,
     "metadata": {},
     "output_type": "execute_result"
    }
   ],
   "source": [
    "hotel['agent'].value_counts()"
   ]
  },
  {
   "attachments": {},
   "cell_type": "markdown",
   "metadata": {},
   "source": [
    "La variable 'company' puede tomar los siguientes valores:"
   ]
  },
  {
   "cell_type": "code",
   "execution_count": 22,
   "metadata": {},
   "outputs": [
    {
     "data": {
      "text/plain": [
       "40.0     390\n",
       "223.0    364\n",
       "67.0     169\n",
       "45.0     118\n",
       "153.0    106\n",
       "        ... \n",
       "305.0      1\n",
       "275.0      1\n",
       "461.0      1\n",
       "220.0      1\n",
       "160.0      1\n",
       "Name: company, Length: 276, dtype: int64"
      ]
     },
     "execution_count": 22,
     "metadata": {},
     "output_type": "execute_result"
    }
   ],
   "source": [
    "hotel['company'].value_counts()\n"
   ]
  },
  {
   "attachments": {},
   "cell_type": "markdown",
   "metadata": {},
   "source": [
    "La variable 'customer_type' puede tomar los siguientes valores:"
   ]
  },
  {
   "cell_type": "code",
   "execution_count": 23,
   "metadata": {},
   "outputs": [
    {
     "data": {
      "text/plain": [
       "Transient          47449\n",
       "Transient-Party    12168\n",
       "Contract            2033\n",
       "Group                263\n",
       "Name: customer_type, dtype: int64"
      ]
     },
     "execution_count": 23,
     "metadata": {},
     "output_type": "execute_result"
    }
   ],
   "source": [
    "hotel['customer_type'].value_counts()"
   ]
  },
  {
   "attachments": {},
   "cell_type": "markdown",
   "metadata": {},
   "source": [
    "La variable 'is_canceled' puede tomar los siguientes valores:"
   ]
  },
  {
   "cell_type": "code",
   "execution_count": 24,
   "metadata": {},
   "outputs": [
    {
     "data": {
      "text/plain": [
       "0    30972\n",
       "1    30941\n",
       "Name: is_canceled, dtype: int64"
      ]
     },
     "execution_count": 24,
     "metadata": {},
     "output_type": "execute_result"
    }
   ],
   "source": [
    "hotel['is_canceled'].value_counts()\n"
   ]
  },
  {
   "attachments": {},
   "cell_type": "markdown",
   "metadata": {},
   "source": [
    "#### Variables cuantitativas"
   ]
  },
  {
   "attachments": {},
   "cell_type": "markdown",
   "metadata": {},
   "source": [
    "Para las variables cuantitativas se pueden calcular las medidas de resumen, \"estadísticas\", como media, mediana y moda."
   ]
  },
  {
   "cell_type": "code",
   "execution_count": 25,
   "metadata": {},
   "outputs": [
    {
     "data": {
      "text/html": [
       "<div>\n",
       "<style scoped>\n",
       "    .dataframe tbody tr th:only-of-type {\n",
       "        vertical-align: middle;\n",
       "    }\n",
       "\n",
       "    .dataframe tbody tr th {\n",
       "        vertical-align: top;\n",
       "    }\n",
       "\n",
       "    .dataframe thead th {\n",
       "        text-align: right;\n",
       "    }\n",
       "</style>\n",
       "<table border=\"1\" class=\"dataframe\">\n",
       "  <thead>\n",
       "    <tr style=\"text-align: right;\">\n",
       "      <th></th>\n",
       "      <th>lead_time</th>\n",
       "      <th>arrival_date_year</th>\n",
       "      <th>arrival_date_day_of_month</th>\n",
       "      <th>stays_in_weekend_nights</th>\n",
       "      <th>stays_in_week_nights</th>\n",
       "      <th>adults</th>\n",
       "      <th>children</th>\n",
       "      <th>babies</th>\n",
       "      <th>is_repeated_guest</th>\n",
       "      <th>previous_cancellations</th>\n",
       "      <th>previous_bookings_not_canceled</th>\n",
       "      <th>booking_changes</th>\n",
       "      <th>days_in_waiting_list</th>\n",
       "      <th>adr</th>\n",
       "      <th>required_car_parking_spaces</th>\n",
       "      <th>total_of_special_requests</th>\n",
       "    </tr>\n",
       "  </thead>\n",
       "  <tbody>\n",
       "    <tr>\n",
       "      <th>count</th>\n",
       "      <td>61913.000000</td>\n",
       "      <td>61913.000000</td>\n",
       "      <td>61913.000000</td>\n",
       "      <td>61913.000000</td>\n",
       "      <td>61913.000000</td>\n",
       "      <td>61913.000000</td>\n",
       "      <td>61909.000000</td>\n",
       "      <td>61913.000000</td>\n",
       "      <td>61913.000000</td>\n",
       "      <td>61913.000000</td>\n",
       "      <td>61913.000000</td>\n",
       "      <td>61913.000000</td>\n",
       "      <td>61913.000000</td>\n",
       "      <td>61913.000000</td>\n",
       "      <td>61913.000000</td>\n",
       "      <td>61913.000000</td>\n",
       "    </tr>\n",
       "    <tr>\n",
       "      <th>mean</th>\n",
       "      <td>112.248187</td>\n",
       "      <td>2016.154749</td>\n",
       "      <td>15.785812</td>\n",
       "      <td>0.924135</td>\n",
       "      <td>2.510054</td>\n",
       "      <td>1.862791</td>\n",
       "      <td>0.104896</td>\n",
       "      <td>0.007155</td>\n",
       "      <td>0.027991</td>\n",
       "      <td>0.114790</td>\n",
       "      <td>0.115420</td>\n",
       "      <td>0.195952</td>\n",
       "      <td>2.638977</td>\n",
       "      <td>102.383773</td>\n",
       "      <td>0.049957</td>\n",
       "      <td>0.523703</td>\n",
       "    </tr>\n",
       "    <tr>\n",
       "      <th>std</th>\n",
       "      <td>110.717953</td>\n",
       "      <td>0.708389</td>\n",
       "      <td>8.795489</td>\n",
       "      <td>0.993101</td>\n",
       "      <td>1.884926</td>\n",
       "      <td>0.589066</td>\n",
       "      <td>0.402847</td>\n",
       "      <td>0.092158</td>\n",
       "      <td>0.164948</td>\n",
       "      <td>0.993723</td>\n",
       "      <td>1.396359</td>\n",
       "      <td>0.610519</td>\n",
       "      <td>18.619092</td>\n",
       "      <td>47.757640</td>\n",
       "      <td>0.221023</td>\n",
       "      <td>0.775412</td>\n",
       "    </tr>\n",
       "    <tr>\n",
       "      <th>min</th>\n",
       "      <td>0.000000</td>\n",
       "      <td>2015.000000</td>\n",
       "      <td>1.000000</td>\n",
       "      <td>0.000000</td>\n",
       "      <td>0.000000</td>\n",
       "      <td>0.000000</td>\n",
       "      <td>0.000000</td>\n",
       "      <td>0.000000</td>\n",
       "      <td>0.000000</td>\n",
       "      <td>0.000000</td>\n",
       "      <td>0.000000</td>\n",
       "      <td>0.000000</td>\n",
       "      <td>0.000000</td>\n",
       "      <td>-6.380000</td>\n",
       "      <td>0.000000</td>\n",
       "      <td>0.000000</td>\n",
       "    </tr>\n",
       "    <tr>\n",
       "      <th>25%</th>\n",
       "      <td>23.000000</td>\n",
       "      <td>2016.000000</td>\n",
       "      <td>8.000000</td>\n",
       "      <td>0.000000</td>\n",
       "      <td>1.000000</td>\n",
       "      <td>2.000000</td>\n",
       "      <td>0.000000</td>\n",
       "      <td>0.000000</td>\n",
       "      <td>0.000000</td>\n",
       "      <td>0.000000</td>\n",
       "      <td>0.000000</td>\n",
       "      <td>0.000000</td>\n",
       "      <td>0.000000</td>\n",
       "      <td>70.000000</td>\n",
       "      <td>0.000000</td>\n",
       "      <td>0.000000</td>\n",
       "    </tr>\n",
       "    <tr>\n",
       "      <th>50%</th>\n",
       "      <td>78.000000</td>\n",
       "      <td>2016.000000</td>\n",
       "      <td>16.000000</td>\n",
       "      <td>1.000000</td>\n",
       "      <td>2.000000</td>\n",
       "      <td>2.000000</td>\n",
       "      <td>0.000000</td>\n",
       "      <td>0.000000</td>\n",
       "      <td>0.000000</td>\n",
       "      <td>0.000000</td>\n",
       "      <td>0.000000</td>\n",
       "      <td>0.000000</td>\n",
       "      <td>0.000000</td>\n",
       "      <td>95.000000</td>\n",
       "      <td>0.000000</td>\n",
       "      <td>0.000000</td>\n",
       "    </tr>\n",
       "    <tr>\n",
       "      <th>75%</th>\n",
       "      <td>172.000000</td>\n",
       "      <td>2017.000000</td>\n",
       "      <td>23.000000</td>\n",
       "      <td>2.000000</td>\n",
       "      <td>3.000000</td>\n",
       "      <td>2.000000</td>\n",
       "      <td>0.000000</td>\n",
       "      <td>0.000000</td>\n",
       "      <td>0.000000</td>\n",
       "      <td>0.000000</td>\n",
       "      <td>0.000000</td>\n",
       "      <td>0.000000</td>\n",
       "      <td>0.000000</td>\n",
       "      <td>126.000000</td>\n",
       "      <td>0.000000</td>\n",
       "      <td>1.000000</td>\n",
       "    </tr>\n",
       "    <tr>\n",
       "      <th>max</th>\n",
       "      <td>629.000000</td>\n",
       "      <td>2017.000000</td>\n",
       "      <td>31.000000</td>\n",
       "      <td>16.000000</td>\n",
       "      <td>40.000000</td>\n",
       "      <td>55.000000</td>\n",
       "      <td>10.000000</td>\n",
       "      <td>9.000000</td>\n",
       "      <td>1.000000</td>\n",
       "      <td>26.000000</td>\n",
       "      <td>70.000000</td>\n",
       "      <td>17.000000</td>\n",
       "      <td>391.000000</td>\n",
       "      <td>510.000000</td>\n",
       "      <td>8.000000</td>\n",
       "      <td>5.000000</td>\n",
       "    </tr>\n",
       "  </tbody>\n",
       "</table>\n",
       "</div>"
      ],
      "text/plain": [
       "          lead_time  arrival_date_year  arrival_date_day_of_month  \\\n",
       "count  61913.000000       61913.000000               61913.000000   \n",
       "mean     112.248187        2016.154749                  15.785812   \n",
       "std      110.717953           0.708389                   8.795489   \n",
       "min        0.000000        2015.000000                   1.000000   \n",
       "25%       23.000000        2016.000000                   8.000000   \n",
       "50%       78.000000        2016.000000                  16.000000   \n",
       "75%      172.000000        2017.000000                  23.000000   \n",
       "max      629.000000        2017.000000                  31.000000   \n",
       "\n",
       "       stays_in_weekend_nights  stays_in_week_nights        adults  \\\n",
       "count             61913.000000          61913.000000  61913.000000   \n",
       "mean                  0.924135              2.510054      1.862791   \n",
       "std                   0.993101              1.884926      0.589066   \n",
       "min                   0.000000              0.000000      0.000000   \n",
       "25%                   0.000000              1.000000      2.000000   \n",
       "50%                   1.000000              2.000000      2.000000   \n",
       "75%                   2.000000              3.000000      2.000000   \n",
       "max                  16.000000             40.000000     55.000000   \n",
       "\n",
       "           children        babies  is_repeated_guest  previous_cancellations  \\\n",
       "count  61909.000000  61913.000000       61913.000000            61913.000000   \n",
       "mean       0.104896      0.007155           0.027991                0.114790   \n",
       "std        0.402847      0.092158           0.164948                0.993723   \n",
       "min        0.000000      0.000000           0.000000                0.000000   \n",
       "25%        0.000000      0.000000           0.000000                0.000000   \n",
       "50%        0.000000      0.000000           0.000000                0.000000   \n",
       "75%        0.000000      0.000000           0.000000                0.000000   \n",
       "max       10.000000      9.000000           1.000000               26.000000   \n",
       "\n",
       "       previous_bookings_not_canceled  booking_changes  days_in_waiting_list  \\\n",
       "count                    61913.000000     61913.000000          61913.000000   \n",
       "mean                         0.115420         0.195952              2.638977   \n",
       "std                          1.396359         0.610519             18.619092   \n",
       "min                          0.000000         0.000000              0.000000   \n",
       "25%                          0.000000         0.000000              0.000000   \n",
       "50%                          0.000000         0.000000              0.000000   \n",
       "75%                          0.000000         0.000000              0.000000   \n",
       "max                         70.000000        17.000000            391.000000   \n",
       "\n",
       "                adr  required_car_parking_spaces  total_of_special_requests  \n",
       "count  61913.000000                 61913.000000               61913.000000  \n",
       "mean     102.383773                     0.049957                   0.523703  \n",
       "std       47.757640                     0.221023                   0.775412  \n",
       "min       -6.380000                     0.000000                   0.000000  \n",
       "25%       70.000000                     0.000000                   0.000000  \n",
       "50%       95.000000                     0.000000                   0.000000  \n",
       "75%      126.000000                     0.000000                   1.000000  \n",
       "max      510.000000                     8.000000                   5.000000  "
      ]
     },
     "execution_count": 25,
     "metadata": {},
     "output_type": "execute_result"
    }
   ],
   "source": [
    "cuantitativas = hotel[['lead_time', 'arrival_date_year', 'arrival_date_day_of_month', 'stays_in_weekend_nights', 'stays_in_week_nights', 'adults', 'children', 'babies', 'is_repeated_guest', 'previous_cancellations', 'previous_bookings_not_canceled', 'booking_changes', 'days_in_waiting_list', 'adr', 'required_car_parking_spaces', 'total_of_special_requests']]\n",
    "cuantitativas.describe()"
   ]
  },
  {
   "attachments": {},
   "cell_type": "markdown",
   "metadata": {},
   "source": [
    "#### Variables irrelevantes para el análisis"
   ]
  },
  {
   "attachments": {},
   "cell_type": "markdown",
   "metadata": {},
   "source": [
    "Para el análisis de los datos podemos considerar que la variable 'id' será irrelevante ya que no aporta información sobre las reservas de los hoteles, es solamente un identificador de cada una."
   ]
  },
  {
   "attachments": {},
   "cell_type": "markdown",
   "metadata": {},
   "source": [
    "Además de esta, es difícil determinar qué variable será irrelevante, antes de haberlas analizado y visto cómo se relacionan entre ellas y con el target 'is_canceled'."
   ]
  },
  {
   "cell_type": "code",
   "execution_count": 26,
   "metadata": {},
   "outputs": [],
   "source": [
    "hotel.drop(columns=['id'], inplace=True)"
   ]
  },
  {
   "attachments": {},
   "cell_type": "markdown",
   "metadata": {},
   "source": [
    "#### Análisis gráfico distribuciones de las variables"
   ]
  },
  {
   "attachments": {},
   "cell_type": "markdown",
   "metadata": {},
   "source": [
    "Analizamos la distribución de todas las variables, tanto cualitativas como cuantitativas."
   ]
  },
  {
   "attachments": {},
   "cell_type": "markdown",
   "metadata": {},
   "source": [
    "##### *Variables cualitativas*"
   ]
  },
  {
   "attachments": {},
   "cell_type": "markdown",
   "metadata": {},
   "source": [
    "Primero analizamos la distribucion de las variables cualitativas:"
   ]
  },
  {
   "cell_type": "code",
   "execution_count": 27,
   "metadata": {},
   "outputs": [
    {
     "data": {
      "text/plain": [
       "<Axes: xlabel='hotel', ylabel='count'>"
      ]
     },
     "execution_count": 27,
     "metadata": {},
     "output_type": "execute_result"
    },
    {
     "data": {
      "image/png": "[encoded data removed]",
      "text/plain": [
       "<Figure size 640x480 with 1 Axes>"
      ]
     },
     "metadata": {},
     "output_type": "display_data"
    }
   ],
   "source": [
    "sns.countplot(x='hotel', data=cualitativas)"
   ]
  },
  {
   "cell_type": "code",
   "execution_count": 28,
   "metadata": {},
   "outputs": [
    {
     "data": {
      "text/plain": [
       "<Axes: xlabel='customer_type', ylabel='count'>"
      ]
     },
     "execution_count": 28,
     "metadata": {},
     "output_type": "execute_result"
    },
    {
     "data": {
      "image/png": "[encoded data removed]",
      "text/plain": [
       "<Figure size 640x480 with 1 Axes>"
      ]
     },
     "metadata": {},
     "output_type": "display_data"
    }
   ],
   "source": [
    "sns.countplot(x='customer_type', data=cualitativas)"
   ]
  },
  {
   "cell_type": "code",
   "execution_count": 29,
   "metadata": {},
   "outputs": [
    {
     "data": {
      "text/plain": [
       "<Axes: xlabel='deposit_type', ylabel='count'>"
      ]
     },
     "execution_count": 29,
     "metadata": {},
     "output_type": "execute_result"
    },
    {
     "data": {
      "image/png": "[encoded data removed]",
      "text/plain": [
       "<Figure size 640x480 with 1 Axes>"
      ]
     },
     "metadata": {},
     "output_type": "display_data"
    }
   ],
   "source": [
    "sns.countplot(x='deposit_type', data=cualitativas)"
   ]
  },
  {
   "cell_type": "code",
   "execution_count": 30,
   "metadata": {},
   "outputs": [
    {
     "data": {
      "text/plain": [
       "<Axes: xlabel='distribution_channel', ylabel='count'>"
      ]
     },
     "execution_count": 30,
     "metadata": {},
     "output_type": "execute_result"
    },
    {
     "data": {
      "image/png": "[encoded data removed]",
      "text/plain": [
       "<Figure size 640x480 with 1 Axes>"
      ]
     },
     "metadata": {},
     "output_type": "display_data"
    }
   ],
   "source": [
    "sns.countplot(x='distribution_channel', data=cualitativas)"
   ]
  },
  {
   "cell_type": "code",
   "execution_count": 31,
   "metadata": {},
   "outputs": [
    {
     "data": {
      "text/plain": [
       "[Text(0, 0, 'Online TA'),\n",
       " Text(1, 0, 'Groups'),\n",
       " Text(2, 0, 'Offline TA/TO'),\n",
       " Text(3, 0, 'Direct'),\n",
       " Text(4, 0, 'Complementary'),\n",
       " Text(5, 0, 'Corporate'),\n",
       " Text(6, 0, 'Aviation'),\n",
       " Text(7, 0, 'Undefined')]"
      ]
     },
     "execution_count": 31,
     "metadata": {},
     "output_type": "execute_result"
    },
    {
     "data": {
      "image/png": "[encoded data removed]",
      "text/plain": [
       "<Figure size 640x480 with 1 Axes>"
      ]
     },
     "metadata": {},
     "output_type": "display_data"
    }
   ],
   "source": [
    "sns.countplot(x='market_segment', data=cualitativas)\n",
    "plt.gca().set_xticklabels(plt.gca().get_xticklabels(), size=8)"
   ]
  },
  {
   "cell_type": "code",
   "execution_count": 32,
   "metadata": {},
   "outputs": [
    {
     "data": {
      "text/plain": [
       "<Axes: xlabel='count', ylabel='country'>"
      ]
     },
     "execution_count": 32,
     "metadata": {},
     "output_type": "execute_result"
    },
    {
     "data": {
      "image/png": "[encoded data removed]",
      "text/plain": [
       "<Figure size 640x480 with 1 Axes>"
      ]
     },
     "metadata": {},
     "output_type": "display_data"
    }
   ],
   "source": [
    "sns.countplot(y='country', data=cualitativas, order=cualitativas['country'].value_counts().iloc[:20].index)"
   ]
  },
  {
   "cell_type": "code",
   "execution_count": 33,
   "metadata": {},
   "outputs": [
    {
     "data": {
      "text/plain": [
       "<Axes: xlabel='value', ylabel='Count'>"
      ]
     },
     "execution_count": 33,
     "metadata": {},
     "output_type": "execute_result"
    },
    {
     "data": {
      "image/png": "[encoded data removed]",
      "text/plain": [
       "<Figure size 640x480 with 1 Axes>"
      ]
     },
     "metadata": {},
     "output_type": "display_data"
    }
   ],
   "source": [
    "room_types = hotel[['assigned_room_type', 'reserved_room_type']].copy()\n",
    "\n",
    "room_types_melted = pd.melt(room_types, value_vars=[\n",
    "                    'reserved_room_type', 'assigned_room_type'])\n",
    "\n",
    "sns.histplot(data=room_types_melted, x='value',\n",
    "             hue='variable', binwidth=1, multiple='dodge')"
   ]
  },
  {
   "cell_type": "code",
   "execution_count": 34,
   "metadata": {},
   "outputs": [
    {
     "data": {
      "text/plain": [
       "<Axes: xlabel='is_repeated_guest', ylabel='count'>"
      ]
     },
     "execution_count": 34,
     "metadata": {},
     "output_type": "execute_result"
    },
    {
     "data": {
      "image/png": "[encoded data removed]",
      "text/plain": [
       "<Figure size 640x480 with 1 Axes>"
      ]
     },
     "metadata": {},
     "output_type": "display_data"
    }
   ],
   "source": [
    "sns.countplot(x='is_repeated_guest', data=cualitativas)"
   ]
  },
  {
   "cell_type": "code",
   "execution_count": 35,
   "metadata": {},
   "outputs": [
    {
     "data": {
      "text/plain": [
       "<Axes: xlabel='meal', ylabel='count'>"
      ]
     },
     "execution_count": 35,
     "metadata": {},
     "output_type": "execute_result"
    },
    {
     "data": {
      "image/png": "[encoded data removed]",
      "text/plain": [
       "<Figure size 640x480 with 1 Axes>"
      ]
     },
     "metadata": {},
     "output_type": "display_data"
    }
   ],
   "source": [
    "sns.countplot(x='meal', data=cualitativas)"
   ]
  },
  {
   "cell_type": "code",
   "execution_count": 36,
   "metadata": {},
   "outputs": [
    {
     "ename": "ValueError",
     "evalue": "Grouper for 'agent' not 1-dimensional",
     "output_type": "error",
     "traceback": [
      "\u001b[1;31m---------------------------------------------------------------------------\u001b[0m",
      "\u001b[1;31mValueError\u001b[0m                                Traceback (most recent call last)",
      "Cell \u001b[1;32mIn[36], line 1\u001b[0m\n\u001b[1;32m----> 1\u001b[0m sns\u001b[39m.\u001b[39mcountplot(x\u001b[39m=\u001b[39m\u001b[39m'\u001b[39m\u001b[39magent\u001b[39m\u001b[39m'\u001b[39m, data\u001b[39m=\u001b[39mcualitativas, order\u001b[39m=\u001b[39mcualitativas[\u001b[39m'\u001b[39;49m\u001b[39magent\u001b[39;49m\u001b[39m'\u001b[39;49m]\u001b[39m.\u001b[39;49mvalue_counts()\u001b[39m.\u001b[39miloc[:\u001b[39m15\u001b[39m]\u001b[39m.\u001b[39mindex)\n\u001b[0;32m      2\u001b[0m plt\u001b[39m.\u001b[39mgca()\u001b[39m.\u001b[39mset_xticklabels(plt\u001b[39m.\u001b[39mgca()\u001b[39m.\u001b[39mget_xticklabels(), size\u001b[39m=\u001b[39m\u001b[39m8\u001b[39m)\n",
      "File \u001b[1;32mc:\\Users\\Luca\\AppData\\Local\\Programs\\Python\\Python311\\Lib\\site-packages\\pandas\\core\\frame.py:7218\u001b[0m, in \u001b[0;36mDataFrame.value_counts\u001b[1;34m(self, subset, normalize, sort, ascending, dropna)\u001b[0m\n\u001b[0;32m   7215\u001b[0m \u001b[39mif\u001b[39;00m subset \u001b[39mis\u001b[39;00m \u001b[39mNone\u001b[39;00m:\n\u001b[0;32m   7216\u001b[0m     subset \u001b[39m=\u001b[39m \u001b[39mself\u001b[39m\u001b[39m.\u001b[39mcolumns\u001b[39m.\u001b[39mtolist()\n\u001b[1;32m-> 7218\u001b[0m counts \u001b[39m=\u001b[39m \u001b[39mself\u001b[39;49m\u001b[39m.\u001b[39;49mgroupby(subset, dropna\u001b[39m=\u001b[39;49mdropna)\u001b[39m.\u001b[39mgrouper\u001b[39m.\u001b[39msize()\n\u001b[0;32m   7220\u001b[0m \u001b[39mif\u001b[39;00m sort:\n\u001b[0;32m   7221\u001b[0m     counts \u001b[39m=\u001b[39m counts\u001b[39m.\u001b[39msort_values(ascending\u001b[39m=\u001b[39mascending)\n",
      "File \u001b[1;32mc:\\Users\\Luca\\AppData\\Local\\Programs\\Python\\Python311\\Lib\\site-packages\\pandas\\core\\frame.py:8402\u001b[0m, in \u001b[0;36mDataFrame.groupby\u001b[1;34m(self, by, axis, level, as_index, sort, group_keys, squeeze, observed, dropna)\u001b[0m\n\u001b[0;32m   8399\u001b[0m     \u001b[39mraise\u001b[39;00m \u001b[39mTypeError\u001b[39;00m(\u001b[39m\"\u001b[39m\u001b[39mYou have to supply one of \u001b[39m\u001b[39m'\u001b[39m\u001b[39mby\u001b[39m\u001b[39m'\u001b[39m\u001b[39m and \u001b[39m\u001b[39m'\u001b[39m\u001b[39mlevel\u001b[39m\u001b[39m'\u001b[39m\u001b[39m\"\u001b[39m)\n\u001b[0;32m   8400\u001b[0m axis \u001b[39m=\u001b[39m \u001b[39mself\u001b[39m\u001b[39m.\u001b[39m_get_axis_number(axis)\n\u001b[1;32m-> 8402\u001b[0m \u001b[39mreturn\u001b[39;00m DataFrameGroupBy(\n\u001b[0;32m   8403\u001b[0m     obj\u001b[39m=\u001b[39;49m\u001b[39mself\u001b[39;49m,\n\u001b[0;32m   8404\u001b[0m     keys\u001b[39m=\u001b[39;49mby,\n\u001b[0;32m   8405\u001b[0m     axis\u001b[39m=\u001b[39;49maxis,\n\u001b[0;32m   8406\u001b[0m     level\u001b[39m=\u001b[39;49mlevel,\n\u001b[0;32m   8407\u001b[0m     as_index\u001b[39m=\u001b[39;49mas_index,\n\u001b[0;32m   8408\u001b[0m     sort\u001b[39m=\u001b[39;49msort,\n\u001b[0;32m   8409\u001b[0m     group_keys\u001b[39m=\u001b[39;49mgroup_keys,\n\u001b[0;32m   8410\u001b[0m     squeeze\u001b[39m=\u001b[39;49msqueeze,\n\u001b[0;32m   8411\u001b[0m     observed\u001b[39m=\u001b[39;49mobserved,\n\u001b[0;32m   8412\u001b[0m     dropna\u001b[39m=\u001b[39;49mdropna,\n\u001b[0;32m   8413\u001b[0m )\n",
      "File \u001b[1;32mc:\\Users\\Luca\\AppData\\Local\\Programs\\Python\\Python311\\Lib\\site-packages\\pandas\\core\\groupby\\groupby.py:965\u001b[0m, in \u001b[0;36mGroupBy.__init__\u001b[1;34m(self, obj, keys, axis, level, grouper, exclusions, selection, as_index, sort, group_keys, squeeze, observed, mutated, dropna)\u001b[0m\n\u001b[0;32m    962\u001b[0m \u001b[39mif\u001b[39;00m grouper \u001b[39mis\u001b[39;00m \u001b[39mNone\u001b[39;00m:\n\u001b[0;32m    963\u001b[0m     \u001b[39mfrom\u001b[39;00m \u001b[39mpandas\u001b[39;00m\u001b[39m.\u001b[39;00m\u001b[39mcore\u001b[39;00m\u001b[39m.\u001b[39;00m\u001b[39mgroupby\u001b[39;00m\u001b[39m.\u001b[39;00m\u001b[39mgrouper\u001b[39;00m \u001b[39mimport\u001b[39;00m get_grouper\n\u001b[1;32m--> 965\u001b[0m     grouper, exclusions, obj \u001b[39m=\u001b[39m get_grouper(\n\u001b[0;32m    966\u001b[0m         obj,\n\u001b[0;32m    967\u001b[0m         keys,\n\u001b[0;32m    968\u001b[0m         axis\u001b[39m=\u001b[39;49maxis,\n\u001b[0;32m    969\u001b[0m         level\u001b[39m=\u001b[39;49mlevel,\n\u001b[0;32m    970\u001b[0m         sort\u001b[39m=\u001b[39;49msort,\n\u001b[0;32m    971\u001b[0m         observed\u001b[39m=\u001b[39;49mobserved,\n\u001b[0;32m    972\u001b[0m         mutated\u001b[39m=\u001b[39;49m\u001b[39mself\u001b[39;49m\u001b[39m.\u001b[39;49mmutated,\n\u001b[0;32m    973\u001b[0m         dropna\u001b[39m=\u001b[39;49m\u001b[39mself\u001b[39;49m\u001b[39m.\u001b[39;49mdropna,\n\u001b[0;32m    974\u001b[0m     )\n\u001b[0;32m    976\u001b[0m \u001b[39mself\u001b[39m\u001b[39m.\u001b[39mobj \u001b[39m=\u001b[39m obj\n\u001b[0;32m    977\u001b[0m \u001b[39mself\u001b[39m\u001b[39m.\u001b[39maxis \u001b[39m=\u001b[39m obj\u001b[39m.\u001b[39m_get_axis_number(axis)\n",
      "File \u001b[1;32mc:\\Users\\Luca\\AppData\\Local\\Programs\\Python\\Python311\\Lib\\site-packages\\pandas\\core\\groupby\\grouper.py:883\u001b[0m, in \u001b[0;36mget_grouper\u001b[1;34m(obj, key, axis, level, sort, observed, mutated, validate, dropna)\u001b[0m\n\u001b[0;32m    879\u001b[0m     in_axis, name, gpr \u001b[39m=\u001b[39m \u001b[39mTrue\u001b[39;00m, gpr, obj[gpr]\n\u001b[0;32m    880\u001b[0m     \u001b[39mif\u001b[39;00m gpr\u001b[39m.\u001b[39mndim \u001b[39m!=\u001b[39m \u001b[39m1\u001b[39m:\n\u001b[0;32m    881\u001b[0m         \u001b[39m# non-unique columns; raise here to get the name in the\u001b[39;00m\n\u001b[0;32m    882\u001b[0m         \u001b[39m# exception message\u001b[39;00m\n\u001b[1;32m--> 883\u001b[0m         \u001b[39mraise\u001b[39;00m \u001b[39mValueError\u001b[39;00m(\u001b[39mf\u001b[39m\u001b[39m\"\u001b[39m\u001b[39mGrouper for \u001b[39m\u001b[39m'\u001b[39m\u001b[39m{\u001b[39;00mname\u001b[39m}\u001b[39;00m\u001b[39m'\u001b[39m\u001b[39m not 1-dimensional\u001b[39m\u001b[39m\"\u001b[39m)\n\u001b[0;32m    884\u001b[0m     exclusions\u001b[39m.\u001b[39madd(name)\n\u001b[0;32m    885\u001b[0m \u001b[39melif\u001b[39;00m obj\u001b[39m.\u001b[39m_is_level_reference(gpr, axis\u001b[39m=\u001b[39maxis):\n",
      "\u001b[1;31mValueError\u001b[0m: Grouper for 'agent' not 1-dimensional"
     ]
    }
   ],
   "source": [
    "sns.countplot(x='agent', data=cualitativas, order=cualitativas['agent'].value_counts().iloc[:15].index)\n",
    "plt.gca().set_xticklabels(plt.gca().get_xticklabels(), size=8)"
   ]
  },
  {
   "cell_type": "code",
   "execution_count": null,
   "metadata": {},
   "outputs": [],
   "source": [
    "sns.countplot(x='company', data=cualitativas, order=cualitativas['company'].value_counts().iloc[:15].index)\n",
    "plt.gca().set_xticklabels(plt.gca().get_xticklabels(), size=8)"
   ]
  },
  {
   "cell_type": "code",
   "execution_count": null,
   "metadata": {},
   "outputs": [],
   "source": [
    "sns.countplot(x='is_canceled', data=cualitativas)"
   ]
  },
  {
   "attachments": {},
   "cell_type": "markdown",
   "metadata": {},
   "source": [
    "##### *Variables cuantitativas*"
   ]
  },
  {
   "attachments": {},
   "cell_type": "markdown",
   "metadata": {},
   "source": [
    "Ahora vemos la distribucion de las variables cuantitativas"
   ]
  },
  {
   "cell_type": "code",
   "execution_count": null,
   "metadata": {},
   "outputs": [],
   "source": [
    "sns.histplot(hotel['lead_time'], bins=30)"
   ]
  },
  {
   "cell_type": "code",
   "execution_count": null,
   "metadata": {},
   "outputs": [],
   "source": [
    "sns.countplot(x='arrival_date_year', data = cuantitativas, palette='coolwarm')"
   ]
  },
  {
   "cell_type": "code",
   "execution_count": null,
   "metadata": {},
   "outputs": [],
   "source": [
    "sns.countplot(x='arrival_date_day_of_month', data = cuantitativas, palette='coolwarm')\n",
    "plt.gca().set_xticklabels(plt.gca().get_xticklabels(), size=8)"
   ]
  },
  {
   "cell_type": "code",
   "execution_count": null,
   "metadata": {},
   "outputs": [],
   "source": [
    "sns.countplot(x='stays_in_weekend_nights', data = cuantitativas, palette='coolwarm')"
   ]
  },
  {
   "cell_type": "code",
   "execution_count": null,
   "metadata": {},
   "outputs": [],
   "source": [
    "sns.countplot(x='stays_in_week_nights', data = cuantitativas, palette='coolwarm')"
   ]
  },
  {
   "cell_type": "code",
   "execution_count": null,
   "metadata": {},
   "outputs": [],
   "source": [
    "sns.countplot(x='adults', data=cuantitativas, palette = 'coolwarm')"
   ]
  },
  {
   "cell_type": "code",
   "execution_count": null,
   "metadata": {},
   "outputs": [],
   "source": [
    "sns.countplot(x='children', data=cuantitativas, palette = 'coolwarm')"
   ]
  },
  {
   "cell_type": "code",
   "execution_count": null,
   "metadata": {},
   "outputs": [],
   "source": [
    "sns.countplot(x='babies', data=cuantitativas, palette = 'coolwarm')"
   ]
  },
  {
   "cell_type": "code",
   "execution_count": null,
   "metadata": {},
   "outputs": [],
   "source": [
    "sns.countplot(x='is_repeated_guest', data=cuantitativas, palette = 'coolwarm')"
   ]
  },
  {
   "cell_type": "code",
   "execution_count": null,
   "metadata": {},
   "outputs": [],
   "source": [
    "sns.countplot(x='previous_cancellations', data=cuantitativas, palette = 'coolwarm')"
   ]
  },
  {
   "cell_type": "code",
   "execution_count": null,
   "metadata": {},
   "outputs": [],
   "source": [
    "sns.histplot(x='previous_bookings_not_canceled', data=cuantitativas)"
   ]
  },
  {
   "cell_type": "code",
   "execution_count": null,
   "metadata": {},
   "outputs": [],
   "source": [
    "sns.countplot(x='booking_changes', data=cuantitativas, palette = 'coolwarm')"
   ]
  },
  {
   "cell_type": "code",
   "execution_count": null,
   "metadata": {},
   "outputs": [],
   "source": [
    "sns.histplot(x='days_in_waiting_list', data=cuantitativas)"
   ]
  },
  {
   "cell_type": "code",
   "execution_count": null,
   "metadata": {},
   "outputs": [],
   "source": [
    "sns.histplot(x='adr', data=cuantitativas, palette = 'coolwarm', bins=30)"
   ]
  },
  {
   "cell_type": "code",
   "execution_count": null,
   "metadata": {},
   "outputs": [],
   "source": [
    "sns.countplot(x='required_car_parking_spaces', data=cuantitativas, palette = 'coolwarm')"
   ]
  },
  {
   "cell_type": "code",
   "execution_count": null,
   "metadata": {},
   "outputs": [],
   "source": [
    "sns.countplot(x='total_of_special_requests', data=cuantitativas, palette = 'coolwarm')"
   ]
  },
  {
   "attachments": {},
   "cell_type": "markdown",
   "metadata": {},
   "source": [
    "#### Correlaciones entre variables"
   ]
  },
  {
   "cell_type": "markdown",
   "metadata": {},
   "source": [
    "Calculamos la matriz de correlaciones para ver las correlaciones entre las variables del dataset."
   ]
  },
  {
   "cell_type": "code",
   "execution_count": null,
   "metadata": {},
   "outputs": [],
   "source": [
    "matriz_corr = hotel.corr()\n",
    "matriz_corr"
   ]
  },
  {
   "cell_type": "markdown",
   "metadata": {},
   "source": [
    "Podemos graficar las correlaciones en un heatmap para que sea mas simple de ver"
   ]
  },
  {
   "cell_type": "code",
   "execution_count": null,
   "metadata": {},
   "outputs": [],
   "source": [
    "fig = plt.figure(figsize=(20,15))\n",
    "ax = sns.heatmap(data = matriz_corr, annot = True, annot_kws = {\"size\":12}, cmap='Blues')\n",
    "ax.set_title('Correlacion entre las variables', fontsize=22)\n",
    "ax.set_xticklabels(ax.get_xticklabels(), fontsize=15)\n",
    "ax.set_yticklabels(ax.get_yticklabels(), fontsize=15)\n",
    "cbar = ax.collections[0].colorbar\n",
    "cbar.ax.tick_params(labelsize=15)"
   ]
  },
  {
   "attachments": {},
   "cell_type": "markdown",
   "metadata": {},
   "source": [
    "No hay variables que tengan una correlacion demasiado alta, es decir, muy cercana a 1. Esto es bueno, ya que no hay variables que esten muy correlacionadas entre si.\n",
    "Igualmente veremos mas de cerca aquellas variables que tengan un poco de correlacion. \n",
    "\n",
    "Las correlaciones con el target 'is_canceled' se analizan más adelante."
   ]
  },
  {
   "attachments": {},
   "cell_type": "markdown",
   "metadata": {},
   "source": [
    "Vamos a considerar las correlaciones mayores a 0.3:\n",
    "- `'stays_in_weekend_nights'` y `'stays_in_week_nights'`\n",
    "- `'previous_bookings_not_canceled'` y `'is_repeated_guest'`\n",
    "- `'children` y `'adr'`"
   ]
  },
  {
   "cell_type": "code",
   "execution_count": null,
   "metadata": {},
   "outputs": [],
   "source": [
    "sns.regplot(x=hotel['stays_in_week_nights'], y=hotel['stays_in_weekend_nights'], line_kws={'color':'red'}).set(xlabel='Noches de semana', ylabel='Noches de fin de semana', title='Noches de semana vs. Noches de fin de semana')"
   ]
  },
  {
   "cell_type": "code",
   "execution_count": null,
   "metadata": {},
   "outputs": [],
   "source": [
    "sns.regplot(x=hotel['adr'], y= hotel['children'], line_kws={'color':'red'}).set(xlabel='Tarifas', ylabel='Cantidad de Niños', title= 'Niños vs Tarifas')"
   ]
  },
  {
   "cell_type": "code",
   "execution_count": null,
   "metadata": {},
   "outputs": [],
   "source": [
    "sns.barplot(x=hotel['is_repeated_guest'], y=hotel['previous_bookings_not_canceled'],data=hotel, palette ='Blues').set(xlabel='Es cliente repetido', ylabel='Reservas no canceladas previamente', title= 'Reservas no canceladas previamente vs. Es cliente repetido') "
   ]
  },
  {
   "attachments": {},
   "cell_type": "markdown",
   "metadata": {},
   "source": [
    "#### Relación de variables con el target"
   ]
  },
  {
   "cell_type": "markdown",
   "metadata": {},
   "source": [
    "Ahora me quedo solo con las correlaciones entre las variables y nuestro target 'is_canceled'"
   ]
  },
  {
   "cell_type": "markdown",
   "metadata": {},
   "source": [
    "Otra forma de ver las correlaciones entre variables es con scatterplots pero en este caso al ser tantas variables, no es de mucha utilidad."
   ]
  },
  {
   "cell_type": "code",
   "execution_count": null,
   "metadata": {},
   "outputs": [],
   "source": [
    "correlacion = hotel.corr()\n",
    "correlacion['is_canceled'].sort_values(ascending=False).reset_index()"
   ]
  },
  {
   "cell_type": "markdown",
   "metadata": {},
   "source": [
    "Las grafico también en un heatmap para verlas con mayor claridad"
   ]
  },
  {
   "cell_type": "code",
   "execution_count": null,
   "metadata": {},
   "outputs": [],
   "source": [
    "fig = plt.figure(figsize=(5,8))\n",
    "ax = sns.heatmap(correlacion[['is_canceled']].sort_values('is_canceled', ascending=False), annot = True, cmap='coolwarm')\n",
    "ax.set_title('Correlacion entre las variables y el target', fontsize=12)"
   ]
  },
  {
   "cell_type": "markdown",
   "metadata": {},
   "source": [
    "- ``'lead_time'`` es la variable que más está correlacionada con ``'is_canceled'``, nuestro target. Tiene sentido que a medida que pasan los días entre que se realiza la reserva y la fecha de llegada, los clientes tienen más tiempo para cancelar la reserva y hay más tiempo para que surja un imprevisto.\n",
    "- La segunda variable con mayor correlacion con nuestro target es ``'total_of_special_requests'``. Esto podría pensarse como que el hotel tiene en cuenta las necesidades de los clientes y esto podría hacer que el cliente sea menos propenso a cancelar su reserva.\n",
    "- ``'required_car_parking_spaces'`` es la tercera variable con mayor correlacion con nuestro target. Parecido a lo que ocurre con ``'total_of_special_requests'``, es lógico que si el cliente se compromente con el hotel (pidiendo un espacio de estacionamiento), será menos probable que cancele su reserva.\n",
    "- El historial de un cliente con el hotel (``'previous_bookings_not_canceled'`` o ``'is_repeated_guest'``) no parece estar muy relacionado con la cancelación de la reserva. Pero, que un cliente ya haya cancelado reservas en el hotel si está más relacionado con la cancelación de la reserva."
   ]
  },
  {
   "cell_type": "code",
   "execution_count": null,
   "metadata": {},
   "outputs": [],
   "source": [
    "plt.figure(figsize=(8,5)) \n",
    "plt.title(\"Tiempo de anticipacion medio vs estado de la reserva\", fontsize = 18, pad = 10)\n",
    "sns.barplot(x=hotel['is_canceled'], y=hotel['lead_time'], palette='coolwarm')\n",
    "plt.xlabel(\"Estado de la reserva\", fontsize = 12)\n",
    "plt.ylabel(\"Tiempo de anticipacion (días)\", fontsize = 12)\n",
    "plt.xticks(ticks=[0, 1], labels=['No cancelada', 'Cancelada']);"
   ]
  },
  {
   "cell_type": "markdown",
   "metadata": {},
   "source": [
    "Las reservas canceladas tienen un tiempo de anticipacion medio más largo."
   ]
  },
  {
   "cell_type": "code",
   "execution_count": null,
   "metadata": {},
   "outputs": [],
   "source": [
    "plt.figure(figsize=(8,5)) \n",
    "plt.title(\"Cantidad media de solicitudes especiales vs estado de la reserva\", fontsize = 18, pad = 10)\n",
    "sns.barplot(x=hotel['is_canceled'], y=hotel['total_of_special_requests'], palette='coolwarm')\n",
    "plt.xlabel(\"Estado de la reserva\", fontsize = 12)\n",
    "plt.ylabel(\"Solicitudes especiales\", fontsize = 12)\n",
    "plt.xticks(ticks=[0, 1], labels=['No cancelada', 'Cancelada']);"
   ]
  },
  {
   "cell_type": "markdown",
   "metadata": {},
   "source": [
    "Los clientes que cancelan sus reservas hacen menos peticiones especiales."
   ]
  },
  {
   "cell_type": "code",
   "execution_count": null,
   "metadata": {},
   "outputs": [],
   "source": [
    "plt.figure(figsize=(8,5)) \n",
    "plt.title(\"Cantidad media de lugares de estacionamiento solicitados vs estado de la reserva\", fontsize = 18, pad = 10)\n",
    "sns.barplot(x=hotel['is_canceled'], y=hotel['required_car_parking_spaces'], palette='coolwarm')\n",
    "plt.xlabel(\"Estado de la reserva\", fontsize = 12)\n",
    "plt.ylabel(\"Lugares de estacionamiento solicitados\", fontsize = 12)\n",
    "plt.xticks(ticks=[0, 1], labels=['No cancelada', 'Cancelada']);"
   ]
  },
  {
   "cell_type": "markdown",
   "metadata": {},
   "source": [
    "Los clientes que no cancelan sus reservas tienden a solicitar más lugares de estacionamiento."
   ]
  },
  {
   "cell_type": "code",
   "execution_count": null,
   "metadata": {},
   "outputs": [],
   "source": [
    "plt.figure(figsize=(10,5)) \n",
    "plt.title(\"Porcentaje de reservas canceladas por tipo de habitacion reservada\", fontsize = 20, pad = 10)\n",
    "sns.barplot(x=hotel['reserved_room_type'], y=hotel['is_canceled'], palette='coolwarm')\n",
    "plt.xlabel(\"Tipo de habitación\", fontsize = 12)\n",
    "plt.ylabel(\"Porcentaje de reservas canceladas\", fontsize = 12);"
   ]
  },
  {
   "cell_type": "markdown",
   "metadata": {},
   "source": [
    "Los clientes que reservaron los tipos de habitación P y L tienen el mayor porcentaje de cancelación de reservas, con un 100% de reservas canceladas."
   ]
  },
  {
   "cell_type": "code",
   "execution_count": null,
   "metadata": {},
   "outputs": [],
   "source": [
    "plt.figure(figsize=(10,5)) \n",
    "plt.title(\"Porcentaje de reservas canceladas por tipo de depósito\", fontsize = 20, pad = 10)\n",
    "sns.barplot(x=hotel['deposit_type'], y=hotel['is_canceled'], palette='coolwarm')\n",
    "plt.xlabel(\"Tipo de depósito\", fontsize = 12)\n",
    "plt.ylabel(\"Porcentaje de reservas canceladas\", fontsize = 12);"
   ]
  },
  {
   "cell_type": "markdown",
   "metadata": {},
   "source": [
    "Los clientes que pagan un depósito no reembolsable tienen un porcentaje mucho mayor de reservas canceladas."
   ]
  },
  {
   "cell_type": "code",
   "execution_count": null,
   "metadata": {},
   "outputs": [],
   "source": [
    "sns.countplot(x='customer_type', data=hotel, hue='is_canceled', palette='coolwarm')"
   ]
  },
  {
   "cell_type": "code",
   "execution_count": null,
   "metadata": {},
   "outputs": [],
   "source": [
    "sns.countplot(x='is_repeated_guest', data=hotel, hue='is_canceled', palette='coolwarm')"
   ]
  },
  {
   "attachments": {},
   "cell_type": "markdown",
   "metadata": {},
   "source": [
    "### **Visualización de los datos**"
   ]
  },
  {
   "attachments": {},
   "cell_type": "markdown",
   "metadata": {},
   "source": [
    "### **Datos faltantes**"
   ]
  },
  {
   "attachments": {},
   "cell_type": "markdown",
   "metadata": {},
   "source": [
    "#### Análisis"
   ]
  },
  {
   "attachments": {},
   "cell_type": "markdown",
   "metadata": {},
   "source": [
    "Obtengo una tabla con la cantidad y el porcentaje de nulos por columna:"
   ]
  },
  {
   "cell_type": "code",
   "execution_count": 37,
   "metadata": {},
   "outputs": [
    {
     "data": {
      "text/html": [
       "<div>\n",
       "<style scoped>\n",
       "    .dataframe tbody tr th:only-of-type {\n",
       "        vertical-align: middle;\n",
       "    }\n",
       "\n",
       "    .dataframe tbody tr th {\n",
       "        vertical-align: top;\n",
       "    }\n",
       "\n",
       "    .dataframe thead th {\n",
       "        text-align: right;\n",
       "    }\n",
       "</style>\n",
       "<table border=\"1\" class=\"dataframe\">\n",
       "  <thead>\n",
       "    <tr style=\"text-align: right;\">\n",
       "      <th></th>\n",
       "      <th>Columna</th>\n",
       "      <th>Cant. nulos</th>\n",
       "      <th>% nulos</th>\n",
       "    </tr>\n",
       "  </thead>\n",
       "  <tbody>\n",
       "    <tr>\n",
       "      <th>3</th>\n",
       "      <td>company</td>\n",
       "      <td>58761</td>\n",
       "      <td>94.909</td>\n",
       "    </tr>\n",
       "    <tr>\n",
       "      <th>2</th>\n",
       "      <td>agent</td>\n",
       "      <td>7890</td>\n",
       "      <td>12.744</td>\n",
       "    </tr>\n",
       "    <tr>\n",
       "      <th>1</th>\n",
       "      <td>country</td>\n",
       "      <td>221</td>\n",
       "      <td>0.357</td>\n",
       "    </tr>\n",
       "    <tr>\n",
       "      <th>0</th>\n",
       "      <td>children</td>\n",
       "      <td>4</td>\n",
       "      <td>0.006</td>\n",
       "    </tr>\n",
       "  </tbody>\n",
       "</table>\n",
       "</div>"
      ],
      "text/plain": [
       "    Columna  Cant. nulos  % nulos\n",
       "3   company        58761   94.909\n",
       "2     agent         7890   12.744\n",
       "1   country          221    0.357\n",
       "0  children            4    0.006"
      ]
     },
     "execution_count": 37,
     "metadata": {},
     "output_type": "execute_result"
    }
   ],
   "source": [
    "\n",
    "# Obtengo una serie con la suma de nulos por columna.\n",
    "cols_null = hotel.isna().sum()\n",
    "\n",
    "# Filtro las columnas para quedarme solo con las que tienen nulos.\n",
    "# Luego, reseteo el índice y renombro las columnas.\n",
    "cols_null = cols_null[cols_null > 0].reset_index().rename(\n",
    "    columns={'index': 'Columna', 0: 'Cant. nulos'})\n",
    "\n",
    "# Ordeno las columnas por cantidad de nulos.\n",
    "cols_null = cols_null.sort_values(\n",
    "    by='Cant. nulos', ascending=False)\n",
    "\n",
    "# Agrego una columna con el porcentaje de nulos respecto a la cantidad total de datos.\n",
    "cols_null['% nulos'] = (cols_null['Cant. nulos'] /\n",
    "                        hotel.shape[0] * 100).round(3)\n",
    "\n",
    "cols_null\n"
   ]
  },
  {
   "attachments": {},
   "cell_type": "markdown",
   "metadata": {},
   "source": [
    "Grafico los porcentajes de nulos por columna:"
   ]
  },
  {
   "cell_type": "code",
   "execution_count": null,
   "metadata": {},
   "outputs": [],
   "source": [
    "sns.barplot(x='Columna', y='% nulos',\n",
    "            data=cols_null.loc[cols_null['Columna'] == 'company'])\n"
   ]
  },
  {
   "cell_type": "code",
   "execution_count": null,
   "metadata": {},
   "outputs": [],
   "source": [
    "sns.barplot(x='Columna', y='% nulos',\n",
    "            data=cols_null.loc[cols_null['Columna'] == 'agent'])\n"
   ]
  },
  {
   "cell_type": "code",
   "execution_count": null,
   "metadata": {},
   "outputs": [],
   "source": [
    "sns.barplot(x='Columna', y='% nulos',\n",
    "            data=cols_null.loc[cols_null['Columna'] == 'country'])\n"
   ]
  },
  {
   "cell_type": "code",
   "execution_count": null,
   "metadata": {},
   "outputs": [],
   "source": [
    "sns.barplot(x='Columna', y='% nulos',\n",
    "            data=cols_null.loc[cols_null['Columna'] == 'children'])\n"
   ]
  },
  {
   "attachments": {},
   "cell_type": "markdown",
   "metadata": {},
   "source": [
    "#### Revisión y decisión"
   ]
  },
  {
   "attachments": {},
   "cell_type": "markdown",
   "metadata": {},
   "source": [
    "##### Nulls en ``'children'``"
   ]
  },
  {
   "attachments": {},
   "cell_type": "markdown",
   "metadata": {},
   "source": [
    "Por el ínfimo porcentaje de datos faltantes en la columna \"children\", podemos simplemente eliminar las filas que tienen este dato como null."
   ]
  },
  {
   "cell_type": "code",
   "execution_count": 39,
   "metadata": {},
   "outputs": [],
   "source": [
    "hotel.dropna(subset=['children'], inplace=True)\n"
   ]
  },
  {
   "cell_type": "code",
   "execution_count": 40,
   "metadata": {},
   "outputs": [
    {
     "name": "stdout",
     "output_type": "stream",
     "text": [
      "Cantidad de registros 61909\n"
     ]
    }
   ],
   "source": [
    "print(\"Cantidad de registros\", hotel.shape[0])"
   ]
  },
  {
   "attachments": {},
   "cell_type": "markdown",
   "metadata": {},
   "source": [
    "Confirmamos que se eliminaron 4 registros del dataset."
   ]
  },
  {
   "attachments": {},
   "cell_type": "markdown",
   "metadata": {},
   "source": [
    "##### Nulls en ``'country'``"
   ]
  },
  {
   "attachments": {},
   "cell_type": "markdown",
   "metadata": {},
   "source": [
    "##### Nulls en ``'company'``"
   ]
  },
  {
   "attachments": {},
   "cell_type": "markdown",
   "metadata": {},
   "source": [
    "En la columna ``company``, el 95% de los registros tienen ``null`` como valor. En principio, nos inclinamos a pensar que este dato casi no fue registrado, o falta para la mayoría de los registros. Pero revisando el paper, nos encontramos con la siguiente aclaración:\n",
    "\n",
    "> The PMS assured no missing data exists in its database tables. However, in some categorical\n",
    "variables like Agent or Company, “NULL” is presented as one of the categories. This should not be\n",
    "considered a missing value, but rather as “not applicable”. For example, if a booking “Agent” is defined as “NULL” it means that the booking did not came from a travel agent.\n",
    "\n",
    "En criollo, nos aclaran que ``null`` en esta columna no debería interpretarse como dato faltante, sino como \"no aplica\". Para las columnas ``company`` y ``agent``, un valor ``null`` debería entenderse como \"no reservó a través de compañía/agente\".\n",
    "\n",
    "Ignorar estos datos puede causar que perdamos información que podría resultar útil para entrenar el modelo. ¿Es posible que exista una correlación entre la compañía usada y la cancelación? ¿Entre el agente y cancelación? ¿Y si en realidad lo que importa es el hecho de reservar por agente, compañía o personalmente; y no específicamente a través de cuál?\n",
    "\n",
    "Es necesario responder estas preguntas para poder tratar correctamente con estos datos. Se nos ocurren dos alternativas:\n",
    "- Reconvertir las columnas a un dato booleano, que indique si se usó o no agente/compañía.\n",
    "- Interpretar a los ``null`` como un agente o compañía más.\n",
    "\n",
    "La primera opción sería la mejor, se acota considerablemente el rango de valores posibles, pero no se pierde toda la información. Si la cantidad de agentes/compañías repetidos es bajísimo (casi todas las reservas se hacen con agentes/compañías distintas), casi no se podría inferir información. Que una vez un agente haya cancelado, puede sentar un mal precedente, pero de ningún modo se deduce que lo volverá a hacer. También, si resulta que todos los agentes/compañías cancelan con más o menos la misma frecuencia; sería un indicador de que el dato específico de quién/cuál agente/compañía reserva es indistinto. Estas opciones indican que se puede simplificar a la primera opción sin pérdida de información.\n",
    "\n",
    "Si, por el contrario, hay algunos agentes/compañías presentes en muchos registros, y se puede deducir algo de ello, quizás no sea conveniente reconvertir las columnas a booleanos. Si un agente reservó 1000 veces, y canceló 999... ya un sustento más fuerte para creer que volverá a cancelar."
   ]
  },
  {
   "attachments": {},
   "cell_type": "markdown",
   "metadata": {},
   "source": [
    "Revisaremos entonces la distribución de agentes y compañías respecto al target del modelo, la columna ``is_canceled``."
   ]
  },
  {
   "cell_type": "code",
   "execution_count": null,
   "metadata": {},
   "outputs": [],
   "source": [
    "# graficar 'company' contra 'is_canceled', ordenar por apariciones, los 30 primeros\n",
    "sns.countplot(y='company', data=hotel, hue='is_canceled',\n",
    "              order=hotel['company'].value_counts().iloc[:30].index)\n"
   ]
  },
  {
   "cell_type": "code",
   "execution_count": null,
   "metadata": {},
   "outputs": [],
   "source": [
    "# graficar 'agent' contra 'is_canceled', ordenar por apariciones, los 30 primeros\n",
    "sns.countplot(y='agent', data=hotel, hue='is_canceled',\n",
    "              order=hotel['agent'].value_counts().iloc[:30].index)\n"
   ]
  },
  {
   "cell_type": "code",
   "execution_count": null,
   "metadata": {},
   "outputs": [],
   "source": [
    "# create a new column 'is_used_agent' that is 1 if 'agent' is not null, 0 otherwise\n",
    "_hotel = hotel.copy()\n",
    "_hotel['is_used_agent'] = _hotel['agent'].notna().astype(int)\n",
    "_hotel['is_used_agent'].value_counts()\n"
   ]
  },
  {
   "cell_type": "code",
   "execution_count": null,
   "metadata": {},
   "outputs": [],
   "source": [
    "# create a new column 'is_used_company' that is 1 if 'company' is not null, 0 otherwise\n",
    "_hotel['is_used_company'] = _hotel['company'].notna().astype(int)\n",
    "_hotel['is_used_company'].value_counts()\n"
   ]
  },
  {
   "cell_type": "code",
   "execution_count": null,
   "metadata": {},
   "outputs": [],
   "source": [
    "# create a new column 'is_used_company' that is 1 if 'company' is not null, 0 otherwise\n",
    "_hotel['is_used_company'] = _hotel['company'].notna().astype(int)\n",
    "_hotel['is_used_company'].value_counts()\n"
   ]
  },
  {
   "attachments": {},
   "cell_type": "markdown",
   "metadata": {},
   "source": [
    "No sé cómo intrepretar este dato... ¿Cómo usaron compañía y agente a la vez?"
   ]
  },
  {
   "attachments": {},
   "cell_type": "markdown",
   "metadata": {},
   "source": [
    "##### Nulls en ``'agent'``"
   ]
  },
  {
   "attachments": {},
   "cell_type": "markdown",
   "metadata": {},
   "source": [
    "#### Comparaciones"
   ]
  },
  {
   "attachments": {},
   "cell_type": "markdown",
   "metadata": {},
   "source": [
    "### **Valores atípicos**"
   ]
  },
  {
   "attachments": {},
   "cell_type": "markdown",
   "metadata": {},
   "source": [
    "#### Detección"
   ]
  },
  {
   "attachments": {},
   "cell_type": "markdown",
   "metadata": {},
   "source": [
    "##### Univariada"
   ]
  },
  {
   "attachments": {},
   "cell_type": "markdown",
   "metadata": {},
   "source": [
    "Vamos a intentar identificar outliers univariados mediante el análisis de boxplots."
   ]
  },
  {
   "cell_type": "code",
   "execution_count": null,
   "metadata": {},
   "outputs": [],
   "source": [
    "sns.boxplot(y=hotel.adr)"
   ]
  },
  {
   "cell_type": "code",
   "execution_count": null,
   "metadata": {},
   "outputs": [],
   "source": [
    "hotel.adr.agg(['min','max']).reset_index()"
   ]
  },
  {
   "attachments": {},
   "cell_type": "markdown",
   "metadata": {},
   "source": [
    "Podemos ver que la variable ``'adr'`` tiene outliers. Con un mínimo en -6.38 y un máximo en 510."
   ]
  },
  {
   "cell_type": "code",
   "execution_count": null,
   "metadata": {},
   "outputs": [],
   "source": [
    "#Cuartiles\n",
    "Q1_altura = np.quantile(hotel.adr,0.25)\n",
    "Q3_altura = np.quantile(hotel.adr,0.75)\n",
    "\n",
    "#Rango intercuartil\n",
    "IQR_altura = Q3_altura-Q1_altura\n",
    "\n",
    "#Limite inferior Outliers\n",
    "out_inf = Q1_altura-1.5*IQR_altura\n",
    "out_sup = Q3_altura+1.5*IQR_altura\n",
    "print('Valores por debajo de', out_inf, 'son outliers moderados inferiores.')\n",
    "print('Valores por arriba de', out_sup, 'son outlier moderados superiores.')"
   ]
  },
  {
   "cell_type": "code",
   "execution_count": null,
   "metadata": {},
   "outputs": [],
   "source": [
    "out_inf = Q1_altura-3*IQR_altura\n",
    "out_sup = Q3_altura+3*IQR_altura\n",
    "print('Valores por debajo de', out_inf, 'son outliers severos inferiores.')\n",
    "print('Valores por arriba de', out_sup, 'son outlier severos superiores.')"
   ]
  },
  {
   "attachments": {},
   "cell_type": "markdown",
   "metadata": {},
   "source": [
    "Considerando estos valores y los max y min de ``'adr'``, podemos ver que tiene outliers superiores tanto moderados como severos, pero no cuenta con outliers inferiores."
   ]
  },
  {
   "cell_type": "code",
   "execution_count": null,
   "metadata": {},
   "outputs": [],
   "source": [
    "#Observacion anomala\n",
    "outliers = hotel[hotel['adr']>300].sort_values(by='adr', ascending=False)\n",
    "outliers"
   ]
  },
  {
   "attachments": {},
   "cell_type": "markdown",
   "metadata": {},
   "source": [
    "Ahora probemos lás técnicas z-score y z-score modificado"
   ]
  },
  {
   "cell_type": "code",
   "execution_count": null,
   "metadata": {},
   "outputs": [],
   "source": [
    "hotel_cpy = hotel.copy()"
   ]
  },
  {
   "cell_type": "code",
   "execution_count": null,
   "metadata": {},
   "outputs": [],
   "source": [
    "#z-score de la variable 'adr'\n",
    "media_adr =  np.mean(hotel_cpy.adr)\n",
    "std_adr = np.std(hotel_cpy.adr)\n",
    "hotel_cpy['z_adr'] = (hotel_cpy.adr - media_adr)/std_adr"
   ]
  },
  {
   "cell_type": "code",
   "execution_count": null,
   "metadata": {},
   "outputs": [],
   "source": [
    "hotel_cpy[hotel_cpy['z_adr']>3]"
   ]
  },
  {
   "cell_type": "code",
   "execution_count": null,
   "metadata": {},
   "outputs": [],
   "source": [
    "hotel_cpy[hotel_cpy['z_adr']<-3]"
   ]
  },
  {
   "cell_type": "code",
   "execution_count": null,
   "metadata": {},
   "outputs": [],
   "source": [
    "sns.histplot(hotel_cpy.z_adr, bins=10).set(title='Distribución de z-score de la variable \"adr\"', xlabel='Z-Score adr')\n",
    "\n",
    "plt.xticks(np.arange(-3, 10, 1))\n",
    "plt.show()"
   ]
  },
  {
   "cell_type": "code",
   "execution_count": null,
   "metadata": {},
   "outputs": [],
   "source": [
    "#z-score modificado de la variable 'adr'\n",
    "mediana_adr = np.median(hotel_cpy.adr)\n",
    "MAD = np.median(np.absolute(hotel_cpy.adr-mediana_adr))\n",
    "hotel_cpy['zm_adr'] = (hotel_cpy.adr - mediana_adr)*0.6745/MAD"
   ]
  },
  {
   "cell_type": "code",
   "execution_count": null,
   "metadata": {},
   "outputs": [],
   "source": [
    "hotel_cpy[(hotel_cpy['zm_adr']>3.5)]"
   ]
  },
  {
   "cell_type": "code",
   "execution_count": null,
   "metadata": {},
   "outputs": [],
   "source": [
    "hotel_cpy[(hotel_cpy['zm_adr']<-3.5)]"
   ]
  },
  {
   "cell_type": "code",
   "execution_count": null,
   "metadata": {},
   "outputs": [],
   "source": [
    "sns.histplot(hotel_cpy.zm_adr, bins=10).set(title='Distribución de z-score modificado de la variable \"adr\"', xlabel='Z-Score modificado adr')\n",
    "\n",
    "plt.xticks(np.arange(-3, 11, 1))\n",
    "\n",
    "plt.show()"
   ]
  },
  {
   "cell_type": "code",
   "execution_count": null,
   "metadata": {},
   "outputs": [],
   "source": [
    "sns.boxplot(y=hotel.children)"
   ]
  },
  {
   "cell_type": "code",
   "execution_count": null,
   "metadata": {},
   "outputs": [],
   "source": [
    "hotel.children.describe().reset_index()"
   ]
  },
  {
   "cell_type": "code",
   "execution_count": null,
   "metadata": {},
   "outputs": [],
   "source": [
    "sns.boxplot(y=hotel.babies)"
   ]
  },
  {
   "cell_type": "code",
   "execution_count": null,
   "metadata": {},
   "outputs": [],
   "source": [
    "hotel.babies.describe().reset_index()"
   ]
  },
  {
   "cell_type": "code",
   "execution_count": null,
   "metadata": {},
   "outputs": [],
   "source": [
    "sns.boxplot(y=hotel.adults)"
   ]
  },
  {
   "cell_type": "code",
   "execution_count": null,
   "metadata": {},
   "outputs": [],
   "source": [
    "hotel.adults.describe().reset_index()"
   ]
  },
  {
   "attachments": {},
   "cell_type": "markdown",
   "metadata": {},
   "source": [
    "Hay reservas con 0 adultos."
   ]
  },
  {
   "cell_type": "code",
   "execution_count": null,
   "metadata": {},
   "outputs": [],
   "source": [
    "sns.boxplot(y=hotel.previous_cancellations)"
   ]
  },
  {
   "cell_type": "code",
   "execution_count": null,
   "metadata": {},
   "outputs": [],
   "source": [
    "hotel.previous_cancellations.describe().reset_index()"
   ]
  },
  {
   "attachments": {},
   "cell_type": "markdown",
   "metadata": {},
   "source": [
    "##### Multivariada"
   ]
  },
  {
   "attachments": {},
   "cell_type": "markdown",
   "metadata": {},
   "source": [
    "Primero utiliaremos la distancia de Mahalanobis"
   ]
  },
  {
   "attachments": {},
   "cell_type": "markdown",
   "metadata": {},
   "source": [
    "#### Características"
   ]
  },
  {
   "attachments": {},
   "cell_type": "markdown",
   "metadata": {},
   "source": [
    "#### Tratamiento"
   ]
  },
  {
   "attachments": {},
   "cell_type": "markdown",
   "metadata": {},
   "source": [
    "## BORRADOR ///"
   ]
  },
  {
   "cell_type": "code",
   "execution_count": null,
   "metadata": {},
   "outputs": [],
   "source": [
    "#Datos nulos\n",
    "hotel.isna().sum()"
   ]
  },
  {
   "cell_type": "markdown",
   "metadata": {},
   "source": [
    "'company' y 'agent' tienen muchos datos faltantes, puede que sea una variable irrelevante para el análisis"
   ]
  },
  {
   "cell_type": "code",
   "execution_count": null,
   "metadata": {},
   "outputs": [],
   "source": [
    "#Datos no nulos\n",
    "hotel.notna().sum()"
   ]
  },
  {
   "cell_type": "code",
   "execution_count": null,
   "metadata": {},
   "outputs": [],
   "source": [
    "# ¿Cuál es la proporción de reservas canceladas en relación con el total de reservas?\n",
    "prop_cancelaciones = len(hotel[hotel['is_canceled'] == 1]) / len(hotel) *100\n",
    "print(f\"La proporción de reservas canceladas en relación al total de reservas es {prop_cancelaciones:.2f}%\")"
   ]
  },
  {
   "cell_type": "code",
   "execution_count": null,
   "metadata": {},
   "outputs": [],
   "source": [
    "# ¿Existe alguna relación entre el tiempo en lista de espera y las reservas canceladas?\n",
    "pd.crosstab(hotel['days_in_waiting_list'], hotel['is_canceled'])"
   ]
  },
  {
   "cell_type": "code",
   "execution_count": null,
   "metadata": {},
   "outputs": [],
   "source": [
    "# graficar cancelado vs tiempo de espera\n",
    "sns.scatterplot(x='days_in_waiting_list', y='is_canceled', data=hotel, hue='is_canceled', alpha=0.1)"
   ]
  },
  {
   "cell_type": "code",
   "execution_count": null,
   "metadata": {},
   "outputs": [],
   "source": [
    "# ¿Cuál es la proporción de reservas canceladas por clientes Transient en relación con el total de reservas realizadas por clientes Transient?\n",
    "prop_cancelaciones_transient = len(hotel[(hotel['is_canceled'] == 1) & (hotel['customer_type'] == 'Transient')]) / len(hotel[(hotel['customer_type'] == 'Transient')]) *100\n",
    "print(f\"La proporción de reservas canceladas por clientes Transient es {prop_cancelaciones_transient:.2f}%\")"
   ]
  },
  {
   "cell_type": "code",
   "execution_count": null,
   "metadata": {},
   "outputs": [],
   "source": [
    "# Reservas canceladas por tarifa\n",
    "pd.crosstab(hotel['adr'], hotel['is_canceled']).sort_values(by=1, ascending=False)"
   ]
  },
  {
   "cell_type": "code",
   "execution_count": null,
   "metadata": {},
   "outputs": [],
   "source": [
    "# Graficar canceldas por tarifa\n",
    "sns.scatterplot(x='adr', y='is_canceled', data=hotel, hue='is_canceled', alpha=0.1)"
   ]
  },
  {
   "cell_type": "code",
   "execution_count": null,
   "metadata": {},
   "outputs": [],
   "source": [
    "# Reservas canceladas por pais\n",
    "pd.crosstab(hotel['country'], hotel['is_canceled']).sort_values(by=1, ascending=False)"
   ]
  },
  {
   "cell_type": "code",
   "execution_count": null,
   "metadata": {},
   "outputs": [],
   "source": [
    "# graficar canceladas por 30 primeros paises\n",
    "pd.crosstab(hotel['country'], hotel['is_canceled']).sort_values(by=1, ascending=False).head(30).plot(kind='bar', figsize=(20,10))\n"
   ]
  },
  {
   "cell_type": "code",
   "execution_count": null,
   "metadata": {},
   "outputs": [],
   "source": [
    "# Reservas canceladas segun el tipo de comida\n",
    "pd.crosstab(hotel['meal'], hotel['is_canceled']).sort_values(by=1, ascending=False)\n"
   ]
  },
  {
   "cell_type": "code",
   "execution_count": null,
   "metadata": {},
   "outputs": [],
   "source": [
    "# graficareservas canceladas segun el tipo de comida\n",
    "sns.countplot(x='meal', data=hotel, hue='is_canceled')"
   ]
  },
  {
   "cell_type": "code",
   "execution_count": null,
   "metadata": {},
   "outputs": [],
   "source": [
    "# Estado de las reservas segun el tipo de distribucion\n",
    "pd.crosstab(hotel['distribution_channel'], hotel['is_canceled']).sort_values(by=1, ascending=False)"
   ]
  },
  {
   "cell_type": "code",
   "execution_count": null,
   "metadata": {},
   "outputs": [],
   "source": [
    "# graficar reservas canceladas segun el tipo de distribucion\n",
    "sns.countplot(x='distribution_channel', data=hotel, hue='is_canceled')"
   ]
  },
  {
   "cell_type": "code",
   "execution_count": null,
   "metadata": {},
   "outputs": [],
   "source": [
    "# graficar reservas canceladas segun el tiempo entre la reserva y la llegada\n",
    "# sns.scatterplot(x='lead_time', y='is_canceled', data=hotel, hue='is_canceled', alpha=0.002)\n",
    "\n",
    "sns.regplot(x='lead_time', y='is_canceled', data=hotel, logistic=True, y_jitter=0.03)\n"
   ]
  },
  {
   "cell_type": "code",
   "execution_count": null,
   "metadata": {},
   "outputs": [],
   "source": [
    "# ¿Existe alguna relación entre la cantidad de adultos, niños y bebés en una reserva y el estado de la reserva?\n",
    "\n",
    "pd.crosstab(index=[hotel['adults'], hotel['children'], hotel['babies']], columns=hotel['is_canceled']).sort_values(by=1, ascending=False).head(10)\n"
   ]
  },
  {
   "cell_type": "code",
   "execution_count": null,
   "metadata": {},
   "outputs": [],
   "source": [
    "sns.scatterplot(x='lead_time', y='is_canceled', data=hotel, hue='is_canceled')\n",
    "plt.gca().set_title('Relación entre el tiempo de espera y el estado de la reserva')\n",
    "plt.gca().set_xlabel('Tiempo de espera')\n",
    "plt.gca().set_ylabel('Estado de la reserva')\n",
    "plt.gca().set_xticks(range(0, 700, 50))\n",
    "plt.gca().set_yticks(range(0, 2, 1))\n",
    "plt.show()"
   ]
  },
  {
   "cell_type": "code",
   "execution_count": null,
   "metadata": {},
   "outputs": [],
   "source": [
    "sns.countplot(x='previous_cancellations', hue='is_canceled', data=hotel)\n",
    "plt.show()"
   ]
  },
  {
   "cell_type": "code",
   "execution_count": null,
   "metadata": {},
   "outputs": [],
   "source": [
    "# graficar relacion entre 'arrival_date_year' y 'is_canceled'\n",
    "# sns.countplot(x='arrival_date_year', hue='is_canceled', data=hotel)\n",
    "# sns.countplot(x='arrival_date_month', hue='is_canceled', data=hotel)\n",
    "# sns.countplot(x='arrival_date_day_of_month', hue='is_canceled', data=hotel)\n",
    "sns.countplot(x='arrival_date_week_number', hue='is_canceled', data=hotel)\n"
   ]
  },
  {
   "cell_type": "code",
   "execution_count": null,
   "metadata": {},
   "outputs": [],
   "source": [
    "hotel_reducido = hotel.copy()\n",
    "\n",
    "# combinar las columnas de fechas en una sola\n",
    "hotel_reducido['arrival_date'] = hotel_reducido['arrival_date_year'].astype(str) + '-' + hotel_reducido['arrival_date_month'].astype(str) + '-' + hotel_reducido['arrival_date_day_of_month'].astype(str)\n",
    "# eliminar las columnas de fechas\n",
    "hotel_reducido.drop(['arrival_date_year', 'arrival_date_month', 'arrival_date_day_of_month'], axis=1, inplace=True)\n",
    "\n",
    "# convertir la columna 'arrival_date' a tipo datetime\n",
    "hotel_reducido['arrival_date'] = pd.to_datetime(hotel_reducido['arrival_date'])\n",
    "\n",
    "hotel_reducido.head()"
   ]
  },
  {
   "cell_type": "code",
   "execution_count": null,
   "metadata": {},
   "outputs": [],
   "source": [
    "# graficar la relacion entre 'arrival_date' y 'is_canceled'\n",
    "sns.scatterplot(x='arrival_date', y='is_canceled', data=hotel_reducido, hue='is_canceled', alpha=0.05)"
   ]
  },
  {
   "cell_type": "code",
   "execution_count": null,
   "metadata": {},
   "outputs": [],
   "source": [
    "# graficar la relacion entre 'hotel' y 'is_canceled'\n",
    "sns.countplot(x='hotel', hue='is_canceled', data=hotel_reducido)"
   ]
  },
  {
   "cell_type": "code",
   "execution_count": null,
   "metadata": {},
   "outputs": [],
   "source": [
    "# heatmap hotel y deposit_type\n",
    "sns.heatmap(pd.crosstab(hotel_reducido['hotel'], hotel_reducido['deposit_type']), annot=True, fmt='d')"
   ]
  },
  {
   "cell_type": "code",
   "execution_count": null,
   "metadata": {},
   "outputs": [],
   "source": [
    "import seaborn as sns\n",
    "import matplotlib.pyplot as plt\n",
    "\n",
    "# Load your data into a pandas DataFrame\n",
    "# ...\n",
    "\n",
    "# Pivot the data to create a matrix with 'hotel' and 'deposit_type' as the row and column indices\n",
    "# and 'is_canceled' as the values\n",
    "pivot_df = hotel_reducido.pivot_table(\n",
    "    index='hotel', columns='deposit_type', values='is_canceled')\n",
    "\n",
    "# Create the heatmap using Seaborn\n",
    "sns.heatmap(pivot_df, cmap='coolwarm', annot=True, fmt='.2f')\n",
    "\n",
    "# Set the plot title and axis labels\n",
    "plt.title('Cancellation Rates by Hotel and Deposit Type')\n",
    "plt.xlabel('Deposit Type')\n",
    "plt.ylabel('Hotel')\n",
    "\n",
    "# Show the plot\n",
    "plt.show()\n"
   ]
  },
  {
   "cell_type": "code",
   "execution_count": null,
   "metadata": {},
   "outputs": [],
   "source": [
    "import seaborn as sns\n",
    "import matplotlib.pyplot as plt\n",
    "\n",
    "pivot_df = hotel_reducido.pivot_table(\n",
    "    index='customer_type', columns='deposit_type', values='is_canceled')\n",
    "\n",
    "# Create the heatmap using Seaborn\n",
    "sns.heatmap(pivot_df, cmap='coolwarm', annot=True, fmt='.2f')\n",
    "\n",
    "# Show the plot\n",
    "plt.show()\n"
   ]
  },
  {
   "cell_type": "code",
   "execution_count": null,
   "metadata": {},
   "outputs": [],
   "source": [
    "hotel_reducido.info()"
   ]
  },
  {
   "cell_type": "code",
   "execution_count": null,
   "metadata": {},
   "outputs": [],
   "source": [
    "# dropeamos company xq son la mayoria nulos\n",
    "hotel_reducido.drop('company', axis=1, inplace=True)\n",
    "hotel_reducido.info()"
   ]
  },
  {
   "cell_type": "code",
   "execution_count": null,
   "metadata": {},
   "outputs": [],
   "source": [
    "# graficar relacion entre 20 agents mas comunes y 'is_canceled'\n",
    "top_20_agents = hotel_reducido['agent'].value_counts().head(20).index\n",
    "sns.countplot(x='agent', hue='is_canceled', data=hotel_reducido[hotel_reducido['agent'].isin(top_20_agents)])\n"
   ]
  },
  {
   "cell_type": "code",
   "execution_count": null,
   "metadata": {},
   "outputs": [],
   "source": [
    "# graficar relacion entre 'babies' y 'is_canceled'\n",
    "sns.countplot(x='babies', hue='is_canceled', data=hotel_reducido)"
   ]
  },
  {
   "cell_type": "code",
   "execution_count": null,
   "metadata": {},
   "outputs": [],
   "source": [
    "# graficar relacion entre 'babies' y 'is_canceled', sacanado los registros con 0 'babies'\n",
    "sns.countplot(x='babies', hue='is_canceled', data=hotel_reducido[hotel_reducido['babies'] != 0])\n"
   ]
  },
  {
   "cell_type": "code",
   "execution_count": null,
   "metadata": {},
   "outputs": [],
   "source": [
    "# graficar relacion entre 'childre' y 'is_canceled'\n",
    "sns.countplot(x='children', hue='is_canceled', data=hotel_reducido)"
   ]
  },
  {
   "cell_type": "code",
   "execution_count": null,
   "metadata": {},
   "outputs": [],
   "source": [
    "# graficar cantidad de bebes por reserva, sacando los registros con 0 'babies'\n",
    "sns.countplot(x='babies', data=hotel_reducido[hotel_reducido['babies'] > 1])"
   ]
  },
  {
   "cell_type": "code",
   "execution_count": null,
   "metadata": {},
   "outputs": [],
   "source": [
    "# graficar cantidad de 'children' por reserva\n",
    "sns.countplot(x='children', data=hotel_reducido[hotel_reducido['children'] > 3])"
   ]
  },
  {
   "cell_type": "code",
   "execution_count": null,
   "metadata": {},
   "outputs": [],
   "source": [
    "# buscar registros con 'children' > 3\n",
    "hotel_reducido[hotel_reducido['children'] > 3]\n"
   ]
  },
  {
   "cell_type": "code",
   "execution_count": null,
   "metadata": {},
   "outputs": [],
   "source": [
    "# buscar registros con 'babies' > 2\n",
    "hotel_reducido[hotel_reducido['babies'] > 2]"
   ]
  }
 ],
 "metadata": {
  "kernelspec": {
   "display_name": "Python 3.8.5 64-bit",
   "language": "python",
   "name": "python3"
  },
  "language_info": {
   "codemirror_mode": {
    "name": "ipython",
    "version": 3
   },
   "file_extension": ".py",
   "mimetype": "text/x-python",
   "name": "python",
   "nbconvert_exporter": "python",
   "pygments_lexer": "ipython3",
   "version": "3.11.2"
  },
  "orig_nbformat": 4,
  "vscode": {
   "interpreter": {
    "hash": "570feb405e2e27c949193ac68f46852414290d515b0ba6e5d90d076ed2284471"
   }
  }
 },
 "nbformat": 4,
 "nbformat_minor": 2
}
