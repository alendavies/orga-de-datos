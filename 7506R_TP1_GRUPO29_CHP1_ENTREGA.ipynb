{
 "cells": [
  {
   "attachments": {},
   "cell_type": "markdown",
   "metadata": {},
   "source": [
    "# <center>Organizaci&oacute;n de Datos</center>\n",
    "#### <center>C&aacute;tedra Ing. Rodriguez, Juan Manuel </center>\n",
    "## <center>Trabajo Práctico 1 : Reservas de Hotel </center>\n",
    "#### Grupo 29:\n",
    "* Alen Davies Leccese - 107084\n",
    "* Luca Lazcano - 107044"
   ]
  },
  {
   "attachments": {},
   "cell_type": "markdown",
   "metadata": {},
   "source": [
    "## Tabla de contenidos\n",
    "- [Importación y configuración](#Imports-y-configs)\n",
    "\n"
   ]
  },
  {
   "attachments": {},
   "cell_type": "markdown",
   "metadata": {},
   "source": [
    "#### Imports y configs"
   ]
  },
  {
   "cell_type": "markdown",
   "metadata": {},
   "source": [
    "Importamos las librerias y creamos el dataframe"
   ]
  },
  {
   "cell_type": "code",
   "execution_count": null,
   "metadata": {},
   "outputs": [],
   "source": [
    "import pandas as pd\n",
    "import numpy as np\n",
    "import sklearn as sk\n",
    "import seaborn as sns\n",
    "from matplotlib import pyplot as plt\n",
    "\n",
    "df = pd.read_csv('./Datasets/hotels_train.csv')\n",
    "df.drop(columns=['reservation_status_date'], inplace=True)\n",
    "\n",
    "hotel = df.copy()"
   ]
  },
  {
   "attachments": {},
   "cell_type": "markdown",
   "metadata": {},
   "source": [
    "## Análisis Exploratorio y Preprocesamiento de Datos"
   ]
  },
  {
   "attachments": {},
   "cell_type": "markdown",
   "metadata": {},
   "source": [
    "### **Exploración inicial**"
   ]
  },
  {
   "attachments": {},
   "cell_type": "markdown",
   "metadata": {},
   "source": [
    "#### Primera aproximación a los datos"
   ]
  },
  {
   "attachments": {},
   "cell_type": "markdown",
   "metadata": {},
   "source": [
    "Primero vemos cómo están organizados los datos, imprimiendo algunas filas:"
   ]
  },
  {
   "cell_type": "code",
   "execution_count": null,
   "metadata": {},
   "outputs": [],
   "source": [
    "hotel.sample(5)"
   ]
  },
  {
   "attachments": {},
   "cell_type": "markdown",
   "metadata": {},
   "source": [
    "Vemos que el dataset contiene información sobre las reservas en dos hoteles distintos."
   ]
  },
  {
   "cell_type": "code",
   "execution_count": null,
   "metadata": {},
   "outputs": [],
   "source": [
    "hotel.hotel.value_counts()"
   ]
  },
  {
   "attachments": {},
   "cell_type": "markdown",
   "metadata": {},
   "source": [
    "Luego vemos el tipo de dato de cada columna y determinamos a qué tipo de variable corresponde, así sabemos el análisis que se le puede efectuar."
   ]
  },
  {
   "cell_type": "code",
   "execution_count": null,
   "metadata": {},
   "outputs": [],
   "source": [
    "hotel.info()"
   ]
  },
  {
   "attachments": {},
   "cell_type": "markdown",
   "metadata": {},
   "source": [
    "Vemos que hay un mix de variables, cualitativas, ordinales y cuantitativas (discretas y continuas). Se observa que están representadas por varios tipos de datos. Por ejemplo algunas que son de tipo numérico, son cualitativas, como por ejemplo 'agent' y 'company'. El número seguramente representa un índice o id. Otras columnas son \"booleanas\", el valor numérico representa \"verdadero\" o \"falso\". Normalmente un 1 en dicha columna será verdadero, y un 0, falso. Estas columnas son 'is_repeated_guest' e 'is_canceled'."
   ]
  },
  {
   "attachments": {},
   "cell_type": "markdown",
   "metadata": {},
   "source": [
    "Vemos si hay duplicados en el dataset:"
   ]
  },
  {
   "cell_type": "code",
   "execution_count": null,
   "metadata": {},
   "outputs": [],
   "source": [
    "print(f'Cantidad de filas duplicadas: {hotel.duplicated().sum()}')"
   ]
  },
  {
   "cell_type": "code",
   "execution_count": null,
   "metadata": {},
   "outputs": [],
   "source": [
    "hotel.head()"
   ]
  },
  {
   "attachments": {},
   "cell_type": "markdown",
   "metadata": {},
   "source": [
    "#### Variables cualitativas"
   ]
  },
  {
   "attachments": {},
   "cell_type": "markdown",
   "metadata": {},
   "source": [
    "Para las variables cualitativas se pueden determinar los valores posibles, y a qué corresponden."
   ]
  },
  {
   "cell_type": "code",
   "execution_count": null,
   "metadata": {},
   "outputs": [],
   "source": [
    "cualitativas = hotel[['hotel','arrival_date_week_number', 'meal', 'country', 'market_segment', 'distribution_channel', 'is_repeated_guest', 'reserved_room_type', 'assigned_room_type', 'deposit_type', 'agent', 'company', 'customer_type', 'is_canceled', 'agent', 'company']]\n",
    "cualitativas"
   ]
  },
  {
   "attachments": {},
   "cell_type": "markdown",
   "metadata": {},
   "source": [
    "La variable 'hotel' puede tomar los siguientes valores:"
   ]
  },
  {
   "cell_type": "code",
   "execution_count": null,
   "metadata": {},
   "outputs": [],
   "source": [
    "hotel['hotel'].value_counts()"
   ]
  },
  {
   "attachments": {},
   "cell_type": "markdown",
   "metadata": {},
   "source": [
    "La variable 'arrival_date_month' puede tomar los siguientes valores:"
   ]
  },
  {
   "cell_type": "code",
   "execution_count": null,
   "metadata": {},
   "outputs": [],
   "source": [
    "hotel['arrival_date_month'].value_counts()"
   ]
  },
  {
   "attachments": {},
   "cell_type": "markdown",
   "metadata": {},
   "source": [
    "La variable 'arrival_date_week_number' puede tomar los siguientes valores:"
   ]
  },
  {
   "cell_type": "code",
   "execution_count": null,
   "metadata": {},
   "outputs": [],
   "source": [
    "hotel['arrival_date_week_number'].value_counts().sort_index()"
   ]
  },
  {
   "attachments": {},
   "cell_type": "markdown",
   "metadata": {},
   "source": [
    "La variable 'meal' puede tomar los siguientes valores:"
   ]
  },
  {
   "cell_type": "code",
   "execution_count": null,
   "metadata": {},
   "outputs": [],
   "source": [
    "hotel['meal'].value_counts().sort_index()"
   ]
  },
  {
   "attachments": {},
   "cell_type": "markdown",
   "metadata": {},
   "source": [
    "La variable 'country' puede tomar los siguientes valores:"
   ]
  },
  {
   "cell_type": "code",
   "execution_count": null,
   "metadata": {},
   "outputs": [],
   "source": [
    "hotel['country'].value_counts()"
   ]
  },
  {
   "attachments": {},
   "cell_type": "markdown",
   "metadata": {},
   "source": [
    "La variable 'market_segment' puede tomar los siguientes valores:"
   ]
  },
  {
   "cell_type": "code",
   "execution_count": null,
   "metadata": {},
   "outputs": [],
   "source": [
    "hotel['market_segment'].value_counts()\n"
   ]
  },
  {
   "attachments": {},
   "cell_type": "markdown",
   "metadata": {},
   "source": [
    "La variable 'distribution_channel' puede tomar los siguientes valores:"
   ]
  },
  {
   "cell_type": "code",
   "execution_count": null,
   "metadata": {},
   "outputs": [],
   "source": [
    "hotel['distribution_channel'].value_counts()\n"
   ]
  },
  {
   "attachments": {},
   "cell_type": "markdown",
   "metadata": {},
   "source": [
    "La variable 'is_repeated_guest' puede tomar los siguientes valores:"
   ]
  },
  {
   "cell_type": "code",
   "execution_count": null,
   "metadata": {},
   "outputs": [],
   "source": [
    "hotel['is_repeated_guest'].value_counts()"
   ]
  },
  {
   "attachments": {},
   "cell_type": "markdown",
   "metadata": {},
   "source": [
    "La variable 'reserved_room_type' puede tomar los siguientes valores:"
   ]
  },
  {
   "cell_type": "code",
   "execution_count": null,
   "metadata": {},
   "outputs": [],
   "source": [
    "hotel['reserved_room_type'].value_counts().sort_index()"
   ]
  },
  {
   "attachments": {},
   "cell_type": "markdown",
   "metadata": {},
   "source": [
    "La variable 'assigned_room_type' puede tomar los siguientes valors:"
   ]
  },
  {
   "cell_type": "code",
   "execution_count": null,
   "metadata": {},
   "outputs": [],
   "source": [
    "hotel['assigned_room_type'].value_counts().sort_index()\n"
   ]
  },
  {
   "attachments": {},
   "cell_type": "markdown",
   "metadata": {},
   "source": [
    "La variable 'deposit_type' puede tomar los siguientes valores:"
   ]
  },
  {
   "cell_type": "code",
   "execution_count": null,
   "metadata": {},
   "outputs": [],
   "source": [
    "hotel['deposit_type'].value_counts()"
   ]
  },
  {
   "attachments": {},
   "cell_type": "markdown",
   "metadata": {},
   "source": [
    "La variable 'agent' puede tomar los siguientes valores:"
   ]
  },
  {
   "cell_type": "code",
   "execution_count": null,
   "metadata": {},
   "outputs": [],
   "source": [
    "hotel['agent'].value_counts()"
   ]
  },
  {
   "attachments": {},
   "cell_type": "markdown",
   "metadata": {},
   "source": [
    "La variable 'company' puede tomar los siguientes valores:"
   ]
  },
  {
   "cell_type": "code",
   "execution_count": null,
   "metadata": {},
   "outputs": [],
   "source": [
    "hotel['company'].value_counts()\n"
   ]
  },
  {
   "attachments": {},
   "cell_type": "markdown",
   "metadata": {},
   "source": [
    "La variable 'customer_type' puede tomar los siguientes valores:"
   ]
  },
  {
   "cell_type": "code",
   "execution_count": null,
   "metadata": {},
   "outputs": [],
   "source": [
    "hotel['customer_type'].value_counts()"
   ]
  },
  {
   "attachments": {},
   "cell_type": "markdown",
   "metadata": {},
   "source": [
    "La variable 'is_canceled' puede tomar los siguientes valores:"
   ]
  },
  {
   "cell_type": "code",
   "execution_count": null,
   "metadata": {},
   "outputs": [],
   "source": [
    "hotel['is_canceled'].value_counts()\n"
   ]
  },
  {
   "attachments": {},
   "cell_type": "markdown",
   "metadata": {},
   "source": [
    "#### Variables cuantitativas"
   ]
  },
  {
   "attachments": {},
   "cell_type": "markdown",
   "metadata": {},
   "source": [
    "Para las variables cuantitativas se pueden calcular las medidas de resumen, \"estadísticas\", como media, mediana y moda."
   ]
  },
  {
   "cell_type": "code",
   "execution_count": null,
   "metadata": {},
   "outputs": [],
   "source": [
    "cuantitativas = hotel[['lead_time', 'arrival_date_year', 'arrival_date_day_of_month', 'stays_in_weekend_nights', 'stays_in_week_nights', 'adults', 'children', 'babies', 'is_repeated_guest', 'previous_cancellations', 'previous_bookings_not_canceled', 'booking_changes', 'days_in_waiting_list', 'adr', 'required_car_parking_spaces', 'total_of_special_requests']]\n",
    "cuantitativas.describe()"
   ]
  },
  {
   "attachments": {},
   "cell_type": "markdown",
   "metadata": {},
   "source": [
    "#### Variables irrelevantes para el análisis"
   ]
  },
  {
   "attachments": {},
   "cell_type": "markdown",
   "metadata": {},
   "source": [
    "Para el análisis de los datos podemos considerar que la variable 'id' será irrelevante ya que no aporta información sobre las reservas de los hoteles, es solamente un identificador de cada una."
   ]
  },
  {
   "attachments": {},
   "cell_type": "markdown",
   "metadata": {},
   "source": [
    "Además de esta, es difícil determinar qué variable será irrelevante, antes de haberlas analizado y visto cómo se relacionan entre ellas y con el target 'is_canceled'."
   ]
  },
  {
   "cell_type": "code",
   "execution_count": null,
   "metadata": {},
   "outputs": [],
   "source": [
    "hotel.drop(columns=['id'], inplace=True)"
   ]
  },
  {
   "attachments": {},
   "cell_type": "markdown",
   "metadata": {},
   "source": [
    "#### Análisis gráfico distribuciones de las variables"
   ]
  },
  {
   "attachments": {},
   "cell_type": "markdown",
   "metadata": {},
   "source": [
    "Analizamos la distribución de todas las variables, tanto cualitativas como cuantitativas."
   ]
  },
  {
   "attachments": {},
   "cell_type": "markdown",
   "metadata": {},
   "source": [
    "##### *Variables cualitativas*"
   ]
  },
  {
   "attachments": {},
   "cell_type": "markdown",
   "metadata": {},
   "source": [
    "Primero analizamos la distribucion de las variables cualitativas:"
   ]
  },
  {
   "cell_type": "code",
   "execution_count": null,
   "metadata": {},
   "outputs": [],
   "source": [
    "sns.countplot(x='hotel', data=cualitativas)"
   ]
  },
  {
   "cell_type": "code",
   "execution_count": null,
   "metadata": {},
   "outputs": [],
   "source": [
    "sns.countplot(x='customer_type', data=cualitativas)"
   ]
  },
  {
   "cell_type": "code",
   "execution_count": null,
   "metadata": {},
   "outputs": [],
   "source": [
    "sns.countplot(x='deposit_type', data=cualitativas)"
   ]
  },
  {
   "cell_type": "code",
   "execution_count": null,
   "metadata": {},
   "outputs": [],
   "source": [
    "sns.countplot(x='distribution_channel', data=cualitativas)"
   ]
  },
  {
   "cell_type": "code",
   "execution_count": null,
   "metadata": {},
   "outputs": [],
   "source": [
    "sns.countplot(x='market_segment', data=cualitativas)\n",
    "plt.gca().set_xticklabels(plt.gca().get_xticklabels(), size=8)"
   ]
  },
  {
   "cell_type": "code",
   "execution_count": null,
   "metadata": {},
   "outputs": [],
   "source": [
    "sns.countplot(y='country', data=cualitativas, order=cualitativas['country'].value_counts().iloc[:20].index)"
   ]
  },
  {
   "cell_type": "code",
   "execution_count": null,
   "metadata": {},
   "outputs": [],
   "source": [
    "room_types = hotel[['assigned_room_type', 'reserved_room_type']].copy()\n",
    "\n",
    "room_types_melted = pd.melt(room_types, value_vars=[\n",
    "                    'reserved_room_type', 'assigned_room_type'])\n",
    "\n",
    "sns.histplot(data=room_types_melted, x='value',\n",
    "             hue='variable', binwidth=1, multiple='dodge')"
   ]
  },
  {
   "cell_type": "code",
   "execution_count": null,
   "metadata": {},
   "outputs": [],
   "source": [
    "sns.countplot(x='is_repeated_guest', data=cualitativas)"
   ]
  },
  {
   "cell_type": "code",
   "execution_count": null,
   "metadata": {},
   "outputs": [],
   "source": [
    "sns.countplot(x='meal', data=cualitativas)"
   ]
  },
  {
   "cell_type": "code",
   "execution_count": null,
   "metadata": {},
   "outputs": [],
   "source": [
    "sns.countplot(x='is_canceled', data=cualitativas)"
   ]
  },
  {
   "attachments": {},
   "cell_type": "markdown",
   "metadata": {},
   "source": [
    "##### *Variables cuantitativas*"
   ]
  },
  {
   "attachments": {},
   "cell_type": "markdown",
   "metadata": {},
   "source": [
    "Ahora vemos la distribucion de las variables cuantitativas"
   ]
  },
  {
   "cell_type": "code",
   "execution_count": null,
   "metadata": {},
   "outputs": [],
   "source": [
    "sns.histplot(hotel['lead_time'], bins=30)"
   ]
  },
  {
   "cell_type": "code",
   "execution_count": null,
   "metadata": {},
   "outputs": [],
   "source": [
    "sns.countplot(x='arrival_date_year', data = cuantitativas, palette='coolwarm')"
   ]
  },
  {
   "cell_type": "code",
   "execution_count": null,
   "metadata": {},
   "outputs": [],
   "source": [
    "sns.countplot(x='arrival_date_day_of_month', data = cuantitativas, palette='coolwarm')\n",
    "plt.gca().set_xticklabels(plt.gca().get_xticklabels(), size=8)"
   ]
  },
  {
   "cell_type": "code",
   "execution_count": null,
   "metadata": {},
   "outputs": [],
   "source": [
    "sns.countplot(x='stays_in_weekend_nights', data = cuantitativas, palette='coolwarm')"
   ]
  },
  {
   "cell_type": "code",
   "execution_count": null,
   "metadata": {},
   "outputs": [],
   "source": [
    "sns.countplot(x='stays_in_week_nights', data = cuantitativas, palette='coolwarm')"
   ]
  },
  {
   "cell_type": "code",
   "execution_count": null,
   "metadata": {},
   "outputs": [],
   "source": [
    "sns.countplot(x='adults', data=cuantitativas, palette = 'coolwarm')"
   ]
  },
  {
   "cell_type": "code",
   "execution_count": null,
   "metadata": {},
   "outputs": [],
   "source": [
    "sns.countplot(x='children', data=cuantitativas, palette = 'coolwarm')"
   ]
  },
  {
   "cell_type": "code",
   "execution_count": null,
   "metadata": {},
   "outputs": [],
   "source": [
    "sns.countplot(x='babies', data=cuantitativas, palette = 'coolwarm')"
   ]
  },
  {
   "cell_type": "code",
   "execution_count": null,
   "metadata": {},
   "outputs": [],
   "source": [
    "sns.countplot(x='is_repeated_guest', data=cuantitativas, palette = 'coolwarm')"
   ]
  },
  {
   "cell_type": "code",
   "execution_count": null,
   "metadata": {},
   "outputs": [],
   "source": [
    "sns.countplot(x='previous_cancellations', data=cuantitativas, palette = 'coolwarm')"
   ]
  },
  {
   "cell_type": "code",
   "execution_count": null,
   "metadata": {},
   "outputs": [],
   "source": [
    "sns.histplot(x='previous_bookings_not_canceled', data=cuantitativas)"
   ]
  },
  {
   "cell_type": "code",
   "execution_count": null,
   "metadata": {},
   "outputs": [],
   "source": [
    "sns.countplot(x='booking_changes', data=cuantitativas, palette = 'coolwarm')"
   ]
  },
  {
   "cell_type": "code",
   "execution_count": null,
   "metadata": {},
   "outputs": [],
   "source": [
    "sns.histplot(x='days_in_waiting_list', data=cuantitativas)"
   ]
  },
  {
   "cell_type": "code",
   "execution_count": null,
   "metadata": {},
   "outputs": [],
   "source": [
    "sns.histplot(x='adr', data=cuantitativas, palette = 'coolwarm', bins=30)"
   ]
  },
  {
   "cell_type": "code",
   "execution_count": null,
   "metadata": {},
   "outputs": [],
   "source": [
    "sns.countplot(x='required_car_parking_spaces', data=cuantitativas, palette = 'coolwarm')"
   ]
  },
  {
   "cell_type": "code",
   "execution_count": null,
   "metadata": {},
   "outputs": [],
   "source": [
    "sns.countplot(x='total_of_special_requests', data=cuantitativas, palette = 'coolwarm')"
   ]
  },
  {
   "attachments": {},
   "cell_type": "markdown",
   "metadata": {},
   "source": [
    "#### Correlaciones entre variables"
   ]
  },
  {
   "cell_type": "markdown",
   "metadata": {},
   "source": [
    "Calculamos la matriz de correlaciones para ver las correlaciones entre las variables del dataset."
   ]
  },
  {
   "cell_type": "code",
   "execution_count": null,
   "metadata": {},
   "outputs": [],
   "source": [
    "matriz_corr = hotel.corr()\n",
    "matriz_corr"
   ]
  },
  {
   "cell_type": "markdown",
   "metadata": {},
   "source": [
    "Podemos graficar las correlaciones en un heatmap para que sea mas simple de ver"
   ]
  },
  {
   "cell_type": "code",
   "execution_count": null,
   "metadata": {},
   "outputs": [],
   "source": [
    "fig = plt.figure(figsize=(20,15))\n",
    "ax = sns.heatmap(data = matriz_corr, annot = True, annot_kws = {\"size\":12}, cmap='Blues')\n",
    "ax.set_title('Correlacion entre las variables', fontsize=22)\n",
    "ax.set_xticklabels(ax.get_xticklabels(), fontsize=15)\n",
    "ax.set_yticklabels(ax.get_yticklabels(), fontsize=15)\n",
    "cbar = ax.collections[0].colorbar\n",
    "cbar.ax.tick_params(labelsize=15)"
   ]
  },
  {
   "attachments": {},
   "cell_type": "markdown",
   "metadata": {},
   "source": [
    "No hay variables que tengan una correlacion demasiado alta, es decir, muy cercana a 1. Esto es bueno, ya que no hay variables que esten muy correlacionadas entre si.\n",
    "Igualmente veremos mas de cerca aquellas variables que tengan un poco de correlacion. \n",
    "\n",
    "Las correlaciones con el target 'is_canceled' se analizan más adelante."
   ]
  },
  {
   "attachments": {},
   "cell_type": "markdown",
   "metadata": {},
   "source": [
    "Vamos a considerar las correlaciones mayores a 0.3:\n",
    "- `'stays_in_weekend_nights'` y `'stays_in_week_nights'`\n",
    "- `'previous_bookings_not_canceled'` y `'is_repeated_guest'`\n",
    "- `'children'` y `'adr'`"
   ]
  },
  {
   "cell_type": "code",
   "execution_count": null,
   "metadata": {},
   "outputs": [],
   "source": [
    "sns.regplot(x=hotel['stays_in_week_nights'], y=hotel['stays_in_weekend_nights'], line_kws={'color':'red'}).set(xlabel='Noches de semana', ylabel='Noches de fin de semana', title='Noches de semana vs. Noches de fin de semana')\n",
    "plt.show()"
   ]
  },
  {
   "cell_type": "markdown",
   "metadata": {},
   "source": [
    "Vemos que poseen una correlacion positiva como también habíamos visto en la matriz de correlaciones."
   ]
  },
  {
   "cell_type": "code",
   "execution_count": null,
   "metadata": {},
   "outputs": [],
   "source": [
    "sns.regplot(x=hotel['adr'], y= hotel['children'], line_kws={'color':'red'}).set(xlabel='Tarifas', ylabel='Cantidad de Niños', title= 'Cantidad de niños vs Tarifas')\n",
    "plt.show()"
   ]
  },
  {
   "cell_type": "markdown",
   "metadata": {},
   "source": [
    "También poseen una correlacion positiva."
   ]
  },
  {
   "cell_type": "code",
   "execution_count": null,
   "metadata": {},
   "outputs": [],
   "source": [
    "sns.barplot(x=hotel['is_repeated_guest'], y=hotel['previous_bookings_not_canceled'],data=hotel, palette ='Blues').set(xlabel='Es cliente repetido', ylabel='Reservas no canceladas previamente', title= 'Reservas no canceladas previamente vs. Es cliente repetido') \n",
    "plt.show()"
   ]
  },
  {
   "cell_type": "markdown",
   "metadata": {},
   "source": [
    "También podemos ver que hay una correlacion entre estas dos variables ya que las barras tienen una diferencia de altura significativa."
   ]
  },
  {
   "attachments": {},
   "cell_type": "markdown",
   "metadata": {},
   "source": [
    "#### Relación de variables con el target"
   ]
  },
  {
   "cell_type": "code",
   "execution_count": null,
   "metadata": {},
   "outputs": [],
   "source": [
    "plt.title(\"Porcentaje de reservas por estado de la reserva\", fontsize = 20, pad = 10)\n",
    "sns.barplot(x=hotel['is_canceled'].unique(), y=hotel['is_canceled'].value_counts(normalize=True), palette='Blues')\n",
    "plt.xlabel(\"Estado de la reserva\", fontsize = 12, labelpad = 5)\n",
    "plt.ylabel(\"Porcentaje de reservas\", fontsize = 12, labelpad = 5)\n",
    "plt.xticks(ticks=[0, 1], labels=['No Cancelada', 'Cancelada']);"
   ]
  },
  {
   "cell_type": "markdown",
   "metadata": {},
   "source": [
    "Podemos ver que aproximadamente el 50% de las reservas fueron canceladas."
   ]
  },
  {
   "cell_type": "markdown",
   "metadata": {},
   "source": [
    "Ahora me quedo solo con las correlaciones entre las variables y nuestro target ``'is_canceled'``"
   ]
  },
  {
   "cell_type": "code",
   "execution_count": null,
   "metadata": {},
   "outputs": [],
   "source": [
    "correlacion = hotel.corr()\n",
    "correlacion['is_canceled'].sort_values(ascending=False).reset_index()"
   ]
  },
  {
   "cell_type": "markdown",
   "metadata": {},
   "source": [
    "Las grafico también en un heatmap para verlas con mayor claridad"
   ]
  },
  {
   "cell_type": "code",
   "execution_count": null,
   "metadata": {},
   "outputs": [],
   "source": [
    "fig = plt.figure(figsize=(5,8))\n",
    "ax = sns.heatmap(correlacion[['is_canceled']].sort_values('is_canceled', ascending=False), annot = True, cmap='coolwarm')\n",
    "ax.set_title('Correlacion entre las variables y el target', fontsize=12)"
   ]
  },
  {
   "cell_type": "markdown",
   "metadata": {},
   "source": [
    "- ``'lead_time'`` es la variable que más está correlacionada con ``'is_canceled'``, nuestro target. Tiene sentido que a medida que pasan los días entre que se realiza la reserva y la fecha de llegada, los clientes tienen más tiempo para cancelar la reserva y hay más tiempo para que surja un imprevisto.\n",
    "- La segunda variable con mayor correlacion con nuestro target es ``'total_of_special_requests'``. Esto podría pensarse como que el hotel tiene en cuenta las necesidades de los clientes y esto podría hacer que el cliente sea menos propenso a cancelar su reserva.\n",
    "- ``'required_car_parking_spaces'`` es la tercera variable con mayor correlacion con nuestro target. Parecido a lo que ocurre con ``'total_of_special_requests'``, es lógico que si el cliente se compromente con el hotel (pidiendo un espacio de estacionamiento), será menos probable que cancele su reserva.\n",
    "- El historial de un cliente con el hotel (``'previous_bookings_not_canceled'`` o ``'is_repeated_guest'``) no parece estar muy relacionado con la cancelación de la reserva. Pero, que un cliente ya haya cancelado reservas en el hotel si está más relacionado con la cancelación de la reserva."
   ]
  },
  {
   "cell_type": "code",
   "execution_count": null,
   "metadata": {},
   "outputs": [],
   "source": [
    "plt.figure(figsize=(8,5)) \n",
    "plt.title(\"Tiempo de anticipacion medio vs estado de la reserva\", fontsize = 18, pad = 10)\n",
    "sns.barplot(x=hotel['is_canceled'], y=hotel['lead_time'], palette='coolwarm')\n",
    "plt.xlabel(\"Estado de la reserva\", fontsize = 12)\n",
    "plt.ylabel(\"Tiempo de anticipacion (días)\", fontsize = 12)\n",
    "plt.xticks(ticks=[0, 1], labels=['No cancelada', 'Cancelada']);"
   ]
  },
  {
   "cell_type": "markdown",
   "metadata": {},
   "source": [
    "Las reservas canceladas tienen un tiempo de anticipacion medio más largo."
   ]
  },
  {
   "cell_type": "code",
   "execution_count": null,
   "metadata": {},
   "outputs": [],
   "source": [
    "plt.figure(figsize=(8,5)) \n",
    "plt.title(\"Cantidad media de solicitudes especiales vs estado de la reserva\", fontsize = 18, pad = 10)\n",
    "sns.barplot(x=hotel['is_canceled'], y=hotel['total_of_special_requests'], palette='coolwarm')\n",
    "plt.xlabel(\"Estado de la reserva\", fontsize = 12)\n",
    "plt.ylabel(\"Solicitudes especiales\", fontsize = 12)\n",
    "plt.xticks(ticks=[0, 1], labels=['No cancelada', 'Cancelada']);"
   ]
  },
  {
   "cell_type": "markdown",
   "metadata": {},
   "source": [
    "Los clientes que cancelan sus reservas hacen menos peticiones especiales."
   ]
  },
  {
   "cell_type": "code",
   "execution_count": null,
   "metadata": {},
   "outputs": [],
   "source": [
    "plt.figure(figsize=(8,5)) \n",
    "plt.title(\"Cantidad media de lugares de estacionamiento solicitados vs estado de la reserva\", fontsize = 18, pad = 10)\n",
    "sns.barplot(x=hotel['is_canceled'], y=hotel['required_car_parking_spaces'], palette='coolwarm')\n",
    "plt.xlabel(\"Estado de la reserva\", fontsize = 12)\n",
    "plt.ylabel(\"Lugares de estacionamiento solicitados\", fontsize = 12)\n",
    "plt.xticks(ticks=[0, 1], labels=['No cancelada', 'Cancelada']);"
   ]
  },
  {
   "cell_type": "markdown",
   "metadata": {},
   "source": [
    "Los clientes que no cancelan sus reservas tienden a solicitar más lugares de estacionamiento."
   ]
  },
  {
   "cell_type": "code",
   "execution_count": null,
   "metadata": {},
   "outputs": [],
   "source": [
    "plt.figure(figsize=(10,5)) \n",
    "plt.title(\"Porcentaje de reservas canceladas por tipo de habitacion reservada\", fontsize = 20, pad = 10)\n",
    "sns.barplot(x=hotel['reserved_room_type'], y=hotel['is_canceled'], palette='coolwarm')\n",
    "plt.xlabel(\"Tipo de habitación\", fontsize = 12)\n",
    "plt.ylabel(\"Porcentaje de reservas canceladas\", fontsize = 12);"
   ]
  },
  {
   "cell_type": "markdown",
   "metadata": {},
   "source": [
    "Los clientes que reservaron los tipos de habitación P y L tienen el mayor porcentaje de cancelación de reservas, con un 100% de reservas canceladas."
   ]
  },
  {
   "cell_type": "code",
   "execution_count": null,
   "metadata": {},
   "outputs": [],
   "source": [
    "plt.figure(figsize=(10,5)) \n",
    "plt.title(\"Porcentaje de reservas canceladas por tipo de depósito\", fontsize = 20, pad = 10)\n",
    "sns.barplot(x=hotel['deposit_type'], y=hotel['is_canceled'], palette='coolwarm')\n",
    "plt.xlabel(\"Tipo de depósito\", fontsize = 12)\n",
    "plt.ylabel(\"Porcentaje de reservas canceladas\", fontsize = 12);"
   ]
  },
  {
   "cell_type": "markdown",
   "metadata": {},
   "source": [
    "Los clientes que pagan un depósito no reembolsable tienen un porcentaje mucho mayor de reservas canceladas."
   ]
  },
  {
   "cell_type": "code",
   "execution_count": null,
   "metadata": {},
   "outputs": [],
   "source": [
    "sns.countplot(x='customer_type', data=hotel, hue='is_canceled', palette='coolwarm')"
   ]
  },
  {
   "cell_type": "code",
   "execution_count": null,
   "metadata": {},
   "outputs": [],
   "source": [
    "pd.crosstab(hotel['customer_type'], hotel['is_canceled']).apply(lambda x: x/x.sum(), axis=1).sort_values(by=1, ascending=False)"
   ]
  },
  {
   "cell_type": "markdown",
   "metadata": {},
   "source": [
    "Podemos ver que el tipo de cliente que más cancela sus reservas es el cliente Transient-Party, seguido por el Transient y el Contract. El Group es el que menos cancela sus reservas."
   ]
  },
  {
   "cell_type": "code",
   "execution_count": null,
   "metadata": {},
   "outputs": [],
   "source": [
    "sns.countplot(x='is_repeated_guest', data=hotel, hue='is_canceled', palette='coolwarm')"
   ]
  },
  {
   "cell_type": "code",
   "execution_count": null,
   "metadata": {},
   "outputs": [],
   "source": [
    "pd.crosstab(hotel['is_repeated_guest'], hotel['is_canceled']).apply(lambda x: x/x.sum(), axis=1).sort_values(by=1, ascending=False)"
   ]
  },
  {
   "cell_type": "markdown",
   "metadata": {},
   "source": [
    "Podemos ver que si un cliente ya ha reservado en el hotel, es menos probable que cancele su reserva y si no ha reservado en el hotel, es más probable que cancele su reserva."
   ]
  },
  {
   "attachments": {},
   "cell_type": "markdown",
   "metadata": {},
   "source": [
    "### **Visualización de los datos**"
   ]
  },
  {
   "attachments": {},
   "cell_type": "markdown",
   "metadata": {},
   "source": [
    "En esta sección exploraremos los datos visualmente, para encontrar relaciones entre variables."
   ]
  },
  {
   "attachments": {},
   "cell_type": "markdown",
   "metadata": {},
   "source": [
    "### **Datos faltantes**"
   ]
  },
  {
   "attachments": {},
   "cell_type": "markdown",
   "metadata": {},
   "source": [
    "Como los modelos de ML no pueden trabajar con datos faltantes, debemos tratarlos de alguna forma."
   ]
  },
  {
   "attachments": {},
   "cell_type": "markdown",
   "metadata": {},
   "source": [
    "#### Análisis"
   ]
  },
  {
   "attachments": {},
   "cell_type": "markdown",
   "metadata": {},
   "source": [
    "Obtengo una tabla con la cantidad y el porcentaje de nulos por columna:"
   ]
  },
  {
   "cell_type": "code",
   "execution_count": null,
   "metadata": {},
   "outputs": [],
   "source": [
    "\n",
    "# Obtengo una serie con la suma de nulos por columna.\n",
    "cols_null = hotel.isna().sum()\n",
    "\n",
    "# Filtro las columnas para quedarme solo con las que tienen nulos.\n",
    "# Luego, reseteo el índice y renombro las columnas.\n",
    "cols_null = cols_null[cols_null > 0].reset_index().rename(\n",
    "    columns={'index': 'Columna', 0: 'Cant. nulos'})\n",
    "\n",
    "# Ordeno las columnas por cantidad de nulos.\n",
    "cols_null = cols_null.sort_values(\n",
    "    by='Cant. nulos', ascending=False)\n",
    "\n",
    "# Agrego una columna con el porcentaje de nulos respecto a la cantidad total de datos.\n",
    "cols_null['% nulos'] = (cols_null['Cant. nulos'] /\n",
    "                        hotel.shape[0] * 100).round(3)\n",
    "\n",
    "cols_null"
   ]
  },
  {
   "attachments": {},
   "cell_type": "markdown",
   "metadata": {},
   "source": [
    "Entonces, hay 4 columnas que tienen valores nulos:\n",
    "- ``children`` tiene 4 valores nulos (0,01%)\n",
    "- ``country`` tiene 221 valores nulos (0,36%)\n",
    "- ``agent`` tiene 7890 valores nulos (12,7%)\n",
    "- ``company`` tiene 58761 valores nulos (94,9%)"
   ]
  },
  {
   "attachments": {},
   "cell_type": "markdown",
   "metadata": {},
   "source": [
    "Grafico los porcentajes de nulos por columna:"
   ]
  },
  {
   "cell_type": "code",
   "execution_count": null,
   "metadata": {},
   "outputs": [],
   "source": [
    "sns.barplot(x='Columna', y='% nulos',\n",
    "            data=cols_null.loc[cols_null['Columna'] == 'company'])\n"
   ]
  },
  {
   "cell_type": "code",
   "execution_count": null,
   "metadata": {},
   "outputs": [],
   "source": [
    "sns.barplot(x='Columna', y='% nulos',\n",
    "            data=cols_null.loc[cols_null['Columna'] == 'agent'])\n"
   ]
  },
  {
   "cell_type": "code",
   "execution_count": null,
   "metadata": {},
   "outputs": [],
   "source": [
    "sns.barplot(x='Columna', y='% nulos',\n",
    "            data=cols_null.loc[cols_null['Columna'] == 'country'])\n"
   ]
  },
  {
   "cell_type": "code",
   "execution_count": null,
   "metadata": {},
   "outputs": [],
   "source": [
    "sns.barplot(x='Columna', y='% nulos',\n",
    "            data=cols_null.loc[cols_null['Columna'] == 'children'])\n"
   ]
  },
  {
   "attachments": {},
   "cell_type": "markdown",
   "metadata": {},
   "source": [
    "Viendo el dataset, vimos que existen múltiples columnas con cantidad 0 de adultos. Si bien esto no es un dato nulo, ya que es una cantidad posible, consideramos anormal que ningún adulto esté presente en una reserva. Por lo tanto, consideramos estos datos como faltantes o mal cargados. Veamos cuántas reservas hay de este tipo:"
   ]
  },
  {
   "cell_type": "code",
   "execution_count": null,
   "metadata": {},
   "outputs": [],
   "source": [
    "hotel.loc[hotel['adults'] == 0].shape[0]"
   ]
  },
  {
   "attachments": {},
   "cell_type": "markdown",
   "metadata": {},
   "source": [
    "Apenas 197 reservas tienen 0 adultos. Esto representa una cantidad ínfima sobre el total del dataset:"
   ]
  },
  {
   "cell_type": "code",
   "execution_count": null,
   "metadata": {},
   "outputs": [],
   "source": [
    "hotel.loc[hotel['adults'] == 0].shape[0] / hotel.shape[0] * 100"
   ]
  },
  {
   "attachments": {},
   "cell_type": "markdown",
   "metadata": {},
   "source": [
    "Esto representa un 0,32% del total de las reservas, por lo que eliminamos estos registros sin temor a afectar el modelo."
   ]
  },
  {
   "cell_type": "code",
   "execution_count": null,
   "metadata": {},
   "outputs": [],
   "source": [
    "hotel = hotel.loc[hotel['adults'] > 0]"
   ]
  },
  {
   "attachments": {},
   "cell_type": "markdown",
   "metadata": {},
   "source": [
    "#### Revisión y decisión"
   ]
  },
  {
   "attachments": {},
   "cell_type": "markdown",
   "metadata": {},
   "source": [
    "##### Nulos en ``children``"
   ]
  },
  {
   "attachments": {},
   "cell_type": "markdown",
   "metadata": {},
   "source": [
    "Según el paper, no deberían existir valores faltantes. Es raro entonces encontrar que 4 observaciones de la columna ``children`` son raros. Por el ínfimo porcentaje que estos representan, podemos simplemente eliminar las filas que tienen este dato faltante, sin mayores consecuencias."
   ]
  },
  {
   "cell_type": "code",
   "execution_count": null,
   "metadata": {},
   "outputs": [],
   "source": [
    "hotel.dropna(subset=['children'], inplace=True)"
   ]
  },
  {
   "cell_type": "code",
   "execution_count": null,
   "metadata": {},
   "outputs": [],
   "source": [
    "print(\"Cantidad de registros\", hotel.shape[0])"
   ]
  },
  {
   "attachments": {},
   "cell_type": "markdown",
   "metadata": {},
   "source": [
    "Confirmamos que se eliminaron 4 registros del dataset."
   ]
  },
  {
   "attachments": {},
   "cell_type": "markdown",
   "metadata": {},
   "source": [
    "##### Nulos en ``country``"
   ]
  },
  {
   "attachments": {},
   "cell_type": "markdown",
   "metadata": {},
   "source": [
    "El paper también da información al respecto de los valores faltantes en la columna ``country``:\n",
    "> It is also common for hotels not to know the correct nationality of the customer until the moment of check-in.\n",
    "\n",
    "Nos aclaran que es común que los hoteles no conozcan la nacionalidad del cliente hasta el momento del check-in. Por ello, podemos asumir que los valores faltantes en esta columna son válidos, y se pueden imputar por un valor que represente este desconocimiento.\n",
    "\n",
    "Esto resuelve el problema a fines del análisis de los datos, pero no para el entrenamiento del modelo de ML. Una decisión deberá tomarse respecto a estos datos para evitar un sesgo incorrecto en el entrenamiento del modelo, considerando que nacionalidades conocidas recién al momento del check-in bien pudieron haber sido originalmente registradas como desconocidas.\n",
    "\n",
    "Este hecho puede influenciar la predicción del modelo de forma negativa, insertando un sesgo incorrecto en el entrenamiento del modelo."
   ]
  },
  {
   "attachments": {},
   "cell_type": "markdown",
   "metadata": {},
   "source": [
    "Reemplazamos los valores nulos de la columna ``country`` por el valor 'Desconocido'."
   ]
  },
  {
   "cell_type": "code",
   "execution_count": null,
   "metadata": {},
   "outputs": [],
   "source": [
    "# Replace null values in 'country' column with 'Unknown'\n",
    "hotel['country'].fillna('Desconocido', inplace=True)"
   ]
  },
  {
   "attachments": {},
   "cell_type": "markdown",
   "metadata": {},
   "source": [
    "##### Nulos en ``company`` y ``agent``"
   ]
  },
  {
   "attachments": {},
   "cell_type": "markdown",
   "metadata": {},
   "source": [
    "En la columna ``company``, el 95% de los registros tienen ``null`` como valor. En principio, nos inclinamos a pensar que este dato casi no fue registrado, o falta para la mayoría de los registros. Pero revisando el paper, nos encontramos con la siguiente aclaración:\n",
    "\n",
    "> The PMS assured no missing data exists in its database tables. However, in some categorical\n",
    "variables like Agent or Company, “NULL” is presented as one of the categories. This should not be\n",
    "considered a missing value, but rather as “not applicable”. For example, if a booking “Agent” is defined as “NULL” it means that the booking did not came from a travel agent.\n",
    "\n",
    "En criollo, nos aclaran que ``null`` en esta columna no debería interpretarse como dato faltante, sino como \"no aplica\". Para las columnas ``company`` y ``agent``, un valor ``null`` debería entenderse como \"no reservó a través de compañía/agente\".\n",
    "\n",
    "Ignorar estos datos puede causar que perdamos información que podría resultar útil para entrenar el modelo. ¿Es posible que exista una correlación entre la compañía usada y la cancelación? ¿Entre el agente y cancelación? ¿Y si en realidad lo que importa es el hecho de reservar por agente, compañía o personalmente; y no específicamente a través de cuál?\n",
    "\n",
    "Es necesario responder estas preguntas para poder tratar correctamente con estos datos. Se nos ocurren dos alternativas:\n",
    "- Reconvertir las columnas a un dato booleano, que indique si se usó o no agente/compañía.\n",
    "- Interpretar a los ``null`` como un agente o compañía más.\n",
    "\n",
    "La primera opción sería la mejor, se acota considerablemente el rango de valores posibles, pero no se pierde toda la información. Si la cantidad de agentes/compañías repetidos es bajísimo (casi todas las reservas se hacen con agentes/compañías distintas), casi no se podría inferir información. Que una vez un agente haya cancelado, puede sentar un mal precedente, pero de ningún modo se deduce que otra reserva realizada por otro agente, también se cancelará. También, si resulta que todos los agentes/compañías cancelan con más o menos la misma frecuencia; sería un indicador de que el dato específico de quién/cuál agente/compañía reserva es indistinto. Estas opciones indican que se puede simplificar a la primera opción sin pérdida de información.\n",
    "\n",
    "Si, por el contrario, hay algunos agentes/compañías presentes en muchos registros, y se puede deducir algo de ello, quizás no sea conveniente reconvertir las columnas a booleanos. Si un agente reservó 1000 veces, y canceló 999... ya un sustento más fuerte para creer que volverá a cancelar."
   ]
  },
  {
   "attachments": {},
   "cell_type": "markdown",
   "metadata": {},
   "source": [
    "Este análisis corresponde a la etapa de ingeniería de *features*. Por ahora, y con el propósito de avanzar con la limpieza de los datos, reemplazaremos los valores por 'Sin agente' y 'Sin compañía', según corresponda."
   ]
  },
  {
   "cell_type": "code",
   "execution_count": null,
   "metadata": {},
   "outputs": [],
   "source": [
    "hotel['agent'].fillna('Sin agente', inplace=True)"
   ]
  },
  {
   "cell_type": "code",
   "execution_count": null,
   "metadata": {},
   "outputs": [],
   "source": [
    "# Replace null values in 'company' column with 'Sin compania'\n",
    "hotel['company'].fillna('Sin compania', inplace=True)"
   ]
  },
  {
   "attachments": {},
   "cell_type": "markdown",
   "metadata": {},
   "source": [
    "Finalmente, verificamos que ya no existan valores nulos en el dataset."
   ]
  },
  {
   "cell_type": "code",
   "execution_count": null,
   "metadata": {},
   "outputs": [],
   "source": [
    "hotel.isna().sum().sum()"
   ]
  },
  {
   "attachments": {},
   "cell_type": "markdown",
   "metadata": {},
   "source": [
    "Nuestro dataset parcial ``hotel`` está libre de valores faltantes o nulos."
   ]
  },
  {
   "attachments": {},
   "cell_type": "markdown",
   "metadata": {},
   "source": [
    "#### Comparaciones"
   ]
  },
  {
   "attachments": {},
   "cell_type": "markdown",
   "metadata": {},
   "source": [
    "Una vez eliminados o tratados valores nulos, es necesario volver a examinar la distribución de los datos, para verificar que no hayan sido alterados de forma significativa."
   ]
  },
  {
   "attachments": {},
   "cell_type": "markdown",
   "metadata": {},
   "source": [
    "Las columnas modificadas fueron ``country``, ``children``, ``agent`` y ``company``. Veamos cómo se distribuyen ahora."
   ]
  },
  {
   "attachments": {},
   "cell_type": "markdown",
   "metadata": {},
   "source": [
    "Por la gran cantidad de países únicos en el dataset, no es posible graficarlos todos. Por ello, graficamos los 15 países con mayor cantidad de registros."
   ]
  },
  {
   "cell_type": "code",
   "execution_count": null,
   "metadata": {},
   "outputs": [],
   "source": [
    "sns.countplot(x='country', data=hotel, order=hotel['country'].value_counts().iloc[:15].index)"
   ]
  },
  {
   "attachments": {},
   "cell_type": "markdown",
   "metadata": {},
   "source": [
    "No hay cambios apreciables en la distribución de los datos, porque los valores faltantes eran pocos, y fueron corregidos sin alterar los demás registros."
   ]
  },
  {
   "attachments": {},
   "cell_type": "markdown",
   "metadata": {},
   "source": [
    "Ahora la distribución de la columna ``children``:"
   ]
  },
  {
   "cell_type": "code",
   "execution_count": null,
   "metadata": {},
   "outputs": [],
   "source": [
    "sns.countplot(x='children', data=hotel)"
   ]
  },
  {
   "attachments": {},
   "cell_type": "markdown",
   "metadata": {},
   "source": [
    "La distribución no cambiar. La cantidad de registros eliminados (4) en irrelevante."
   ]
  },
  {
   "attachments": {},
   "cell_type": "markdown",
   "metadata": {},
   "source": [
    "Respecto a la columna ``company``, la distribución es la siguiente:"
   ]
  },
  {
   "cell_type": "code",
   "execution_count": null,
   "metadata": {},
   "outputs": [],
   "source": [
    "sns.countplot(x='company', data=hotel, order=hotel['company'].value_counts().iloc[:15].index)\n",
    "\n",
    "plt.xticks(rotation=90)\n",
    "plt.show()"
   ]
  },
  {
   "attachments": {},
   "cell_type": "markdown",
   "metadata": {},
   "source": [
    "En este caso la distribución se altera totalmente. Al tener en cuenta los valores faltantes, el valor \"Sin compañía\" (que eran los nulos), pasó a estar muy representada."
   ]
  },
  {
   "attachments": {},
   "cell_type": "markdown",
   "metadata": {},
   "source": [
    "Respecto a la columna ``agent``, la distribución es la siguiente:"
   ]
  },
  {
   "cell_type": "code",
   "execution_count": null,
   "metadata": {},
   "outputs": [],
   "source": [
    "sns.countplot(x='agent', data=hotel, order=hotel['agent'].value_counts().iloc[:15].index)\n",
    "\n",
    "plt.xticks(rotation=90)\n",
    "plt.show()"
   ]
  },
  {
   "attachments": {},
   "cell_type": "markdown",
   "metadata": {},
   "source": [
    "En este caso también se altera la distribución, vemos que \"Sin agente\" pasó al segundo puesto, pero el agente \"índice 9\" sigue en el primer lugar, y son comparables en el orden de magnitud."
   ]
  },
  {
   "attachments": {},
   "cell_type": "markdown",
   "metadata": {},
   "source": [
    "Concluimos que los cambios realizados no alteraron la distribución de los datos de forma significativa, pero pusieron un evidencia datos que se encontraban \"ocultos\" por ser nulos."
   ]
  },
  {
   "cell_type": "markdown",
   "metadata": {},
   "source": [
    "### **Data cleaning**"
   ]
  },
  {
   "cell_type": "markdown",
   "metadata": {},
   "source": [
    "#### Tipos de datos"
   ]
  },
  {
   "cell_type": "markdown",
   "metadata": {},
   "source": [
    "Verificamos los tipos de datos de las variables del dataset."
   ]
  },
  {
   "cell_type": "code",
   "execution_count": null,
   "metadata": {},
   "outputs": [],
   "source": [
    "hotel.dtypes"
   ]
  },
  {
   "cell_type": "markdown",
   "metadata": {},
   "source": [
    "Vemos que hay variables que tienen un tipo de dato inconsistente con su contenido.\n",
    "- ``children`` debería ser de tipo numérico, no tiene sentido que sea de tipo float.\n",
    "- ``agent`` y ``company`` deberían ser de tipo numérico, ya que son categóricas, representan a distintos agentes y vendedores.\n",
    "\n",
    "\n",
    "Realizamos la conversión de tipos de datos."
   ]
  },
  {
   "cell_type": "code",
   "execution_count": null,
   "metadata": {},
   "outputs": [],
   "source": [
    "hotel['children'] = hotel['children'].astype('int')\n",
    "\n",
    "hotel['agent'] = hotel['agent'].astype('int')\n",
    "\n",
    "hotel['company'] = hotel['company'].astype('int')"
   ]
  },
  {
   "attachments": {},
   "cell_type": "markdown",
   "metadata": {},
   "source": [
    "Revisamos nuevamente los tipos de datos:"
   ]
  },
  {
   "cell_type": "code",
   "execution_count": null,
   "metadata": {},
   "outputs": [],
   "source": [
    "hotel.dtypes"
   ]
  },
  {
   "cell_type": "markdown",
   "metadata": {},
   "source": [
    "#### Ingeniería de features"
   ]
  },
  {
   "cell_type": "markdown",
   "metadata": {},
   "source": [
    "En primer lugar, observamos que tenemos tres columnas distintas que representan el año, mes y día de la fecha de llegada de los clientes. Podemos unificarlas en una sola columna, que represente la fecha de llegada."
   ]
  },
  {
   "cell_type": "markdown",
   "metadata": {},
   "source": [
    "Combinamos las columnas `'arrival_date_year'`, `'arrival_date_month'`, `'arrival_date_day_of_month'` en una sola columna `'arrival_date'` de tipo datetime, y dropeamos las columnas anteriores."
   ]
  },
  {
   "cell_type": "code",
   "execution_count": null,
   "metadata": {},
   "outputs": [],
   "source": [
    "hotel['arrival_date'] = pd.to_datetime(hotel['arrival_date_year'].astype(str) + '-' + hotel['arrival_date_month'] + '-' + hotel['arrival_date_day_of_month'].astype(str))\n",
    "\n",
    "hotel.drop(columns=['arrival_date_year', 'arrival_date_month', 'arrival_date_day_of_month'], inplace=True)"
   ]
  },
  {
   "cell_type": "markdown",
   "metadata": {},
   "source": [
    "Verificamos que se hayan convertido correctamente:"
   ]
  },
  {
   "cell_type": "code",
   "execution_count": null,
   "metadata": {},
   "outputs": [],
   "source": [
    "hotel.arrival_date"
   ]
  },
  {
   "attachments": {},
   "cell_type": "markdown",
   "metadata": {},
   "source": [
    "### **Valores atípicos**"
   ]
  },
  {
   "attachments": {},
   "cell_type": "markdown",
   "metadata": {},
   "source": [
    "#### Análisis univariado"
   ]
  },
  {
   "cell_type": "code",
   "execution_count": null,
   "metadata": {},
   "outputs": [],
   "source": [
    "hotel_cpy = hotel.copy()"
   ]
  },
  {
   "cell_type": "markdown",
   "metadata": {},
   "source": [
    "##### Outliers univariados en ``'adr'``"
   ]
  },
  {
   "attachments": {},
   "cell_type": "markdown",
   "metadata": {},
   "source": [
    "Vamos a intentar identificar outliers univariados mediante el análisis de boxplots."
   ]
  },
  {
   "cell_type": "code",
   "execution_count": null,
   "metadata": {},
   "outputs": [],
   "source": [
    "sns.boxplot(y=hotel.adr)"
   ]
  },
  {
   "cell_type": "code",
   "execution_count": null,
   "metadata": {},
   "outputs": [],
   "source": [
    "hotel.adr.agg(['min','max']).reset_index()"
   ]
  },
  {
   "attachments": {},
   "cell_type": "markdown",
   "metadata": {},
   "source": [
    "Podemos ver que la variable ``'adr'`` parece tener outliers. Además, vemos que su mínimo es -6.38 y su máximo es 510."
   ]
  },
  {
   "cell_type": "code",
   "execution_count": null,
   "metadata": {},
   "outputs": [],
   "source": [
    "Q1_altura = np.quantile(hotel.adr,0.25)\n",
    "Q3_altura = np.quantile(hotel.adr,0.75)\n",
    "\n",
    "IQR_altura = Q3_altura-Q1_altura\n",
    "\n",
    "out_inf = Q1_altura-1.5*IQR_altura\n",
    "out_sup = Q3_altura+1.5*IQR_altura\n",
    "print('Valores por debajo de', out_inf, 'son outliers moderados inferiores.')\n",
    "print('Valores por arriba de', out_sup, 'son outlier moderados superiores.')"
   ]
  },
  {
   "cell_type": "code",
   "execution_count": null,
   "metadata": {},
   "outputs": [],
   "source": [
    "out_inf = Q1_altura-3*IQR_altura\n",
    "out_sup = Q3_altura+3*IQR_altura\n",
    "print('Valores por debajo de', out_inf, 'son outliers severos inferiores.')\n",
    "print('Valores por arriba de', out_sup, 'son outlier severos superiores.')"
   ]
  },
  {
   "attachments": {},
   "cell_type": "markdown",
   "metadata": {},
   "source": [
    "Considerando estos valores y los max y min de ``'adr'``, podemos ver que tiene outliers superiores tanto moderados como severos, pero no se detectan outliers inferiores."
   ]
  },
  {
   "cell_type": "code",
   "execution_count": null,
   "metadata": {},
   "outputs": [],
   "source": [
    "outliers = hotel[hotel['adr']>294].sort_values(by='adr', ascending=False)\n",
    "outliers"
   ]
  },
  {
   "attachments": {},
   "cell_type": "markdown",
   "metadata": {},
   "source": [
    "Ahora probemos calculando el z-score"
   ]
  },
  {
   "cell_type": "code",
   "execution_count": null,
   "metadata": {},
   "outputs": [],
   "source": [
    "media_adr =  np.mean(hotel_cpy.adr)\n",
    "std_adr = np.std(hotel_cpy.adr)\n",
    "hotel_cpy['z_adr'] = (hotel_cpy.adr - media_adr)/std_adr"
   ]
  },
  {
   "cell_type": "code",
   "execution_count": null,
   "metadata": {},
   "outputs": [],
   "source": [
    "hotel_cpy[hotel_cpy['z_adr']>3].sort_values(by='z_adr', ascending=False)"
   ]
  },
  {
   "cell_type": "code",
   "execution_count": null,
   "metadata": {},
   "outputs": [],
   "source": [
    "hotel_cpy[hotel_cpy['z_adr']<-3]"
   ]
  },
  {
   "cell_type": "code",
   "execution_count": null,
   "metadata": {},
   "outputs": [],
   "source": [
    "sns.histplot(hotel_cpy.z_adr, bins=10).set(title='Distribución de z-score de la variable \"adr\"', xlabel='Z-Score adr')\n",
    "\n",
    "plt.xticks(np.arange(-3, 10, 1))\n",
    "plt.show()"
   ]
  },
  {
   "cell_type": "markdown",
   "metadata": {},
   "source": [
    "Concluimos en que se detectan outliers superiores, pero no inferiores."
   ]
  },
  {
   "cell_type": "markdown",
   "metadata": {},
   "source": [
    "Teniendo en cuenta el análisis del boxplot y el cálculo del z-score, voy a proceder a eliminar los outliers superiores de ``'adr'`` que posean un z-score mayor a 3."
   ]
  },
  {
   "cell_type": "code",
   "execution_count": null,
   "metadata": {},
   "outputs": [],
   "source": [
    "hotel.shape"
   ]
  },
  {
   "cell_type": "code",
   "execution_count": null,
   "metadata": {},
   "outputs": [],
   "source": [
    "# eliminar de hotel las filas que tengan z_adr > 3\n",
    "hotel = hotel[hotel_cpy['z_adr']<=3]\n",
    "hotel.shape"
   ]
  },
  {
   "cell_type": "code",
   "execution_count": null,
   "metadata": {},
   "outputs": [],
   "source": [
    "hotel[hotel['adr'] <= 0].sort_values(by='adr', ascending=True)"
   ]
  },
  {
   "cell_type": "markdown",
   "metadata": {},
   "source": [
    "A pesar de que no se detectan outliers inferiores en ``'adr'``, vieos que hay columnas que tienen un adr negativo o cero. Estas filas también las voy a eliminar ya que no tiene sentido una tarifa negativa o cero."
   ]
  },
  {
   "cell_type": "code",
   "execution_count": null,
   "metadata": {},
   "outputs": [],
   "source": [
    "hotel.drop(hotel.loc[hotel['adr'] <= 0].index, inplace=True)\n",
    "hotel.shape"
   ]
  },
  {
   "cell_type": "markdown",
   "metadata": {},
   "source": [
    "##### Outliers univariados en ``'children'``"
   ]
  },
  {
   "cell_type": "code",
   "execution_count": 18,
   "metadata": {},
   "outputs": [
    {
     "data": {
      "text/plain": [
       "<Axes: ylabel='children'>"
      ]
     },
     "execution_count": 18,
     "metadata": {},
     "output_type": "execute_result"
    },
    {
     "data": {
      "image/png": "[encoded data removed]",
      "text/plain": [
       "<Figure size 640x480 with 1 Axes>"
      ]
     },
     "metadata": {},
     "output_type": "display_data"
    }
   ],
   "source": [
    "sns.boxplot(y=hotel.children)"
   ]
  },
  {
   "cell_type": "code",
   "execution_count": 19,
   "metadata": {},
   "outputs": [
    {
     "data": {
      "text/html": [
       "<div>\n",
       "<style scoped>\n",
       "    .dataframe tbody tr th:only-of-type {\n",
       "        vertical-align: middle;\n",
       "    }\n",
       "\n",
       "    .dataframe tbody tr th {\n",
       "        vertical-align: top;\n",
       "    }\n",
       "\n",
       "    .dataframe thead th {\n",
       "        text-align: right;\n",
       "    }\n",
       "</style>\n",
       "<table border=\"1\" class=\"dataframe\">\n",
       "  <thead>\n",
       "    <tr style=\"text-align: right;\">\n",
       "      <th></th>\n",
       "      <th>index</th>\n",
       "      <th>children</th>\n",
       "    </tr>\n",
       "  </thead>\n",
       "  <tbody>\n",
       "    <tr>\n",
       "      <th>0</th>\n",
       "      <td>min</td>\n",
       "      <td>0.0</td>\n",
       "    </tr>\n",
       "    <tr>\n",
       "      <th>1</th>\n",
       "      <td>max</td>\n",
       "      <td>10.0</td>\n",
       "    </tr>\n",
       "  </tbody>\n",
       "</table>\n",
       "</div>"
      ],
      "text/plain": [
       "  index  children\n",
       "0   min       0.0\n",
       "1   max      10.0"
      ]
     },
     "execution_count": 19,
     "metadata": {},
     "output_type": "execute_result"
    }
   ],
   "source": [
    "hotel.children.agg(['min','max']).reset_index()"
   ]
  },
  {
   "cell_type": "code",
   "execution_count": 23,
   "metadata": {},
   "outputs": [],
   "source": [
    "#z-score\n",
    "media_children =  np.mean(hotel_cpy.children)\n",
    "std_children = np.std(hotel_cpy.children)\n",
    "hotel_cpy['z_children'] = (hotel_cpy.children - media_children)/std_children"
   ]
  },
  {
   "cell_type": "code",
   "execution_count": 24,
   "metadata": {},
   "outputs": [
    {
     "data": {
      "text/html": [
       "<div>\n",
       "<style scoped>\n",
       "    .dataframe tbody tr th:only-of-type {\n",
       "        vertical-align: middle;\n",
       "    }\n",
       "\n",
       "    .dataframe tbody tr th {\n",
       "        vertical-align: top;\n",
       "    }\n",
       "\n",
       "    .dataframe thead th {\n",
       "        text-align: right;\n",
       "    }\n",
       "</style>\n",
       "<table border=\"1\" class=\"dataframe\">\n",
       "  <thead>\n",
       "    <tr style=\"text-align: right;\">\n",
       "      <th></th>\n",
       "      <th>hotel</th>\n",
       "      <th>lead_time</th>\n",
       "      <th>arrival_date_year</th>\n",
       "      <th>arrival_date_month</th>\n",
       "      <th>arrival_date_week_number</th>\n",
       "      <th>arrival_date_day_of_month</th>\n",
       "      <th>stays_in_weekend_nights</th>\n",
       "      <th>stays_in_week_nights</th>\n",
       "      <th>adults</th>\n",
       "      <th>children</th>\n",
       "      <th>...</th>\n",
       "      <th>company</th>\n",
       "      <th>days_in_waiting_list</th>\n",
       "      <th>customer_type</th>\n",
       "      <th>adr</th>\n",
       "      <th>required_car_parking_spaces</th>\n",
       "      <th>total_of_special_requests</th>\n",
       "      <th>id</th>\n",
       "      <th>is_canceled</th>\n",
       "      <th>z_adr</th>\n",
       "      <th>z_children</th>\n",
       "    </tr>\n",
       "  </thead>\n",
       "  <tbody>\n",
       "    <tr>\n",
       "      <th>49181</th>\n",
       "      <td>Resort Hotel</td>\n",
       "      <td>55</td>\n",
       "      <td>2015</td>\n",
       "      <td>July</td>\n",
       "      <td>29</td>\n",
       "      <td>12</td>\n",
       "      <td>4</td>\n",
       "      <td>10</td>\n",
       "      <td>2</td>\n",
       "      <td>10.0</td>\n",
       "      <td>...</td>\n",
       "      <td>NaN</td>\n",
       "      <td>0</td>\n",
       "      <td>Contract</td>\n",
       "      <td>133.16</td>\n",
       "      <td>0</td>\n",
       "      <td>1</td>\n",
       "      <td>44093355-c1c8-41eb-bcb4-40dc494fa1a9</td>\n",
       "      <td>1</td>\n",
       "      <td>0.642338</td>\n",
       "      <td>25.104976</td>\n",
       "    </tr>\n",
       "    <tr>\n",
       "      <th>61903</th>\n",
       "      <td>City Hotel</td>\n",
       "      <td>140</td>\n",
       "      <td>2017</td>\n",
       "      <td>June</td>\n",
       "      <td>26</td>\n",
       "      <td>28</td>\n",
       "      <td>0</td>\n",
       "      <td>3</td>\n",
       "      <td>2</td>\n",
       "      <td>3.0</td>\n",
       "      <td>...</td>\n",
       "      <td>NaN</td>\n",
       "      <td>0</td>\n",
       "      <td>Transient</td>\n",
       "      <td>220.00</td>\n",
       "      <td>0</td>\n",
       "      <td>0</td>\n",
       "      <td>a24e074b-8bbc-47ab-9154-70592f1fac09</td>\n",
       "      <td>0</td>\n",
       "      <td>2.463753</td>\n",
       "      <td>7.351722</td>\n",
       "    </tr>\n",
       "    <tr>\n",
       "      <th>56197</th>\n",
       "      <td>City Hotel</td>\n",
       "      <td>114</td>\n",
       "      <td>2016</td>\n",
       "      <td>August</td>\n",
       "      <td>32</td>\n",
       "      <td>2</td>\n",
       "      <td>0</td>\n",
       "      <td>2</td>\n",
       "      <td>2</td>\n",
       "      <td>3.0</td>\n",
       "      <td>...</td>\n",
       "      <td>NaN</td>\n",
       "      <td>0</td>\n",
       "      <td>Transient</td>\n",
       "      <td>266.30</td>\n",
       "      <td>0</td>\n",
       "      <td>0</td>\n",
       "      <td>2f0e1617-305e-4be9-b643-e2e06847afca</td>\n",
       "      <td>1</td>\n",
       "      <td>3.434867</td>\n",
       "      <td>7.351722</td>\n",
       "    </tr>\n",
       "    <tr>\n",
       "      <th>29295</th>\n",
       "      <td>City Hotel</td>\n",
       "      <td>109</td>\n",
       "      <td>2017</td>\n",
       "      <td>June</td>\n",
       "      <td>26</td>\n",
       "      <td>25</td>\n",
       "      <td>2</td>\n",
       "      <td>1</td>\n",
       "      <td>2</td>\n",
       "      <td>3.0</td>\n",
       "      <td>...</td>\n",
       "      <td>NaN</td>\n",
       "      <td>0</td>\n",
       "      <td>Transient</td>\n",
       "      <td>255.00</td>\n",
       "      <td>0</td>\n",
       "      <td>3</td>\n",
       "      <td>f9596bc3-2bb9-4ed3-ae3f-553ab556b0ac</td>\n",
       "      <td>1</td>\n",
       "      <td>3.197857</td>\n",
       "      <td>7.351722</td>\n",
       "    </tr>\n",
       "    <tr>\n",
       "      <th>35006</th>\n",
       "      <td>City Hotel</td>\n",
       "      <td>178</td>\n",
       "      <td>2016</td>\n",
       "      <td>July</td>\n",
       "      <td>30</td>\n",
       "      <td>20</td>\n",
       "      <td>0</td>\n",
       "      <td>2</td>\n",
       "      <td>2</td>\n",
       "      <td>3.0</td>\n",
       "      <td>...</td>\n",
       "      <td>NaN</td>\n",
       "      <td>0</td>\n",
       "      <td>Transient</td>\n",
       "      <td>221.00</td>\n",
       "      <td>0</td>\n",
       "      <td>2</td>\n",
       "      <td>3faa4295-8ae1-4859-8035-3dafdb2d02f0</td>\n",
       "      <td>0</td>\n",
       "      <td>2.484728</td>\n",
       "      <td>7.351722</td>\n",
       "    </tr>\n",
       "    <tr>\n",
       "      <th>...</th>\n",
       "      <td>...</td>\n",
       "      <td>...</td>\n",
       "      <td>...</td>\n",
       "      <td>...</td>\n",
       "      <td>...</td>\n",
       "      <td>...</td>\n",
       "      <td>...</td>\n",
       "      <td>...</td>\n",
       "      <td>...</td>\n",
       "      <td>...</td>\n",
       "      <td>...</td>\n",
       "      <td>...</td>\n",
       "      <td>...</td>\n",
       "      <td>...</td>\n",
       "      <td>...</td>\n",
       "      <td>...</td>\n",
       "      <td>...</td>\n",
       "      <td>...</td>\n",
       "      <td>...</td>\n",
       "      <td>...</td>\n",
       "      <td>...</td>\n",
       "    </tr>\n",
       "    <tr>\n",
       "      <th>21162</th>\n",
       "      <td>City Hotel</td>\n",
       "      <td>37</td>\n",
       "      <td>2017</td>\n",
       "      <td>May</td>\n",
       "      <td>22</td>\n",
       "      <td>29</td>\n",
       "      <td>1</td>\n",
       "      <td>2</td>\n",
       "      <td>2</td>\n",
       "      <td>2.0</td>\n",
       "      <td>...</td>\n",
       "      <td>NaN</td>\n",
       "      <td>0</td>\n",
       "      <td>Transient</td>\n",
       "      <td>270.00</td>\n",
       "      <td>0</td>\n",
       "      <td>0</td>\n",
       "      <td>79ba9158-b984-4c12-968a-affeeea54b6f</td>\n",
       "      <td>1</td>\n",
       "      <td>3.512472</td>\n",
       "      <td>4.815543</td>\n",
       "    </tr>\n",
       "    <tr>\n",
       "      <th>21144</th>\n",
       "      <td>City Hotel</td>\n",
       "      <td>56</td>\n",
       "      <td>2016</td>\n",
       "      <td>December</td>\n",
       "      <td>52</td>\n",
       "      <td>19</td>\n",
       "      <td>1</td>\n",
       "      <td>0</td>\n",
       "      <td>2</td>\n",
       "      <td>2.0</td>\n",
       "      <td>...</td>\n",
       "      <td>NaN</td>\n",
       "      <td>0</td>\n",
       "      <td>Transient</td>\n",
       "      <td>156.60</td>\n",
       "      <td>0</td>\n",
       "      <td>1</td>\n",
       "      <td>87c3156d-d385-4597-9f78-55c808b9195c</td>\n",
       "      <td>1</td>\n",
       "      <td>1.133978</td>\n",
       "      <td>4.815543</td>\n",
       "    </tr>\n",
       "    <tr>\n",
       "      <th>21104</th>\n",
       "      <td>Resort Hotel</td>\n",
       "      <td>164</td>\n",
       "      <td>2017</td>\n",
       "      <td>August</td>\n",
       "      <td>32</td>\n",
       "      <td>8</td>\n",
       "      <td>0</td>\n",
       "      <td>4</td>\n",
       "      <td>2</td>\n",
       "      <td>2.0</td>\n",
       "      <td>...</td>\n",
       "      <td>NaN</td>\n",
       "      <td>0</td>\n",
       "      <td>Transient</td>\n",
       "      <td>227.00</td>\n",
       "      <td>1</td>\n",
       "      <td>2</td>\n",
       "      <td>6dcb6d20-eaa1-4983-856d-92d73b61b5ba</td>\n",
       "      <td>0</td>\n",
       "      <td>2.610574</td>\n",
       "      <td>4.815543</td>\n",
       "    </tr>\n",
       "    <tr>\n",
       "      <th>21074</th>\n",
       "      <td>Resort Hotel</td>\n",
       "      <td>34</td>\n",
       "      <td>2015</td>\n",
       "      <td>August</td>\n",
       "      <td>33</td>\n",
       "      <td>14</td>\n",
       "      <td>0</td>\n",
       "      <td>2</td>\n",
       "      <td>2</td>\n",
       "      <td>2.0</td>\n",
       "      <td>...</td>\n",
       "      <td>NaN</td>\n",
       "      <td>0</td>\n",
       "      <td>Transient</td>\n",
       "      <td>271.00</td>\n",
       "      <td>0</td>\n",
       "      <td>0</td>\n",
       "      <td>fb001f78-9a22-435d-ae32-7e38236fb2d1</td>\n",
       "      <td>1</td>\n",
       "      <td>3.533447</td>\n",
       "      <td>4.815543</td>\n",
       "    </tr>\n",
       "    <tr>\n",
       "      <th>31748</th>\n",
       "      <td>Resort Hotel</td>\n",
       "      <td>57</td>\n",
       "      <td>2017</td>\n",
       "      <td>July</td>\n",
       "      <td>27</td>\n",
       "      <td>2</td>\n",
       "      <td>2</td>\n",
       "      <td>5</td>\n",
       "      <td>2</td>\n",
       "      <td>2.0</td>\n",
       "      <td>...</td>\n",
       "      <td>NaN</td>\n",
       "      <td>0</td>\n",
       "      <td>Transient</td>\n",
       "      <td>300.86</td>\n",
       "      <td>0</td>\n",
       "      <td>0</td>\n",
       "      <td>65586009-1f38-4c09-a0fc-0806226e2f12</td>\n",
       "      <td>1</td>\n",
       "      <td>4.159742</td>\n",
       "      <td>4.815543</td>\n",
       "    </tr>\n",
       "  </tbody>\n",
       "</table>\n",
       "<p>1875 rows × 33 columns</p>\n",
       "</div>"
      ],
      "text/plain": [
       "              hotel  lead_time  arrival_date_year arrival_date_month  \\\n",
       "49181  Resort Hotel         55               2015               July   \n",
       "61903    City Hotel        140               2017               June   \n",
       "56197    City Hotel        114               2016             August   \n",
       "29295    City Hotel        109               2017               June   \n",
       "35006    City Hotel        178               2016               July   \n",
       "...             ...        ...                ...                ...   \n",
       "21162    City Hotel         37               2017                May   \n",
       "21144    City Hotel         56               2016           December   \n",
       "21104  Resort Hotel        164               2017             August   \n",
       "21074  Resort Hotel         34               2015             August   \n",
       "31748  Resort Hotel         57               2017               July   \n",
       "\n",
       "       arrival_date_week_number  arrival_date_day_of_month  \\\n",
       "49181                        29                         12   \n",
       "61903                        26                         28   \n",
       "56197                        32                          2   \n",
       "29295                        26                         25   \n",
       "35006                        30                         20   \n",
       "...                         ...                        ...   \n",
       "21162                        22                         29   \n",
       "21144                        52                         19   \n",
       "21104                        32                          8   \n",
       "21074                        33                         14   \n",
       "31748                        27                          2   \n",
       "\n",
       "       stays_in_weekend_nights  stays_in_week_nights  adults  children  ...  \\\n",
       "49181                        4                    10       2      10.0  ...   \n",
       "61903                        0                     3       2       3.0  ...   \n",
       "56197                        0                     2       2       3.0  ...   \n",
       "29295                        2                     1       2       3.0  ...   \n",
       "35006                        0                     2       2       3.0  ...   \n",
       "...                        ...                   ...     ...       ...  ...   \n",
       "21162                        1                     2       2       2.0  ...   \n",
       "21144                        1                     0       2       2.0  ...   \n",
       "21104                        0                     4       2       2.0  ...   \n",
       "21074                        0                     2       2       2.0  ...   \n",
       "31748                        2                     5       2       2.0  ...   \n",
       "\n",
       "       company days_in_waiting_list customer_type     adr  \\\n",
       "49181      NaN                    0      Contract  133.16   \n",
       "61903      NaN                    0     Transient  220.00   \n",
       "56197      NaN                    0     Transient  266.30   \n",
       "29295      NaN                    0     Transient  255.00   \n",
       "35006      NaN                    0     Transient  221.00   \n",
       "...        ...                  ...           ...     ...   \n",
       "21162      NaN                    0     Transient  270.00   \n",
       "21144      NaN                    0     Transient  156.60   \n",
       "21104      NaN                    0     Transient  227.00   \n",
       "21074      NaN                    0     Transient  271.00   \n",
       "31748      NaN                    0     Transient  300.86   \n",
       "\n",
       "      required_car_parking_spaces  total_of_special_requests  \\\n",
       "49181                           0                          1   \n",
       "61903                           0                          0   \n",
       "56197                           0                          0   \n",
       "29295                           0                          3   \n",
       "35006                           0                          2   \n",
       "...                           ...                        ...   \n",
       "21162                           0                          0   \n",
       "21144                           0                          1   \n",
       "21104                           1                          2   \n",
       "21074                           0                          0   \n",
       "31748                           0                          0   \n",
       "\n",
       "                                         id  is_canceled     z_adr z_children  \n",
       "49181  44093355-c1c8-41eb-bcb4-40dc494fa1a9            1  0.642338  25.104976  \n",
       "61903  a24e074b-8bbc-47ab-9154-70592f1fac09            0  2.463753   7.351722  \n",
       "56197  2f0e1617-305e-4be9-b643-e2e06847afca            1  3.434867   7.351722  \n",
       "29295  f9596bc3-2bb9-4ed3-ae3f-553ab556b0ac            1  3.197857   7.351722  \n",
       "35006  3faa4295-8ae1-4859-8035-3dafdb2d02f0            0  2.484728   7.351722  \n",
       "...                                     ...          ...       ...        ...  \n",
       "21162  79ba9158-b984-4c12-968a-affeeea54b6f            1  3.512472   4.815543  \n",
       "21144  87c3156d-d385-4597-9f78-55c808b9195c            1  1.133978   4.815543  \n",
       "21104  6dcb6d20-eaa1-4983-856d-92d73b61b5ba            0  2.610574   4.815543  \n",
       "21074  fb001f78-9a22-435d-ae32-7e38236fb2d1            1  3.533447   4.815543  \n",
       "31748  65586009-1f38-4c09-a0fc-0806226e2f12            1  4.159742   4.815543  \n",
       "\n",
       "[1875 rows x 33 columns]"
      ]
     },
     "execution_count": 24,
     "metadata": {},
     "output_type": "execute_result"
    }
   ],
   "source": [
    "hotel_cpy[hotel_cpy['z_children']>3].sort_values(by='z_children', ascending=False)"
   ]
  },
  {
   "cell_type": "code",
   "execution_count": 27,
   "metadata": {},
   "outputs": [
    {
     "data": {
      "text/html": [
       "<div>\n",
       "<style scoped>\n",
       "    .dataframe tbody tr th:only-of-type {\n",
       "        vertical-align: middle;\n",
       "    }\n",
       "\n",
       "    .dataframe tbody tr th {\n",
       "        vertical-align: top;\n",
       "    }\n",
       "\n",
       "    .dataframe thead th {\n",
       "        text-align: right;\n",
       "    }\n",
       "</style>\n",
       "<table border=\"1\" class=\"dataframe\">\n",
       "  <thead>\n",
       "    <tr style=\"text-align: right;\">\n",
       "      <th></th>\n",
       "      <th>hotel</th>\n",
       "      <th>lead_time</th>\n",
       "      <th>arrival_date_year</th>\n",
       "      <th>arrival_date_month</th>\n",
       "      <th>arrival_date_week_number</th>\n",
       "      <th>arrival_date_day_of_month</th>\n",
       "      <th>stays_in_weekend_nights</th>\n",
       "      <th>stays_in_week_nights</th>\n",
       "      <th>adults</th>\n",
       "      <th>children</th>\n",
       "      <th>...</th>\n",
       "      <th>company</th>\n",
       "      <th>days_in_waiting_list</th>\n",
       "      <th>customer_type</th>\n",
       "      <th>adr</th>\n",
       "      <th>required_car_parking_spaces</th>\n",
       "      <th>total_of_special_requests</th>\n",
       "      <th>id</th>\n",
       "      <th>is_canceled</th>\n",
       "      <th>z_adr</th>\n",
       "      <th>z_children</th>\n",
       "    </tr>\n",
       "  </thead>\n",
       "  <tbody>\n",
       "    <tr>\n",
       "      <th>0</th>\n",
       "      <td>City Hotel</td>\n",
       "      <td>49</td>\n",
       "      <td>2016</td>\n",
       "      <td>September</td>\n",
       "      <td>37</td>\n",
       "      <td>5</td>\n",
       "      <td>1</td>\n",
       "      <td>2</td>\n",
       "      <td>1</td>\n",
       "      <td>0.0</td>\n",
       "      <td>...</td>\n",
       "      <td>NaN</td>\n",
       "      <td>0</td>\n",
       "      <td>Transient</td>\n",
       "      <td>115.50</td>\n",
       "      <td>0</td>\n",
       "      <td>1</td>\n",
       "      <td>7aa4cc6b-b92c-4061-b21d-4f9e0cac4689</td>\n",
       "      <td>1</td>\n",
       "      <td>0.271931</td>\n",
       "      <td>-0.256815</td>\n",
       "    </tr>\n",
       "    <tr>\n",
       "      <th>40806</th>\n",
       "      <td>City Hotel</td>\n",
       "      <td>0</td>\n",
       "      <td>2017</td>\n",
       "      <td>August</td>\n",
       "      <td>34</td>\n",
       "      <td>20</td>\n",
       "      <td>1</td>\n",
       "      <td>0</td>\n",
       "      <td>3</td>\n",
       "      <td>0.0</td>\n",
       "      <td>...</td>\n",
       "      <td>NaN</td>\n",
       "      <td>0</td>\n",
       "      <td>Transient</td>\n",
       "      <td>198.00</td>\n",
       "      <td>0</td>\n",
       "      <td>0</td>\n",
       "      <td>dcbf73ca-eaee-43f1-82cb-f5f98405d8aa</td>\n",
       "      <td>0</td>\n",
       "      <td>2.002317</td>\n",
       "      <td>-0.256815</td>\n",
       "    </tr>\n",
       "    <tr>\n",
       "      <th>40808</th>\n",
       "      <td>City Hotel</td>\n",
       "      <td>5</td>\n",
       "      <td>2016</td>\n",
       "      <td>April</td>\n",
       "      <td>17</td>\n",
       "      <td>20</td>\n",
       "      <td>0</td>\n",
       "      <td>3</td>\n",
       "      <td>1</td>\n",
       "      <td>0.0</td>\n",
       "      <td>...</td>\n",
       "      <td>153.0</td>\n",
       "      <td>0</td>\n",
       "      <td>Transient</td>\n",
       "      <td>95.00</td>\n",
       "      <td>0</td>\n",
       "      <td>0</td>\n",
       "      <td>24dd1841-0bc0-46f5-b3e7-1fcafddc8766</td>\n",
       "      <td>0</td>\n",
       "      <td>-0.158044</td>\n",
       "      <td>-0.256815</td>\n",
       "    </tr>\n",
       "    <tr>\n",
       "      <th>40809</th>\n",
       "      <td>City Hotel</td>\n",
       "      <td>94</td>\n",
       "      <td>2016</td>\n",
       "      <td>March</td>\n",
       "      <td>14</td>\n",
       "      <td>28</td>\n",
       "      <td>1</td>\n",
       "      <td>5</td>\n",
       "      <td>2</td>\n",
       "      <td>0.0</td>\n",
       "      <td>...</td>\n",
       "      <td>NaN</td>\n",
       "      <td>0</td>\n",
       "      <td>Transient-Party</td>\n",
       "      <td>110.75</td>\n",
       "      <td>0</td>\n",
       "      <td>1</td>\n",
       "      <td>da04f043-f93e-41ef-b7f4-0fcd1b3a8184</td>\n",
       "      <td>0</td>\n",
       "      <td>0.172302</td>\n",
       "      <td>-0.256815</td>\n",
       "    </tr>\n",
       "    <tr>\n",
       "      <th>40810</th>\n",
       "      <td>City Hotel</td>\n",
       "      <td>286</td>\n",
       "      <td>2016</td>\n",
       "      <td>October</td>\n",
       "      <td>43</td>\n",
       "      <td>16</td>\n",
       "      <td>1</td>\n",
       "      <td>0</td>\n",
       "      <td>2</td>\n",
       "      <td>0.0</td>\n",
       "      <td>...</td>\n",
       "      <td>NaN</td>\n",
       "      <td>0</td>\n",
       "      <td>Transient</td>\n",
       "      <td>90.00</td>\n",
       "      <td>0</td>\n",
       "      <td>0</td>\n",
       "      <td>d6b9ea83-28c0-46f4-93b5-326663fbf1a1</td>\n",
       "      <td>1</td>\n",
       "      <td>-0.262916</td>\n",
       "      <td>-0.256815</td>\n",
       "    </tr>\n",
       "    <tr>\n",
       "      <th>...</th>\n",
       "      <td>...</td>\n",
       "      <td>...</td>\n",
       "      <td>...</td>\n",
       "      <td>...</td>\n",
       "      <td>...</td>\n",
       "      <td>...</td>\n",
       "      <td>...</td>\n",
       "      <td>...</td>\n",
       "      <td>...</td>\n",
       "      <td>...</td>\n",
       "      <td>...</td>\n",
       "      <td>...</td>\n",
       "      <td>...</td>\n",
       "      <td>...</td>\n",
       "      <td>...</td>\n",
       "      <td>...</td>\n",
       "      <td>...</td>\n",
       "      <td>...</td>\n",
       "      <td>...</td>\n",
       "      <td>...</td>\n",
       "      <td>...</td>\n",
       "    </tr>\n",
       "    <tr>\n",
       "      <th>32889</th>\n",
       "      <td>City Hotel</td>\n",
       "      <td>101</td>\n",
       "      <td>2016</td>\n",
       "      <td>July</td>\n",
       "      <td>29</td>\n",
       "      <td>11</td>\n",
       "      <td>1</td>\n",
       "      <td>2</td>\n",
       "      <td>2</td>\n",
       "      <td>1.0</td>\n",
       "      <td>...</td>\n",
       "      <td>NaN</td>\n",
       "      <td>0</td>\n",
       "      <td>Transient</td>\n",
       "      <td>84.58</td>\n",
       "      <td>0</td>\n",
       "      <td>0</td>\n",
       "      <td>20c57acd-e0f4-4cbb-91d3-dd9a3e723923</td>\n",
       "      <td>0</td>\n",
       "      <td>-0.376597</td>\n",
       "      <td>2.279364</td>\n",
       "    </tr>\n",
       "    <tr>\n",
       "      <th>20859</th>\n",
       "      <td>Resort Hotel</td>\n",
       "      <td>1</td>\n",
       "      <td>2017</td>\n",
       "      <td>January</td>\n",
       "      <td>3</td>\n",
       "      <td>19</td>\n",
       "      <td>2</td>\n",
       "      <td>5</td>\n",
       "      <td>2</td>\n",
       "      <td>1.0</td>\n",
       "      <td>...</td>\n",
       "      <td>NaN</td>\n",
       "      <td>0</td>\n",
       "      <td>Transient</td>\n",
       "      <td>88.00</td>\n",
       "      <td>0</td>\n",
       "      <td>2</td>\n",
       "      <td>eafcd086-cad5-4b2a-9003-b79ce6898e19</td>\n",
       "      <td>0</td>\n",
       "      <td>-0.304865</td>\n",
       "      <td>2.279364</td>\n",
       "    </tr>\n",
       "    <tr>\n",
       "      <th>6599</th>\n",
       "      <td>Resort Hotel</td>\n",
       "      <td>6</td>\n",
       "      <td>2016</td>\n",
       "      <td>October</td>\n",
       "      <td>45</td>\n",
       "      <td>31</td>\n",
       "      <td>1</td>\n",
       "      <td>0</td>\n",
       "      <td>3</td>\n",
       "      <td>1.0</td>\n",
       "      <td>...</td>\n",
       "      <td>NaN</td>\n",
       "      <td>0</td>\n",
       "      <td>Transient-Party</td>\n",
       "      <td>145.00</td>\n",
       "      <td>1</td>\n",
       "      <td>0</td>\n",
       "      <td>f6bfceb1-4350-4346-add1-b12731e4029b</td>\n",
       "      <td>0</td>\n",
       "      <td>0.890675</td>\n",
       "      <td>2.279364</td>\n",
       "    </tr>\n",
       "    <tr>\n",
       "      <th>24272</th>\n",
       "      <td>City Hotel</td>\n",
       "      <td>84</td>\n",
       "      <td>2015</td>\n",
       "      <td>July</td>\n",
       "      <td>30</td>\n",
       "      <td>25</td>\n",
       "      <td>0</td>\n",
       "      <td>1</td>\n",
       "      <td>2</td>\n",
       "      <td>1.0</td>\n",
       "      <td>...</td>\n",
       "      <td>NaN</td>\n",
       "      <td>0</td>\n",
       "      <td>Transient</td>\n",
       "      <td>94.00</td>\n",
       "      <td>0</td>\n",
       "      <td>2</td>\n",
       "      <td>779ed0c7-2a97-452f-a13c-6bab14793d4b</td>\n",
       "      <td>0</td>\n",
       "      <td>-0.179019</td>\n",
       "      <td>2.279364</td>\n",
       "    </tr>\n",
       "    <tr>\n",
       "      <th>8569</th>\n",
       "      <td>Resort Hotel</td>\n",
       "      <td>35</td>\n",
       "      <td>2017</td>\n",
       "      <td>February</td>\n",
       "      <td>7</td>\n",
       "      <td>17</td>\n",
       "      <td>0</td>\n",
       "      <td>2</td>\n",
       "      <td>3</td>\n",
       "      <td>1.0</td>\n",
       "      <td>...</td>\n",
       "      <td>NaN</td>\n",
       "      <td>0</td>\n",
       "      <td>Transient</td>\n",
       "      <td>93.00</td>\n",
       "      <td>0</td>\n",
       "      <td>0</td>\n",
       "      <td>723a231b-cb81-4663-8e55-8e5c84f5d003</td>\n",
       "      <td>0</td>\n",
       "      <td>-0.199993</td>\n",
       "      <td>2.279364</td>\n",
       "    </tr>\n",
       "  </tbody>\n",
       "</table>\n",
       "<p>59837 rows × 33 columns</p>\n",
       "</div>"
      ],
      "text/plain": [
       "              hotel  lead_time  arrival_date_year arrival_date_month  \\\n",
       "0        City Hotel         49               2016          September   \n",
       "40806    City Hotel          0               2017             August   \n",
       "40808    City Hotel          5               2016              April   \n",
       "40809    City Hotel         94               2016              March   \n",
       "40810    City Hotel        286               2016            October   \n",
       "...             ...        ...                ...                ...   \n",
       "32889    City Hotel        101               2016               July   \n",
       "20859  Resort Hotel          1               2017            January   \n",
       "6599   Resort Hotel          6               2016            October   \n",
       "24272    City Hotel         84               2015               July   \n",
       "8569   Resort Hotel         35               2017           February   \n",
       "\n",
       "       arrival_date_week_number  arrival_date_day_of_month  \\\n",
       "0                            37                          5   \n",
       "40806                        34                         20   \n",
       "40808                        17                         20   \n",
       "40809                        14                         28   \n",
       "40810                        43                         16   \n",
       "...                         ...                        ...   \n",
       "32889                        29                         11   \n",
       "20859                         3                         19   \n",
       "6599                         45                         31   \n",
       "24272                        30                         25   \n",
       "8569                          7                         17   \n",
       "\n",
       "       stays_in_weekend_nights  stays_in_week_nights  adults  children  ...  \\\n",
       "0                            1                     2       1       0.0  ...   \n",
       "40806                        1                     0       3       0.0  ...   \n",
       "40808                        0                     3       1       0.0  ...   \n",
       "40809                        1                     5       2       0.0  ...   \n",
       "40810                        1                     0       2       0.0  ...   \n",
       "...                        ...                   ...     ...       ...  ...   \n",
       "32889                        1                     2       2       1.0  ...   \n",
       "20859                        2                     5       2       1.0  ...   \n",
       "6599                         1                     0       3       1.0  ...   \n",
       "24272                        0                     1       2       1.0  ...   \n",
       "8569                         0                     2       3       1.0  ...   \n",
       "\n",
       "       company days_in_waiting_list    customer_type     adr  \\\n",
       "0          NaN                    0        Transient  115.50   \n",
       "40806      NaN                    0        Transient  198.00   \n",
       "40808    153.0                    0        Transient   95.00   \n",
       "40809      NaN                    0  Transient-Party  110.75   \n",
       "40810      NaN                    0        Transient   90.00   \n",
       "...        ...                  ...              ...     ...   \n",
       "32889      NaN                    0        Transient   84.58   \n",
       "20859      NaN                    0        Transient   88.00   \n",
       "6599       NaN                    0  Transient-Party  145.00   \n",
       "24272      NaN                    0        Transient   94.00   \n",
       "8569       NaN                    0        Transient   93.00   \n",
       "\n",
       "      required_car_parking_spaces  total_of_special_requests  \\\n",
       "0                               0                          1   \n",
       "40806                           0                          0   \n",
       "40808                           0                          0   \n",
       "40809                           0                          1   \n",
       "40810                           0                          0   \n",
       "...                           ...                        ...   \n",
       "32889                           0                          0   \n",
       "20859                           0                          2   \n",
       "6599                            1                          0   \n",
       "24272                           0                          2   \n",
       "8569                            0                          0   \n",
       "\n",
       "                                         id  is_canceled     z_adr z_children  \n",
       "0      7aa4cc6b-b92c-4061-b21d-4f9e0cac4689            1  0.271931  -0.256815  \n",
       "40806  dcbf73ca-eaee-43f1-82cb-f5f98405d8aa            0  2.002317  -0.256815  \n",
       "40808  24dd1841-0bc0-46f5-b3e7-1fcafddc8766            0 -0.158044  -0.256815  \n",
       "40809  da04f043-f93e-41ef-b7f4-0fcd1b3a8184            0  0.172302  -0.256815  \n",
       "40810  d6b9ea83-28c0-46f4-93b5-326663fbf1a1            1 -0.262916  -0.256815  \n",
       "...                                     ...          ...       ...        ...  \n",
       "32889  20c57acd-e0f4-4cbb-91d3-dd9a3e723923            0 -0.376597   2.279364  \n",
       "20859  eafcd086-cad5-4b2a-9003-b79ce6898e19            0 -0.304865   2.279364  \n",
       "6599   f6bfceb1-4350-4346-add1-b12731e4029b            0  0.890675   2.279364  \n",
       "24272  779ed0c7-2a97-452f-a13c-6bab14793d4b            0 -0.179019   2.279364  \n",
       "8569   723a231b-cb81-4663-8e55-8e5c84f5d003            0 -0.199993   2.279364  \n",
       "\n",
       "[59837 rows x 33 columns]"
      ]
     },
     "execution_count": 27,
     "metadata": {},
     "output_type": "execute_result"
    }
   ],
   "source": [
    "hotel_cpy[hotel_cpy['z_children']<3].sort_values(by='z_children', ascending=True)"
   ]
  },
  {
   "cell_type": "code",
   "execution_count": 26,
   "metadata": {},
   "outputs": [
    {
     "data": {
      "image/png": "[encoded data removed]",
      "text/plain": [
       "<Figure size 640x480 with 1 Axes>"
      ]
     },
     "metadata": {},
     "output_type": "display_data"
    }
   ],
   "source": [
    "sns.histplot(hotel_cpy.z_children, bins=10).set(title='Distribución de z-score de la variable \"children\"', xlabel='Z-Score niños')\n",
    "\n",
    "plt.xticks(np.arange(-3, 30, 3))\n",
    "\n",
    "plt.show()"
   ]
  },
  {
   "cell_type": "markdown",
   "metadata": {},
   "source": [
    "En esta variable, se detectan muchos outliers que yo no consideraría ya que son valores normales que puede tomar la variable. Por ejemplo, hay reservas que tienen 0 niños o 3 niños que con el cálculo del z-score aparecen como outliers y sin embargo, son valores válidos. "
   ]
  },
  {
   "cell_type": "markdown",
   "metadata": {},
   "source": [
    "Hay una sola reserva que tiene 10 niños, esto lo voy a tomar como un valor atípico y voy a eliminar esta fila."
   ]
  },
  {
   "cell_type": "code",
   "execution_count": 28,
   "metadata": {},
   "outputs": [
    {
     "data": {
      "text/plain": [
       "(60123, 31)"
      ]
     },
     "execution_count": 28,
     "metadata": {},
     "output_type": "execute_result"
    }
   ],
   "source": [
    "hotel.shape"
   ]
  },
  {
   "cell_type": "code",
   "execution_count": 30,
   "metadata": {},
   "outputs": [],
   "source": [
    "hotel.drop(hotel[hotel['children'] == 10].index, inplace=True)"
   ]
  },
  {
   "cell_type": "code",
   "execution_count": 31,
   "metadata": {},
   "outputs": [
    {
     "data": {
      "text/plain": [
       "(60122, 31)"
      ]
     },
     "execution_count": 31,
     "metadata": {},
     "output_type": "execute_result"
    }
   ],
   "source": [
    "hotel.shape"
   ]
  },
  {
   "cell_type": "markdown",
   "metadata": {},
   "source": [
    "##### Outliers univariados en ``'babies'``"
   ]
  },
  {
   "cell_type": "code",
   "execution_count": null,
   "metadata": {},
   "outputs": [],
   "source": [
    "sns.boxplot(y=hotel.babies)"
   ]
  },
  {
   "cell_type": "code",
   "execution_count": null,
   "metadata": {},
   "outputs": [],
   "source": [
    "hotel.babies.agg(['min','max']).reset_index()"
   ]
  },
  {
   "cell_type": "code",
   "execution_count": null,
   "metadata": {},
   "outputs": [],
   "source": [
    "#z-score\n",
    "media_babies = np.mean(hotel_cpy.babies)\n",
    "std_babies = np.std(hotel_cpy.babies)\n",
    "hotel_cpy['z_babies'] = (hotel_cpy.babies - media_babies)/std_babies"
   ]
  },
  {
   "cell_type": "code",
   "execution_count": null,
   "metadata": {},
   "outputs": [],
   "source": [
    "hotel_cpy[hotel_cpy['z_babies']>3].sort_values(by='z_babies', ascending=False)"
   ]
  },
  {
   "cell_type": "code",
   "execution_count": null,
   "metadata": {},
   "outputs": [],
   "source": [
    "hotel_cpy[hotel_cpy['z_babies']<3]"
   ]
  },
  {
   "cell_type": "code",
   "execution_count": null,
   "metadata": {},
   "outputs": [],
   "source": [
    "sns.histplot(hotel_cpy.z_babies, bins=10).set(title='Distribución de z-score de la variable \"babies\"', xlabel='Z-Score bebes')\n",
    "\n",
    "plt.xticks(np.arange(-3, 120, 9))\n",
    "\n",
    "plt.show()"
   ]
  },
  {
   "cell_type": "code",
   "execution_count": null,
   "metadata": {},
   "outputs": [],
   "source": [
    "#z-score modificado\n",
    "mediana_babies = np.median(hotel_cpy.babies)\n",
    "MAD = np.median(np.absolute(hotel_cpy.babies-mediana_babies))\n",
    "hotel_cpy['zm_babies'] = (hotel_cpy.babies - mediana_babies)*0.6745/MAD"
   ]
  },
  {
   "cell_type": "code",
   "execution_count": null,
   "metadata": {},
   "outputs": [],
   "source": [
    "hotel_cpy[hotel_cpy['zm_babies']>3.5]"
   ]
  },
  {
   "cell_type": "code",
   "execution_count": null,
   "metadata": {},
   "outputs": [],
   "source": [
    "hotel_cpy[hotel_cpy['zm_babies']<3.5]"
   ]
  },
  {
   "cell_type": "markdown",
   "metadata": {},
   "source": [
    "El zscore modificado me dio infinito en este caso, se puede deber a que el valor de MAD haya dado cero por la cantidad de valores iguales que hay en la variable. Por lo tanto, no me es útil para detectar outliers en esta variable."
   ]
  },
  {
   "cell_type": "code",
   "execution_count": null,
   "metadata": {},
   "outputs": [],
   "source": [
    "sns.boxplot(y=hotel.adults)"
   ]
  },
  {
   "cell_type": "code",
   "execution_count": null,
   "metadata": {},
   "outputs": [],
   "source": [
    "hotel.adults.agg(['min','max']).reset_index()"
   ]
  },
  {
   "cell_type": "code",
   "execution_count": null,
   "metadata": {},
   "outputs": [],
   "source": [
    "#z-score\n",
    "media_adults = np.mean(hotel_cpy.adults)\n",
    "std_adults = np.std(hotel_cpy.adults)\n",
    "hotel_cpy['z_adults'] = (hotel_cpy.adults - media_adults)/std_adults"
   ]
  },
  {
   "cell_type": "code",
   "execution_count": null,
   "metadata": {},
   "outputs": [],
   "source": [
    "hotel_cpy[hotel_cpy['z_adults']>3].sort_values(by='z_adults', ascending=False)"
   ]
  },
  {
   "cell_type": "code",
   "execution_count": null,
   "metadata": {},
   "outputs": [],
   "source": [
    "hotel_cpy[hotel_cpy['z_adults']<3].sort_values(by='z_adults', ascending=True)"
   ]
  },
  {
   "cell_type": "code",
   "execution_count": null,
   "metadata": {},
   "outputs": [],
   "source": [
    "sns.histplot(hotel_cpy.z_adults, bins=10).set(title='Distribución de z-score de la variable \"adults\"', xlabel='Z-Score adultos')\n",
    "\n",
    "plt.xticks(np.arange(-3, 120, 9))\n",
    "\n",
    "plt.show()"
   ]
  },
  {
   "cell_type": "code",
   "execution_count": null,
   "metadata": {},
   "outputs": [],
   "source": [
    "#z-score modificado\n",
    "mediana_adults = np.median(hotel_cpy.adults)\n",
    "MAD = np.median(np.absolute(hotel_cpy.adults-mediana_adults))\n",
    "hotel_cpy['zm_adults'] = (hotel_cpy.adults - mediana_adults)*0.6745/MAD"
   ]
  },
  {
   "cell_type": "code",
   "execution_count": null,
   "metadata": {},
   "outputs": [],
   "source": [
    "hotel_cpy[hotel_cpy['zm_adults']>3.5]"
   ]
  },
  {
   "cell_type": "code",
   "execution_count": null,
   "metadata": {},
   "outputs": [],
   "source": [
    "hotel_cpy[hotel_cpy['zm_adults']<3.5]"
   ]
  },
  {
   "cell_type": "code",
   "execution_count": null,
   "metadata": {},
   "outputs": [],
   "source": [
    "sns.boxplot(y=hotel.previous_cancellations)"
   ]
  },
  {
   "cell_type": "code",
   "execution_count": null,
   "metadata": {},
   "outputs": [],
   "source": [
    "hotel.agg(['min','max']).reset_index()"
   ]
  },
  {
   "attachments": {},
   "cell_type": "markdown",
   "metadata": {},
   "source": [
    "##### Multivariada"
   ]
  },
  {
   "cell_type": "markdown",
   "metadata": {},
   "source": []
  },
  {
   "attachments": {},
   "cell_type": "markdown",
   "metadata": {},
   "source": [
    "#### Características"
   ]
  },
  {
   "attachments": {},
   "cell_type": "markdown",
   "metadata": {},
   "source": [
    "#### Tratamiento"
   ]
  },
  {
   "attachments": {},
   "cell_type": "markdown",
   "metadata": {},
   "source": [
    "## BORRADOR ///"
   ]
  },
  {
   "cell_type": "code",
   "execution_count": null,
   "metadata": {},
   "outputs": [],
   "source": [
    "# ¿Existe alguna relación entre el tiempo en lista de espera y las reservas canceladas?\n",
    "pd.crosstab(hotel['days_in_waiting_list'], hotel['is_canceled'])"
   ]
  },
  {
   "cell_type": "code",
   "execution_count": null,
   "metadata": {},
   "outputs": [],
   "source": [
    "# Reservas canceladas por tarifa\n",
    "pd.crosstab(hotel['adr'], hotel['is_canceled']).sort_values(by=1, ascending=False)"
   ]
  },
  {
   "cell_type": "code",
   "execution_count": null,
   "metadata": {},
   "outputs": [],
   "source": [
    "# Graficar canceldas por tarifa\n",
    "sns.scatterplot(x='adr', y='is_canceled', data=hotel, hue='is_canceled', alpha=0.1)"
   ]
  },
  {
   "cell_type": "code",
   "execution_count": null,
   "metadata": {},
   "outputs": [],
   "source": [
    "# Reservas canceladas por pais\n",
    "pd.crosstab(hotel['country'], hotel['is_canceled']).sort_values(by=1, ascending=False)"
   ]
  },
  {
   "cell_type": "code",
   "execution_count": null,
   "metadata": {},
   "outputs": [],
   "source": [
    "# graficar canceladas por 30 primeros paises\n",
    "pd.crosstab(hotel['country'], hotel['is_canceled']).sort_values(by=1, ascending=False).head(30).plot(kind='bar', figsize=(20,10))\n"
   ]
  },
  {
   "cell_type": "code",
   "execution_count": null,
   "metadata": {},
   "outputs": [],
   "source": [
    "# Reservas canceladas segun el tipo de comida\n",
    "pd.crosstab(hotel['meal'], hotel['is_canceled']).sort_values(by=1, ascending=False)\n"
   ]
  },
  {
   "cell_type": "code",
   "execution_count": null,
   "metadata": {},
   "outputs": [],
   "source": [
    "# graficareservas canceladas segun el tipo de comida\n",
    "sns.countplot(x='meal', data=hotel, hue='is_canceled')"
   ]
  },
  {
   "cell_type": "code",
   "execution_count": null,
   "metadata": {},
   "outputs": [],
   "source": [
    "# Estado de las reservas segun el tipo de distribucion\n",
    "pd.crosstab(hotel['distribution_channel'], hotel['is_canceled']).sort_values(by=1, ascending=False)"
   ]
  },
  {
   "cell_type": "code",
   "execution_count": null,
   "metadata": {},
   "outputs": [],
   "source": [
    "# graficar reservas canceladas segun el tipo de distribucion\n",
    "sns.countplot(x='distribution_channel', data=hotel, hue='is_canceled')"
   ]
  },
  {
   "cell_type": "code",
   "execution_count": null,
   "metadata": {},
   "outputs": [],
   "source": [
    "# graficar reservas canceladas segun el tiempo entre la reserva y la llegada\n",
    "# sns.scatterplot(x='lead_time', y='is_canceled', data=hotel, hue='is_canceled', alpha=0.002)\n",
    "\n",
    "sns.regplot(x='lead_time', y='is_canceled', data=hotel, logistic=True, y_jitter=0.03)\n"
   ]
  },
  {
   "cell_type": "code",
   "execution_count": null,
   "metadata": {},
   "outputs": [],
   "source": [
    "# ¿Existe alguna relación entre la cantidad de adultos, niños y bebés en una reserva y el estado de la reserva?\n",
    "\n",
    "pd.crosstab(index=[hotel['adults'], hotel['children'], hotel['babies']], columns=hotel['is_canceled']).sort_values(by=1, ascending=False).head(10)\n"
   ]
  },
  {
   "cell_type": "code",
   "execution_count": null,
   "metadata": {},
   "outputs": [],
   "source": [
    "sns.scatterplot(x='lead_time', y='is_canceled', data=hotel, hue='is_canceled')\n",
    "plt.gca().set_title('Relación entre el tiempo de espera y el estado de la reserva')\n",
    "plt.gca().set_xlabel('Tiempo de espera')\n",
    "plt.gca().set_ylabel('Estado de la reserva')\n",
    "plt.gca().set_xticks(range(0, 700, 50))\n",
    "plt.gca().set_yticks(range(0, 2, 1))\n",
    "plt.show()"
   ]
  },
  {
   "cell_type": "code",
   "execution_count": null,
   "metadata": {},
   "outputs": [],
   "source": [
    "sns.countplot(x='previous_cancellations', hue='is_canceled', data=hotel)\n",
    "plt.show()"
   ]
  },
  {
   "cell_type": "code",
   "execution_count": null,
   "metadata": {},
   "outputs": [],
   "source": [
    "# graficar relacion entre 'arrival_date_year' y 'is_canceled'\n",
    "# sns.countplot(x='arrival_date_year', hue='is_canceled', data=hotel)\n",
    "# sns.countplot(x='arrival_date_month', hue='is_canceled', data=hotel)\n",
    "# sns.countplot(x='arrival_date_day_of_month', hue='is_canceled', data=hotel)\n",
    "sns.countplot(x='arrival_date_week_number', hue='is_canceled', data=hotel)\n"
   ]
  },
  {
   "cell_type": "code",
   "execution_count": null,
   "metadata": {},
   "outputs": [],
   "source": [
    "hotel_reducido = hotel.copy()\n",
    "\n",
    "# combinar las columnas de fechas en una sola\n",
    "hotel_reducido['arrival_date'] = hotel_reducido['arrival_date_year'].astype(str) + '-' + hotel_reducido['arrival_date_month'].astype(str) + '-' + hotel_reducido['arrival_date_day_of_month'].astype(str)\n",
    "# eliminar las columnas de fechas\n",
    "hotel_reducido.drop(['arrival_date_year', 'arrival_date_month', 'arrival_date_day_of_month'], axis=1, inplace=True)\n",
    "\n",
    "# convertir la columna 'arrival_date' a tipo datetime\n",
    "hotel_reducido['arrival_date'] = pd.to_datetime(hotel_reducido['arrival_date'])\n",
    "\n",
    "hotel_reducido.head()"
   ]
  },
  {
   "cell_type": "code",
   "execution_count": null,
   "metadata": {},
   "outputs": [],
   "source": [
    "# graficar la relacion entre 'arrival_date' y 'is_canceled'\n",
    "sns.scatterplot(x='arrival_date', y='is_canceled', data=hotel_reducido, hue='is_canceled', alpha=0.05)"
   ]
  },
  {
   "cell_type": "code",
   "execution_count": null,
   "metadata": {},
   "outputs": [],
   "source": [
    "# graficar la relacion entre 'hotel' y 'is_canceled'\n",
    "sns.countplot(x='hotel', hue='is_canceled', data=hotel_reducido)"
   ]
  },
  {
   "cell_type": "code",
   "execution_count": null,
   "metadata": {},
   "outputs": [],
   "source": [
    "# heatmap hotel y deposit_type\n",
    "sns.heatmap(pd.crosstab(hotel_reducido['hotel'], hotel_reducido['deposit_type']), annot=True, fmt='d')"
   ]
  },
  {
   "cell_type": "code",
   "execution_count": null,
   "metadata": {},
   "outputs": [],
   "source": [
    "import seaborn as sns\n",
    "import matplotlib.pyplot as plt\n",
    "\n",
    "# Load your data into a pandas DataFrame\n",
    "# ...\n",
    "\n",
    "# Pivot the data to create a matrix with 'hotel' and 'deposit_type' as the row and column indices\n",
    "# and 'is_canceled' as the values\n",
    "pivot_df = hotel_reducido.pivot_table(\n",
    "    index='hotel', columns='deposit_type', values='is_canceled')\n",
    "\n",
    "# Create the heatmap using Seaborn\n",
    "sns.heatmap(pivot_df, cmap='coolwarm', annot=True, fmt='.2f')\n",
    "\n",
    "# Set the plot title and axis labels\n",
    "plt.title('Cancellation Rates by Hotel and Deposit Type')\n",
    "plt.xlabel('Deposit Type')\n",
    "plt.ylabel('Hotel')\n",
    "\n",
    "# Show the plot\n",
    "plt.show()\n"
   ]
  },
  {
   "cell_type": "code",
   "execution_count": null,
   "metadata": {},
   "outputs": [],
   "source": [
    "import seaborn as sns\n",
    "import matplotlib.pyplot as plt\n",
    "\n",
    "pivot_df = hotel_reducido.pivot_table(\n",
    "    index='customer_type', columns='deposit_type', values='is_canceled')\n",
    "\n",
    "# Create the heatmap using Seaborn\n",
    "sns.heatmap(pivot_df, cmap='coolwarm', annot=True, fmt='.2f')\n",
    "\n",
    "# Show the plot\n",
    "plt.show()\n"
   ]
  },
  {
   "cell_type": "code",
   "execution_count": null,
   "metadata": {},
   "outputs": [],
   "source": [
    "# dropeamos company xq son la mayoria nulos\n",
    "hotel_reducido.drop('company', axis=1, inplace=True)\n",
    "hotel_reducido.info()"
   ]
  },
  {
   "cell_type": "code",
   "execution_count": null,
   "metadata": {},
   "outputs": [],
   "source": [
    "# graficar relacion entre 20 agents mas comunes y 'is_canceled'\n",
    "top_20_agents = hotel_reducido['agent'].value_counts().head(20).index\n",
    "sns.countplot(x='agent', hue='is_canceled', data=hotel_reducido[hotel_reducido['agent'].isin(top_20_agents)])\n"
   ]
  },
  {
   "cell_type": "code",
   "execution_count": null,
   "metadata": {},
   "outputs": [],
   "source": [
    "# graficar cantidad de bebes por reserva, sacando los registros con 0 'babies'\n",
    "sns.countplot(x='babies', data=hotel_reducido[hotel_reducido['babies'] > 1])"
   ]
  },
  {
   "cell_type": "code",
   "execution_count": null,
   "metadata": {},
   "outputs": [],
   "source": [
    "# graficar cantidad de 'children' por reserva\n",
    "sns.countplot(x='children', data=hotel_reducido[hotel_reducido['children'] > 3])"
   ]
  },
  {
   "attachments": {},
   "cell_type": "markdown",
   "metadata": {},
   "source": [
    "Revisaremos entonces la distribución de agentes y compañías respecto al target del modelo, la columna ``is_canceled``.\n",
    "\n"
   ]
  },
  {
   "cell_type": "code",
   "execution_count": null,
   "metadata": {},
   "outputs": [],
   "source": [
    "sns.countplot(y='company', data=hotel, hue='is_canceled',\n",
    "              order=hotel['company'].value_counts().iloc[:30].index)\n",
    "\n",
    "# Calculamos la cantidad de agentes y compañías únicos:\n",
    "len(df['agent'].unique())\n",
    "\n",
    "len(df['company'].unique())\n",
    "# calcular cuantos valores unicos de 'company' hay ent\n",
    "# graficar 'agent' contra 'is_canceled', ordenar por apariciones, los 30 primeros\n",
    "sns.countplot(y='agent', data=hotel, hue='is_canceled',\n",
    "              order=hotel['agent'].value_counts().iloc[:30].index)\n",
    "\n",
    "# create a new column 'is_used_agent' that is 1 if 'agent' is not null, 0 otherwise\n",
    "_hotel = hotel.copy()\n",
    "_hotel['is_used_agent'] = _hotel['agent'].notna().astype(int)\n",
    "_hotel['is_used_agent'].value_counts()\n",
    "\n",
    "# create a new column 'is_used_company' that is 1 if 'company' is not null, 0 otherwise\n",
    "_hotel['is_used_company'] = _hotel['company'].notna().astype(int)\n",
    "_hotel['is_used_company'].value_counts()\n",
    "\n",
    "# create a new column 'is_used_company' that is 1 if 'company' is not null, 0 otherwise\n",
    "_hotel['is_used_company'] = _hotel['company'].notna().astype(int)\n",
    "_hotel['is_used_company'].value_counts()\n"
   ]
  }
 ],
 "metadata": {
  "kernelspec": {
   "display_name": "Python 3.8.5 64-bit",
   "language": "python",
   "name": "python3"
  },
  "language_info": {
   "codemirror_mode": {
    "name": "ipython",
    "version": 3
   },
   "file_extension": ".py",
   "mimetype": "text/x-python",
   "name": "python",
   "nbconvert_exporter": "python",
   "pygments_lexer": "ipython3",
   "version": "3.8.5"
  },
  "orig_nbformat": 4,
  "vscode": {
   "interpreter": {
    "hash": "570feb405e2e27c949193ac68f46852414290d515b0ba6e5d90d076ed2284471"
   }
  }
 },
 "nbformat": 4,
 "nbformat_minor": 2
}
