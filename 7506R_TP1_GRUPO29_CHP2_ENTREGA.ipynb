{
 "cells": [
  {
   "cell_type": "markdown",
   "metadata": {},
   "source": [
    "# <center>Organizaci&oacute;n de Datos</center>\n",
    "#### <center>C&aacute;tedra Ing. Rodriguez, Juan Manuel </center>\n",
    "## <center>Trabajo Práctico 1 : Reservas de Hotel </center>\n",
    "## <center>Árboles de Decisión </center>\n",
    "#### Grupo 29:\n",
    "* Alen Davies Leccese - 107084\n",
    "* Luca Lazcano - 107044"
   ]
  },
  {
   "cell_type": "markdown",
   "metadata": {},
   "source": [
    "## Tabla de contenidos\n",
    "- [Importación y carga de datasets](#imports)\n",
    "- [Preprocesamiento](#preprocessing)\n",
    "- [Encoding](#encoding)\n",
    "- [Split train/test](#split)\n",
    "- [Grid Search](#gridsearch)\n",
    "- [Decision Tree](#decisiontree)\n",
    "     - [Metricas y matriz de confusion](#metrics)\n",
    "- [Visualización del árbol](#visualizacion)\n",
    "     - [Feature importance](#featureimportance)\n",
    "- [Submission](#submission)"
   ]
  },
  {
   "attachments": {},
   "cell_type": "markdown",
   "metadata": {},
   "source": [
    "## Importación y carga de datasets <a name=\"imports\"></a>"
   ]
  },
  {
   "cell_type": "code",
   "execution_count": 209,
   "metadata": {},
   "outputs": [],
   "source": [
    "import pandas as pd\n",
    "import numpy as np\n",
    "import matplotlib.pyplot as plt\n",
    "import seaborn as sns\n",
    "import sklearn as sk\n",
    "from sklearn.preprocessing import MinMaxScaler, OneHotEncoder\n",
    "from sklearn.model_selection import train_test_split, GridSearchCV\n",
    "from sklearn.tree import DecisionTreeClassifier, plot_tree, export_text\n",
    "from sklearn.model_selection import StratifiedKFold, KFold, RandomizedSearchCV, cross_val_score\n",
    "from sklearn.metrics import precision_score, recall_score, accuracy_score, f1_score, confusion_matrix, classification_report, make_scorer\n",
    "\n",
    "import pickle\n",
    "\n",
    "#semilla\n",
    "RANDOM_STATE = 42"
   ]
  },
  {
   "cell_type": "code",
   "execution_count": 151,
   "metadata": {},
   "outputs": [],
   "source": [
    "original = pd.read_csv('./Datasets/hotels_procesado.csv')\n",
    "df_train = original.copy()\n",
    "df_test = pd.read_csv('./Datasets/hotels_test.csv').copy()"
   ]
  },
  {
   "attachments": {},
   "cell_type": "markdown",
   "metadata": {},
   "source": [
    "## Procesamiento de datos <a name=\"preprocessing\"></a>"
   ]
  },
  {
   "attachments": {},
   "cell_type": "markdown",
   "metadata": {},
   "source": [
    "### Dataset de Train"
   ]
  },
  {
   "cell_type": "markdown",
   "metadata": {},
   "source": [
    "Vamos a eliminar del dataset las columnas que no utilizaremos para el entrenamiento del modelo."
   ]
  },
  {
   "cell_type": "code",
   "execution_count": 152,
   "metadata": {},
   "outputs": [],
   "source": [
    "df_train.drop(['id', 'arrival_date'], axis='columns', inplace=True)"
   ]
  },
  {
   "cell_type": "markdown",
   "metadata": {},
   "source": [
    "Convertimos las columnas de ``'company'`` y ``'agent'`` que tienen valores categóricos a valores numéricos para poder utilizarlas en el modelo."
   ]
  },
  {
   "cell_type": "code",
   "execution_count": 153,
   "metadata": {},
   "outputs": [],
   "source": [
    "df_train['company'] = df_train['company'].apply(lambda x: 0 if x == 'Sin compania' else x).astype('float64').astype('int64')\n",
    "df_train['agent'] = df_train['agent'].apply(lambda x: 0 if x == 'Sin agente' else x).astype('float64').astype('int64')"
   ]
  },
  {
   "cell_type": "code",
   "execution_count": 154,
   "metadata": {},
   "outputs": [
    {
     "data": {
      "text/html": [
       "<div>\n",
       "<style scoped>\n",
       "    .dataframe tbody tr th:only-of-type {\n",
       "        vertical-align: middle;\n",
       "    }\n",
       "\n",
       "    .dataframe tbody tr th {\n",
       "        vertical-align: top;\n",
       "    }\n",
       "\n",
       "    .dataframe thead th {\n",
       "        text-align: right;\n",
       "    }\n",
       "</style>\n",
       "<table border=\"1\" class=\"dataframe\">\n",
       "  <thead>\n",
       "    <tr style=\"text-align: right;\">\n",
       "      <th></th>\n",
       "      <th>hotel</th>\n",
       "      <th>lead_time</th>\n",
       "      <th>arrival_date_year</th>\n",
       "      <th>arrival_date_month</th>\n",
       "      <th>arrival_date_week_number</th>\n",
       "      <th>arrival_date_day_of_month</th>\n",
       "      <th>stays_in_weekend_nights</th>\n",
       "      <th>stays_in_week_nights</th>\n",
       "      <th>adults</th>\n",
       "      <th>children</th>\n",
       "      <th>...</th>\n",
       "      <th>booking_changes</th>\n",
       "      <th>deposit_type</th>\n",
       "      <th>agent</th>\n",
       "      <th>company</th>\n",
       "      <th>days_in_waiting_list</th>\n",
       "      <th>customer_type</th>\n",
       "      <th>adr</th>\n",
       "      <th>required_car_parking_spaces</th>\n",
       "      <th>total_of_special_requests</th>\n",
       "      <th>is_canceled</th>\n",
       "    </tr>\n",
       "  </thead>\n",
       "  <tbody>\n",
       "    <tr>\n",
       "      <th>0</th>\n",
       "      <td>City Hotel</td>\n",
       "      <td>49</td>\n",
       "      <td>2016</td>\n",
       "      <td>September</td>\n",
       "      <td>37</td>\n",
       "      <td>5</td>\n",
       "      <td>1</td>\n",
       "      <td>2</td>\n",
       "      <td>1</td>\n",
       "      <td>0</td>\n",
       "      <td>...</td>\n",
       "      <td>0</td>\n",
       "      <td>No Deposit</td>\n",
       "      <td>9</td>\n",
       "      <td>0</td>\n",
       "      <td>0</td>\n",
       "      <td>Transient</td>\n",
       "      <td>115.5</td>\n",
       "      <td>0</td>\n",
       "      <td>1</td>\n",
       "      <td>1</td>\n",
       "    </tr>\n",
       "    <tr>\n",
       "      <th>1</th>\n",
       "      <td>Resort Hotel</td>\n",
       "      <td>4</td>\n",
       "      <td>2015</td>\n",
       "      <td>October</td>\n",
       "      <td>44</td>\n",
       "      <td>31</td>\n",
       "      <td>0</td>\n",
       "      <td>1</td>\n",
       "      <td>2</td>\n",
       "      <td>0</td>\n",
       "      <td>...</td>\n",
       "      <td>0</td>\n",
       "      <td>No Deposit</td>\n",
       "      <td>0</td>\n",
       "      <td>0</td>\n",
       "      <td>0</td>\n",
       "      <td>Transient</td>\n",
       "      <td>42.0</td>\n",
       "      <td>1</td>\n",
       "      <td>0</td>\n",
       "      <td>0</td>\n",
       "    </tr>\n",
       "    <tr>\n",
       "      <th>2</th>\n",
       "      <td>City Hotel</td>\n",
       "      <td>25</td>\n",
       "      <td>2016</td>\n",
       "      <td>October</td>\n",
       "      <td>42</td>\n",
       "      <td>13</td>\n",
       "      <td>0</td>\n",
       "      <td>1</td>\n",
       "      <td>2</td>\n",
       "      <td>2</td>\n",
       "      <td>...</td>\n",
       "      <td>0</td>\n",
       "      <td>No Deposit</td>\n",
       "      <td>9</td>\n",
       "      <td>0</td>\n",
       "      <td>0</td>\n",
       "      <td>Transient</td>\n",
       "      <td>229.0</td>\n",
       "      <td>0</td>\n",
       "      <td>2</td>\n",
       "      <td>0</td>\n",
       "    </tr>\n",
       "    <tr>\n",
       "      <th>3</th>\n",
       "      <td>City Hotel</td>\n",
       "      <td>26</td>\n",
       "      <td>2016</td>\n",
       "      <td>December</td>\n",
       "      <td>51</td>\n",
       "      <td>12</td>\n",
       "      <td>2</td>\n",
       "      <td>5</td>\n",
       "      <td>2</td>\n",
       "      <td>0</td>\n",
       "      <td>...</td>\n",
       "      <td>0</td>\n",
       "      <td>Non Refund</td>\n",
       "      <td>154</td>\n",
       "      <td>0</td>\n",
       "      <td>0</td>\n",
       "      <td>Transient</td>\n",
       "      <td>75.0</td>\n",
       "      <td>0</td>\n",
       "      <td>0</td>\n",
       "      <td>1</td>\n",
       "    </tr>\n",
       "    <tr>\n",
       "      <th>4</th>\n",
       "      <td>City Hotel</td>\n",
       "      <td>104</td>\n",
       "      <td>2017</td>\n",
       "      <td>March</td>\n",
       "      <td>12</td>\n",
       "      <td>19</td>\n",
       "      <td>2</td>\n",
       "      <td>5</td>\n",
       "      <td>2</td>\n",
       "      <td>0</td>\n",
       "      <td>...</td>\n",
       "      <td>0</td>\n",
       "      <td>No Deposit</td>\n",
       "      <td>20</td>\n",
       "      <td>0</td>\n",
       "      <td>0</td>\n",
       "      <td>Transient-Party</td>\n",
       "      <td>75.0</td>\n",
       "      <td>0</td>\n",
       "      <td>1</td>\n",
       "      <td>0</td>\n",
       "    </tr>\n",
       "  </tbody>\n",
       "</table>\n",
       "<p>5 rows × 30 columns</p>\n",
       "</div>"
      ],
      "text/plain": [
       "          hotel  lead_time  arrival_date_year arrival_date_month  \\\n",
       "0    City Hotel         49               2016          September   \n",
       "1  Resort Hotel          4               2015            October   \n",
       "2    City Hotel         25               2016            October   \n",
       "3    City Hotel         26               2016           December   \n",
       "4    City Hotel        104               2017              March   \n",
       "\n",
       "   arrival_date_week_number  arrival_date_day_of_month  \\\n",
       "0                        37                          5   \n",
       "1                        44                         31   \n",
       "2                        42                         13   \n",
       "3                        51                         12   \n",
       "4                        12                         19   \n",
       "\n",
       "   stays_in_weekend_nights  stays_in_week_nights  adults  children  ...  \\\n",
       "0                        1                     2       1         0  ...   \n",
       "1                        0                     1       2         0  ...   \n",
       "2                        0                     1       2         2  ...   \n",
       "3                        2                     5       2         0  ...   \n",
       "4                        2                     5       2         0  ...   \n",
       "\n",
       "   booking_changes deposit_type agent company days_in_waiting_list  \\\n",
       "0                0   No Deposit     9       0                    0   \n",
       "1                0   No Deposit     0       0                    0   \n",
       "2                0   No Deposit     9       0                    0   \n",
       "3                0   Non Refund   154       0                    0   \n",
       "4                0   No Deposit    20       0                    0   \n",
       "\n",
       "     customer_type    adr  required_car_parking_spaces  \\\n",
       "0        Transient  115.5                            0   \n",
       "1        Transient   42.0                            1   \n",
       "2        Transient  229.0                            0   \n",
       "3        Transient   75.0                            0   \n",
       "4  Transient-Party   75.0                            0   \n",
       "\n",
       "  total_of_special_requests is_canceled  \n",
       "0                         1           1  \n",
       "1                         0           0  \n",
       "2                         2           0  \n",
       "3                         0           1  \n",
       "4                         1           0  \n",
       "\n",
       "[5 rows x 30 columns]"
      ]
     },
     "execution_count": 154,
     "metadata": {},
     "output_type": "execute_result"
    }
   ],
   "source": [
    "df_train.head()"
   ]
  },
  {
   "attachments": {},
   "cell_type": "markdown",
   "metadata": {},
   "source": [
    "### Dataset de Test"
   ]
  },
  {
   "cell_type": "markdown",
   "metadata": {},
   "source": [
    "Ahora hacemos lo mismo en el dataset de test."
   ]
  },
  {
   "cell_type": "code",
   "execution_count": 155,
   "metadata": {},
   "outputs": [],
   "source": [
    "df_test.drop(['reservation_status_date'], axis='columns', inplace=True)"
   ]
  },
  {
   "cell_type": "code",
   "execution_count": 156,
   "metadata": {},
   "outputs": [],
   "source": [
    "df_test['children'] = df_test['children'].astype('int64')"
   ]
  },
  {
   "cell_type": "markdown",
   "metadata": {},
   "source": [
    "Tenemos que hacer tratamiento de datos nulos como lo hicimos en el dataset de train."
   ]
  },
  {
   "cell_type": "code",
   "execution_count": 157,
   "metadata": {},
   "outputs": [],
   "source": [
    "df_test['company'] = df_test['company'].fillna(0).astype('int64')\n",
    "df_test['agent'] = df_test['agent'].fillna(0).astype('int64')\n",
    "df_test['country'] = df_test['country'].fillna('Desconocido')"
   ]
  },
  {
   "cell_type": "code",
   "execution_count": 158,
   "metadata": {},
   "outputs": [
    {
     "data": {
      "text/html": [
       "<div>\n",
       "<style scoped>\n",
       "    .dataframe tbody tr th:only-of-type {\n",
       "        vertical-align: middle;\n",
       "    }\n",
       "\n",
       "    .dataframe tbody tr th {\n",
       "        vertical-align: top;\n",
       "    }\n",
       "\n",
       "    .dataframe thead th {\n",
       "        text-align: right;\n",
       "    }\n",
       "</style>\n",
       "<table border=\"1\" class=\"dataframe\">\n",
       "  <thead>\n",
       "    <tr style=\"text-align: right;\">\n",
       "      <th></th>\n",
       "      <th>hotel</th>\n",
       "      <th>lead_time</th>\n",
       "      <th>arrival_date_year</th>\n",
       "      <th>arrival_date_month</th>\n",
       "      <th>arrival_date_week_number</th>\n",
       "      <th>arrival_date_day_of_month</th>\n",
       "      <th>stays_in_weekend_nights</th>\n",
       "      <th>stays_in_week_nights</th>\n",
       "      <th>adults</th>\n",
       "      <th>children</th>\n",
       "      <th>...</th>\n",
       "      <th>booking_changes</th>\n",
       "      <th>deposit_type</th>\n",
       "      <th>agent</th>\n",
       "      <th>company</th>\n",
       "      <th>days_in_waiting_list</th>\n",
       "      <th>customer_type</th>\n",
       "      <th>adr</th>\n",
       "      <th>required_car_parking_spaces</th>\n",
       "      <th>total_of_special_requests</th>\n",
       "      <th>id</th>\n",
       "    </tr>\n",
       "  </thead>\n",
       "  <tbody>\n",
       "    <tr>\n",
       "      <th>0</th>\n",
       "      <td>City Hotel</td>\n",
       "      <td>277</td>\n",
       "      <td>2016</td>\n",
       "      <td>November</td>\n",
       "      <td>46</td>\n",
       "      <td>7</td>\n",
       "      <td>1</td>\n",
       "      <td>2</td>\n",
       "      <td>2</td>\n",
       "      <td>0</td>\n",
       "      <td>...</td>\n",
       "      <td>0</td>\n",
       "      <td>Non Refund</td>\n",
       "      <td>0</td>\n",
       "      <td>0</td>\n",
       "      <td>0</td>\n",
       "      <td>Transient</td>\n",
       "      <td>100.0</td>\n",
       "      <td>0</td>\n",
       "      <td>0</td>\n",
       "      <td>e6d0d58a-ab96-44d3-b28f-85df1cc15f1e</td>\n",
       "    </tr>\n",
       "    <tr>\n",
       "      <th>1</th>\n",
       "      <td>City Hotel</td>\n",
       "      <td>286</td>\n",
       "      <td>2016</td>\n",
       "      <td>May</td>\n",
       "      <td>20</td>\n",
       "      <td>11</td>\n",
       "      <td>0</td>\n",
       "      <td>4</td>\n",
       "      <td>2</td>\n",
       "      <td>0</td>\n",
       "      <td>...</td>\n",
       "      <td>0</td>\n",
       "      <td>No Deposit</td>\n",
       "      <td>30</td>\n",
       "      <td>0</td>\n",
       "      <td>176</td>\n",
       "      <td>Transient-Party</td>\n",
       "      <td>101.0</td>\n",
       "      <td>0</td>\n",
       "      <td>0</td>\n",
       "      <td>aba9aac2-4495-4645-a60e-90328713c999</td>\n",
       "    </tr>\n",
       "    <tr>\n",
       "      <th>2</th>\n",
       "      <td>City Hotel</td>\n",
       "      <td>0</td>\n",
       "      <td>2016</td>\n",
       "      <td>August</td>\n",
       "      <td>35</td>\n",
       "      <td>23</td>\n",
       "      <td>0</td>\n",
       "      <td>1</td>\n",
       "      <td>3</td>\n",
       "      <td>0</td>\n",
       "      <td>...</td>\n",
       "      <td>0</td>\n",
       "      <td>No Deposit</td>\n",
       "      <td>0</td>\n",
       "      <td>0</td>\n",
       "      <td>0</td>\n",
       "      <td>Transient</td>\n",
       "      <td>225.0</td>\n",
       "      <td>0</td>\n",
       "      <td>2</td>\n",
       "      <td>b345b5dc-c804-4d77-a39f-1f4e65d1f1ad</td>\n",
       "    </tr>\n",
       "    <tr>\n",
       "      <th>3</th>\n",
       "      <td>Resort Hotel</td>\n",
       "      <td>196</td>\n",
       "      <td>2016</td>\n",
       "      <td>October</td>\n",
       "      <td>44</td>\n",
       "      <td>29</td>\n",
       "      <td>2</td>\n",
       "      <td>5</td>\n",
       "      <td>2</td>\n",
       "      <td>2</td>\n",
       "      <td>...</td>\n",
       "      <td>0</td>\n",
       "      <td>No Deposit</td>\n",
       "      <td>240</td>\n",
       "      <td>0</td>\n",
       "      <td>0</td>\n",
       "      <td>Transient</td>\n",
       "      <td>96.0</td>\n",
       "      <td>0</td>\n",
       "      <td>0</td>\n",
       "      <td>ce1b400e-afa1-4946-bdff-004b859eb61c</td>\n",
       "    </tr>\n",
       "    <tr>\n",
       "      <th>4</th>\n",
       "      <td>Resort Hotel</td>\n",
       "      <td>232</td>\n",
       "      <td>2016</td>\n",
       "      <td>November</td>\n",
       "      <td>48</td>\n",
       "      <td>26</td>\n",
       "      <td>2</td>\n",
       "      <td>1</td>\n",
       "      <td>2</td>\n",
       "      <td>0</td>\n",
       "      <td>...</td>\n",
       "      <td>0</td>\n",
       "      <td>Non Refund</td>\n",
       "      <td>11</td>\n",
       "      <td>0</td>\n",
       "      <td>0</td>\n",
       "      <td>Transient</td>\n",
       "      <td>30.0</td>\n",
       "      <td>0</td>\n",
       "      <td>0</td>\n",
       "      <td>c4fbec0d-8e2e-4db2-9d4f-a6ccb9f51214</td>\n",
       "    </tr>\n",
       "  </tbody>\n",
       "</table>\n",
       "<p>5 rows × 30 columns</p>\n",
       "</div>"
      ],
      "text/plain": [
       "          hotel  lead_time  arrival_date_year arrival_date_month  \\\n",
       "0    City Hotel        277               2016           November   \n",
       "1    City Hotel        286               2016                May   \n",
       "2    City Hotel          0               2016             August   \n",
       "3  Resort Hotel        196               2016            October   \n",
       "4  Resort Hotel        232               2016           November   \n",
       "\n",
       "   arrival_date_week_number  arrival_date_day_of_month  \\\n",
       "0                        46                          7   \n",
       "1                        20                         11   \n",
       "2                        35                         23   \n",
       "3                        44                         29   \n",
       "4                        48                         26   \n",
       "\n",
       "   stays_in_weekend_nights  stays_in_week_nights  adults  children  ...  \\\n",
       "0                        1                     2       2         0  ...   \n",
       "1                        0                     4       2         0  ...   \n",
       "2                        0                     1       3         0  ...   \n",
       "3                        2                     5       2         2  ...   \n",
       "4                        2                     1       2         0  ...   \n",
       "\n",
       "   booking_changes deposit_type agent company days_in_waiting_list  \\\n",
       "0                0   Non Refund     0       0                    0   \n",
       "1                0   No Deposit    30       0                  176   \n",
       "2                0   No Deposit     0       0                    0   \n",
       "3                0   No Deposit   240       0                    0   \n",
       "4                0   Non Refund    11       0                    0   \n",
       "\n",
       "     customer_type    adr  required_car_parking_spaces  \\\n",
       "0        Transient  100.0                            0   \n",
       "1  Transient-Party  101.0                            0   \n",
       "2        Transient  225.0                            0   \n",
       "3        Transient   96.0                            0   \n",
       "4        Transient   30.0                            0   \n",
       "\n",
       "  total_of_special_requests                                    id  \n",
       "0                         0  e6d0d58a-ab96-44d3-b28f-85df1cc15f1e  \n",
       "1                         0  aba9aac2-4495-4645-a60e-90328713c999  \n",
       "2                         2  b345b5dc-c804-4d77-a39f-1f4e65d1f1ad  \n",
       "3                         0  ce1b400e-afa1-4946-bdff-004b859eb61c  \n",
       "4                         0  c4fbec0d-8e2e-4db2-9d4f-a6ccb9f51214  \n",
       "\n",
       "[5 rows x 30 columns]"
      ]
     },
     "execution_count": 158,
     "metadata": {},
     "output_type": "execute_result"
    }
   ],
   "source": [
    "df_test.head()"
   ]
  },
  {
   "cell_type": "code",
   "execution_count": 159,
   "metadata": {},
   "outputs": [
    {
     "data": {
      "text/plain": [
       "PRT    23273\n",
       "GBR     4930\n",
       "FRA     4344\n",
       "ESP     3588\n",
       "DEU     2993\n",
       "ITA     1705\n",
       "IRL     1412\n",
       "BRA     1019\n",
       "BEL     1001\n",
       "NLD      888\n",
       "USA      870\n",
       "Name: country, dtype: int64"
      ]
     },
     "execution_count": 159,
     "metadata": {},
     "output_type": "execute_result"
    }
   ],
   "source": [
    "# show countries first 10\n",
    "df_train['country'].value_counts().head(11)"
   ]
  },
  {
   "cell_type": "code",
   "execution_count": 160,
   "metadata": {},
   "outputs": [
    {
     "data": {
      "text/plain": [
       "PRT      23273\n",
       "Other     7109\n",
       "GBR       4930\n",
       "FRA       4344\n",
       "ESP       3588\n",
       "DEU       2993\n",
       "ITA       1705\n",
       "IRL       1412\n",
       "BRA       1019\n",
       "BEL       1001\n",
       "NLD        888\n",
       "USA        870\n",
       "Name: country, dtype: int64"
      ]
     },
     "execution_count": 160,
     "metadata": {},
     "output_type": "execute_result"
    }
   ],
   "source": [
    "# group the other countries in value 'other'\n",
    "df_train['country'] = df_train['country'].apply(lambda x: 'Other' if x not in ['PRT', 'GBR', 'FRA', 'ESP', 'DEU', 'ITA', 'IRL', 'BEL', 'BRA', 'NLD', 'USA'] else x)\n",
    "df_train['country'].value_counts()"
   ]
  },
  {
   "cell_type": "code",
   "execution_count": 161,
   "metadata": {},
   "outputs": [
    {
     "data": {
      "text/plain": [
       "PRT      12029\n",
       "Other     3504\n",
       "GBR       2387\n",
       "FRA       2118\n",
       "ESP       1757\n",
       "DEU       1405\n",
       "ITA        868\n",
       "IRL        681\n",
       "BRA        483\n",
       "BEL        471\n",
       "USA        420\n",
       "NLD        412\n",
       "Name: country, dtype: int64"
      ]
     },
     "execution_count": 161,
     "metadata": {},
     "output_type": "execute_result"
    }
   ],
   "source": [
    "df_test['country'] = df_test['country'].apply(lambda x: 'Other' if x not in ['PRT', 'GBR', 'FRA', 'ESP', 'DEU', 'ITA', 'IRL', 'BEL', 'BRA', 'NLD', 'USA'] else x)\n",
    "df_test['country'].value_counts()"
   ]
  },
  {
   "cell_type": "code",
   "execution_count": 162,
   "metadata": {},
   "outputs": [
    {
     "data": {
      "text/plain": [
       "A    35672\n",
       "D    11042\n",
       "E     3165\n",
       "F     1216\n",
       "G      707\n",
       "B      626\n",
       "C      455\n",
       "H      170\n",
       "K       50\n",
       "I       29\n",
       "Name: assigned_room_type, dtype: int64"
      ]
     },
     "execution_count": 162,
     "metadata": {},
     "output_type": "execute_result"
    }
   ],
   "source": [
    "# show assigned room types first 10\n",
    "df_train['assigned_room_type'].value_counts().head(10)"
   ]
  },
  {
   "cell_type": "code",
   "execution_count": 163,
   "metadata": {},
   "outputs": [
    {
     "data": {
      "text/plain": [
       "A        35672\n",
       "D        11042\n",
       "E         3165\n",
       "Other     1330\n",
       "F         1216\n",
       "G          707\n",
       "Name: assigned_room_type, dtype: int64"
      ]
     },
     "execution_count": 163,
     "metadata": {},
     "output_type": "execute_result"
    }
   ],
   "source": [
    "# group the other room types in value 'other'\n",
    "df_train['assigned_room_type'] = df_train['assigned_room_type'].apply(lambda x: 'Other' if x not in ['A', 'D', 'E', 'F', 'G'] else x)\n",
    "df_train['assigned_room_type'].value_counts()"
   ]
  },
  {
   "cell_type": "code",
   "execution_count": 164,
   "metadata": {},
   "outputs": [
    {
     "data": {
      "text/plain": [
       "A        17218\n",
       "D         5316\n",
       "E         1576\n",
       "Other     1144\n",
       "F          764\n",
       "G          517\n",
       "Name: assigned_room_type, dtype: int64"
      ]
     },
     "execution_count": 164,
     "metadata": {},
     "output_type": "execute_result"
    }
   ],
   "source": [
    "df_test['assigned_room_type'] = df_test['assigned_room_type'].apply(lambda x: 'Other' if x not in ['A', 'D', 'E', 'F', 'G'] else x)\n",
    "df_test['assigned_room_type'].value_counts()"
   ]
  },
  {
   "cell_type": "code",
   "execution_count": 165,
   "metadata": {},
   "outputs": [
    {
     "data": {
      "text/plain": [
       "A    39724\n",
       "D     8800\n",
       "E     2684\n",
       "F      926\n",
       "G      562\n",
       "B      263\n",
       "H      135\n",
       "C       38\n",
       "Name: reserved_room_type, dtype: int64"
      ]
     },
     "execution_count": 165,
     "metadata": {},
     "output_type": "execute_result"
    }
   ],
   "source": [
    "df_train['reserved_room_type'].value_counts().head(10)"
   ]
  },
  {
   "cell_type": "code",
   "execution_count": 166,
   "metadata": {},
   "outputs": [
    {
     "data": {
      "text/plain": [
       "A        39724\n",
       "D         8800\n",
       "E         2684\n",
       "F          926\n",
       "G          562\n",
       "Other      436\n",
       "Name: reserved_room_type, dtype: int64"
      ]
     },
     "execution_count": 166,
     "metadata": {},
     "output_type": "execute_result"
    }
   ],
   "source": [
    "df_train['reserved_room_type'] = df_train['reserved_room_type'].apply(lambda x: 'Other' if x not in ['A', 'D', 'E', 'F', 'G'] else x)\n",
    "df_train['reserved_room_type'].value_counts()"
   ]
  },
  {
   "cell_type": "code",
   "execution_count": 167,
   "metadata": {},
   "outputs": [
    {
     "data": {
      "text/plain": [
       "A        19366\n",
       "D         4176\n",
       "E         1352\n",
       "F          630\n",
       "Other      569\n",
       "G          442\n",
       "Name: reserved_room_type, dtype: int64"
      ]
     },
     "execution_count": 167,
     "metadata": {},
     "output_type": "execute_result"
    }
   ],
   "source": [
    "df_test['reserved_room_type'] = df_test['reserved_room_type'].apply(lambda x: 'Other' if x not in ['A', 'D', 'E', 'F', 'G'] else x)\n",
    "df_test['reserved_room_type'].value_counts()"
   ]
  },
  {
   "cell_type": "code",
   "execution_count": 168,
   "metadata": {},
   "outputs": [
    {
     "data": {
      "text/plain": [
       "9      15597\n",
       "240     6326\n",
       "0       5906\n",
       "1       3732\n",
       "7       1455\n",
       "6       1446\n",
       "14      1441\n",
       "250      818\n",
       "241      688\n",
       "37       680\n",
       "Name: agent, dtype: int64"
      ]
     },
     "execution_count": 168,
     "metadata": {},
     "output_type": "execute_result"
    }
   ],
   "source": [
    "# show agent first 10\n",
    "df_train['agent'].value_counts().head(10)"
   ]
  },
  {
   "cell_type": "code",
   "execution_count": 169,
   "metadata": {},
   "outputs": [
    {
     "data": {
      "text/plain": [
       "10000    17229\n",
       "9        15597\n",
       "240       6326\n",
       "0         5906\n",
       "1         3732\n",
       "7         1455\n",
       "6         1446\n",
       "14        1441\n",
       "Name: agent, dtype: int64"
      ]
     },
     "execution_count": 169,
     "metadata": {},
     "output_type": "execute_result"
    }
   ],
   "source": [
    "# GROUP THE OTHER AGENTS IN VALUE 'other'\n",
    "df_train['agent'] = df_train['agent'].apply(lambda x: 10000 if x not in [9, 240, 0, 1, 7, 6, 14] else x)\n",
    "df_train['agent'].value_counts()"
   ]
  },
  {
   "cell_type": "code",
   "execution_count": 170,
   "metadata": {},
   "outputs": [
    {
     "data": {
      "text/plain": [
       "10000    8763\n",
       "9        7324\n",
       "0        3363\n",
       "240      2989\n",
       "1        1983\n",
       "6         717\n",
       "14        700\n",
       "7         696\n",
       "Name: agent, dtype: int64"
      ]
     },
     "execution_count": 170,
     "metadata": {},
     "output_type": "execute_result"
    }
   ],
   "source": [
    "df_test['agent'] = df_test['agent'].apply(lambda x: 10000 if x not in [9, 240, 0, 1, 7, 6, 14] else x)\n",
    "df_test['agent'].value_counts()"
   ]
  },
  {
   "cell_type": "code",
   "execution_count": 171,
   "metadata": {},
   "outputs": [],
   "source": [
    "df_train.drop(['company'], axis='columns', inplace=True)\n",
    "df_test.drop(['company'], axis='columns', inplace=True)"
   ]
  },
  {
   "attachments": {},
   "cell_type": "markdown",
   "metadata": {},
   "source": [
    "## Encoding <a name=\"onehot\"></a>"
   ]
  },
  {
   "cell_type": "markdown",
   "metadata": {},
   "source": [
    "Vamos a utilizar la funcion OneHotEncoder para convertir las columnas categóricas de ambos datasets a numéricas para poder utilizarlas en el modelo de árbol de decisión."
   ]
  },
  {
   "cell_type": "code",
   "execution_count": 172,
   "metadata": {},
   "outputs": [],
   "source": [
    "encoder = OneHotEncoder(handle_unknown='ignore')"
   ]
  },
  {
   "cell_type": "markdown",
   "metadata": {},
   "source": [
    "### Dataset de Train"
   ]
  },
  {
   "cell_type": "code",
   "execution_count": 173,
   "metadata": {},
   "outputs": [],
   "source": [
    "train_one_hot = encoder.fit_transform(df_train[['agent', 'country', 'market_segment', 'distribution_channel', 'reserved_room_type', 'assigned_room_type', 'deposit_type', 'customer_type', 'meal', 'hotel', 'arrival_date_month', 'arrival_date_year', 'arrival_date_week_number', 'arrival_date_day_of_month']])\n",
    "\n",
    "train_columns = encoder.get_feature_names_out(['agent','country', 'market_segment', 'distribution_channel', 'reserved_room_type', 'assigned_room_type', 'deposit_type', 'customer_type', 'meal', 'hotel', 'arrival_date_month', 'arrival_date_year', 'arrival_date_week_number', 'arrival_date_day_of_month'])\n",
    "\n",
    "train_encoded = pd.DataFrame(train_one_hot.toarray(), columns=train_columns)"
   ]
  },
  {
   "cell_type": "code",
   "execution_count": 174,
   "metadata": {},
   "outputs": [
    {
     "data": {
      "text/plain": [
       "(53132, 156)"
      ]
     },
     "execution_count": 174,
     "metadata": {},
     "output_type": "execute_result"
    }
   ],
   "source": [
    "train_encoded.shape"
   ]
  },
  {
   "cell_type": "code",
   "execution_count": 175,
   "metadata": {},
   "outputs": [],
   "source": [
    "train_ = pd.concat([df_train, train_encoded], axis=1)"
   ]
  },
  {
   "cell_type": "code",
   "execution_count": 176,
   "metadata": {},
   "outputs": [],
   "source": [
    "train_.drop(['agent','country', 'market_segment', 'distribution_channel', 'reserved_room_type', 'assigned_room_type', 'deposit_type', 'customer_type', 'meal', 'hotel', 'arrival_date_month', 'arrival_date_year', 'arrival_date_week_number', 'arrival_date_day_of_month', 'is_canceled'], axis='columns', inplace=True)"
   ]
  },
  {
   "cell_type": "code",
   "execution_count": 177,
   "metadata": {},
   "outputs": [
    {
     "data": {
      "text/plain": [
       "(53132, 170)"
      ]
     },
     "execution_count": 177,
     "metadata": {},
     "output_type": "execute_result"
    }
   ],
   "source": [
    "train_.shape"
   ]
  },
  {
   "cell_type": "markdown",
   "metadata": {},
   "source": [
    "### Dataset de Test"
   ]
  },
  {
   "cell_type": "code",
   "execution_count": 178,
   "metadata": {},
   "outputs": [],
   "source": [
    "test_one_hot = encoder.fit_transform(df_test[['agent','country', 'market_segment', 'distribution_channel', 'reserved_room_type', 'assigned_room_type',\n",
    "                                      'deposit_type', 'customer_type', 'meal', 'hotel', 'arrival_date_month', 'arrival_date_year', 'arrival_date_week_number', 'arrival_date_day_of_month']])\n",
    "\n",
    "test_columns = encoder.get_feature_names_out(['agent','country', 'market_segment', 'distribution_channel', 'reserved_room_type', 'assigned_room_type',\n",
    "                                              'deposit_type', 'customer_type', 'meal', 'hotel', 'arrival_date_month', 'arrival_date_year', 'arrival_date_week_number', 'arrival_date_day_of_month'])\n",
    "\n",
    "test_encoded = pd.DataFrame(test_one_hot.toarray(), columns=test_columns)\n"
   ]
  },
  {
   "cell_type": "code",
   "execution_count": 179,
   "metadata": {},
   "outputs": [],
   "source": [
    "test_ = pd.concat([df_test, test_encoded], axis=1)"
   ]
  },
  {
   "cell_type": "code",
   "execution_count": 180,
   "metadata": {},
   "outputs": [],
   "source": [
    "test_.drop(['agent','country', 'market_segment', 'distribution_channel', 'reserved_room_type', 'assigned_room_type', 'deposit_type', 'customer_type',\n",
    "            'meal', 'hotel', 'arrival_date_month', 'arrival_date_year', 'arrival_date_week_number', 'arrival_date_day_of_month', 'id'], axis='columns', inplace=True)\n"
   ]
  },
  {
   "cell_type": "code",
   "execution_count": 181,
   "metadata": {},
   "outputs": [
    {
     "data": {
      "text/plain": [
       "(26535, 170)"
      ]
     },
     "execution_count": 181,
     "metadata": {},
     "output_type": "execute_result"
    }
   ],
   "source": [
    "test_.shape"
   ]
  },
  {
   "cell_type": "markdown",
   "metadata": {},
   "source": [
    "### Tratamiento adicional"
   ]
  },
  {
   "cell_type": "markdown",
   "metadata": {},
   "source": [
    "Luego de tener ambos datasets con las columnas categóricas encodeadas, tuvimos que completar ambos datasets con las columnas faltantes para que tengan las mismas columnas."
   ]
  },
  {
   "cell_type": "code",
   "execution_count": 193,
   "metadata": {},
   "outputs": [],
   "source": [
    "missing_cols = set(train_.columns) - set(test_.columns)\n",
    "for col in missing_cols:\n",
    "    test_[col] = 0"
   ]
  },
  {
   "cell_type": "code",
   "execution_count": 194,
   "metadata": {},
   "outputs": [],
   "source": [
    "missing_cols = set(test_.columns) - set(train_.columns)\n",
    "for col in missing_cols:\n",
    "    train_[col] = 0"
   ]
  },
  {
   "cell_type": "markdown",
   "metadata": {},
   "source": [
    "También tuvimos que reordenar las columnas para que tengan el mismo orden."
   ]
  },
  {
   "cell_type": "code",
   "execution_count": 195,
   "metadata": {},
   "outputs": [],
   "source": [
    "column_order = train_.columns\n",
    "test_ = test_.reindex(columns=column_order)"
   ]
  },
  {
   "cell_type": "markdown",
   "metadata": {},
   "source": [
    "### Guardo los datasets encodeados"
   ]
  },
  {
   "cell_type": "code",
   "execution_count": 196,
   "metadata": {},
   "outputs": [],
   "source": [
    "train_.to_csv('./Datasets/train_encoded.csv')\n",
    "test_.to_csv('./Datasets/test_encoded.csv')"
   ]
  },
  {
   "attachments": {},
   "cell_type": "markdown",
   "metadata": {},
   "source": [
    "## Split train/test <a name=\"split\"></a>"
   ]
  },
  {
   "cell_type": "markdown",
   "metadata": {},
   "source": [
    "Ahora vamos a dividir el dataset de train para poder entrenar el modelo y luego testearlo."
   ]
  },
  {
   "cell_type": "code",
   "execution_count": 182,
   "metadata": {},
   "outputs": [],
   "source": [
    "x = train_.copy()\n",
    "y = df_train['is_canceled'].copy()\n",
    "\n",
    "x_train, x_test, y_train, y_test = train_test_split(x,\n",
    "                                                    y, \n",
    "                                                    test_size=0.3,  #proporcion 70/30\n",
    "                                                    random_state=RANDOM_STATE) #semilla"
   ]
  },
  {
   "cell_type": "markdown",
   "metadata": {},
   "source": [
    "Verificamos la cantidad de datos en cada set y como quedaron balanceados esos datos."
   ]
  },
  {
   "cell_type": "code",
   "execution_count": 183,
   "metadata": {},
   "outputs": [
    {
     "name": "stdout",
     "output_type": "stream",
     "text": [
      "# Datos Entrenamiento: 37192\n",
      "# Datos Prueba: 15940\n",
      "% Positivos Entrenamiento: 50.863\n",
      "% Positivos Prueba: 50.866\n"
     ]
    }
   ],
   "source": [
    "print('# Datos Entrenamiento: {}'.format(len(x_train)))\n",
    "print('# Datos Prueba: {}'.format(len(x_test)))\n",
    "\n",
    "for split_name, split in zip(['% Positivos Entrenamiento','% Positivos Prueba'],[y_train,y_test]):\n",
    "  print('{}: {:.3f}'.format(split_name,pd.Series(split).value_counts(normalize=True)[1]*100))"
   ]
  },
  {
   "attachments": {},
   "cell_type": "markdown",
   "metadata": {},
   "source": [
    "## Grid search <a name=\"gridsearch\"></a>"
   ]
  },
  {
   "cell_type": "markdown",
   "metadata": {},
   "source": [
    "Utilizamos Grid Search para encontrar los mejores hiperparámetros para el modelo."
   ]
  },
  {
   "cell_type": "markdown",
   "metadata": {},
   "source": [
    "También utilizamos cross validation (10 folds)."
   ]
  },
  {
   "cell_type": "markdown",
   "metadata": {},
   "source": [
    "Decidimos optimizar F1 Score ya que después en Kaggle se utiliza esa métrica para evaluar el modelo."
   ]
  },
  {
   "cell_type": "code",
   "execution_count": 190,
   "metadata": {},
   "outputs": [
    {
     "name": "stdout",
     "output_type": "stream",
     "text": [
      "Fitting 10 folds for each of 10 candidates, totalling 100 fits\n",
      "[CV] END criterion=entropy, max_depth=13, min_samples_leaf=8, min_samples_split=11; total time=   1.2s\n",
      "[CV] END criterion=entropy, max_depth=13, min_samples_leaf=8, min_samples_split=11; total time=   1.9s\n",
      "[CV] END criterion=entropy, max_depth=13, min_samples_leaf=8, min_samples_split=11; total time=   1.1s\n",
      "[CV] END criterion=entropy, max_depth=13, min_samples_leaf=8, min_samples_split=11; total time=   1.4s\n",
      "[CV] END criterion=entropy, max_depth=13, min_samples_leaf=8, min_samples_split=11; total time=   1.3s\n",
      "[CV] END criterion=entropy, max_depth=13, min_samples_leaf=8, min_samples_split=11; total time=   1.8s\n",
      "[CV] END criterion=entropy, max_depth=13, min_samples_leaf=8, min_samples_split=11; total time=   0.9s\n",
      "[CV] END criterion=entropy, max_depth=13, min_samples_leaf=8, min_samples_split=11; total time=   2.9s\n",
      "[CV] END criterion=entropy, max_depth=13, min_samples_leaf=8, min_samples_split=11; total time=   1.0s\n",
      "[CV] END criterion=entropy, max_depth=13, min_samples_leaf=8, min_samples_split=11; total time=   0.8s\n",
      "[CV] END criterion=entropy, max_depth=11, min_samples_leaf=8, min_samples_split=8; total time=   1.1s\n",
      "[CV] END criterion=entropy, max_depth=11, min_samples_leaf=8, min_samples_split=8; total time=   1.0s\n",
      "[CV] END criterion=entropy, max_depth=11, min_samples_leaf=8, min_samples_split=8; total time=   0.9s\n",
      "[CV] END criterion=entropy, max_depth=11, min_samples_leaf=8, min_samples_split=8; total time=   0.9s\n",
      "[CV] END criterion=entropy, max_depth=11, min_samples_leaf=8, min_samples_split=8; total time=   0.7s\n",
      "[CV] END criterion=entropy, max_depth=11, min_samples_leaf=8, min_samples_split=8; total time=   1.0s\n",
      "[CV] END criterion=entropy, max_depth=11, min_samples_leaf=8, min_samples_split=8; total time=   1.1s\n",
      "[CV] END criterion=entropy, max_depth=11, min_samples_leaf=8, min_samples_split=8; total time=   0.9s\n",
      "[CV] END criterion=entropy, max_depth=11, min_samples_leaf=8, min_samples_split=8; total time=   2.4s\n",
      "[CV] END criterion=entropy, max_depth=11, min_samples_leaf=8, min_samples_split=8; total time=   0.9s\n",
      "[CV] END criterion=entropy, max_depth=5, min_samples_leaf=1, min_samples_split=11; total time=   0.6s\n",
      "[CV] END criterion=entropy, max_depth=5, min_samples_leaf=1, min_samples_split=11; total time=   0.7s\n",
      "[CV] END criterion=entropy, max_depth=5, min_samples_leaf=1, min_samples_split=11; total time=   0.5s\n",
      "[CV] END criterion=entropy, max_depth=5, min_samples_leaf=1, min_samples_split=11; total time=   0.5s\n",
      "[CV] END criterion=entropy, max_depth=5, min_samples_leaf=1, min_samples_split=11; total time=   0.4s\n",
      "[CV] END criterion=entropy, max_depth=5, min_samples_leaf=1, min_samples_split=11; total time=   0.4s\n",
      "[CV] END criterion=entropy, max_depth=5, min_samples_leaf=1, min_samples_split=11; total time=   0.4s\n",
      "[CV] END criterion=entropy, max_depth=5, min_samples_leaf=1, min_samples_split=11; total time=   0.4s\n",
      "[CV] END criterion=entropy, max_depth=5, min_samples_leaf=1, min_samples_split=11; total time=   0.4s\n",
      "[CV] END criterion=entropy, max_depth=5, min_samples_leaf=1, min_samples_split=11; total time=   0.6s\n",
      "[CV] END criterion=entropy, max_depth=9, min_samples_leaf=2, min_samples_split=11; total time=   1.0s\n",
      "[CV] END criterion=entropy, max_depth=9, min_samples_leaf=2, min_samples_split=11; total time=   2.2s\n",
      "[CV] END criterion=entropy, max_depth=9, min_samples_leaf=2, min_samples_split=11; total time=   0.9s\n",
      "[CV] END criterion=entropy, max_depth=9, min_samples_leaf=2, min_samples_split=11; total time=   0.7s\n",
      "[CV] END criterion=entropy, max_depth=9, min_samples_leaf=2, min_samples_split=11; total time=   0.7s\n",
      "[CV] END criterion=entropy, max_depth=9, min_samples_leaf=2, min_samples_split=11; total time=   0.7s\n",
      "[CV] END criterion=entropy, max_depth=9, min_samples_leaf=2, min_samples_split=11; total time=   0.7s\n",
      "[CV] END criterion=entropy, max_depth=9, min_samples_leaf=2, min_samples_split=11; total time=   0.7s\n",
      "[CV] END criterion=entropy, max_depth=9, min_samples_leaf=2, min_samples_split=11; total time=   0.7s\n",
      "[CV] END criterion=entropy, max_depth=9, min_samples_leaf=2, min_samples_split=11; total time=   0.7s\n",
      "[CV] END criterion=gini, max_depth=9, min_samples_leaf=7, min_samples_split=6; total time=   0.9s\n",
      "[CV] END criterion=gini, max_depth=9, min_samples_leaf=7, min_samples_split=6; total time=   0.9s\n",
      "[CV] END criterion=gini, max_depth=9, min_samples_leaf=7, min_samples_split=6; total time=   1.1s\n",
      "[CV] END criterion=gini, max_depth=9, min_samples_leaf=7, min_samples_split=6; total time=   2.0s\n",
      "[CV] END criterion=gini, max_depth=9, min_samples_leaf=7, min_samples_split=6; total time=   0.8s\n",
      "[CV] END criterion=gini, max_depth=9, min_samples_leaf=7, min_samples_split=6; total time=   0.8s\n",
      "[CV] END criterion=gini, max_depth=9, min_samples_leaf=7, min_samples_split=6; total time=   0.8s\n",
      "[CV] END criterion=gini, max_depth=9, min_samples_leaf=7, min_samples_split=6; total time=   0.7s\n",
      "[CV] END criterion=gini, max_depth=9, min_samples_leaf=7, min_samples_split=6; total time=   0.7s\n",
      "[CV] END criterion=gini, max_depth=9, min_samples_leaf=7, min_samples_split=6; total time=   0.7s\n",
      "[CV] END criterion=gini, max_depth=2, min_samples_leaf=3, min_samples_split=5; total time=   0.2s\n",
      "[CV] END criterion=gini, max_depth=2, min_samples_leaf=3, min_samples_split=5; total time=   0.4s\n",
      "[CV] END criterion=gini, max_depth=2, min_samples_leaf=3, min_samples_split=5; total time=   0.2s\n",
      "[CV] END criterion=gini, max_depth=2, min_samples_leaf=3, min_samples_split=5; total time=   0.2s\n",
      "[CV] END criterion=gini, max_depth=2, min_samples_leaf=3, min_samples_split=5; total time=   0.2s\n",
      "[CV] END criterion=gini, max_depth=2, min_samples_leaf=3, min_samples_split=5; total time=   0.2s\n",
      "[CV] END criterion=gini, max_depth=2, min_samples_leaf=3, min_samples_split=5; total time=   0.2s\n",
      "[CV] END criterion=gini, max_depth=2, min_samples_leaf=3, min_samples_split=5; total time=   0.8s\n",
      "[CV] END criterion=gini, max_depth=2, min_samples_leaf=3, min_samples_split=5; total time=   0.6s\n",
      "[CV] END criterion=gini, max_depth=2, min_samples_leaf=3, min_samples_split=5; total time=   0.7s\n",
      "[CV] END criterion=gini, max_depth=12, min_samples_leaf=4, min_samples_split=8; total time=   1.0s\n",
      "[CV] END criterion=gini, max_depth=12, min_samples_leaf=4, min_samples_split=8; total time=   0.9s\n",
      "[CV] END criterion=gini, max_depth=12, min_samples_leaf=4, min_samples_split=8; total time=   0.9s\n",
      "[CV] END criterion=gini, max_depth=12, min_samples_leaf=4, min_samples_split=8; total time=   0.9s\n",
      "[CV] END criterion=gini, max_depth=12, min_samples_leaf=4, min_samples_split=8; total time=   0.9s\n",
      "[CV] END criterion=gini, max_depth=12, min_samples_leaf=4, min_samples_split=8; total time=   0.9s\n",
      "[CV] END criterion=gini, max_depth=12, min_samples_leaf=4, min_samples_split=8; total time=   1.0s\n",
      "[CV] END criterion=gini, max_depth=12, min_samples_leaf=4, min_samples_split=8; total time=   1.3s\n",
      "[CV] END criterion=gini, max_depth=12, min_samples_leaf=4, min_samples_split=8; total time=   3.1s\n",
      "[CV] END criterion=gini, max_depth=12, min_samples_leaf=4, min_samples_split=8; total time=   1.0s\n",
      "[CV] END criterion=entropy, max_depth=4, min_samples_leaf=8, min_samples_split=1; total time=   0.0s\n",
      "[CV] END criterion=entropy, max_depth=4, min_samples_leaf=8, min_samples_split=1; total time=   0.0s\n",
      "[CV] END criterion=entropy, max_depth=4, min_samples_leaf=8, min_samples_split=1; total time=   0.0s\n",
      "[CV] END criterion=entropy, max_depth=4, min_samples_leaf=8, min_samples_split=1; total time=   0.0s\n",
      "[CV] END criterion=entropy, max_depth=4, min_samples_leaf=8, min_samples_split=1; total time=   0.0s\n",
      "[CV] END criterion=entropy, max_depth=4, min_samples_leaf=8, min_samples_split=1; total time=   0.0s\n",
      "[CV] END criterion=entropy, max_depth=4, min_samples_leaf=8, min_samples_split=1; total time=   0.0s\n",
      "[CV] END criterion=entropy, max_depth=4, min_samples_leaf=8, min_samples_split=1; total time=   0.0s\n",
      "[CV] END criterion=entropy, max_depth=4, min_samples_leaf=8, min_samples_split=1; total time=   0.0s\n",
      "[CV] END criterion=entropy, max_depth=4, min_samples_leaf=8, min_samples_split=1; total time=   0.0s\n",
      "[CV] END criterion=gini, max_depth=4, min_samples_leaf=1, min_samples_split=10; total time=   0.4s\n",
      "[CV] END criterion=gini, max_depth=4, min_samples_leaf=1, min_samples_split=10; total time=   0.3s\n",
      "[CV] END criterion=gini, max_depth=4, min_samples_leaf=1, min_samples_split=10; total time=   0.3s\n",
      "[CV] END criterion=gini, max_depth=4, min_samples_leaf=1, min_samples_split=10; total time=   0.6s\n",
      "[CV] END criterion=gini, max_depth=4, min_samples_leaf=1, min_samples_split=10; total time=   0.3s\n",
      "[CV] END criterion=gini, max_depth=4, min_samples_leaf=1, min_samples_split=10; total time=   0.4s\n",
      "[CV] END criterion=gini, max_depth=4, min_samples_leaf=1, min_samples_split=10; total time=   1.2s\n",
      "[CV] END criterion=gini, max_depth=4, min_samples_leaf=1, min_samples_split=10; total time=   1.1s\n",
      "[CV] END criterion=gini, max_depth=4, min_samples_leaf=1, min_samples_split=10; total time=   0.4s\n",
      "[CV] END criterion=gini, max_depth=4, min_samples_leaf=1, min_samples_split=10; total time=   0.3s\n",
      "[CV] END criterion=gini, max_depth=4, min_samples_leaf=4, min_samples_split=5; total time=   0.3s\n",
      "[CV] END criterion=gini, max_depth=4, min_samples_leaf=4, min_samples_split=5; total time=   0.4s\n",
      "[CV] END criterion=gini, max_depth=4, min_samples_leaf=4, min_samples_split=5; total time=   0.4s\n",
      "[CV] END criterion=gini, max_depth=4, min_samples_leaf=4, min_samples_split=5; total time=   0.3s\n",
      "[CV] END criterion=gini, max_depth=4, min_samples_leaf=4, min_samples_split=5; total time=   0.3s\n",
      "[CV] END criterion=gini, max_depth=4, min_samples_leaf=4, min_samples_split=5; total time=   0.3s\n",
      "[CV] END criterion=gini, max_depth=4, min_samples_leaf=4, min_samples_split=5; total time=   0.3s\n",
      "[CV] END criterion=gini, max_depth=4, min_samples_leaf=4, min_samples_split=5; total time=   0.3s\n",
      "[CV] END criterion=gini, max_depth=4, min_samples_leaf=4, min_samples_split=5; total time=   0.3s\n",
      "[CV] END criterion=gini, max_depth=4, min_samples_leaf=4, min_samples_split=5; total time=   0.3s\n"
     ]
    },
    {
     "name": "stderr",
     "output_type": "stream",
     "text": [
      "c:\\Program Files\\Python38\\lib\\site-packages\\sklearn\\model_selection\\_validation.py:378: FitFailedWarning: \n",
      "10 fits failed out of a total of 100.\n",
      "The score on these train-test partitions for these parameters will be set to nan.\n",
      "If these failures are not expected, you can try to debug them by setting error_score='raise'.\n",
      "\n",
      "Below are more details about the failures:\n",
      "--------------------------------------------------------------------------------\n",
      "10 fits failed with the following error:\n",
      "Traceback (most recent call last):\n",
      "  File \"c:\\Program Files\\Python38\\lib\\site-packages\\sklearn\\model_selection\\_validation.py\", line 686, in _fit_and_score\n",
      "    estimator.fit(X_train, y_train, **fit_params)\n",
      "  File \"c:\\Program Files\\Python38\\lib\\site-packages\\sklearn\\tree\\_classes.py\", line 889, in fit\n",
      "    super().fit(\n",
      "  File \"c:\\Program Files\\Python38\\lib\\site-packages\\sklearn\\tree\\_classes.py\", line 177, in fit\n",
      "    self._validate_params()\n",
      "  File \"c:\\Program Files\\Python38\\lib\\site-packages\\sklearn\\base.py\", line 600, in _validate_params\n",
      "    validate_parameter_constraints(\n",
      "  File \"c:\\Program Files\\Python38\\lib\\site-packages\\sklearn\\utils\\_param_validation.py\", line 97, in validate_parameter_constraints\n",
      "    raise InvalidParameterError(\n",
      "sklearn.utils._param_validation.InvalidParameterError: The 'min_samples_split' parameter of DecisionTreeClassifier must be an int in the range [2, inf) or a float in the range (0.0, 1.0]. Got 1 instead.\n",
      "\n",
      "  warnings.warn(some_fits_failed_message, FitFailedWarning)\n",
      "c:\\Program Files\\Python38\\lib\\site-packages\\sklearn\\model_selection\\_search.py:952: UserWarning: One or more of the test scores are non-finite: [0.84655546 0.83960321 0.79343629 0.81258605 0.84224666 0.49395913\n",
      " 0.84680673        nan 0.78922633 0.78933026]\n",
      "  warnings.warn(\n"
     ]
    },
    {
     "data": {
      "text/html": [
       "<style>#sk-container-id-13 {color: black;background-color: white;}#sk-container-id-13 pre{padding: 0;}#sk-container-id-13 div.sk-toggleable {background-color: white;}#sk-container-id-13 label.sk-toggleable__label {cursor: pointer;display: block;width: 100%;margin-bottom: 0;padding: 0.3em;box-sizing: border-box;text-align: center;}#sk-container-id-13 label.sk-toggleable__label-arrow:before {content: \"▸\";float: left;margin-right: 0.25em;color: #696969;}#sk-container-id-13 label.sk-toggleable__label-arrow:hover:before {color: black;}#sk-container-id-13 div.sk-estimator:hover label.sk-toggleable__label-arrow:before {color: black;}#sk-container-id-13 div.sk-toggleable__content {max-height: 0;max-width: 0;overflow: hidden;text-align: left;background-color: #f0f8ff;}#sk-container-id-13 div.sk-toggleable__content pre {margin: 0.2em;color: black;border-radius: 0.25em;background-color: #f0f8ff;}#sk-container-id-13 input.sk-toggleable__control:checked~div.sk-toggleable__content {max-height: 200px;max-width: 100%;overflow: auto;}#sk-container-id-13 input.sk-toggleable__control:checked~label.sk-toggleable__label-arrow:before {content: \"▾\";}#sk-container-id-13 div.sk-estimator input.sk-toggleable__control:checked~label.sk-toggleable__label {background-color: #d4ebff;}#sk-container-id-13 div.sk-label input.sk-toggleable__control:checked~label.sk-toggleable__label {background-color: #d4ebff;}#sk-container-id-13 input.sk-hidden--visually {border: 0;clip: rect(1px 1px 1px 1px);clip: rect(1px, 1px, 1px, 1px);height: 1px;margin: -1px;overflow: hidden;padding: 0;position: absolute;width: 1px;}#sk-container-id-13 div.sk-estimator {font-family: monospace;background-color: #f0f8ff;border: 1px dotted black;border-radius: 0.25em;box-sizing: border-box;margin-bottom: 0.5em;}#sk-container-id-13 div.sk-estimator:hover {background-color: #d4ebff;}#sk-container-id-13 div.sk-parallel-item::after {content: \"\";width: 100%;border-bottom: 1px solid gray;flex-grow: 1;}#sk-container-id-13 div.sk-label:hover label.sk-toggleable__label {background-color: #d4ebff;}#sk-container-id-13 div.sk-serial::before {content: \"\";position: absolute;border-left: 1px solid gray;box-sizing: border-box;top: 0;bottom: 0;left: 50%;z-index: 0;}#sk-container-id-13 div.sk-serial {display: flex;flex-direction: column;align-items: center;background-color: white;padding-right: 0.2em;padding-left: 0.2em;position: relative;}#sk-container-id-13 div.sk-item {position: relative;z-index: 1;}#sk-container-id-13 div.sk-parallel {display: flex;align-items: stretch;justify-content: center;background-color: white;position: relative;}#sk-container-id-13 div.sk-item::before, #sk-container-id-13 div.sk-parallel-item::before {content: \"\";position: absolute;border-left: 1px solid gray;box-sizing: border-box;top: 0;bottom: 0;left: 50%;z-index: -1;}#sk-container-id-13 div.sk-parallel-item {display: flex;flex-direction: column;z-index: 1;position: relative;background-color: white;}#sk-container-id-13 div.sk-parallel-item:first-child::after {align-self: flex-end;width: 50%;}#sk-container-id-13 div.sk-parallel-item:last-child::after {align-self: flex-start;width: 50%;}#sk-container-id-13 div.sk-parallel-item:only-child::after {width: 0;}#sk-container-id-13 div.sk-dashed-wrapped {border: 1px dashed gray;margin: 0 0.4em 0.5em 0.4em;box-sizing: border-box;padding-bottom: 0.4em;background-color: white;}#sk-container-id-13 div.sk-label label {font-family: monospace;font-weight: bold;display: inline-block;line-height: 1.2em;}#sk-container-id-13 div.sk-label-container {text-align: center;}#sk-container-id-13 div.sk-container {/* jupyter's `normalize.less` sets `[hidden] { display: none; }` but bootstrap.min.css set `[hidden] { display: none !important; }` so we also need the `!important` here to be able to override the default hidden behavior on the sphinx rendered scikit-learn.org. See: https://github.com/scikit-learn/scikit-learn/issues/21755 */display: inline-block !important;position: relative;}#sk-container-id-13 div.sk-text-repr-fallback {display: none;}</style><div id=\"sk-container-id-13\" class=\"sk-top-container\"><div class=\"sk-text-repr-fallback\"><pre>RandomizedSearchCV(cv=StratifiedKFold(n_splits=10, random_state=None, shuffle=False),\n",
       "                   estimator=DecisionTreeClassifier(),\n",
       "                   param_distributions={&#x27;criterion&#x27;: [&#x27;gini&#x27;, &#x27;entropy&#x27;],\n",
       "                                        &#x27;max_depth&#x27;: [1, 2, 3, 4, 5, 6, 7, 8, 9,\n",
       "                                                      10, 11, 12, 13, 14],\n",
       "                                        &#x27;min_samples_leaf&#x27;: [1, 2, 3, 4, 5, 6,\n",
       "                                                             7, 8, 9],\n",
       "                                        &#x27;min_samples_split&#x27;: [1, 2, 3, 4, 5, 6,\n",
       "                                                              7, 8, 9, 10, 11,\n",
       "                                                              12, 13, 14]},\n",
       "                   scoring=make_scorer(f1_score), verbose=2)</pre><b>In a Jupyter environment, please rerun this cell to show the HTML representation or trust the notebook. <br />On GitHub, the HTML representation is unable to render, please try loading this page with nbviewer.org.</b></div><div class=\"sk-container\" hidden><div class=\"sk-item sk-dashed-wrapped\"><div class=\"sk-label-container\"><div class=\"sk-label sk-toggleable\"><input class=\"sk-toggleable__control sk-hidden--visually\" id=\"sk-estimator-id-37\" type=\"checkbox\" ><label for=\"sk-estimator-id-37\" class=\"sk-toggleable__label sk-toggleable__label-arrow\">RandomizedSearchCV</label><div class=\"sk-toggleable__content\"><pre>RandomizedSearchCV(cv=StratifiedKFold(n_splits=10, random_state=None, shuffle=False),\n",
       "                   estimator=DecisionTreeClassifier(),\n",
       "                   param_distributions={&#x27;criterion&#x27;: [&#x27;gini&#x27;, &#x27;entropy&#x27;],\n",
       "                                        &#x27;max_depth&#x27;: [1, 2, 3, 4, 5, 6, 7, 8, 9,\n",
       "                                                      10, 11, 12, 13, 14],\n",
       "                                        &#x27;min_samples_leaf&#x27;: [1, 2, 3, 4, 5, 6,\n",
       "                                                             7, 8, 9],\n",
       "                                        &#x27;min_samples_split&#x27;: [1, 2, 3, 4, 5, 6,\n",
       "                                                              7, 8, 9, 10, 11,\n",
       "                                                              12, 13, 14]},\n",
       "                   scoring=make_scorer(f1_score), verbose=2)</pre></div></div></div><div class=\"sk-parallel\"><div class=\"sk-parallel-item\"><div class=\"sk-item\"><div class=\"sk-label-container\"><div class=\"sk-label sk-toggleable\"><input class=\"sk-toggleable__control sk-hidden--visually\" id=\"sk-estimator-id-38\" type=\"checkbox\" ><label for=\"sk-estimator-id-38\" class=\"sk-toggleable__label sk-toggleable__label-arrow\">estimator: DecisionTreeClassifier</label><div class=\"sk-toggleable__content\"><pre>DecisionTreeClassifier()</pre></div></div></div><div class=\"sk-serial\"><div class=\"sk-item\"><div class=\"sk-estimator sk-toggleable\"><input class=\"sk-toggleable__control sk-hidden--visually\" id=\"sk-estimator-id-39\" type=\"checkbox\" ><label for=\"sk-estimator-id-39\" class=\"sk-toggleable__label sk-toggleable__label-arrow\">DecisionTreeClassifier</label><div class=\"sk-toggleable__content\"><pre>DecisionTreeClassifier()</pre></div></div></div></div></div></div></div></div></div></div>"
      ],
      "text/plain": [
       "RandomizedSearchCV(cv=StratifiedKFold(n_splits=10, random_state=None, shuffle=False),\n",
       "                   estimator=DecisionTreeClassifier(),\n",
       "                   param_distributions={'criterion': ['gini', 'entropy'],\n",
       "                                        'max_depth': [1, 2, 3, 4, 5, 6, 7, 8, 9,\n",
       "                                                      10, 11, 12, 13, 14],\n",
       "                                        'min_samples_leaf': [1, 2, 3, 4, 5, 6,\n",
       "                                                             7, 8, 9],\n",
       "                                        'min_samples_split': [1, 2, 3, 4, 5, 6,\n",
       "                                                              7, 8, 9, 10, 11,\n",
       "                                                              12, 13, 14]},\n",
       "                   scoring=make_scorer(f1_score), verbose=2)"
      ]
     },
     "execution_count": 190,
     "metadata": {},
     "output_type": "execute_result"
    }
   ],
   "source": [
    "folds = 10\n",
    "\n",
    "kfoldcv = StratifiedKFold(n_splits=folds)\n",
    "\n",
    "# Parametros a optimizar\n",
    "params_grid = {'criterion':['gini','entropy'],\n",
    "               'min_samples_leaf':list(range(1,10)),\n",
    "               'min_samples_split': list(range(1,15)),\n",
    "               'max_depth':list(range(1,15))\n",
    "    }\n",
    "\n",
    "# Metrica que quiero optimizar F1 Score\n",
    "scorer_fn = make_scorer(sk.metrics.f1_score)\n",
    "\n",
    "# Clasificador\n",
    "base_tree = DecisionTreeClassifier()\n",
    "\n",
    "#Grid Search\n",
    "gs = GridSearchCV(base_tree, params_grid,\n",
    "                  cv=kfoldcv,\n",
    "                  scoring=scorer_fn,\n",
    "                  verbose=2)\n",
    "\n",
    "gs.fit(x_train, y_train)"
   ]
  },
  {
   "cell_type": "markdown",
   "metadata": {},
   "source": [
    "Al finalizar el Grid Search, obtuvimos los siguientes resultados:"
   ]
  },
  {
   "cell_type": "code",
   "execution_count": 191,
   "metadata": {},
   "outputs": [
    {
     "name": "stdout",
     "output_type": "stream",
     "text": [
      "Mejores parámetros: {'min_samples_split': 8, 'min_samples_leaf': 4, 'max_depth': 12, 'criterion': 'gini'}\n",
      "Mejor métrica: 0.8468067258047227\n"
     ]
    }
   ],
   "source": [
    "print('Mejores parámetros: {}'.format(gs.best_params_))\n",
    "print('Mejor métrica: {}'.format(gs.best_score_))"
   ]
  },
  {
   "attachments": {},
   "cell_type": "markdown",
   "metadata": {},
   "source": [
    "## Decision Tree <a name=\"decisiontree\"></a>"
   ]
  },
  {
   "cell_type": "markdown",
   "metadata": {},
   "source": [
    "Creamos el modelo de árbol de decisión con los mejores hiperparámetros encontrados en el Grid Search y lo entrenamos con el dataset de train."
   ]
  },
  {
   "cell_type": "code",
   "execution_count": 199,
   "metadata": {},
   "outputs": [],
   "source": [
    "arbol = DecisionTreeClassifier(random_state=RANDOM_STATE).set_params(**gs.best_params_)\n",
    "\n",
    "modelo = arbol.fit(X=x_train, y=y_train)"
   ]
  },
  {
   "cell_type": "markdown",
   "metadata": {},
   "source": [
    "Realizamos una predicción con el dataset de test y obtuvimos los siguientes resultados:"
   ]
  },
  {
   "cell_type": "code",
   "execution_count": 200,
   "metadata": {},
   "outputs": [],
   "source": [
    "y_pred = modelo.predict(x_test)"
   ]
  },
  {
   "cell_type": "code",
   "execution_count": 29,
   "metadata": {},
   "outputs": [],
   "source": [
    "pickle.dump(arbol, open('decision_tree_grupo29.pickle', 'wb'))"
   ]
  },
  {
   "cell_type": "markdown",
   "metadata": {},
   "source": [
    "### Métricas y matriz de confusión <a name=\"metrics\"></a>"
   ]
  },
  {
   "cell_type": "code",
   "execution_count": 201,
   "metadata": {},
   "outputs": [
    {
     "name": "stdout",
     "output_type": "stream",
     "text": [
      "Best Training Accuracy: 0.8613680361368036\n",
      "Best Testing Accuracy: 0.8442910915934755\n",
      "Cross-val-score: 0.8451027041536859\n"
     ]
    }
   ],
   "source": [
    "print(f'Best Training Accuracy: {modelo.score(x_train, y_train)}')\n",
    "print(f'Best Testing Accuracy: {modelo.score(x_test, y_test)}')\n",
    "print(f'Cross-val-score: {cross_val_score(gs.best_estimator_, x, y, cv=StratifiedKFold(shuffle=True)).mean()}')"
   ]
  },
  {
   "cell_type": "markdown",
   "metadata": {},
   "source": [
    "Creamos una matriz de confusión y la graficamos para ver los resultados de la predicción."
   ]
  },
  {
   "cell_type": "code",
   "execution_count": 202,
   "metadata": {},
   "outputs": [
    {
     "data": {
      "image/png": "[encoded data removed]",
      "text/plain": [
       "<Figure size 640x480 with 2 Axes>"
      ]
     },
     "metadata": {},
     "output_type": "display_data"
    }
   ],
   "source": [
    "tabla = confusion_matrix(y_test, y_pred)\n",
    "\n",
    "sns.heatmap(tabla, cmap='GnBu', annot=True, fmt='g').set(title='Matriz de Confusión', xlabel='Predicción', ylabel='Real')\n",
    "plt.show()"
   ]
  },
  {
   "cell_type": "markdown",
   "metadata": {},
   "source": [
    "Vamos a ver el porcentaje de aciertos y errores del modelo."
   ]
  },
  {
   "cell_type": "code",
   "execution_count": 203,
   "metadata": {},
   "outputs": [
    {
     "name": "stdout",
     "output_type": "stream",
     "text": [
      "Clasificadas correctamente: 85.0%\n",
      "Reservas canceladas clasificadas correctamente: 87.0%\n",
      "Reservas no canceladas clasificadas correctamente: 84.0%\n",
      "Reservas predecidas canceladas que fueron canceladas: 85.0%\n",
      "Reservas predecidas no canceladas que fueron no canceladas: 86.0%\n"
     ]
    }
   ],
   "source": [
    "# True Positives:\n",
    "TP = 7025\n",
    "# True Negatives:\n",
    "TN = 6550\n",
    "# False Posititives: \n",
    "FP = 1282\n",
    "# False Negatives: \n",
    "FN = 1083\n",
    "total = TP + TN + FP + FN\n",
    "\n",
    "print(f'Clasificadas correctamente: {np.round((TP+TN)/total*100)}%')\n",
    "print(f'Reservas canceladas clasificadas correctamente: {np.round(TP/(TP+FN)*100)}%')\n",
    "print(f'Reservas no canceladas clasificadas correctamente: {np.round(TN/(TN+FP)*100)}%')\n",
    "print(f'Reservas predecidas canceladas que fueron canceladas: {np.round(TP/(TP+FP)*100)}%')\n",
    "print(f'Reservas predecidas no canceladas que fueron no canceladas: {np.round(TN/(TN+FN)*100)}%')"
   ]
  },
  {
   "cell_type": "markdown",
   "metadata": {},
   "source": [
    "Calculamos las métricas accuracy, precision, recall y f1 score."
   ]
  },
  {
   "cell_type": "markdown",
   "metadata": {},
   "source": [
    "- Accuracy: Mide qué porcentaje de veces el modelo predice correctamente la etiqueta de clase.\n",
    "- Precision: Mide la proporción de resultados positivos que son realmente positivos.\n",
    "- Recall: Mide la proporción de resultados positivos que realmente son positivos en relación al total de positivos existentes.\n",
    "- F1 Score: Es una medida que combina la precisión y el recall en una única métrica que representa el equilibrio entre ambas. "
   ]
  },
  {
   "cell_type": "code",
   "execution_count": 204,
   "metadata": {},
   "outputs": [
    {
     "name": "stdout",
     "output_type": "stream",
     "text": [
      "Accuracy: 0.8442910915934755\n",
      "Recall: 0.8619881598421312\n",
      "Precision: 0.8368055555555556\n",
      "f1 score: 0.8492102065613608\n"
     ]
    }
   ],
   "source": [
    "accuracy = accuracy_score(y_test, y_pred)\n",
    "recall = recall_score(y_test, y_pred)\n",
    "f1 = f1_score(y_test, y_pred,)\n",
    "precision = precision_score(y_test, y_pred)\n",
    "\n",
    "print(\"Accuracy: \"+str(accuracy))\n",
    "print(\"Recall: \"+str(recall))\n",
    "print(\"Precision: \"+str(precision))\n",
    "print(\"f1 score: \"+str(f1))"
   ]
  },
  {
   "cell_type": "code",
   "execution_count": 205,
   "metadata": {},
   "outputs": [
    {
     "name": "stdout",
     "output_type": "stream",
     "text": [
      "              precision    recall  f1-score   support\n",
      "\n",
      "           0       0.85      0.83      0.84      7832\n",
      "           1       0.84      0.86      0.85      8108\n",
      "\n",
      "    accuracy                           0.84     15940\n",
      "   macro avg       0.84      0.84      0.84     15940\n",
      "weighted avg       0.84      0.84      0.84     15940\n",
      "\n"
     ]
    }
   ],
   "source": [
    "print(classification_report(y_test,y_pred))"
   ]
  },
  {
   "attachments": {},
   "cell_type": "markdown",
   "metadata": {},
   "source": [
    "## Visualizacion del arbol <a name=\"visualizacion\"></a>"
   ]
  },
  {
   "cell_type": "markdown",
   "metadata": {},
   "source": [
    "Graficamos una porcion representativa del arbol de decisión."
   ]
  },
  {
   "cell_type": "code",
   "execution_count": 206,
   "metadata": {},
   "outputs": [
    {
     "data": {
      "text/plain": [
       "array([0, 1], dtype=int64)"
      ]
     },
     "execution_count": 206,
     "metadata": {},
     "output_type": "execute_result"
    }
   ],
   "source": [
    "modelo.classes_"
   ]
  },
  {
   "cell_type": "code",
   "execution_count": 207,
   "metadata": {},
   "outputs": [
    {
     "data": {
      "image/png": "[encoded data removed]",
      "text/plain": [
       "<Figure size 1200x1200 with 1 Axes>"
      ]
     },
     "metadata": {},
     "output_type": "display_data"
    }
   ],
   "source": [
    "plt.figure(figsize=(12, 12))\n",
    "\n",
    "tree_plot = plot_tree(modelo,\n",
    "                           max_depth=2,\n",
    "                           feature_names=x.columns.to_list(),\n",
    "                           filled=True,\n",
    "                           rounded=True,\n",
    "                           class_names=['Not Canceled', 'Canceled'])\n",
    "plt.show(tree_plot)"
   ]
  },
  {
   "cell_type": "markdown",
   "metadata": {},
   "source": [
    "### Feature importance <a name=\"featureimportance\"></a>"
   ]
  },
  {
   "cell_type": "markdown",
   "metadata": {},
   "source": [
    "Podemos ver las features mas importantes del modelo."
   ]
  },
  {
   "cell_type": "code",
   "execution_count": 210,
   "metadata": {},
   "outputs": [
    {
     "name": "stdout",
     "output_type": "stream",
     "text": [
      "deposit_type_Non Refund: 0.3102731977775662\n",
      "agent_9: 0.13674497789936152\n",
      "lead_time: 0.100154049120026\n",
      "country_PRT: 0.07660423370764816\n",
      "total_of_special_requests: 0.07458194427079948\n",
      "agent_240: 0.06455156478900849\n",
      "required_car_parking_spaces: 0.0416946749148595\n",
      "customer_type_Transient: 0.023583945546197003\n",
      "previous_cancellations: 0.02311225873429725\n",
      "arrival_date_year_2015: 0.014421447581752529\n",
      "arrival_date_year_2017: 0.014011084557613882\n",
      "adr: 0.013468359572215588\n",
      "booking_changes: 0.01275165155036372\n"
     ]
    }
   ],
   "source": [
    "feat_imps = arbol.feature_importances_\n",
    "\n",
    "for feat_imp,feat in sorted(zip(feat_imps,x.columns), reverse=True):\n",
    "  if feat_imp > 0.01:\n",
    "    print('{}: {}'.format(feat,feat_imp))"
   ]
  },
  {
   "cell_type": "markdown",
   "metadata": {},
   "source": [
    "Las que más influyen en la predicción son ``'deposit_type'``, ``'lead_time'``, ``'country'``, ``'total_of_special_requests'`` y ``'market_segment'``."
   ]
  },
  {
   "cell_type": "markdown",
   "metadata": {},
   "source": [
    "También podemos ver que condiciones evalua el árbol en cada nodo."
   ]
  },
  {
   "cell_type": "code",
   "execution_count": 211,
   "metadata": {},
   "outputs": [
    {
     "name": "stdout",
     "output_type": "stream",
     "text": [
      "|--- deposit_type_Non Refund <= 0.50\n",
      "|   |--- lead_time <= 8.50\n",
      "|   |   |--- previous_cancellations <= 0.50\n",
      "|   |   |   |--- truncated branch of depth 10\n",
      "|   |   |--- previous_cancellations >  0.50\n",
      "|   |   |   |--- class: 1\n",
      "|   |--- lead_time >  8.50\n",
      "|   |   |--- country_PRT <= 0.50\n",
      "|   |   |   |--- truncated branch of depth 10\n",
      "|   |   |--- country_PRT >  0.50\n",
      "|   |   |   |--- truncated branch of depth 10\n",
      "|--- deposit_type_Non Refund >  0.50\n",
      "|   |--- country_DEU <= 0.50\n",
      "|   |   |--- lead_time <= 7.50\n",
      "|   |   |   |--- truncated branch of depth 2\n",
      "|   |   |--- lead_time >  7.50\n",
      "|   |   |   |--- truncated branch of depth 6\n",
      "|   |--- country_DEU >  0.50\n",
      "|   |   |--- adults <= 1.50\n",
      "|   |   |   |--- class: 0\n",
      "|   |   |--- adults >  1.50\n",
      "|   |   |   |--- class: 0\n",
      "\n"
     ]
    }
   ],
   "source": [
    "reglas = export_text(arbol, feature_names=list(x.columns), max_depth=2)\n",
    "print(reglas)"
   ]
  },
  {
   "cell_type": "markdown",
   "metadata": {},
   "source": [
    "Lo primero que evalúa el modelo es el ``'deposit_type'`` de tipo Non Refund, luego por la rama derecha continúa evaluando el ``'country'`` PRT y continuando por la rama derecha cataloga estas reservas como canceladas, a la izquierda evalúa el ``'customer_type'`` de tipo Transient y continúa evaluando hacia abajo."
   ]
  },
  {
   "cell_type": "markdown",
   "metadata": {},
   "source": [
    "Por la rama izquierda después de evaluar el ``'deposit_type'`` de tipo Non Refund, continúa evaluando por ``'previous_cancellations'`` y a la derecha las cataloga como canceladas, a la izquierda sigue con ``'market_segment'`` de tipo Online TA y continua evaluando hacia abajo."
   ]
  },
  {
   "attachments": {},
   "cell_type": "markdown",
   "metadata": {},
   "source": [
    "## Submission <a name=\"submission\"></a>"
   ]
  },
  {
   "cell_type": "markdown",
   "metadata": {},
   "source": [
    "Generamos el archivo de submission para subir a Kaggle."
   ]
  },
  {
   "cell_type": "code",
   "execution_count": 212,
   "metadata": {},
   "outputs": [],
   "source": [
    "X_submission = test_.select_dtypes(exclude=['object'])\n",
    "y_pred_test = modelo.predict(X_submission)"
   ]
  },
  {
   "cell_type": "code",
   "execution_count": 213,
   "metadata": {},
   "outputs": [
    {
     "data": {
      "text/html": [
       "<div>\n",
       "<style scoped>\n",
       "    .dataframe tbody tr th:only-of-type {\n",
       "        vertical-align: middle;\n",
       "    }\n",
       "\n",
       "    .dataframe tbody tr th {\n",
       "        vertical-align: top;\n",
       "    }\n",
       "\n",
       "    .dataframe thead th {\n",
       "        text-align: right;\n",
       "    }\n",
       "</style>\n",
       "<table border=\"1\" class=\"dataframe\">\n",
       "  <thead>\n",
       "    <tr style=\"text-align: right;\">\n",
       "      <th></th>\n",
       "      <th>id</th>\n",
       "      <th>is_canceled</th>\n",
       "    </tr>\n",
       "  </thead>\n",
       "  <tbody>\n",
       "    <tr>\n",
       "      <th>0</th>\n",
       "      <td>e6d0d58a-ab96-44d3-b28f-85df1cc15f1e</td>\n",
       "      <td>1</td>\n",
       "    </tr>\n",
       "    <tr>\n",
       "      <th>1</th>\n",
       "      <td>aba9aac2-4495-4645-a60e-90328713c999</td>\n",
       "      <td>1</td>\n",
       "    </tr>\n",
       "    <tr>\n",
       "      <th>2</th>\n",
       "      <td>b345b5dc-c804-4d77-a39f-1f4e65d1f1ad</td>\n",
       "      <td>0</td>\n",
       "    </tr>\n",
       "    <tr>\n",
       "      <th>3</th>\n",
       "      <td>ce1b400e-afa1-4946-bdff-004b859eb61c</td>\n",
       "      <td>1</td>\n",
       "    </tr>\n",
       "    <tr>\n",
       "      <th>4</th>\n",
       "      <td>c4fbec0d-8e2e-4db2-9d4f-a6ccb9f51214</td>\n",
       "      <td>1</td>\n",
       "    </tr>\n",
       "  </tbody>\n",
       "</table>\n",
       "</div>"
      ],
      "text/plain": [
       "                                     id  is_canceled\n",
       "0  e6d0d58a-ab96-44d3-b28f-85df1cc15f1e            1\n",
       "1  aba9aac2-4495-4645-a60e-90328713c999            1\n",
       "2  b345b5dc-c804-4d77-a39f-1f4e65d1f1ad            0\n",
       "3  ce1b400e-afa1-4946-bdff-004b859eb61c            1\n",
       "4  c4fbec0d-8e2e-4db2-9d4f-a6ccb9f51214            1"
      ]
     },
     "execution_count": 213,
     "metadata": {},
     "output_type": "execute_result"
    }
   ],
   "source": [
    "df_submission = pd.DataFrame({'id': df_test['id'], 'is_canceled': y_pred_test})\n",
    "df_submission.head()"
   ]
  },
  {
   "cell_type": "code",
   "execution_count": 41,
   "metadata": {},
   "outputs": [],
   "source": [
    "df_submission.to_csv('submission11.csv', index=False)"
   ]
  }
 ],
 "metadata": {
  "kernelspec": {
   "display_name": "Python 3.8.5 64-bit",
   "language": "python",
   "name": "python3"
  },
  "language_info": {
   "codemirror_mode": {
    "name": "ipython",
    "version": 3
   },
   "file_extension": ".py",
   "mimetype": "text/x-python",
   "name": "python",
   "nbconvert_exporter": "python",
   "pygments_lexer": "ipython3",
   "version": "3.8.5"
  },
  "orig_nbformat": 4,
  "vscode": {
   "interpreter": {
    "hash": "570feb405e2e27c949193ac68f46852414290d515b0ba6e5d90d076ed2284471"
   }
  }
 },
 "nbformat": 4,
 "nbformat_minor": 2
}
