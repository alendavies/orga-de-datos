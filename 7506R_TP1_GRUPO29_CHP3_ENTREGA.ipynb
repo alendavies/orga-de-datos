{
 "cells": [
  {
   "cell_type": "markdown",
   "metadata": {},
   "source": [
    "## Imports y datasets"
   ]
  },
  {
   "cell_type": "code",
   "execution_count": 28,
   "metadata": {},
   "outputs": [],
   "source": [
    "import pandas as pd\n",
    "import matplotlib.pyplot as plt\n",
    "import seaborn as sns\n",
    "\n",
    "from sklearn.model_selection import train_test_split\n",
    "from sklearn.neighbors import KNeighborsClassifier\n",
    "from sklearn.metrics import accuracy_score\n",
    "from sklearn.model_selection import cross_val_score\n",
    "from sklearn.metrics.pairwise import PAIRWISE_DISTANCE_FUNCTIONS\n",
    "from sklearn.neighbors import BallTree\n",
    "from sklearn.neighbors import KDTree\n",
    "from sklearn.model_selection import GridSearchCV\n",
    "from sklearn.metrics import classification_report\n",
    "from sklearn.metrics import confusion_matrix\n",
    "from sklearn.model_selection import StratifiedKFold\n",
    "import sklearn as sk\n",
    "from sklearn.preprocessing import MinMaxScaler, OneHotEncoder\n",
    "from sklearn.model_selection import train_test_split, GridSearchCV\n",
    "from sklearn.tree import DecisionTreeClassifier, plot_tree, export_text\n",
    "from sklearn.model_selection import StratifiedKFold, KFold, RandomizedSearchCV, cross_val_score\n",
    "from sklearn.metrics import precision_score, recall_score, accuracy_score, f1_score, confusion_matrix, classification_report, make_scorer\n",
    "\n",
    "RANDOM_STATE = 42"
   ]
  },
  {
   "cell_type": "code",
   "execution_count": 29,
   "metadata": {},
   "outputs": [],
   "source": [
    "original = pd.read_csv('Datasets/hotels_procesado.csv').copy()\n",
    "train = pd.read_csv('Datasets/train_encoded.csv').copy()\n",
    "test = pd.read_csv('Datasets/test_encoded.csv').copy()"
   ]
  },
  {
   "cell_type": "markdown",
   "metadata": {},
   "source": [
    "## K-Nearest Neighbors"
   ]
  },
  {
   "cell_type": "markdown",
   "metadata": {},
   "source": [
    "### Split"
   ]
  },
  {
   "cell_type": "code",
   "execution_count": 30,
   "metadata": {},
   "outputs": [],
   "source": [
    "x = train.copy()\n",
    "y = original['is_canceled'].copy()\n",
    "\n",
    "x_train, x_test, y_train, y_test = train_test_split(x,\n",
    "                                                    y, \n",
    "                                                    test_size=0.3,  #proporcion 70/30\n",
    "                                                    random_state=RANDOM_STATE) #semilla"
   ]
  },
  {
   "cell_type": "code",
   "execution_count": 31,
   "metadata": {},
   "outputs": [
    {
     "name": "stdout",
     "output_type": "stream",
     "text": [
      "# Datos Entrenamiento: 37192\n",
      "# Datos Prueba: 15940\n",
      "% Positivos Entrenamiento: 50.863\n",
      "% Positivos Prueba: 50.866\n"
     ]
    }
   ],
   "source": [
    "print('# Datos Entrenamiento: {}'.format(len(x_train)))\n",
    "print('# Datos Prueba: {}'.format(len(x_test)))\n",
    "\n",
    "for split_name, split in zip(['% Positivos Entrenamiento','% Positivos Prueba'],[y_train,y_test]):\n",
    "  print('{}: {:.3f}'.format(split_name,pd.Series(split).value_counts(normalize=True)[1]*100))"
   ]
  },
  {
   "cell_type": "markdown",
   "metadata": {},
   "source": [
    "### Grid Search"
   ]
  },
  {
   "cell_type": "code",
   "execution_count": 35,
   "metadata": {},
   "outputs": [
    {
     "name": "stdout",
     "output_type": "stream",
     "text": [
      "Fitting 5 folds for each of 6 candidates, totalling 30 fits\n",
      "[CV] END algorithm=ball_tree, metric=euclidean, n_neighbors=5, weights=distance; total time=  13.3s\n",
      "[CV] END algorithm=ball_tree, metric=euclidean, n_neighbors=5, weights=distance; total time=   8.4s\n",
      "[CV] END algorithm=ball_tree, metric=euclidean, n_neighbors=5, weights=distance; total time=  12.3s\n",
      "[CV] END algorithm=ball_tree, metric=euclidean, n_neighbors=5, weights=distance; total time=   7.7s\n",
      "[CV] END algorithm=ball_tree, metric=euclidean, n_neighbors=5, weights=distance; total time=   7.7s\n",
      "[CV] END algorithm=ball_tree, metric=euclidean, n_neighbors=5, weights=uniform; total time=  10.1s\n",
      "[CV] END algorithm=ball_tree, metric=euclidean, n_neighbors=5, weights=uniform; total time=   8.3s\n",
      "[CV] END algorithm=ball_tree, metric=euclidean, n_neighbors=5, weights=uniform; total time=   9.9s\n",
      "[CV] END algorithm=ball_tree, metric=euclidean, n_neighbors=5, weights=uniform; total time=   8.6s\n",
      "[CV] END algorithm=ball_tree, metric=euclidean, n_neighbors=5, weights=uniform; total time=   8.3s\n",
      "[CV] END algorithm=kd_tree, metric=euclidean, n_neighbors=5, weights=distance; total time=  12.3s\n",
      "[CV] END algorithm=kd_tree, metric=euclidean, n_neighbors=5, weights=distance; total time=  11.9s\n",
      "[CV] END algorithm=kd_tree, metric=euclidean, n_neighbors=5, weights=distance; total time=  11.9s\n",
      "[CV] END algorithm=kd_tree, metric=euclidean, n_neighbors=5, weights=distance; total time=  12.0s\n",
      "[CV] END algorithm=kd_tree, metric=euclidean, n_neighbors=5, weights=distance; total time=  13.7s\n",
      "[CV] END algorithm=kd_tree, metric=euclidean, n_neighbors=5, weights=uniform; total time=  10.9s\n",
      "[CV] END algorithm=kd_tree, metric=euclidean, n_neighbors=5, weights=uniform; total time=  14.6s\n",
      "[CV] END algorithm=kd_tree, metric=euclidean, n_neighbors=5, weights=uniform; total time=  16.6s\n",
      "[CV] END algorithm=kd_tree, metric=euclidean, n_neighbors=5, weights=uniform; total time=  14.8s\n",
      "[CV] END algorithm=kd_tree, metric=euclidean, n_neighbors=5, weights=uniform; total time=  12.5s\n",
      "[CV] END algorithm=brute, metric=euclidean, n_neighbors=5, weights=distance; total time=  25.6s\n",
      "[CV] END algorithm=brute, metric=euclidean, n_neighbors=5, weights=distance; total time=  23.6s\n",
      "[CV] END algorithm=brute, metric=euclidean, n_neighbors=5, weights=distance; total time=  23.7s\n",
      "[CV] END algorithm=brute, metric=euclidean, n_neighbors=5, weights=distance; total time=  23.2s\n",
      "[CV] END algorithm=brute, metric=euclidean, n_neighbors=5, weights=distance; total time=  22.5s\n",
      "[CV] END algorithm=brute, metric=euclidean, n_neighbors=5, weights=uniform; total time=  24.9s\n",
      "[CV] END algorithm=brute, metric=euclidean, n_neighbors=5, weights=uniform; total time=  24.4s\n",
      "[CV] END algorithm=brute, metric=euclidean, n_neighbors=5, weights=uniform; total time=  23.9s\n",
      "[CV] END algorithm=brute, metric=euclidean, n_neighbors=5, weights=uniform; total time=  23.1s\n",
      "[CV] END algorithm=brute, metric=euclidean, n_neighbors=5, weights=uniform; total time=  23.0s\n"
     ]
    },
    {
     "data": {
      "text/plain": [
       "array([0.58838833, 0.58972098, 0.58838833, 0.58972098, 0.58837285,\n",
       "       0.58970544])"
      ]
     },
     "execution_count": 35,
     "metadata": {},
     "output_type": "execute_result"
    }
   ],
   "source": [
    "#Grilla de Parámetros\n",
    "params_grid={ 'n_neighbors':[5], \n",
    "              'weights':['distance','uniform'],\n",
    "              'algorithm':['ball_tree', 'kd_tree', 'brute'],\n",
    "              'metric':['euclidean']\n",
    "             }\n",
    "\n",
    "folds = 5\n",
    "\n",
    "kfoldcv = StratifiedKFold(n_splits=folds)\n",
    "\n",
    "# Metrica que quiero optimizar F1 Score\n",
    "scorer_fn = make_scorer(sk.metrics.f1_score)\n",
    "\n",
    "#Clasificador KNN\n",
    "knn = KNeighborsClassifier()\n",
    "\n",
    "gs = GridSearchCV(knn, params_grid, cv=folds, scoring=scorer_fn, verbose=2)\n",
    "\n",
    "gs.fit(x_train, y_train)\n",
    "gs.cv_results_['mean_test_score']"
   ]
  },
  {
   "cell_type": "code",
   "execution_count": 36,
   "metadata": {},
   "outputs": [
    {
     "name": "stdout",
     "output_type": "stream",
     "text": [
      "Mejores parámetros: {'algorithm': 'ball_tree', 'metric': 'euclidean', 'n_neighbors': 5, 'weights': 'uniform'}\n",
      "Mejor métrica: 0.589720982830831\n"
     ]
    }
   ],
   "source": [
    "print('Mejores parámetros: {}'.format(gs.best_params_))\n",
    "print('Mejor métrica: {}'.format(gs.best_score_))"
   ]
  },
  {
   "cell_type": "code",
   "execution_count": 37,
   "metadata": {},
   "outputs": [],
   "source": [
    "#Mejor estimador\n",
    "best_knn=gs.best_estimator_\n",
    "\n",
    "#Predicción con mejor estimador\n",
    "y_pred=best_knn.predict(x_test)"
   ]
  },
  {
   "cell_type": "code",
   "execution_count": 42,
   "metadata": {},
   "outputs": [],
   "source": [
    "knn = KNeighborsClassifier().set_params(**gs.best_params_)\n",
    "modelo = knn.fit(x_train, y_train)"
   ]
  },
  {
   "cell_type": "code",
   "execution_count": 43,
   "metadata": {},
   "outputs": [],
   "source": [
    "y_pred = modelo.predict(x_test)"
   ]
  },
  {
   "cell_type": "code",
   "execution_count": 44,
   "metadata": {},
   "outputs": [
    {
     "name": "stdout",
     "output_type": "stream",
     "text": [
      "Best Training Accuracy: 0.7307754355775435\n",
      "Best Testing Accuracy: 0.5873902132998745\n",
      "Cross-val-score: 0.5860120988109172\n"
     ]
    }
   ],
   "source": [
    "print(f'Best Training Accuracy: {modelo.score(x_train, y_train)}')\n",
    "print(f'Best Testing Accuracy: {modelo.score(x_test, y_test)}')\n",
    "print(f'Cross-val-score: {cross_val_score(gs.best_estimator_, x, y, cv=StratifiedKFold(shuffle=True)).mean()}')"
   ]
  },
  {
   "cell_type": "code",
   "execution_count": 45,
   "metadata": {},
   "outputs": [
    {
     "name": "stdout",
     "output_type": "stream",
     "text": [
      "Accuracy: 0.5873902132998745\n",
      "Recall: 0.5984213122841638\n",
      "Precision: 0.5936620579958399\n",
      "f1 score: 0.5960321847552362\n"
     ]
    }
   ],
   "source": [
    "accuracy = accuracy_score(y_test, y_pred)\n",
    "recall = recall_score(y_test, y_pred)\n",
    "f1 = f1_score(y_test, y_pred,)\n",
    "precision = precision_score(y_test, y_pred)\n",
    "\n",
    "print(\"Accuracy: \"+str(accuracy))\n",
    "print(\"Recall: \"+str(recall))\n",
    "print(\"Precision: \"+str(precision))\n",
    "print(\"f1 score: \"+str(f1))"
   ]
  },
  {
   "cell_type": "code",
   "execution_count": 46,
   "metadata": {},
   "outputs": [
    {
     "name": "stdout",
     "output_type": "stream",
     "text": [
      "              precision    recall  f1-score   support\n",
      "\n",
      "           0       0.58      0.58      0.58      7832\n",
      "           1       0.59      0.60      0.60      8108\n",
      "\n",
      "    accuracy                           0.59     15940\n",
      "   macro avg       0.59      0.59      0.59     15940\n",
      "weighted avg       0.59      0.59      0.59     15940\n",
      "\n"
     ]
    },
    {
     "data": {
      "text/plain": [
       "Text(50.722222222222214, 0.5, 'True')"
      ]
     },
     "execution_count": 46,
     "metadata": {},
     "output_type": "execute_result"
    },
    {
     "data": {
      "image/png": "[encoded data removed]",
      "text/plain": [
       "<Figure size 640x480 with 2 Axes>"
      ]
     },
     "metadata": {},
     "output_type": "display_data"
    }
   ],
   "source": [
    "#Reporte de Clasificación\n",
    "print(classification_report(y_test,y_pred))\n",
    "\n",
    "#Matriz de Confusión\n",
    "cm = confusion_matrix(y_test,y_pred)\n",
    "sns.heatmap(cm, cmap='Blues',annot=True,fmt='g')\n",
    "plt.xlabel('Predicted')\n",
    "plt.ylabel('True')"
   ]
  }
 ],
 "metadata": {
  "kernelspec": {
   "display_name": "Python 3.8.5 64-bit",
   "language": "python",
   "name": "python3"
  },
  "language_info": {
   "codemirror_mode": {
    "name": "ipython",
    "version": 3
   },
   "file_extension": ".py",
   "mimetype": "text/x-python",
   "name": "python",
   "nbconvert_exporter": "python",
   "pygments_lexer": "ipython3",
   "version": "3.8.5"
  },
  "orig_nbformat": 4,
  "vscode": {
   "interpreter": {
    "hash": "570feb405e2e27c949193ac68f46852414290d515b0ba6e5d90d076ed2284471"
   }
  }
 },
 "nbformat": 4,
 "nbformat_minor": 2
}
