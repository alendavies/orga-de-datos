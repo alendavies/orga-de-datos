{
 "cells": [
  {
   "cell_type": "code",
   "execution_count": 1,
   "metadata": {},
   "outputs": [],
   "source": [
    "import pandas as pd\n",
    "import numpy as np\n",
    "\n",
    "# Visualización\n",
    "import matplotlib.pyplot as plt\n",
    "import seaborn as sns\n",
    "\n",
    "RANDOM_STATE = 42"
   ]
  },
  {
   "cell_type": "code",
   "execution_count": 2,
   "metadata": {},
   "outputs": [],
   "source": [
    "# modelos y métricas\n",
    "from sklearn import tree\n",
    "from sklearn.model_selection import train_test_split\n",
    "import sklearn as sk\n",
    "# , precision_recall_curve, roc_curve,\n",
    "from sklearn.metrics import precision_score, recall_score, accuracy_score, f1_score\n",
    "from sklearn.metrics import confusion_matrix, classification_report\n",
    "from sklearn.model_selection import StratifiedKFold, KFold, RandomizedSearchCV\n",
    "from sklearn.tree import DecisionTreeClassifier\n",
    "from sklearn.metrics import make_scorer\n",
    "from sklearn.model_selection import cross_val_score\n",
    "# preprocesamiento\n",
    "from sklearn.preprocessing import MinMaxScaler\n",
    "\n",
    "# configuración warnings\n",
    "import warnings\n",
    "warnings.simplefilter(action='ignore', category=FutureWarning)\n",
    "warnings.simplefilter(action='ignore', category=UserWarning)\n"
   ]
  },
  {
   "attachments": {},
   "cell_type": "markdown",
   "metadata": {},
   "source": [
    "1. Cargamos y copiamos df train y df test"
   ]
  },
  {
   "cell_type": "code",
   "execution_count": 3,
   "metadata": {},
   "outputs": [],
   "source": [
    "original = pd.read_csv('./Datasets/hotels_procesado.csv')\n",
    "# original = pd.read_csv('./Datasets/hotels_train.csv')\n",
    "df_train = original.copy()\n",
    "df_test = pd.read_csv('./Datasets/hotels_test.csv')\n"
   ]
  },
  {
   "cell_type": "code",
   "execution_count": 4,
   "metadata": {},
   "outputs": [
    {
     "data": {
      "text/html": [
       "<div>\n",
       "<style scoped>\n",
       "    .dataframe tbody tr th:only-of-type {\n",
       "        vertical-align: middle;\n",
       "    }\n",
       "\n",
       "    .dataframe tbody tr th {\n",
       "        vertical-align: top;\n",
       "    }\n",
       "\n",
       "    .dataframe thead th {\n",
       "        text-align: right;\n",
       "    }\n",
       "</style>\n",
       "<table border=\"1\" class=\"dataframe\">\n",
       "  <thead>\n",
       "    <tr style=\"text-align: right;\">\n",
       "      <th></th>\n",
       "      <th>hotel</th>\n",
       "      <th>lead_time</th>\n",
       "      <th>arrival_date_year</th>\n",
       "      <th>arrival_date_month</th>\n",
       "      <th>arrival_date_week_number</th>\n",
       "      <th>arrival_date_day_of_month</th>\n",
       "      <th>stays_in_weekend_nights</th>\n",
       "      <th>stays_in_week_nights</th>\n",
       "      <th>adults</th>\n",
       "      <th>children</th>\n",
       "      <th>...</th>\n",
       "      <th>agent</th>\n",
       "      <th>company</th>\n",
       "      <th>days_in_waiting_list</th>\n",
       "      <th>customer_type</th>\n",
       "      <th>adr</th>\n",
       "      <th>required_car_parking_spaces</th>\n",
       "      <th>total_of_special_requests</th>\n",
       "      <th>id</th>\n",
       "      <th>is_canceled</th>\n",
       "      <th>arrival_date</th>\n",
       "    </tr>\n",
       "  </thead>\n",
       "  <tbody>\n",
       "    <tr>\n",
       "      <th>0</th>\n",
       "      <td>City Hotel</td>\n",
       "      <td>49</td>\n",
       "      <td>2016</td>\n",
       "      <td>September</td>\n",
       "      <td>37</td>\n",
       "      <td>5</td>\n",
       "      <td>1</td>\n",
       "      <td>2</td>\n",
       "      <td>1</td>\n",
       "      <td>0</td>\n",
       "      <td>...</td>\n",
       "      <td>9.0</td>\n",
       "      <td>Sin compania</td>\n",
       "      <td>0</td>\n",
       "      <td>Transient</td>\n",
       "      <td>115.5</td>\n",
       "      <td>0</td>\n",
       "      <td>1</td>\n",
       "      <td>7aa4cc6b-b92c-4061-b21d-4f9e0cac4689</td>\n",
       "      <td>1</td>\n",
       "      <td>2016-09-05</td>\n",
       "    </tr>\n",
       "    <tr>\n",
       "      <th>1</th>\n",
       "      <td>Resort Hotel</td>\n",
       "      <td>4</td>\n",
       "      <td>2015</td>\n",
       "      <td>October</td>\n",
       "      <td>44</td>\n",
       "      <td>31</td>\n",
       "      <td>0</td>\n",
       "      <td>1</td>\n",
       "      <td>2</td>\n",
       "      <td>0</td>\n",
       "      <td>...</td>\n",
       "      <td>Sin agente</td>\n",
       "      <td>Sin compania</td>\n",
       "      <td>0</td>\n",
       "      <td>Transient</td>\n",
       "      <td>42.0</td>\n",
       "      <td>1</td>\n",
       "      <td>0</td>\n",
       "      <td>b1428f80-c56c-4ae4-91a9-6962edae08b1</td>\n",
       "      <td>0</td>\n",
       "      <td>2015-10-31</td>\n",
       "    </tr>\n",
       "    <tr>\n",
       "      <th>2</th>\n",
       "      <td>City Hotel</td>\n",
       "      <td>25</td>\n",
       "      <td>2016</td>\n",
       "      <td>October</td>\n",
       "      <td>42</td>\n",
       "      <td>13</td>\n",
       "      <td>0</td>\n",
       "      <td>1</td>\n",
       "      <td>2</td>\n",
       "      <td>2</td>\n",
       "      <td>...</td>\n",
       "      <td>9.0</td>\n",
       "      <td>Sin compania</td>\n",
       "      <td>0</td>\n",
       "      <td>Transient</td>\n",
       "      <td>229.0</td>\n",
       "      <td>0</td>\n",
       "      <td>2</td>\n",
       "      <td>2226c018-ea20-4c4e-8f71-ea66aee70d7c</td>\n",
       "      <td>0</td>\n",
       "      <td>2016-10-13</td>\n",
       "    </tr>\n",
       "    <tr>\n",
       "      <th>3</th>\n",
       "      <td>City Hotel</td>\n",
       "      <td>26</td>\n",
       "      <td>2016</td>\n",
       "      <td>December</td>\n",
       "      <td>51</td>\n",
       "      <td>12</td>\n",
       "      <td>2</td>\n",
       "      <td>5</td>\n",
       "      <td>2</td>\n",
       "      <td>0</td>\n",
       "      <td>...</td>\n",
       "      <td>154.0</td>\n",
       "      <td>Sin compania</td>\n",
       "      <td>0</td>\n",
       "      <td>Transient</td>\n",
       "      <td>75.0</td>\n",
       "      <td>0</td>\n",
       "      <td>0</td>\n",
       "      <td>314f56dc-2e4d-4298-9bdd-27bb008bffff</td>\n",
       "      <td>1</td>\n",
       "      <td>2016-12-12</td>\n",
       "    </tr>\n",
       "    <tr>\n",
       "      <th>4</th>\n",
       "      <td>City Hotel</td>\n",
       "      <td>104</td>\n",
       "      <td>2017</td>\n",
       "      <td>March</td>\n",
       "      <td>12</td>\n",
       "      <td>19</td>\n",
       "      <td>2</td>\n",
       "      <td>5</td>\n",
       "      <td>2</td>\n",
       "      <td>0</td>\n",
       "      <td>...</td>\n",
       "      <td>20.0</td>\n",
       "      <td>Sin compania</td>\n",
       "      <td>0</td>\n",
       "      <td>Transient-Party</td>\n",
       "      <td>75.0</td>\n",
       "      <td>0</td>\n",
       "      <td>1</td>\n",
       "      <td>28c75445-c603-413a-babf-ad377018b592</td>\n",
       "      <td>0</td>\n",
       "      <td>2017-03-19</td>\n",
       "    </tr>\n",
       "  </tbody>\n",
       "</table>\n",
       "<p>5 rows × 32 columns</p>\n",
       "</div>"
      ],
      "text/plain": [
       "          hotel  lead_time  arrival_date_year arrival_date_month  \\\n",
       "0    City Hotel         49               2016          September   \n",
       "1  Resort Hotel          4               2015            October   \n",
       "2    City Hotel         25               2016            October   \n",
       "3    City Hotel         26               2016           December   \n",
       "4    City Hotel        104               2017              March   \n",
       "\n",
       "   arrival_date_week_number  arrival_date_day_of_month  \\\n",
       "0                        37                          5   \n",
       "1                        44                         31   \n",
       "2                        42                         13   \n",
       "3                        51                         12   \n",
       "4                        12                         19   \n",
       "\n",
       "   stays_in_weekend_nights  stays_in_week_nights  adults  children  ...  \\\n",
       "0                        1                     2       1         0  ...   \n",
       "1                        0                     1       2         0  ...   \n",
       "2                        0                     1       2         2  ...   \n",
       "3                        2                     5       2         0  ...   \n",
       "4                        2                     5       2         0  ...   \n",
       "\n",
       "        agent       company days_in_waiting_list    customer_type    adr  \\\n",
       "0         9.0  Sin compania                    0        Transient  115.5   \n",
       "1  Sin agente  Sin compania                    0        Transient   42.0   \n",
       "2         9.0  Sin compania                    0        Transient  229.0   \n",
       "3       154.0  Sin compania                    0        Transient   75.0   \n",
       "4        20.0  Sin compania                    0  Transient-Party   75.0   \n",
       "\n",
       "   required_car_parking_spaces  total_of_special_requests  \\\n",
       "0                            0                          1   \n",
       "1                            1                          0   \n",
       "2                            0                          2   \n",
       "3                            0                          0   \n",
       "4                            0                          1   \n",
       "\n",
       "                                     id is_canceled arrival_date  \n",
       "0  7aa4cc6b-b92c-4061-b21d-4f9e0cac4689           1   2016-09-05  \n",
       "1  b1428f80-c56c-4ae4-91a9-6962edae08b1           0   2015-10-31  \n",
       "2  2226c018-ea20-4c4e-8f71-ea66aee70d7c           0   2016-10-13  \n",
       "3  314f56dc-2e4d-4298-9bdd-27bb008bffff           1   2016-12-12  \n",
       "4  28c75445-c603-413a-babf-ad377018b592           0   2017-03-19  \n",
       "\n",
       "[5 rows x 32 columns]"
      ]
     },
     "execution_count": 4,
     "metadata": {},
     "output_type": "execute_result"
    }
   ],
   "source": [
    "df_train.head()"
   ]
  },
  {
   "cell_type": "code",
   "execution_count": 6,
   "metadata": {},
   "outputs": [],
   "source": [
    "# Eliminamos las columnas que no vamos a usar para entrenar el modelo\n",
    "# df.drop(['id', 'arrival_date', 'country', 'assigned_room_type', 'reserved_room_type'], axis='columns', inplace=True)\n",
    "\n",
    "df_train.drop(['id', 'arrival_date'], axis='columns', inplace=True)\n",
    "# df_train.drop(['id', 'reservation_status_date'], axis='columns', inplace=True)\n"
   ]
  },
  {
   "cell_type": "code",
   "execution_count": 7,
   "metadata": {},
   "outputs": [
    {
     "ename": "ValueError",
     "evalue": "invalid literal for int() with base 10: 'Sin compania'",
     "output_type": "error",
     "traceback": [
      "\u001b[1;31m---------------------------------------------------------------------------\u001b[0m",
      "\u001b[1;31mValueError\u001b[0m                                Traceback (most recent call last)",
      "Cell \u001b[1;32mIn[7], line 7\u001b[0m\n\u001b[0;32m      1\u001b[0m \u001b[39m# convertir 'sin compania' a 0\u001b[39;00m\n\u001b[0;32m      2\u001b[0m \n\u001b[0;32m      3\u001b[0m \u001b[39m# df['company'] = df['company'].apply(lambda x: 0 if x == 'Sin compania' else x).astype('float64').astype('int64')\u001b[39;00m\n\u001b[0;32m      4\u001b[0m \u001b[39m# # idem for agent\u001b[39;00m\n\u001b[0;32m      5\u001b[0m \u001b[39m# df['agent'] = df['agent'].apply(lambda x: 0 if x == 'Sin agente' else x).astype('float64').astype('int64')\u001b[39;00m\n\u001b[1;32m----> 7\u001b[0m df_train[\u001b[39m'\u001b[39m\u001b[39mcompany\u001b[39m\u001b[39m'\u001b[39m] \u001b[39m=\u001b[39m df_train[\u001b[39m'\u001b[39;49m\u001b[39mcompany\u001b[39;49m\u001b[39m'\u001b[39;49m]\u001b[39m.\u001b[39;49mfillna(\u001b[39m0\u001b[39;49m)\u001b[39m.\u001b[39;49mastype(\u001b[39m'\u001b[39;49m\u001b[39mint64\u001b[39;49m\u001b[39m'\u001b[39;49m)\n\u001b[0;32m      8\u001b[0m df_train[\u001b[39m'\u001b[39m\u001b[39magent\u001b[39m\u001b[39m'\u001b[39m] \u001b[39m=\u001b[39m df_train[\u001b[39m'\u001b[39m\u001b[39magent\u001b[39m\u001b[39m'\u001b[39m]\u001b[39m.\u001b[39mfillna(\u001b[39m0\u001b[39m)\u001b[39m.\u001b[39mastype(\u001b[39m'\u001b[39m\u001b[39mint64\u001b[39m\u001b[39m'\u001b[39m)\n\u001b[0;32m      9\u001b[0m df_train[\u001b[39m'\u001b[39m\u001b[39mcountry\u001b[39m\u001b[39m'\u001b[39m] \u001b[39m=\u001b[39m df_train[\u001b[39m'\u001b[39m\u001b[39mcountry\u001b[39m\u001b[39m'\u001b[39m]\u001b[39m.\u001b[39mfillna(\u001b[39m'\u001b[39m\u001b[39mDesconocido\u001b[39m\u001b[39m'\u001b[39m)\n",
      "File \u001b[1;32mc:\\Users\\Luca\\AppData\\Local\\Programs\\Python\\Python311\\Lib\\site-packages\\pandas\\core\\generic.py:6240\u001b[0m, in \u001b[0;36mNDFrame.astype\u001b[1;34m(self, dtype, copy, errors)\u001b[0m\n\u001b[0;32m   6233\u001b[0m     results \u001b[39m=\u001b[39m [\n\u001b[0;32m   6234\u001b[0m         \u001b[39mself\u001b[39m\u001b[39m.\u001b[39miloc[:, i]\u001b[39m.\u001b[39mastype(dtype, copy\u001b[39m=\u001b[39mcopy)\n\u001b[0;32m   6235\u001b[0m         \u001b[39mfor\u001b[39;00m i \u001b[39min\u001b[39;00m \u001b[39mrange\u001b[39m(\u001b[39mlen\u001b[39m(\u001b[39mself\u001b[39m\u001b[39m.\u001b[39mcolumns))\n\u001b[0;32m   6236\u001b[0m     ]\n\u001b[0;32m   6238\u001b[0m \u001b[39melse\u001b[39;00m:\n\u001b[0;32m   6239\u001b[0m     \u001b[39m# else, only a single dtype is given\u001b[39;00m\n\u001b[1;32m-> 6240\u001b[0m     new_data \u001b[39m=\u001b[39m \u001b[39mself\u001b[39;49m\u001b[39m.\u001b[39;49m_mgr\u001b[39m.\u001b[39;49mastype(dtype\u001b[39m=\u001b[39;49mdtype, copy\u001b[39m=\u001b[39;49mcopy, errors\u001b[39m=\u001b[39;49merrors)\n\u001b[0;32m   6241\u001b[0m     \u001b[39mreturn\u001b[39;00m \u001b[39mself\u001b[39m\u001b[39m.\u001b[39m_constructor(new_data)\u001b[39m.\u001b[39m__finalize__(\u001b[39mself\u001b[39m, method\u001b[39m=\u001b[39m\u001b[39m\"\u001b[39m\u001b[39mastype\u001b[39m\u001b[39m\"\u001b[39m)\n\u001b[0;32m   6243\u001b[0m \u001b[39m# GH 33113: handle empty frame or series\u001b[39;00m\n",
      "File \u001b[1;32mc:\\Users\\Luca\\AppData\\Local\\Programs\\Python\\Python311\\Lib\\site-packages\\pandas\\core\\internals\\managers.py:448\u001b[0m, in \u001b[0;36mBaseBlockManager.astype\u001b[1;34m(self, dtype, copy, errors)\u001b[0m\n\u001b[0;32m    447\u001b[0m \u001b[39mdef\u001b[39;00m \u001b[39mastype\u001b[39m(\u001b[39mself\u001b[39m: T, dtype, copy: \u001b[39mbool\u001b[39m \u001b[39m=\u001b[39m \u001b[39mFalse\u001b[39;00m, errors: \u001b[39mstr\u001b[39m \u001b[39m=\u001b[39m \u001b[39m\"\u001b[39m\u001b[39mraise\u001b[39m\u001b[39m\"\u001b[39m) \u001b[39m-\u001b[39m\u001b[39m>\u001b[39m T:\n\u001b[1;32m--> 448\u001b[0m     \u001b[39mreturn\u001b[39;00m \u001b[39mself\u001b[39;49m\u001b[39m.\u001b[39;49mapply(\u001b[39m\"\u001b[39;49m\u001b[39mastype\u001b[39;49m\u001b[39m\"\u001b[39;49m, dtype\u001b[39m=\u001b[39;49mdtype, copy\u001b[39m=\u001b[39;49mcopy, errors\u001b[39m=\u001b[39;49merrors)\n",
      "File \u001b[1;32mc:\\Users\\Luca\\AppData\\Local\\Programs\\Python\\Python311\\Lib\\site-packages\\pandas\\core\\internals\\managers.py:352\u001b[0m, in \u001b[0;36mBaseBlockManager.apply\u001b[1;34m(self, f, align_keys, ignore_failures, **kwargs)\u001b[0m\n\u001b[0;32m    350\u001b[0m         applied \u001b[39m=\u001b[39m b\u001b[39m.\u001b[39mapply(f, \u001b[39m*\u001b[39m\u001b[39m*\u001b[39mkwargs)\n\u001b[0;32m    351\u001b[0m     \u001b[39melse\u001b[39;00m:\n\u001b[1;32m--> 352\u001b[0m         applied \u001b[39m=\u001b[39m \u001b[39mgetattr\u001b[39;49m(b, f)(\u001b[39m*\u001b[39;49m\u001b[39m*\u001b[39;49mkwargs)\n\u001b[0;32m    353\u001b[0m \u001b[39mexcept\u001b[39;00m (\u001b[39mTypeError\u001b[39;00m, \u001b[39mNotImplementedError\u001b[39;00m):\n\u001b[0;32m    354\u001b[0m     \u001b[39mif\u001b[39;00m \u001b[39mnot\u001b[39;00m ignore_failures:\n",
      "File \u001b[1;32mc:\\Users\\Luca\\AppData\\Local\\Programs\\Python\\Python311\\Lib\\site-packages\\pandas\\core\\internals\\blocks.py:526\u001b[0m, in \u001b[0;36mBlock.astype\u001b[1;34m(self, dtype, copy, errors)\u001b[0m\n\u001b[0;32m    508\u001b[0m \u001b[39m\u001b[39m\u001b[39m\"\"\"\u001b[39;00m\n\u001b[0;32m    509\u001b[0m \u001b[39mCoerce to the new dtype.\u001b[39;00m\n\u001b[0;32m    510\u001b[0m \n\u001b[1;32m   (...)\u001b[0m\n\u001b[0;32m    522\u001b[0m \u001b[39mBlock\u001b[39;00m\n\u001b[0;32m    523\u001b[0m \u001b[39m\"\"\"\u001b[39;00m\n\u001b[0;32m    524\u001b[0m values \u001b[39m=\u001b[39m \u001b[39mself\u001b[39m\u001b[39m.\u001b[39mvalues\n\u001b[1;32m--> 526\u001b[0m new_values \u001b[39m=\u001b[39m astype_array_safe(values, dtype, copy\u001b[39m=\u001b[39;49mcopy, errors\u001b[39m=\u001b[39;49merrors)\n\u001b[0;32m    528\u001b[0m new_values \u001b[39m=\u001b[39m maybe_coerce_values(new_values)\n\u001b[0;32m    529\u001b[0m newb \u001b[39m=\u001b[39m \u001b[39mself\u001b[39m\u001b[39m.\u001b[39mmake_block(new_values)\n",
      "File \u001b[1;32mc:\\Users\\Luca\\AppData\\Local\\Programs\\Python\\Python311\\Lib\\site-packages\\pandas\\core\\dtypes\\astype.py:299\u001b[0m, in \u001b[0;36mastype_array_safe\u001b[1;34m(values, dtype, copy, errors)\u001b[0m\n\u001b[0;32m    296\u001b[0m     \u001b[39mreturn\u001b[39;00m values\u001b[39m.\u001b[39mcopy()\n\u001b[0;32m    298\u001b[0m \u001b[39mtry\u001b[39;00m:\n\u001b[1;32m--> 299\u001b[0m     new_values \u001b[39m=\u001b[39m astype_array(values, dtype, copy\u001b[39m=\u001b[39;49mcopy)\n\u001b[0;32m    300\u001b[0m \u001b[39mexcept\u001b[39;00m (\u001b[39mValueError\u001b[39;00m, \u001b[39mTypeError\u001b[39;00m):\n\u001b[0;32m    301\u001b[0m     \u001b[39m# e.g. astype_nansafe can fail on object-dtype of strings\u001b[39;00m\n\u001b[0;32m    302\u001b[0m     \u001b[39m#  trying to convert to float\u001b[39;00m\n\u001b[0;32m    303\u001b[0m     \u001b[39mif\u001b[39;00m errors \u001b[39m==\u001b[39m \u001b[39m\"\u001b[39m\u001b[39mignore\u001b[39m\u001b[39m\"\u001b[39m:\n",
      "File \u001b[1;32mc:\\Users\\Luca\\AppData\\Local\\Programs\\Python\\Python311\\Lib\\site-packages\\pandas\\core\\dtypes\\astype.py:230\u001b[0m, in \u001b[0;36mastype_array\u001b[1;34m(values, dtype, copy)\u001b[0m\n\u001b[0;32m    227\u001b[0m     values \u001b[39m=\u001b[39m values\u001b[39m.\u001b[39mastype(dtype, copy\u001b[39m=\u001b[39mcopy)\n\u001b[0;32m    229\u001b[0m \u001b[39melse\u001b[39;00m:\n\u001b[1;32m--> 230\u001b[0m     values \u001b[39m=\u001b[39m astype_nansafe(values, dtype, copy\u001b[39m=\u001b[39;49mcopy)\n\u001b[0;32m    232\u001b[0m \u001b[39m# in pandas we don't store numpy str dtypes, so convert to object\u001b[39;00m\n\u001b[0;32m    233\u001b[0m \u001b[39mif\u001b[39;00m \u001b[39misinstance\u001b[39m(dtype, np\u001b[39m.\u001b[39mdtype) \u001b[39mand\u001b[39;00m \u001b[39missubclass\u001b[39m(values\u001b[39m.\u001b[39mdtype\u001b[39m.\u001b[39mtype, \u001b[39mstr\u001b[39m):\n",
      "File \u001b[1;32mc:\\Users\\Luca\\AppData\\Local\\Programs\\Python\\Python311\\Lib\\site-packages\\pandas\\core\\dtypes\\astype.py:170\u001b[0m, in \u001b[0;36mastype_nansafe\u001b[1;34m(arr, dtype, copy, skipna)\u001b[0m\n\u001b[0;32m    166\u001b[0m     \u001b[39mraise\u001b[39;00m \u001b[39mValueError\u001b[39;00m(msg)\n\u001b[0;32m    168\u001b[0m \u001b[39mif\u001b[39;00m copy \u001b[39mor\u001b[39;00m is_object_dtype(arr\u001b[39m.\u001b[39mdtype) \u001b[39mor\u001b[39;00m is_object_dtype(dtype):\n\u001b[0;32m    169\u001b[0m     \u001b[39m# Explicit copy, or required since NumPy can't view from / to object.\u001b[39;00m\n\u001b[1;32m--> 170\u001b[0m     \u001b[39mreturn\u001b[39;00m arr\u001b[39m.\u001b[39;49mastype(dtype, copy\u001b[39m=\u001b[39;49m\u001b[39mTrue\u001b[39;49;00m)\n\u001b[0;32m    172\u001b[0m \u001b[39mreturn\u001b[39;00m arr\u001b[39m.\u001b[39mastype(dtype, copy\u001b[39m=\u001b[39mcopy)\n",
      "\u001b[1;31mValueError\u001b[0m: invalid literal for int() with base 10: 'Sin compania'"
     ]
    }
   ],
   "source": [
    "# convertir 'sin compania' a 0\n",
    "\n",
    "# df['company'] = df['company'].apply(lambda x: 0 if x == 'Sin compania' else x).astype('float64').astype('int64')\n",
    "# # idem for agent\n",
    "# df['agent'] = df['agent'].apply(lambda x: 0 if x == 'Sin agente' else x).astype('float64').astype('int64')\n",
    "\n",
    "df_train['company'] = df_train['company'].fillna(0).astype('int64')\n",
    "df_train['agent'] = df_train['agent'].fillna(0).astype('int64')\n",
    "df_train['country'] = df_train['country'].fillna('Desconocido')\n",
    "df_train['children'] = df_train['children'].fillna(0).astype('int64')\n"
   ]
  },
  {
   "cell_type": "code",
   "execution_count": null,
   "metadata": {},
   "outputs": [],
   "source": [
    "df_train.isna().sum().sum()"
   ]
  },
  {
   "cell_type": "code",
   "execution_count": null,
   "metadata": {},
   "outputs": [],
   "source": [
    "df_test.dtypes"
   ]
  },
  {
   "cell_type": "code",
   "execution_count": null,
   "metadata": {},
   "outputs": [],
   "source": [
    "df_test.isna().sum()"
   ]
  },
  {
   "cell_type": "code",
   "execution_count": null,
   "metadata": {},
   "outputs": [],
   "source": [
    "# children to int\n",
    "df_test['children'] = df_test['children'].astype('int64')\n"
   ]
  },
  {
   "cell_type": "code",
   "execution_count": null,
   "metadata": {},
   "outputs": [],
   "source": [
    "# en el df_test, trato las columnas como el df_train\n",
    "# df_test.drop(['reservation_status_date', 'country', 'assigned_room_type', 'reserved_room_type'], axis='columns', inplace=True)\n",
    "df_test.drop(['reservation_status_date'], axis='columns', inplace=True)\n"
   ]
  },
  {
   "cell_type": "code",
   "execution_count": null,
   "metadata": {},
   "outputs": [],
   "source": [
    "# convertir nulos a 0\n",
    "df_test['company'] = df_test['company'].fillna(0).astype('int64')\n",
    "df_test['agent'] = df_test['agent'].fillna(0).astype('int64')\n",
    "df_test['country'] = df_test['country'].fillna('Desconocido')"
   ]
  },
  {
   "cell_type": "code",
   "execution_count": null,
   "metadata": {},
   "outputs": [],
   "source": [
    "df_test.isna().sum()"
   ]
  },
  {
   "cell_type": "code",
   "execution_count": null,
   "metadata": {},
   "outputs": [],
   "source": [
    "# df_test = pd.get_dummies(df_test, columns=['hotel', 'arrival_date_month', 'meal', 'market_segment','distribution_channel', 'deposit_type', 'customer_type'], drop_first=True)\n",
    "df_test = pd.get_dummies(df_test, columns=['hotel', 'arrival_date_month', 'meal', 'market_segment','distribution_channel', 'deposit_type', 'customer_type', 'reserved_room_type', 'assigned_room_type', 'country'], drop_first=True)"
   ]
  },
  {
   "cell_type": "code",
   "execution_count": null,
   "metadata": {},
   "outputs": [],
   "source": [
    "df_test.columns"
   ]
  },
  {
   "cell_type": "code",
   "execution_count": null,
   "metadata": {},
   "outputs": [],
   "source": [
    "df_test.dtypes"
   ]
  },
  {
   "cell_type": "code",
   "execution_count": null,
   "metadata": {},
   "outputs": [],
   "source": [
    "df_train.info()"
   ]
  },
  {
   "cell_type": "code",
   "execution_count": null,
   "metadata": {},
   "outputs": [],
   "source": [
    "# Encodeamos las variables categóricas\n",
    "# df = pd.get_dummies(df, columns=['hotel', 'arrival_date_month', 'meal', 'market_segment', 'distribution_channel', 'deposit_type', 'customer_type'], drop_first=True)\n",
    "df_train = pd.get_dummies(df_train, columns=['hotel', 'arrival_date_month', 'meal', 'market_segment',\n",
    "                    'distribution_channel', 'deposit_type', 'customer_type', 'reserved_room_type', 'assigned_room_type', 'country'], drop_first=True)\n",
    "df_train.dtypes"
   ]
  },
  {
   "cell_type": "code",
   "execution_count": null,
   "metadata": {},
   "outputs": [],
   "source": [
    "df_train.columns"
   ]
  },
  {
   "cell_type": "code",
   "execution_count": null,
   "metadata": {},
   "outputs": [],
   "source": [
    "_train = df_train.copy()\n",
    "_test = df_test.copy()\n",
    "# combinamos train y test para poder hacer el preprocesamiento\n",
    "df = pd.concat([_train, _test], axis=0, ignore_index=True)\n",
    "# sacar todas las columnas excepto 'reserved_room_type', 'assigned_room_type', 'country\n",
    "# df = df[['reserved_room_type', 'assigned_room_type', 'country']]\n",
    "\n",
    "# dummies\n",
    "# df = pd.get_dummies(\n",
    "#     df, columns=['reserved_room_type', 'assigned_room_type', 'country'])\n",
    "df.dtypes\n"
   ]
  },
  {
   "cell_type": "code",
   "execution_count": null,
   "metadata": {},
   "outputs": [],
   "source": [
    "# get columns name of df\n",
    "columns_total = df.columns\n",
    "columns_train = df_train.columns\n",
    "columns_test = df_test.columns"
   ]
  },
  {
   "cell_type": "code",
   "execution_count": null,
   "metadata": {},
   "outputs": [],
   "source": [
    "# join columns_train and columns_test\n",
    "# columns_train_test = columns_train.union(columns_test)"
   ]
  },
  {
   "cell_type": "code",
   "execution_count": null,
   "metadata": {},
   "outputs": [],
   "source": [
    "nuevas_columns_train = columns_total.difference(columns_train)\n",
    "nuevas_columns_test = columns_total.difference(columns_test)"
   ]
  },
  {
   "cell_type": "code",
   "execution_count": null,
   "metadata": {},
   "outputs": [],
   "source": [
    "nuevas_columns_train"
   ]
  },
  {
   "cell_type": "code",
   "execution_count": null,
   "metadata": {},
   "outputs": [],
   "source": [
    "nuevas_columns_test"
   ]
  },
  {
   "cell_type": "code",
   "execution_count": null,
   "metadata": {},
   "outputs": [],
   "source": [
    "# add nuevas_columnas_train a df_train\n",
    "for col in nuevas_columns_train:\n",
    "        df_train[col] = 0\n",
    "\n",
    "# add nuevas_columnas_test a df_test\n",
    "for col in nuevas_columns_test:\n",
    "        df_test[col] = 0"
   ]
  },
  {
   "cell_type": "code",
   "execution_count": null,
   "metadata": {},
   "outputs": [],
   "source": [
    "df_train.shape"
   ]
  },
  {
   "cell_type": "code",
   "execution_count": null,
   "metadata": {},
   "outputs": [],
   "source": [
    "df_test.shape"
   ]
  },
  {
   "cell_type": "code",
   "execution_count": null,
   "metadata": {},
   "outputs": [],
   "source": [
    "a = df_test.columns\n",
    "b = df_train.columns\n",
    "a.difference(b)"
   ]
  },
  {
   "cell_type": "code",
   "execution_count": null,
   "metadata": {},
   "outputs": [],
   "source": [
    "df_train.drop('id', axis='columns', inplace=True)\n",
    "df_test.drop('is_canceled', axis='columns', inplace=True)\n",
    "df_train = df_train.reindex(sorted(df_train.columns), axis=1)\n",
    "df_test = df_test.reindex(sorted(df_test.columns), axis=1)\n"
   ]
  },
  {
   "cell_type": "code",
   "execution_count": null,
   "metadata": {},
   "outputs": [
    {
     "name": "stdout",
     "output_type": "stream",
     "text": [
      "# Datos Entrenamiento: 49530\n",
      "# Datos Prueba: 12383\n",
      "% Positivos Entrenamiento: 49.915\n",
      "% Positivos Prueba: 50.214\n"
     ]
    }
   ],
   "source": [
    "#Creo un dataset con los features que voy a usar para clasificar\n",
    "ds_trabajo_x = df_train.drop(['is_canceled'], axis='columns', inplace=False)\n",
    "\n",
    "#Creo un dataset con la variable target\n",
    "ds_trabajo_y = df_train['is_canceled'].copy()\n",
    "\n",
    "#Genero los conjuntos de train y de test\n",
    "x_train, x_test, y_train, y_test = train_test_split(ds_trabajo_x,\n",
    "                                                    ds_trabajo_y, \n",
    "                                                    test_size=0.2,  #proporcion 80/20\n",
    "                                                    random_state=RANDOM_STATE) #semilla\n",
    "\n",
    "#Verifico Cantidad de Datos en cada set\n",
    "print('# Datos Entrenamiento: {}'.format(len(x_train)))\n",
    "print('# Datos Prueba: {}'.format(len(x_test)))\n",
    "\n",
    "#Verifico como quedaron balanceados\n",
    "for split_name, split in zip(['% Positivos Entrenamiento','% Positivos Prueba'],[y_train,y_test]):\n",
    "  print('{}: {:.3f}'.format(split_name,pd.Series(split).value_counts(normalize=True)[1]*100))"
   ]
  },
  {
   "cell_type": "code",
   "execution_count": null,
   "metadata": {},
   "outputs": [],
   "source": [
    "#Cantidad de combinaciones que quiero porbar\n",
    "\n",
    "n=10\n",
    "\n",
    "#Conjunto de parámetros que quiero usar\n",
    "# params_grid = {'criterion':['gini','entropy'],\n",
    "#                'max_depth': [None],\n",
    "#                'min_samples_split': list(range(2,30)),\n",
    "#                'min_samples_leaf':list(range(1,10)),\n",
    "#                'max_features': list(range(1,10)),\n",
    "#                'ccp_alpha':np.linspace(0,0.005,n), \n",
    "#                }\n",
    "\n",
    "params_grid = {\n",
    "    'max_depth': [None],\n",
    "    'max_features': [0.7],\n",
    "    'min_samples_split': [25],\n",
    "    'min_samples_leaf': [1]\n",
    "}\n",
    "                \n",
    "#Cantidad de splits para el Cross Validation\n",
    "folds=10\n",
    "\n",
    "#Kfold estratificado\n",
    "kfoldcv = StratifiedKFold(n_splits=folds)\n",
    "\n",
    "#Clasificador\n",
    "base_tree = DecisionTreeClassifier()\n",
    "\n",
    "#Metrica que quiero optimizar F1 Score\n",
    "scorer_fn = make_scorer(sk.metrics.f1_score)\n",
    "\n",
    "#Random Search Cross Validation\n",
    "randomcv = RandomizedSearchCV(estimator=base_tree,\n",
    "                              param_distributions = params_grid,\n",
    "                              scoring=scorer_fn,\n",
    "                              cv=kfoldcv)\n",
    "\n",
    "#Busco los hiperparamtros que optimizan F1 Score\n",
    "randomcv.fit(x_train,y_train);"
   ]
  },
  {
   "cell_type": "code",
   "execution_count": null,
   "metadata": {},
   "outputs": [],
   "source": [
    "# Mejores hiperparametros del arbol\n",
    "print(randomcv.best_params_)\n",
    "# Mejor métrica\n",
    "print(randomcv.best_score_)"
   ]
  },
  {
   "cell_type": "code",
   "execution_count": null,
   "metadata": {},
   "outputs": [
    {
     "data": {
      "text/html": [
       "<style>#sk-container-id-7 {color: black;background-color: white;}#sk-container-id-7 pre{padding: 0;}#sk-container-id-7 div.sk-toggleable {background-color: white;}#sk-container-id-7 label.sk-toggleable__label {cursor: pointer;display: block;width: 100%;margin-bottom: 0;padding: 0.3em;box-sizing: border-box;text-align: center;}#sk-container-id-7 label.sk-toggleable__label-arrow:before {content: \"▸\";float: left;margin-right: 0.25em;color: #696969;}#sk-container-id-7 label.sk-toggleable__label-arrow:hover:before {color: black;}#sk-container-id-7 div.sk-estimator:hover label.sk-toggleable__label-arrow:before {color: black;}#sk-container-id-7 div.sk-toggleable__content {max-height: 0;max-width: 0;overflow: hidden;text-align: left;background-color: #f0f8ff;}#sk-container-id-7 div.sk-toggleable__content pre {margin: 0.2em;color: black;border-radius: 0.25em;background-color: #f0f8ff;}#sk-container-id-7 input.sk-toggleable__control:checked~div.sk-toggleable__content {max-height: 200px;max-width: 100%;overflow: auto;}#sk-container-id-7 input.sk-toggleable__control:checked~label.sk-toggleable__label-arrow:before {content: \"▾\";}#sk-container-id-7 div.sk-estimator input.sk-toggleable__control:checked~label.sk-toggleable__label {background-color: #d4ebff;}#sk-container-id-7 div.sk-label input.sk-toggleable__control:checked~label.sk-toggleable__label {background-color: #d4ebff;}#sk-container-id-7 input.sk-hidden--visually {border: 0;clip: rect(1px 1px 1px 1px);clip: rect(1px, 1px, 1px, 1px);height: 1px;margin: -1px;overflow: hidden;padding: 0;position: absolute;width: 1px;}#sk-container-id-7 div.sk-estimator {font-family: monospace;background-color: #f0f8ff;border: 1px dotted black;border-radius: 0.25em;box-sizing: border-box;margin-bottom: 0.5em;}#sk-container-id-7 div.sk-estimator:hover {background-color: #d4ebff;}#sk-container-id-7 div.sk-parallel-item::after {content: \"\";width: 100%;border-bottom: 1px solid gray;flex-grow: 1;}#sk-container-id-7 div.sk-label:hover label.sk-toggleable__label {background-color: #d4ebff;}#sk-container-id-7 div.sk-serial::before {content: \"\";position: absolute;border-left: 1px solid gray;box-sizing: border-box;top: 0;bottom: 0;left: 50%;z-index: 0;}#sk-container-id-7 div.sk-serial {display: flex;flex-direction: column;align-items: center;background-color: white;padding-right: 0.2em;padding-left: 0.2em;position: relative;}#sk-container-id-7 div.sk-item {position: relative;z-index: 1;}#sk-container-id-7 div.sk-parallel {display: flex;align-items: stretch;justify-content: center;background-color: white;position: relative;}#sk-container-id-7 div.sk-item::before, #sk-container-id-7 div.sk-parallel-item::before {content: \"\";position: absolute;border-left: 1px solid gray;box-sizing: border-box;top: 0;bottom: 0;left: 50%;z-index: -1;}#sk-container-id-7 div.sk-parallel-item {display: flex;flex-direction: column;z-index: 1;position: relative;background-color: white;}#sk-container-id-7 div.sk-parallel-item:first-child::after {align-self: flex-end;width: 50%;}#sk-container-id-7 div.sk-parallel-item:last-child::after {align-self: flex-start;width: 50%;}#sk-container-id-7 div.sk-parallel-item:only-child::after {width: 0;}#sk-container-id-7 div.sk-dashed-wrapped {border: 1px dashed gray;margin: 0 0.4em 0.5em 0.4em;box-sizing: border-box;padding-bottom: 0.4em;background-color: white;}#sk-container-id-7 div.sk-label label {font-family: monospace;font-weight: bold;display: inline-block;line-height: 1.2em;}#sk-container-id-7 div.sk-label-container {text-align: center;}#sk-container-id-7 div.sk-container {/* jupyter's `normalize.less` sets `[hidden] { display: none; }` but bootstrap.min.css set `[hidden] { display: none !important; }` so we also need the `!important` here to be able to override the default hidden behavior on the sphinx rendered scikit-learn.org. See: https://github.com/scikit-learn/scikit-learn/issues/21755 */display: inline-block !important;position: relative;}#sk-container-id-7 div.sk-text-repr-fallback {display: none;}</style><div id=\"sk-container-id-7\" class=\"sk-top-container\"><div class=\"sk-text-repr-fallback\"><pre>GridSearchCV(cv=StratifiedKFold(n_splits=10, random_state=None, shuffle=False),\n",
       "             estimator=DecisionTreeClassifier(),\n",
       "             param_grid={&#x27;max_depth&#x27;: [None], &#x27;max_features&#x27;: [0.7],\n",
       "                         &#x27;min_samples_leaf&#x27;: [1], &#x27;min_samples_split&#x27;: [25]},\n",
       "             scoring=&#x27;accuracy&#x27;)</pre><b>In a Jupyter environment, please rerun this cell to show the HTML representation or trust the notebook. <br />On GitHub, the HTML representation is unable to render, please try loading this page with nbviewer.org.</b></div><div class=\"sk-container\" hidden><div class=\"sk-item sk-dashed-wrapped\"><div class=\"sk-label-container\"><div class=\"sk-label sk-toggleable\"><input class=\"sk-toggleable__control sk-hidden--visually\" id=\"sk-estimator-id-19\" type=\"checkbox\" ><label for=\"sk-estimator-id-19\" class=\"sk-toggleable__label sk-toggleable__label-arrow\">GridSearchCV</label><div class=\"sk-toggleable__content\"><pre>GridSearchCV(cv=StratifiedKFold(n_splits=10, random_state=None, shuffle=False),\n",
       "             estimator=DecisionTreeClassifier(),\n",
       "             param_grid={&#x27;max_depth&#x27;: [None], &#x27;max_features&#x27;: [0.7],\n",
       "                         &#x27;min_samples_leaf&#x27;: [1], &#x27;min_samples_split&#x27;: [25]},\n",
       "             scoring=&#x27;accuracy&#x27;)</pre></div></div></div><div class=\"sk-parallel\"><div class=\"sk-parallel-item\"><div class=\"sk-item\"><div class=\"sk-label-container\"><div class=\"sk-label sk-toggleable\"><input class=\"sk-toggleable__control sk-hidden--visually\" id=\"sk-estimator-id-20\" type=\"checkbox\" ><label for=\"sk-estimator-id-20\" class=\"sk-toggleable__label sk-toggleable__label-arrow\">estimator: DecisionTreeClassifier</label><div class=\"sk-toggleable__content\"><pre>DecisionTreeClassifier()</pre></div></div></div><div class=\"sk-serial\"><div class=\"sk-item\"><div class=\"sk-estimator sk-toggleable\"><input class=\"sk-toggleable__control sk-hidden--visually\" id=\"sk-estimator-id-21\" type=\"checkbox\" ><label for=\"sk-estimator-id-21\" class=\"sk-toggleable__label sk-toggleable__label-arrow\">DecisionTreeClassifier</label><div class=\"sk-toggleable__content\"><pre>DecisionTreeClassifier()</pre></div></div></div></div></div></div></div></div></div></div>"
      ],
      "text/plain": [
       "GridSearchCV(cv=StratifiedKFold(n_splits=10, random_state=None, shuffle=False),\n",
       "             estimator=DecisionTreeClassifier(),\n",
       "             param_grid={'max_depth': [None], 'max_features': [0.7],\n",
       "                         'min_samples_leaf': [1], 'min_samples_split': [25]},\n",
       "             scoring='accuracy')"
      ]
     },
     "execution_count": 590,
     "metadata": {},
     "output_type": "execute_result"
    }
   ],
   "source": [
    "# Construct Grid Parameters\n",
    "from sklearn.model_selection import GridSearchCV\n",
    "\n",
    "folds = 10\n",
    "\n",
    "# Kfold estratificado\n",
    "kfoldcv = StratifiedKFold(n_splits=folds)\n",
    "\n",
    "params_grid = {\n",
    "    'max_depth': [None],\n",
    "    'max_features': [0.7],\n",
    "    'min_samples_split': [25],\n",
    "    'min_samples_leaf': [1]\n",
    "}\n",
    "\n",
    "# Clasificador\n",
    "base_tree = DecisionTreeClassifier()\n",
    "\n",
    "# Perform Grid Search\n",
    "gs = GridSearchCV(base_tree, params_grid,\n",
    "                     cv=kfoldcv,\n",
    "                     scoring='accuracy')\n",
    "\n",
    "gs.fit(x_train, y_train)"
   ]
  },
  {
   "cell_type": "code",
   "execution_count": null,
   "metadata": {},
   "outputs": [
    {
     "name": "stdout",
     "output_type": "stream",
     "text": [
      "{'max_depth': None, 'max_features': 0.7, 'min_samples_leaf': 1, 'min_samples_split': 25}\n",
      "0.8395114072279426\n"
     ]
    }
   ],
   "source": [
    "# Mejores hiperparametros del arbol\n",
    "print(gs.best_params_)\n",
    "# Mejor métrica\n",
    "print(gs.best_score_)"
   ]
  },
  {
   "cell_type": "code",
   "execution_count": null,
   "metadata": {},
   "outputs": [
    {
     "name": "stdout",
     "output_type": "stream",
     "text": [
      "country_LBN: 4.4580193032932754e-05\n",
      "country_TUN: 5.106060612658365e-05\n",
      "country_MOZ: 5.36439770755909e-05\n",
      "country_EST: 5.8935207453106564e-05\n",
      "country_Desconocido: 5.9881655201595715e-05\n",
      "country_ISL: 6.879963351501099e-05\n",
      "country_GRC: 6.985414990702616e-05\n",
      "country_DOM: 7.30010595456731e-05\n",
      "country_DZA: 7.349681974652435e-05\n",
      "country_NZL: 7.612861125549945e-05\n",
      "country_MAC: 8.045428860714686e-05\n",
      "country_GIB: 8.255597519885869e-05\n",
      "country_TWN: 8.310970592994907e-05\n",
      "country_GEO: 8.325560210732362e-05\n",
      "country_PAK: 8.35788140478649e-05\n",
      "deposit_type_Refundable: 8.562856460063744e-05\n",
      "country_SAU: 8.590698977779205e-05\n",
      "country_SVK: 8.630748856463272e-05\n",
      "country_MDV: 8.67107945859625e-05\n",
      "country_CYP: 9.095889445432253e-05\n",
      "distribution_channel_Undefined: 9.301941249169499e-05\n",
      "country_NAM: 9.344908882149296e-05\n",
      "country_BLR: 9.739137077002157e-05\n",
      "country_QAT: 9.816187122749509e-05\n",
      "reserved_room_type_H: 9.883433419479123e-05\n",
      "market_segment_Complementary: 0.00011602471879545791\n",
      "distribution_channel_TA/TO: 0.00012748337841775667\n",
      "country_IDN: 0.00013262175696192994\n",
      "country_BGR: 0.00013984226524012153\n",
      "market_segment_Undefined: 0.00014987722388047663\n",
      "meal_FB: 0.00015153034821385468\n",
      "assigned_room_type_K: 0.00016166054641938334\n",
      "country_COL: 0.0001616696061269858\n",
      "country_IND: 0.0001622174556536027\n",
      "distribution_channel_GDS: 0.00016402991091259893\n",
      "country_NGA: 0.00016840378642209462\n",
      "country_PER: 0.00017490843984595587\n",
      "country_LTU: 0.0001751788902913324\n",
      "country_MEX: 0.00017695680253217554\n",
      "country_IRN: 0.00019142123034414103\n",
      "country_TUR: 0.00019180182547567072\n",
      "assigned_room_type_H: 0.00019512522753890936\n",
      "country_KOR: 0.00019868214338004681\n",
      "country_HRV: 0.00020828955007087948\n",
      "country_ARG: 0.00022214916790875438\n",
      "country_PHL: 0.0002381556286144446\n",
      "country_LUX: 0.0002507128102440205\n",
      "country_ARE: 0.00026598952460685416\n",
      "country_SVN: 0.00029463724368506035\n",
      "arrival_date_month_January: 0.00031835011670583105\n",
      "country_ZAF: 0.0003258477354196543\n",
      "country_MAR: 0.000390914250091564\n",
      "country_DNK: 0.0003990182803888285\n",
      "customer_type_Group: 0.0003993740740033126\n",
      "reserved_room_type_P: 0.0004068507546576197\n",
      "country_CZE: 0.0004149276034075001\n",
      "country_HUN: 0.00043096925984293787\n",
      "country_ISR: 0.00043780343926563614\n",
      "arrival_date_month_October: 0.00045464096231806337\n",
      "country_FIN: 0.0004629827532577081\n",
      "arrival_date_month_December: 0.0004700594021772241\n",
      "country_NOR: 0.0004795914580009924\n",
      "reserved_room_type_G: 0.00048299528506764945\n",
      "country_JPN: 0.0005142248399511815\n",
      "babies: 0.00057391269872514\n",
      "country_RUS: 0.0005831846098440519\n",
      "country_ROU: 0.0005908944721792919\n",
      "country_AUS: 0.0006410915213420536\n",
      "arrival_date_month_November: 0.0006725280788356428\n",
      "country_USA: 0.000679844783993377\n",
      "arrival_date_month_September: 0.0006898026294037643\n",
      "reserved_room_type_C: 0.0007214152378916901\n",
      "assigned_room_type_C: 0.0007372516006936685\n",
      "reserved_room_type_F: 0.0007712514534730847\n",
      "market_segment_Corporate: 0.0008059205552387468\n",
      "country_POL: 0.0008284878373389316\n",
      "country_AUT: 0.0008703646466063807\n",
      "reserved_room_type_E: 0.0008891861601252896\n",
      "country_CN: 0.0009808664611868844\n",
      "reserved_room_type_B: 0.001000535459372472\n",
      "assigned_room_type_E: 0.0010920762833874825\n",
      "assigned_room_type_G: 0.001093944122347999\n",
      "assigned_room_type_B: 0.0011288346472614456\n",
      "assigned_room_type_F: 0.0011438322064004276\n",
      "country_SWE: 0.001228061867542814\n",
      "arrival_date_month_February: 0.0012865596554844365\n",
      "country_CHN: 0.0013052836052419312\n",
      "country_IRL: 0.0013643245659351075\n",
      "arrival_date_month_June: 0.0013713634701361644\n",
      "distribution_channel_Direct: 0.0016042090513680469\n",
      "assigned_room_type_I: 0.00160469703559413\n",
      "market_segment_Groups: 0.001637990263402183\n",
      "country_CHE: 0.0016522294712623636\n",
      "arrival_date_month_May: 0.0017535827312350762\n",
      "country_NLD: 0.0017634906021468286\n",
      "country_GBR: 0.0017878390218442567\n",
      "arrival_date_month_March: 0.001964941212609379\n",
      "country_ITA: 0.0020036935891560815\n",
      "reserved_room_type_D: 0.0020195155942957657\n",
      "country_DEU: 0.002084896600662568\n",
      "meal_SC: 0.00222900306661244\n",
      "meal_Undefined: 0.002302196285474\n",
      "country_BEL: 0.0023169075296805256\n",
      "arrival_date_month_August: 0.0023662211870258184\n",
      "market_segment_Offline TA/TO: 0.0023756404361011314\n",
      "days_in_waiting_list: 0.0023939093709876348\n",
      "arrival_date_month_July: 0.002403848761548741\n",
      "children: 0.0025123157433527095\n",
      "country_BRA: 0.0026083447211888476\n",
      "is_repeated_guest: 0.002626549631351397\n",
      "country_ESP: 0.002655078333307329\n",
      "country_FRA: 0.002805949839385138\n",
      "company: 0.0028405524790472893\n",
      "adults: 0.0030064385312831344\n",
      "assigned_room_type_D: 0.003107571859857061\n",
      "meal_HB: 0.0032846733372206074\n",
      "market_segment_Direct: 0.004438608076953681\n",
      "previous_bookings_not_canceled: 0.004644693925909418\n",
      "hotel_Resort Hotel: 0.00539405619237923\n",
      "stays_in_weekend_nights: 0.007639054253958942\n",
      "customer_type_Transient: 0.0087657623356436\n",
      "customer_type_Transient-Party: 0.012457113369221095\n",
      "stays_in_week_nights: 0.012711920179005094\n",
      "booking_changes: 0.01408916692480167\n",
      "arrival_date_day_of_month: 0.02295542518863265\n",
      "previous_cancellations: 0.023505903494650697\n",
      "arrival_date_week_number: 0.03364079382414062\n",
      "arrival_date_year: 0.03578913164065493\n",
      "required_car_parking_spaces: 0.040713563911751835\n",
      "adr: 0.04198099348538245\n",
      "agent: 0.06098027176178291\n",
      "total_of_special_requests: 0.06287612545412112\n",
      "deposit_type_Non Refund: 0.06760698248815306\n",
      "market_segment_Online TA: 0.09318970889083346\n",
      "country_PRT: 0.14896894703024802\n",
      "lead_time: 0.20012204785040913\n"
     ]
    }
   ],
   "source": [
    "#Atributos considerados y su importancia\n",
    "best_tree = gs.best_estimator_\n",
    "feat_imps = best_tree.feature_importances_\n",
    "\n",
    "for feat_imp,feat in sorted(zip(feat_imps,ds_trabajo_x.columns)):\n",
    "  if feat_imp>0:\n",
    "    print('{}: {}'.format(feat,feat_imp))"
   ]
  },
  {
   "cell_type": "code",
   "execution_count": null,
   "metadata": {},
   "outputs": [],
   "source": [
    "# Creo el clasificador\n",
    "arbol = tree.DecisionTreeClassifier(random_state=RANDOM_STATE).set_params(**gs.best_params_)\n",
    "\n",
    "# Entreno el modelo sin la columnna id\n",
    "\n",
    "modelo = arbol.fit(X=x_train, y=y_train)"
   ]
  },
  {
   "cell_type": "code",
   "execution_count": null,
   "metadata": {},
   "outputs": [],
   "source": [
    "# Realizamos una predicción sobre el set de test\n",
    "y_pred = modelo.predict(x_test)"
   ]
  },
  {
   "cell_type": "code",
   "execution_count": null,
   "metadata": {},
   "outputs": [
    {
     "name": "stdout",
     "output_type": "stream",
     "text": [
      "Best Training Accuracy: 0.9162123965273572\n",
      "Best Testing Accuracy: 0.8468868610191391\n",
      "Cross-val-score: 0.8443137983119477\n"
     ]
    }
   ],
   "source": [
    "# Scoring\n",
    "print(f'Best Training Accuracy: {modelo.score(x_train, y_train)}')\n",
    "print(f'Best Testing Accuracy: {modelo.score(x_test, y_test)}')\n",
    "print(\n",
    "    f'Cross-val-score: {cross_val_score(randomcv.best_estimator_, ds_trabajo_x, ds_trabajo_y, cv=StratifiedKFold(shuffle=True)).mean()}')"
   ]
  },
  {
   "cell_type": "code",
   "execution_count": null,
   "metadata": {},
   "outputs": [
    {
     "data": {
      "text/plain": [
       "Text(50.722222222222214, 0.5, 'True')"
      ]
     },
     "execution_count": 596,
     "metadata": {},
     "output_type": "execute_result"
    },
    {
     "data": {
      "image/png": "[encoded data removed]",
      "text/plain": [
       "<Figure size 640x480 with 2 Axes>"
      ]
     },
     "metadata": {},
     "output_type": "display_data"
    }
   ],
   "source": [
    "# Creo la matriz de confusión\n",
    "tabla = confusion_matrix(y_test, y_pred)\n",
    "\n",
    "# Grafico la matriz de confusión\n",
    "sns.heatmap(tabla, cmap='GnBu', annot=True, fmt='g')\n",
    "plt.xlabel('Predicted')\n",
    "plt.ylabel('True')"
   ]
  },
  {
   "cell_type": "code",
   "execution_count": null,
   "metadata": {},
   "outputs": [
    {
     "name": "stdout",
     "output_type": "stream",
     "text": [
      "Accuracy: 0.8468868610191391\n",
      "Recall: 0.8420714055966548\n",
      "Precision: 0.8513821138211383\n",
      "f1 score: 0.8467011642949548\n"
     ]
    }
   ],
   "source": [
    "# Calculo las métricas en el conjunto de evaluación\n",
    "accuracy = accuracy_score(y_test, y_pred)\n",
    "recall = recall_score(y_test, y_pred)\n",
    "f1 = f1_score(y_test, y_pred,)\n",
    "precision = precision_score(y_test, y_pred)\n",
    "\n",
    "print(\"Accuracy: \"+str(accuracy))\n",
    "print(\"Recall: \"+str(recall))\n",
    "print(\"Precision: \"+str(precision))\n",
    "print(\"f1 score: \"+str(f1))"
   ]
  },
  {
   "cell_type": "code",
   "execution_count": null,
   "metadata": {},
   "outputs": [
    {
     "name": "stdout",
     "output_type": "stream",
     "text": [
      "              precision    recall  f1-score   support\n",
      "\n",
      "           0       0.84      0.85      0.85      6165\n",
      "           1       0.85      0.84      0.85      6218\n",
      "\n",
      "    accuracy                           0.85     12383\n",
      "   macro avg       0.85      0.85      0.85     12383\n",
      "weighted avg       0.85      0.85      0.85     12383\n",
      "\n"
     ]
    }
   ],
   "source": [
    "print(classification_report(y_test,y_pred))"
   ]
  },
  {
   "cell_type": "code",
   "execution_count": null,
   "metadata": {},
   "outputs": [
    {
     "data": {
      "text/plain": [
       "array([0, 1], dtype=int64)"
      ]
     },
     "execution_count": 599,
     "metadata": {},
     "output_type": "execute_result"
    }
   ],
   "source": [
    "modelo.classes_"
   ]
  },
  {
   "cell_type": "code",
   "execution_count": null,
   "metadata": {},
   "outputs": [
    {
     "data": {
      "image/png": "[encoded data removed]",
      "text/plain": [
       "<Figure size 1200x1200 with 1 Axes>"
      ]
     },
     "metadata": {},
     "output_type": "display_data"
    }
   ],
   "source": [
    "plt.figure(figsize=(12, 12))\n",
    "\n",
    "tree_plot = tree.plot_tree(modelo,\n",
    "                           max_depth=2,\n",
    "                           feature_names=ds_trabajo_x.columns.to_list(),\n",
    "                           filled=True,\n",
    "                           rounded=True,\n",
    "                           class_names=['Not Canceled', 'Canceled'])\n",
    "\n",
    "plt.show(tree_plot)"
   ]
  },
  {
   "cell_type": "code",
   "execution_count": null,
   "metadata": {},
   "outputs": [
    {
     "data": {
      "text/plain": [
       "[('lead_time', 0.20439908567165055),\n",
       " ('country_PRT', 0.14943015751004815),\n",
       " ('market_segment_Online TA', 0.09368200045624142),\n",
       " ('deposit_type_Non Refund', 0.07232782891524248),\n",
       " ('total_of_special_requests', 0.0642412622886105),\n",
       " ('agent', 0.06362029781553126),\n",
       " ('required_car_parking_spaces', 0.04209512526792076),\n",
       " ('adr', 0.03955476114026049),\n",
       " ('arrival_date_year', 0.03146833806989413),\n",
       " ('arrival_date_week_number', 0.03126166130119482),\n",
       " ('arrival_date_day_of_month', 0.020869160184217587),\n",
       " ('previous_cancellations', 0.018998350716646635),\n",
       " ('customer_type_Transient', 0.016845028515775826),\n",
       " ('booking_changes', 0.015116190751630895),\n",
       " ('stays_in_week_nights', 0.014988835838610328),\n",
       " ('stays_in_weekend_nights', 0.009469921118759604),\n",
       " ('customer_type_Transient-Party', 0.006729227230069823),\n",
       " ('market_segment_Direct', 0.004368171973165564),\n",
       " ('previous_bookings_not_canceled', 0.004344081470738861),\n",
       " ('adults', 0.003959215799258805),\n",
       " ('hotel_Resort Hotel', 0.003927984488706041),\n",
       " ('assigned_room_type_D', 0.002854320895319379),\n",
       " ('meal_HB', 0.0028532349357020073),\n",
       " ('country_ITA', 0.0027502904483335403),\n",
       " ('company', 0.0024678661798074736),\n",
       " ('meal_SC', 0.0023772259571440708),\n",
       " ('country_FRA', 0.0023192487970227125),\n",
       " ('country_CHE', 0.002220152595533505),\n",
       " ('country_BEL', 0.0021726556580832957),\n",
       " ('country_BRA', 0.0021492063621538623),\n",
       " ('days_in_waiting_list', 0.0021427969055148747),\n",
       " ('country_DEU', 0.002117925998446182),\n",
       " ('arrival_date_month_August', 0.002101254041996586),\n",
       " ('assigned_room_type_B', 0.0020676066521207077),\n",
       " ('arrival_date_month_July', 0.0019973457639547586),\n",
       " ('reserved_room_type_D', 0.001979137391343971),\n",
       " ('meal_Undefined', 0.0019490797666410356),\n",
       " ('arrival_date_month_May', 0.0019344271430695083),\n",
       " ('assigned_room_type_E', 0.001922269550557053),\n",
       " ('country_IRL', 0.001791381217408537),\n",
       " ('country_ESP', 0.0017169733373190005),\n",
       " ('arrival_date_month_June', 0.0016975583785959066),\n",
       " ('children', 0.0016896806640240357),\n",
       " ('country_GBR', 0.0014954149128813665),\n",
       " ('arrival_date_month_February', 0.0014692431680367792),\n",
       " ('market_segment_Offline TA/TO', 0.0014263239998014263),\n",
       " ('reserved_room_type_E', 0.0013350207547325828),\n",
       " ('country_NLD', 0.0013282124583095186),\n",
       " ('assigned_room_type_F', 0.0012464984327265846),\n",
       " ('country_CHN', 0.001237730541530107),\n",
       " ('arrival_date_month_March', 0.0011672674170643917),\n",
       " ('meal_FB', 0.0011671337073231518),\n",
       " ('distribution_channel_Direct', 0.001109215518148819),\n",
       " ('country_USA', 0.0010975980244871447),\n",
       " ('country_AUT', 0.0010583222127860462),\n",
       " ('is_repeated_guest', 0.0010571879608762085),\n",
       " ('country_CN', 0.0010321393447104033),\n",
       " ('market_segment_Corporate', 0.0010247448393152052),\n",
       " ('country_SWE', 0.0009258127004445973),\n",
       " ('market_segment_Groups', 0.0008817604143446657),\n",
       " ('country_RUS', 0.0008611269396166765),\n",
       " ('distribution_channel_TA/TO', 0.000844149654914549),\n",
       " ('assigned_room_type_G', 0.0008328998286899217),\n",
       " ('arrival_date_month_November', 0.0007898225401804211),\n",
       " ('arrival_date_month_September', 0.0007751749839560626),\n",
       " ('arrival_date_month_October', 0.0007577485523598264),\n",
       " ('arrival_date_month_December', 0.0007480601078658863),\n",
       " ('country_AUS', 0.0007044478738898312),\n",
       " ('reserved_room_type_B', 0.0006957835606875528),\n",
       " ('arrival_date_month_January', 0.0006732024273238762),\n",
       " ('assigned_room_type_C', 0.0006507991476014797),\n",
       " ('country_JPN', 0.0005290170221423373),\n",
       " ('customer_type_Group', 0.0005253103258429132),\n",
       " ('country_DNK', 0.0005190121923050286),\n",
       " ('babies', 0.0005175082955893044),\n",
       " ('country_HUN', 0.00044801214089163334),\n",
       " ('country_ARE', 0.00044696205384459894),\n",
       " ('country_NOR', 0.000430933377867335),\n",
       " ('market_segment_Complementary', 0.00043034542899299944),\n",
       " ('country_ROU', 0.00040987628836648265),\n",
       " ('reserved_room_type_P', 0.00040811037174898966),\n",
       " ('distribution_channel_GDS', 0.0003516751957719549),\n",
       " ('country_HRV', 0.0003474193420263732),\n",
       " ('country_SVN', 0.0003424137168112724),\n",
       " ('country_TUR', 0.00033535185001396504),\n",
       " ('country_IRN', 0.0003212518883661892),\n",
       " ('country_ZAF', 0.0003191325501115829),\n",
       " ('reserved_room_type_G', 0.0003105145173734355),\n",
       " ('country_ISR', 0.00027856317360691265),\n",
       " ('country_MAR', 0.00027821632952245557),\n",
       " ('country_COL', 0.00026642144484417243),\n",
       " ('country_CZE', 0.0002615299169575628),\n",
       " ('country_IND', 0.00024809152057917334),\n",
       " ('country_PHL', 0.0002458999444291192),\n",
       " ('country_BGR', 0.00023487136797950255),\n",
       " ('reserved_room_type_F', 0.00022149025196428363),\n",
       " ('country_POL', 0.00020690426294712056),\n",
       " ('country_KOR', 0.00020315355033960448),\n",
       " ('reserved_room_type_H', 0.00020275369960717136),\n",
       " ('country_LUX', 0.00018346589144592742),\n",
       " ('country_NGA', 0.00017015214125035862),\n",
       " ('country_LTU', 0.00016386679305999038),\n",
       " ('country_PER', 0.0001614247206335604),\n",
       " ('country_FIN', 0.00014221470660784734),\n",
       " ('distribution_channel_Undefined', 0.00014101154888689532),\n",
       " ('country_IDN', 0.00013192670418890764),\n",
       " ('assigned_room_type_H', 0.00012218450661886487),\n",
       " ('country_CIV', 0.00012114465561993222),\n",
       " ('country_MOZ', 0.00011312358115203389),\n",
       " ('country_QAT', 0.00010244252230541224),\n",
       " ('country_BLR', 9.769289616666757e-05),\n",
       " ('deposit_type_Refundable', 9.179542702323795e-05),\n",
       " ('country_GEO', 9.110258099402134e-05),\n",
       " ('assigned_room_type_K', 8.899239964127198e-05),\n",
       " ('country_ARG', 8.768746075669459e-05),\n",
       " ('country_MDV', 8.738664969920792e-05),\n",
       " ('country_SAU', 8.697925273091213e-05),\n",
       " ('country_SVK', 8.657469806704772e-05),\n",
       " ('country_NZL', 8.31447030009806e-05),\n",
       " ('country_GRC', 8.11710156400801e-05),\n",
       " ('country_SRB', 7.925226148621035e-05),\n",
       " ('country_TWN', 7.916216212846843e-05),\n",
       " ('reserved_room_type_C', 7.707970154179646e-05),\n",
       " ('country_THA', 7.520400536042766e-05),\n",
       " ('country_MLT', 7.402401134259293e-05),\n",
       " ('assigned_room_type_I', 6.48345176760323e-05),\n",
       " ('country_TUN', 5.1218690661112486e-05),\n",
       " ('country_Desconocido', 3.327814538109445e-05),\n",
       " ('country_BIH', 2.8552439217369818e-05),\n",
       " ('assigned_room_type_L', 0.0),\n",
       " ('assigned_room_type_P', 0.0),\n",
       " ('country_ALB', 0.0),\n",
       " ('country_AND', 0.0),\n",
       " ('country_ARM', 0.0),\n",
       " ('country_ASM', 0.0),\n",
       " ('country_ATA', 0.0),\n",
       " ('country_ATF', 0.0),\n",
       " ('country_AZE', 0.0),\n",
       " ('country_BEN', 0.0),\n",
       " ('country_BFA', 0.0),\n",
       " ('country_BGD', 0.0),\n",
       " ('country_BHR', 0.0),\n",
       " ('country_BOL', 0.0),\n",
       " ('country_BRB', 0.0),\n",
       " ('country_CAF', 0.0),\n",
       " ('country_CHL', 0.0),\n",
       " ('country_CMR', 0.0),\n",
       " ('country_COM', 0.0),\n",
       " ('country_CPV', 0.0),\n",
       " ('country_CRI', 0.0),\n",
       " ('country_CUB', 0.0),\n",
       " ('country_CYP', 0.0),\n",
       " ('country_DJI', 0.0),\n",
       " ('country_DMA', 0.0),\n",
       " ('country_DOM', 0.0),\n",
       " ('country_DZA', 0.0),\n",
       " ('country_ECU', 0.0),\n",
       " ('country_EGY', 0.0),\n",
       " ('country_EST', 0.0),\n",
       " ('country_ETH', 0.0),\n",
       " ('country_FJI', 0.0),\n",
       " ('country_FRO', 0.0),\n",
       " ('country_GAB', 0.0),\n",
       " ('country_GGY', 0.0),\n",
       " ('country_GHA', 0.0),\n",
       " ('country_GIB', 0.0),\n",
       " ('country_GLP', 0.0),\n",
       " ('country_GNB', 0.0),\n",
       " ('country_GTM', 0.0),\n",
       " ('country_HKG', 0.0),\n",
       " ('country_HND', 0.0),\n",
       " ('country_IMN', 0.0),\n",
       " ('country_IRQ', 0.0),\n",
       " ('country_ISL', 0.0),\n",
       " ('country_JAM', 0.0),\n",
       " ('country_JEY', 0.0),\n",
       " ('country_JOR', 0.0),\n",
       " ('country_KAZ', 0.0),\n",
       " ('country_KEN', 0.0),\n",
       " ('country_KHM', 0.0),\n",
       " ('country_KNA', 0.0),\n",
       " ('country_KWT', 0.0),\n",
       " ('country_LBN', 0.0),\n",
       " ('country_LBY', 0.0),\n",
       " ('country_LIE', 0.0),\n",
       " ('country_LKA', 0.0),\n",
       " ('country_LVA', 0.0),\n",
       " ('country_MAC', 0.0),\n",
       " ('country_MCO', 0.0),\n",
       " ('country_MDG', 0.0),\n",
       " ('country_MEX', 0.0),\n",
       " ('country_MKD', 0.0),\n",
       " ('country_MLI', 0.0),\n",
       " ('country_MNE', 0.0),\n",
       " ('country_MUS', 0.0),\n",
       " ('country_MWI', 0.0),\n",
       " ('country_MYS', 0.0),\n",
       " ('country_MYT', 0.0),\n",
       " ('country_NAM', 0.0),\n",
       " ('country_NIC', 0.0),\n",
       " ('country_OMN', 0.0),\n",
       " ('country_PAK', 0.0),\n",
       " ('country_PAN', 0.0),\n",
       " ('country_PRI', 0.0),\n",
       " ('country_PRY', 0.0),\n",
       " ('country_PYF', 0.0),\n",
       " ('country_RWA', 0.0),\n",
       " ('country_SDN', 0.0),\n",
       " ('country_SEN', 0.0),\n",
       " ('country_SGP', 0.0),\n",
       " ('country_SLV', 0.0),\n",
       " ('country_SMR', 0.0),\n",
       " ('country_STP', 0.0),\n",
       " ('country_SUR', 0.0),\n",
       " ('country_SYC', 0.0),\n",
       " ('country_SYR', 0.0),\n",
       " ('country_TGO', 0.0),\n",
       " ('country_TJK', 0.0),\n",
       " ('country_TMP', 0.0),\n",
       " ('country_TZA', 0.0),\n",
       " ('country_UGA', 0.0),\n",
       " ('country_UKR', 0.0),\n",
       " ('country_UMI', 0.0),\n",
       " ('country_URY', 0.0),\n",
       " ('country_UZB', 0.0),\n",
       " ('country_VEN', 0.0),\n",
       " ('country_VGB', 0.0),\n",
       " ('country_VNM', 0.0),\n",
       " ('country_ZMB', 0.0),\n",
       " ('country_ZWE', 0.0),\n",
       " ('market_segment_Undefined', 0.0),\n",
       " ('reserved_room_type_L', 0.0)]"
      ]
     },
     "execution_count": 601,
     "metadata": {},
     "output_type": "execute_result"
    }
   ],
   "source": [
    "sorted(list(zip(ds_trabajo_x.columns.to_list(),\n",
    "       modelo.feature_importances_)), key=lambda x: -x[1])"
   ]
  },
  {
   "cell_type": "code",
   "execution_count": null,
   "metadata": {},
   "outputs": [],
   "source": [
    "X_submission = df_test.select_dtypes(exclude=['object'])\n",
    "y_pred_test = modelo.predict(X_submission)"
   ]
  },
  {
   "cell_type": "code",
   "execution_count": null,
   "metadata": {},
   "outputs": [
    {
     "data": {
      "text/html": [
       "<div>\n",
       "<style scoped>\n",
       "    .dataframe tbody tr th:only-of-type {\n",
       "        vertical-align: middle;\n",
       "    }\n",
       "\n",
       "    .dataframe tbody tr th {\n",
       "        vertical-align: top;\n",
       "    }\n",
       "\n",
       "    .dataframe thead th {\n",
       "        text-align: right;\n",
       "    }\n",
       "</style>\n",
       "<table border=\"1\" class=\"dataframe\">\n",
       "  <thead>\n",
       "    <tr style=\"text-align: right;\">\n",
       "      <th></th>\n",
       "      <th>id</th>\n",
       "      <th>is_canceled</th>\n",
       "    </tr>\n",
       "  </thead>\n",
       "  <tbody>\n",
       "    <tr>\n",
       "      <th>0</th>\n",
       "      <td>e6d0d58a-ab96-44d3-b28f-85df1cc15f1e</td>\n",
       "      <td>1</td>\n",
       "    </tr>\n",
       "    <tr>\n",
       "      <th>1</th>\n",
       "      <td>aba9aac2-4495-4645-a60e-90328713c999</td>\n",
       "      <td>1</td>\n",
       "    </tr>\n",
       "    <tr>\n",
       "      <th>2</th>\n",
       "      <td>b345b5dc-c804-4d77-a39f-1f4e65d1f1ad</td>\n",
       "      <td>1</td>\n",
       "    </tr>\n",
       "    <tr>\n",
       "      <th>3</th>\n",
       "      <td>ce1b400e-afa1-4946-bdff-004b859eb61c</td>\n",
       "      <td>1</td>\n",
       "    </tr>\n",
       "    <tr>\n",
       "      <th>4</th>\n",
       "      <td>c4fbec0d-8e2e-4db2-9d4f-a6ccb9f51214</td>\n",
       "      <td>1</td>\n",
       "    </tr>\n",
       "  </tbody>\n",
       "</table>\n",
       "</div>"
      ],
      "text/plain": [
       "                                     id  is_canceled\n",
       "0  e6d0d58a-ab96-44d3-b28f-85df1cc15f1e            1\n",
       "1  aba9aac2-4495-4645-a60e-90328713c999            1\n",
       "2  b345b5dc-c804-4d77-a39f-1f4e65d1f1ad            1\n",
       "3  ce1b400e-afa1-4946-bdff-004b859eb61c            1\n",
       "4  c4fbec0d-8e2e-4db2-9d4f-a6ccb9f51214            1"
      ]
     },
     "execution_count": 603,
     "metadata": {},
     "output_type": "execute_result"
    }
   ],
   "source": [
    "df_submission = pd.DataFrame({'id': df_test['id'], 'is_canceled': y_pred_test})\n",
    "df_submission.head()"
   ]
  },
  {
   "cell_type": "code",
   "execution_count": null,
   "metadata": {},
   "outputs": [],
   "source": [
    "df_submission.to_csv('submission04.csv', index=False)"
   ]
  }
 ],
 "metadata": {
  "kernelspec": {
   "display_name": "Python 3",
   "language": "python",
   "name": "python3"
  },
  "language_info": {
   "codemirror_mode": {
    "name": "ipython",
    "version": 3
   },
   "file_extension": ".py",
   "mimetype": "text/x-python",
   "name": "python",
   "nbconvert_exporter": "python",
   "pygments_lexer": "ipython3",
   "version": "3.11.2"
  },
  "orig_nbformat": 4
 },
 "nbformat": 4,
 "nbformat_minor": 2
}
