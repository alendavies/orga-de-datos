{
 "cells": [
  {
   "attachments": {},
   "cell_type": "markdown",
   "metadata": {},
   "source": [
    "# Imports y carga"
   ]
  },
  {
   "cell_type": "code",
   "execution_count": 39,
   "metadata": {},
   "outputs": [],
   "source": [
    "import pandas as pd\n",
    "import numpy as np\n",
    "\n",
    "# Visualización\n",
    "import matplotlib.pyplot as plt\n",
    "import seaborn as sns\n",
    "\n",
    "RANDOM_STATE = 42\n"
   ]
  },
  {
   "cell_type": "code",
   "execution_count": 40,
   "metadata": {},
   "outputs": [],
   "source": [
    "# modelos y métricas\n",
    "from sklearn import tree\n",
    "from sklearn.model_selection import train_test_split\n",
    "import sklearn as sk\n",
    "# , precision_recall_curve, roc_curve,\n",
    "from sklearn.metrics import precision_score, recall_score, accuracy_score, f1_score\n",
    "from sklearn.metrics import confusion_matrix, classification_report\n",
    "from sklearn.model_selection import StratifiedKFold, KFold, RandomizedSearchCV\n",
    "from sklearn.tree import DecisionTreeClassifier\n",
    "from sklearn.metrics import make_scorer\n",
    "from sklearn.model_selection import cross_val_score\n",
    "# preprocesamiento\n",
    "from sklearn.preprocessing import MinMaxScaler\n",
    "\n",
    "from sklearn.preprocessing import OneHotEncoder\n",
    "\n",
    "\n",
    "# configuración warnings\n",
    "import warnings\n",
    "warnings.simplefilter(action='ignore', category=FutureWarning)\n",
    "warnings.simplefilter(action='ignore', category=UserWarning)\n"
   ]
  },
  {
   "cell_type": "code",
   "execution_count": 41,
   "metadata": {},
   "outputs": [],
   "source": [
    "original = pd.read_csv('./Datasets/hotels_procesado.csv')\n",
    "df_train = original.copy()\n",
    "df_test = pd.read_csv('./Datasets/hotels_test.csv').copy()"
   ]
  },
  {
   "attachments": {},
   "cell_type": "markdown",
   "metadata": {},
   "source": [
    "# Procesamiento"
   ]
  },
  {
   "attachments": {},
   "cell_type": "markdown",
   "metadata": {},
   "source": [
    "### Train"
   ]
  },
  {
   "cell_type": "code",
   "execution_count": 42,
   "metadata": {},
   "outputs": [],
   "source": [
    "# Eliminamos las columnas que no vamos a usar para entrenar el modelo\n",
    "df_train.drop(['id', 'arrival_date'], axis='columns', inplace=True)"
   ]
  },
  {
   "cell_type": "code",
   "execution_count": 43,
   "metadata": {},
   "outputs": [],
   "source": [
    "# convertir 'sin compania' a 0\n",
    "\n",
    "df_train['company'] = df_train['company'].apply(lambda x: 0 if x == 'Sin compania' else x).astype('float64').astype('int64')\n",
    "# idem for agent\n",
    "df_train['agent'] = df_train['agent'].apply(lambda x: 0 if x == 'Sin agente' else x).astype('float64').astype('int64')"
   ]
  },
  {
   "cell_type": "code",
   "execution_count": 44,
   "metadata": {},
   "outputs": [
    {
     "data": {
      "text/html": [
       "<div>\n",
       "<style scoped>\n",
       "    .dataframe tbody tr th:only-of-type {\n",
       "        vertical-align: middle;\n",
       "    }\n",
       "\n",
       "    .dataframe tbody tr th {\n",
       "        vertical-align: top;\n",
       "    }\n",
       "\n",
       "    .dataframe thead th {\n",
       "        text-align: right;\n",
       "    }\n",
       "</style>\n",
       "<table border=\"1\" class=\"dataframe\">\n",
       "  <thead>\n",
       "    <tr style=\"text-align: right;\">\n",
       "      <th></th>\n",
       "      <th>hotel</th>\n",
       "      <th>lead_time</th>\n",
       "      <th>arrival_date_year</th>\n",
       "      <th>arrival_date_month</th>\n",
       "      <th>arrival_date_week_number</th>\n",
       "      <th>arrival_date_day_of_month</th>\n",
       "      <th>stays_in_weekend_nights</th>\n",
       "      <th>stays_in_week_nights</th>\n",
       "      <th>adults</th>\n",
       "      <th>children</th>\n",
       "      <th>...</th>\n",
       "      <th>booking_changes</th>\n",
       "      <th>deposit_type</th>\n",
       "      <th>agent</th>\n",
       "      <th>company</th>\n",
       "      <th>days_in_waiting_list</th>\n",
       "      <th>customer_type</th>\n",
       "      <th>adr</th>\n",
       "      <th>required_car_parking_spaces</th>\n",
       "      <th>total_of_special_requests</th>\n",
       "      <th>is_canceled</th>\n",
       "    </tr>\n",
       "  </thead>\n",
       "  <tbody>\n",
       "    <tr>\n",
       "      <th>0</th>\n",
       "      <td>City Hotel</td>\n",
       "      <td>49</td>\n",
       "      <td>2016</td>\n",
       "      <td>September</td>\n",
       "      <td>37</td>\n",
       "      <td>5</td>\n",
       "      <td>1</td>\n",
       "      <td>2</td>\n",
       "      <td>1</td>\n",
       "      <td>0</td>\n",
       "      <td>...</td>\n",
       "      <td>0</td>\n",
       "      <td>No Deposit</td>\n",
       "      <td>9</td>\n",
       "      <td>0</td>\n",
       "      <td>0</td>\n",
       "      <td>Transient</td>\n",
       "      <td>115.5</td>\n",
       "      <td>0</td>\n",
       "      <td>1</td>\n",
       "      <td>1</td>\n",
       "    </tr>\n",
       "    <tr>\n",
       "      <th>1</th>\n",
       "      <td>Resort Hotel</td>\n",
       "      <td>4</td>\n",
       "      <td>2015</td>\n",
       "      <td>October</td>\n",
       "      <td>44</td>\n",
       "      <td>31</td>\n",
       "      <td>0</td>\n",
       "      <td>1</td>\n",
       "      <td>2</td>\n",
       "      <td>0</td>\n",
       "      <td>...</td>\n",
       "      <td>0</td>\n",
       "      <td>No Deposit</td>\n",
       "      <td>0</td>\n",
       "      <td>0</td>\n",
       "      <td>0</td>\n",
       "      <td>Transient</td>\n",
       "      <td>42.0</td>\n",
       "      <td>1</td>\n",
       "      <td>0</td>\n",
       "      <td>0</td>\n",
       "    </tr>\n",
       "    <tr>\n",
       "      <th>2</th>\n",
       "      <td>City Hotel</td>\n",
       "      <td>25</td>\n",
       "      <td>2016</td>\n",
       "      <td>October</td>\n",
       "      <td>42</td>\n",
       "      <td>13</td>\n",
       "      <td>0</td>\n",
       "      <td>1</td>\n",
       "      <td>2</td>\n",
       "      <td>2</td>\n",
       "      <td>...</td>\n",
       "      <td>0</td>\n",
       "      <td>No Deposit</td>\n",
       "      <td>9</td>\n",
       "      <td>0</td>\n",
       "      <td>0</td>\n",
       "      <td>Transient</td>\n",
       "      <td>229.0</td>\n",
       "      <td>0</td>\n",
       "      <td>2</td>\n",
       "      <td>0</td>\n",
       "    </tr>\n",
       "    <tr>\n",
       "      <th>3</th>\n",
       "      <td>City Hotel</td>\n",
       "      <td>26</td>\n",
       "      <td>2016</td>\n",
       "      <td>December</td>\n",
       "      <td>51</td>\n",
       "      <td>12</td>\n",
       "      <td>2</td>\n",
       "      <td>5</td>\n",
       "      <td>2</td>\n",
       "      <td>0</td>\n",
       "      <td>...</td>\n",
       "      <td>0</td>\n",
       "      <td>Non Refund</td>\n",
       "      <td>154</td>\n",
       "      <td>0</td>\n",
       "      <td>0</td>\n",
       "      <td>Transient</td>\n",
       "      <td>75.0</td>\n",
       "      <td>0</td>\n",
       "      <td>0</td>\n",
       "      <td>1</td>\n",
       "    </tr>\n",
       "    <tr>\n",
       "      <th>4</th>\n",
       "      <td>City Hotel</td>\n",
       "      <td>104</td>\n",
       "      <td>2017</td>\n",
       "      <td>March</td>\n",
       "      <td>12</td>\n",
       "      <td>19</td>\n",
       "      <td>2</td>\n",
       "      <td>5</td>\n",
       "      <td>2</td>\n",
       "      <td>0</td>\n",
       "      <td>...</td>\n",
       "      <td>0</td>\n",
       "      <td>No Deposit</td>\n",
       "      <td>20</td>\n",
       "      <td>0</td>\n",
       "      <td>0</td>\n",
       "      <td>Transient-Party</td>\n",
       "      <td>75.0</td>\n",
       "      <td>0</td>\n",
       "      <td>1</td>\n",
       "      <td>0</td>\n",
       "    </tr>\n",
       "  </tbody>\n",
       "</table>\n",
       "<p>5 rows × 30 columns</p>\n",
       "</div>"
      ],
      "text/plain": [
       "          hotel  lead_time  arrival_date_year arrival_date_month  \\\n",
       "0    City Hotel         49               2016          September   \n",
       "1  Resort Hotel          4               2015            October   \n",
       "2    City Hotel         25               2016            October   \n",
       "3    City Hotel         26               2016           December   \n",
       "4    City Hotel        104               2017              March   \n",
       "\n",
       "   arrival_date_week_number  arrival_date_day_of_month  \\\n",
       "0                        37                          5   \n",
       "1                        44                         31   \n",
       "2                        42                         13   \n",
       "3                        51                         12   \n",
       "4                        12                         19   \n",
       "\n",
       "   stays_in_weekend_nights  stays_in_week_nights  adults  children  ...  \\\n",
       "0                        1                     2       1         0  ...   \n",
       "1                        0                     1       2         0  ...   \n",
       "2                        0                     1       2         2  ...   \n",
       "3                        2                     5       2         0  ...   \n",
       "4                        2                     5       2         0  ...   \n",
       "\n",
       "   booking_changes deposit_type agent company days_in_waiting_list  \\\n",
       "0                0   No Deposit     9       0                    0   \n",
       "1                0   No Deposit     0       0                    0   \n",
       "2                0   No Deposit     9       0                    0   \n",
       "3                0   Non Refund   154       0                    0   \n",
       "4                0   No Deposit    20       0                    0   \n",
       "\n",
       "     customer_type    adr  required_car_parking_spaces  \\\n",
       "0        Transient  115.5                            0   \n",
       "1        Transient   42.0                            1   \n",
       "2        Transient  229.0                            0   \n",
       "3        Transient   75.0                            0   \n",
       "4  Transient-Party   75.0                            0   \n",
       "\n",
       "  total_of_special_requests is_canceled  \n",
       "0                         1           1  \n",
       "1                         0           0  \n",
       "2                         2           0  \n",
       "3                         0           1  \n",
       "4                         1           0  \n",
       "\n",
       "[5 rows x 30 columns]"
      ]
     },
     "execution_count": 44,
     "metadata": {},
     "output_type": "execute_result"
    }
   ],
   "source": [
    "df_train.head()"
   ]
  },
  {
   "attachments": {},
   "cell_type": "markdown",
   "metadata": {},
   "source": [
    "### Test"
   ]
  },
  {
   "cell_type": "code",
   "execution_count": 45,
   "metadata": {},
   "outputs": [],
   "source": [
    "# en el df_test, trato las columnas como el df_train\n",
    "df_test.drop(['reservation_status_date'], axis='columns', inplace=True)\n"
   ]
  },
  {
   "cell_type": "code",
   "execution_count": 46,
   "metadata": {},
   "outputs": [],
   "source": [
    "# children to int\n",
    "df_test['children'] = df_test['children'].astype('int64')\n"
   ]
  },
  {
   "cell_type": "code",
   "execution_count": 47,
   "metadata": {},
   "outputs": [],
   "source": [
    "# convertir nulos a 0\n",
    "df_test['company'] = df_test['company'].fillna(0).astype('int64')\n",
    "df_test['agent'] = df_test['agent'].fillna(0).astype('int64')\n",
    "df_test['country'] = df_test['country'].fillna('Desconocido')\n"
   ]
  },
  {
   "cell_type": "code",
   "execution_count": 48,
   "metadata": {},
   "outputs": [
    {
     "data": {
      "text/html": [
       "<div>\n",
       "<style scoped>\n",
       "    .dataframe tbody tr th:only-of-type {\n",
       "        vertical-align: middle;\n",
       "    }\n",
       "\n",
       "    .dataframe tbody tr th {\n",
       "        vertical-align: top;\n",
       "    }\n",
       "\n",
       "    .dataframe thead th {\n",
       "        text-align: right;\n",
       "    }\n",
       "</style>\n",
       "<table border=\"1\" class=\"dataframe\">\n",
       "  <thead>\n",
       "    <tr style=\"text-align: right;\">\n",
       "      <th></th>\n",
       "      <th>hotel</th>\n",
       "      <th>lead_time</th>\n",
       "      <th>arrival_date_year</th>\n",
       "      <th>arrival_date_month</th>\n",
       "      <th>arrival_date_week_number</th>\n",
       "      <th>arrival_date_day_of_month</th>\n",
       "      <th>stays_in_weekend_nights</th>\n",
       "      <th>stays_in_week_nights</th>\n",
       "      <th>adults</th>\n",
       "      <th>children</th>\n",
       "      <th>...</th>\n",
       "      <th>booking_changes</th>\n",
       "      <th>deposit_type</th>\n",
       "      <th>agent</th>\n",
       "      <th>company</th>\n",
       "      <th>days_in_waiting_list</th>\n",
       "      <th>customer_type</th>\n",
       "      <th>adr</th>\n",
       "      <th>required_car_parking_spaces</th>\n",
       "      <th>total_of_special_requests</th>\n",
       "      <th>id</th>\n",
       "    </tr>\n",
       "  </thead>\n",
       "  <tbody>\n",
       "    <tr>\n",
       "      <th>0</th>\n",
       "      <td>City Hotel</td>\n",
       "      <td>277</td>\n",
       "      <td>2016</td>\n",
       "      <td>November</td>\n",
       "      <td>46</td>\n",
       "      <td>7</td>\n",
       "      <td>1</td>\n",
       "      <td>2</td>\n",
       "      <td>2</td>\n",
       "      <td>0</td>\n",
       "      <td>...</td>\n",
       "      <td>0</td>\n",
       "      <td>Non Refund</td>\n",
       "      <td>0</td>\n",
       "      <td>0</td>\n",
       "      <td>0</td>\n",
       "      <td>Transient</td>\n",
       "      <td>100.0</td>\n",
       "      <td>0</td>\n",
       "      <td>0</td>\n",
       "      <td>e6d0d58a-ab96-44d3-b28f-85df1cc15f1e</td>\n",
       "    </tr>\n",
       "    <tr>\n",
       "      <th>1</th>\n",
       "      <td>City Hotel</td>\n",
       "      <td>286</td>\n",
       "      <td>2016</td>\n",
       "      <td>May</td>\n",
       "      <td>20</td>\n",
       "      <td>11</td>\n",
       "      <td>0</td>\n",
       "      <td>4</td>\n",
       "      <td>2</td>\n",
       "      <td>0</td>\n",
       "      <td>...</td>\n",
       "      <td>0</td>\n",
       "      <td>No Deposit</td>\n",
       "      <td>30</td>\n",
       "      <td>0</td>\n",
       "      <td>176</td>\n",
       "      <td>Transient-Party</td>\n",
       "      <td>101.0</td>\n",
       "      <td>0</td>\n",
       "      <td>0</td>\n",
       "      <td>aba9aac2-4495-4645-a60e-90328713c999</td>\n",
       "    </tr>\n",
       "    <tr>\n",
       "      <th>2</th>\n",
       "      <td>City Hotel</td>\n",
       "      <td>0</td>\n",
       "      <td>2016</td>\n",
       "      <td>August</td>\n",
       "      <td>35</td>\n",
       "      <td>23</td>\n",
       "      <td>0</td>\n",
       "      <td>1</td>\n",
       "      <td>3</td>\n",
       "      <td>0</td>\n",
       "      <td>...</td>\n",
       "      <td>0</td>\n",
       "      <td>No Deposit</td>\n",
       "      <td>0</td>\n",
       "      <td>0</td>\n",
       "      <td>0</td>\n",
       "      <td>Transient</td>\n",
       "      <td>225.0</td>\n",
       "      <td>0</td>\n",
       "      <td>2</td>\n",
       "      <td>b345b5dc-c804-4d77-a39f-1f4e65d1f1ad</td>\n",
       "    </tr>\n",
       "    <tr>\n",
       "      <th>3</th>\n",
       "      <td>Resort Hotel</td>\n",
       "      <td>196</td>\n",
       "      <td>2016</td>\n",
       "      <td>October</td>\n",
       "      <td>44</td>\n",
       "      <td>29</td>\n",
       "      <td>2</td>\n",
       "      <td>5</td>\n",
       "      <td>2</td>\n",
       "      <td>2</td>\n",
       "      <td>...</td>\n",
       "      <td>0</td>\n",
       "      <td>No Deposit</td>\n",
       "      <td>240</td>\n",
       "      <td>0</td>\n",
       "      <td>0</td>\n",
       "      <td>Transient</td>\n",
       "      <td>96.0</td>\n",
       "      <td>0</td>\n",
       "      <td>0</td>\n",
       "      <td>ce1b400e-afa1-4946-bdff-004b859eb61c</td>\n",
       "    </tr>\n",
       "    <tr>\n",
       "      <th>4</th>\n",
       "      <td>Resort Hotel</td>\n",
       "      <td>232</td>\n",
       "      <td>2016</td>\n",
       "      <td>November</td>\n",
       "      <td>48</td>\n",
       "      <td>26</td>\n",
       "      <td>2</td>\n",
       "      <td>1</td>\n",
       "      <td>2</td>\n",
       "      <td>0</td>\n",
       "      <td>...</td>\n",
       "      <td>0</td>\n",
       "      <td>Non Refund</td>\n",
       "      <td>11</td>\n",
       "      <td>0</td>\n",
       "      <td>0</td>\n",
       "      <td>Transient</td>\n",
       "      <td>30.0</td>\n",
       "      <td>0</td>\n",
       "      <td>0</td>\n",
       "      <td>c4fbec0d-8e2e-4db2-9d4f-a6ccb9f51214</td>\n",
       "    </tr>\n",
       "  </tbody>\n",
       "</table>\n",
       "<p>5 rows × 30 columns</p>\n",
       "</div>"
      ],
      "text/plain": [
       "          hotel  lead_time  arrival_date_year arrival_date_month  \\\n",
       "0    City Hotel        277               2016           November   \n",
       "1    City Hotel        286               2016                May   \n",
       "2    City Hotel          0               2016             August   \n",
       "3  Resort Hotel        196               2016            October   \n",
       "4  Resort Hotel        232               2016           November   \n",
       "\n",
       "   arrival_date_week_number  arrival_date_day_of_month  \\\n",
       "0                        46                          7   \n",
       "1                        20                         11   \n",
       "2                        35                         23   \n",
       "3                        44                         29   \n",
       "4                        48                         26   \n",
       "\n",
       "   stays_in_weekend_nights  stays_in_week_nights  adults  children  ...  \\\n",
       "0                        1                     2       2         0  ...   \n",
       "1                        0                     4       2         0  ...   \n",
       "2                        0                     1       3         0  ...   \n",
       "3                        2                     5       2         2  ...   \n",
       "4                        2                     1       2         0  ...   \n",
       "\n",
       "   booking_changes deposit_type agent company days_in_waiting_list  \\\n",
       "0                0   Non Refund     0       0                    0   \n",
       "1                0   No Deposit    30       0                  176   \n",
       "2                0   No Deposit     0       0                    0   \n",
       "3                0   No Deposit   240       0                    0   \n",
       "4                0   Non Refund    11       0                    0   \n",
       "\n",
       "     customer_type    adr  required_car_parking_spaces  \\\n",
       "0        Transient  100.0                            0   \n",
       "1  Transient-Party  101.0                            0   \n",
       "2        Transient  225.0                            0   \n",
       "3        Transient   96.0                            0   \n",
       "4        Transient   30.0                            0   \n",
       "\n",
       "  total_of_special_requests                                    id  \n",
       "0                         0  e6d0d58a-ab96-44d3-b28f-85df1cc15f1e  \n",
       "1                         0  aba9aac2-4495-4645-a60e-90328713c999  \n",
       "2                         2  b345b5dc-c804-4d77-a39f-1f4e65d1f1ad  \n",
       "3                         0  ce1b400e-afa1-4946-bdff-004b859eb61c  \n",
       "4                         0  c4fbec0d-8e2e-4db2-9d4f-a6ccb9f51214  \n",
       "\n",
       "[5 rows x 30 columns]"
      ]
     },
     "execution_count": 48,
     "metadata": {},
     "output_type": "execute_result"
    }
   ],
   "source": [
    "df_test.head()"
   ]
  },
  {
   "attachments": {},
   "cell_type": "markdown",
   "metadata": {},
   "source": [
    "# One hot encoding"
   ]
  },
  {
   "cell_type": "code",
   "execution_count": 49,
   "metadata": {},
   "outputs": [],
   "source": [
    "encoder = OneHotEncoder(handle_unknown='ignore')"
   ]
  },
  {
   "cell_type": "code",
   "execution_count": 50,
   "metadata": {},
   "outputs": [],
   "source": [
    "train_one_hot = encoder.fit_transform(df_train[['country', 'market_segment', 'distribution_channel', 'reserved_room_type', 'assigned_room_type', 'deposit_type', 'customer_type', 'meal', 'hotel', 'arrival_date_month', 'arrival_date_year', 'arrival_date_week_number', 'arrival_date_day_of_month']])\n",
    "\n",
    "train_columns = encoder.get_feature_names_out(['country', 'market_segment', 'distribution_channel', 'reserved_room_type', 'assigned_room_type', 'deposit_type', 'customer_type', 'meal', 'hotel', 'arrival_date_month', 'arrival_date_year', 'arrival_date_week_number', 'arrival_date_day_of_month'])\n",
    "\n",
    "train_encoded = pd.DataFrame(train_one_hot.toarray(), columns=train_columns)"
   ]
  },
  {
   "cell_type": "code",
   "execution_count": 51,
   "metadata": {},
   "outputs": [
    {
     "data": {
      "text/plain": [
       "(53132, 291)"
      ]
     },
     "execution_count": 51,
     "metadata": {},
     "output_type": "execute_result"
    }
   ],
   "source": [
    "train_encoded.shape"
   ]
  },
  {
   "cell_type": "code",
   "execution_count": 52,
   "metadata": {},
   "outputs": [],
   "source": [
    "train_ = pd.concat([df_train, train_encoded], axis=1)"
   ]
  },
  {
   "cell_type": "code",
   "execution_count": 53,
   "metadata": {},
   "outputs": [],
   "source": [
    "train_.drop(['country', 'market_segment', 'distribution_channel', 'reserved_room_type', 'assigned_room_type', 'deposit_type', 'customer_type', 'meal', 'hotel', 'arrival_date_month', 'arrival_date_year', 'arrival_date_week_number', 'arrival_date_day_of_month', 'is_canceled'], axis='columns', inplace=True)"
   ]
  },
  {
   "cell_type": "code",
   "execution_count": 54,
   "metadata": {},
   "outputs": [
    {
     "data": {
      "text/plain": [
       "(53132, 307)"
      ]
     },
     "execution_count": 54,
     "metadata": {},
     "output_type": "execute_result"
    }
   ],
   "source": [
    "train_.shape"
   ]
  },
  {
   "cell_type": "code",
   "execution_count": 55,
   "metadata": {},
   "outputs": [],
   "source": [
    "test_one_hot = encoder.fit_transform(df_test[['country', 'market_segment', 'distribution_channel', 'reserved_room_type', 'assigned_room_type',\n",
    "                                      'deposit_type', 'customer_type', 'meal', 'hotel', 'arrival_date_month', 'arrival_date_year', 'arrival_date_week_number', 'arrival_date_day_of_month']])\n",
    "\n",
    "test_columns = encoder.get_feature_names_out(['country', 'market_segment', 'distribution_channel', 'reserved_room_type', 'assigned_room_type',\n",
    "                                              'deposit_type', 'customer_type', 'meal', 'hotel', 'arrival_date_month', 'arrival_date_year', 'arrival_date_week_number', 'arrival_date_day_of_month'])\n",
    "\n",
    "test_encoded = pd.DataFrame(test_one_hot.toarray(), columns=test_columns)\n"
   ]
  },
  {
   "cell_type": "code",
   "execution_count": 56,
   "metadata": {},
   "outputs": [],
   "source": [
    "test_ = pd.concat([df_test, test_encoded], axis=1)"
   ]
  },
  {
   "cell_type": "code",
   "execution_count": 57,
   "metadata": {},
   "outputs": [],
   "source": [
    "test_.drop(['country', 'market_segment', 'distribution_channel', 'reserved_room_type', 'assigned_room_type', 'deposit_type', 'customer_type',\n",
    "            'meal', 'hotel', 'arrival_date_month', 'arrival_date_year', 'arrival_date_week_number', 'arrival_date_day_of_month', 'id'], axis='columns', inplace=True)\n"
   ]
  },
  {
   "cell_type": "code",
   "execution_count": 58,
   "metadata": {},
   "outputs": [
    {
     "data": {
      "text/plain": [
       "(26535, 297)"
      ]
     },
     "execution_count": 58,
     "metadata": {},
     "output_type": "execute_result"
    }
   ],
   "source": [
    "test_.shape"
   ]
  },
  {
   "cell_type": "code",
   "execution_count": 59,
   "metadata": {},
   "outputs": [],
   "source": [
    "missing_cols = set(train_.columns) - set(test_.columns)\n",
    "for col in missing_cols:\n",
    "    test_[col] = 0"
   ]
  },
  {
   "cell_type": "code",
   "execution_count": 60,
   "metadata": {},
   "outputs": [],
   "source": [
    "missing_cols = set(test_.columns) - set(train_.columns)\n",
    "for col in missing_cols:\n",
    "    train_[col] = 0"
   ]
  },
  {
   "cell_type": "code",
   "execution_count": 61,
   "metadata": {},
   "outputs": [],
   "source": [
    "column_order = train_.columns\n",
    "test_ = test_.reindex(columns=column_order)\n"
   ]
  },
  {
   "attachments": {},
   "cell_type": "markdown",
   "metadata": {},
   "source": [
    "# Split dataset"
   ]
  },
  {
   "cell_type": "code",
   "execution_count": 62,
   "metadata": {},
   "outputs": [
    {
     "name": "stdout",
     "output_type": "stream",
     "text": [
      "# Datos Entrenamiento: 42505\n",
      "# Datos Prueba: 10627\n",
      "% Positivos Entrenamiento: 50.745\n",
      "% Positivos Prueba: 51.341\n"
     ]
    }
   ],
   "source": [
    "#Creo un dataset con los features que voy a usar para clasificar\n",
    "x = train_\n",
    "#Creo un dataset con la variable target\n",
    "y = df_train['is_canceled'].copy()\n",
    "\n",
    "#Genero los conjuntos de train y de test\n",
    "x_train, x_test, y_train, y_test = train_test_split(x,\n",
    "                                                    y, \n",
    "                                                    test_size=0.3,  #proporcion 80/20\n",
    "                                                    random_state=RANDOM_STATE) #semilla\n",
    "\n",
    "#Verifico Cantidad de Datos en cada set\n",
    "print('# Datos Entrenamiento: {}'.format(len(x_train)))\n",
    "print('# Datos Prueba: {}'.format(len(x_test)))\n",
    "\n",
    "#Verifico como quedaron balanceados\n",
    "for split_name, split in zip(['% Positivos Entrenamiento','% Positivos Prueba'],[y_train,y_test]):\n",
    "  print('{}: {:.3f}'.format(split_name,pd.Series(split).value_counts(normalize=True)[1]*100))"
   ]
  },
  {
   "attachments": {},
   "cell_type": "markdown",
   "metadata": {},
   "source": [
    "# Grid search - Cross validation"
   ]
  },
  {
   "cell_type": "code",
   "execution_count": 63,
   "metadata": {},
   "outputs": [
    {
     "name": "stdout",
     "output_type": "stream",
     "text": [
      "Fitting 10 folds for each of 5 candidates, totalling 50 fits\n",
      "[CV] END ccp_alpha=8e-05, max_depth=None, max_features=0.7, min_samples_leaf=1, min_samples_split=25; total time=   1.9s\n",
      "[CV] END ccp_alpha=8e-05, max_depth=None, max_features=0.7, min_samples_leaf=1, min_samples_split=25; total time=   1.7s\n",
      "[CV] END ccp_alpha=8e-05, max_depth=None, max_features=0.7, min_samples_leaf=1, min_samples_split=25; total time=   1.7s\n",
      "[CV] END ccp_alpha=8e-05, max_depth=None, max_features=0.7, min_samples_leaf=1, min_samples_split=25; total time=   1.7s\n",
      "[CV] END ccp_alpha=8e-05, max_depth=None, max_features=0.7, min_samples_leaf=1, min_samples_split=25; total time=   1.9s\n",
      "[CV] END ccp_alpha=8e-05, max_depth=None, max_features=0.7, min_samples_leaf=1, min_samples_split=25; total time=   1.7s\n",
      "[CV] END ccp_alpha=8e-05, max_depth=None, max_features=0.7, min_samples_leaf=1, min_samples_split=25; total time=   1.9s\n",
      "[CV] END ccp_alpha=8e-05, max_depth=None, max_features=0.7, min_samples_leaf=1, min_samples_split=25; total time=   1.9s\n",
      "[CV] END ccp_alpha=8e-05, max_depth=None, max_features=0.7, min_samples_leaf=1, min_samples_split=25; total time=   2.0s\n",
      "[CV] END ccp_alpha=8e-05, max_depth=None, max_features=0.7, min_samples_leaf=1, min_samples_split=25; total time=   1.7s\n",
      "[CV] END ccp_alpha=9e-05, max_depth=None, max_features=0.7, min_samples_leaf=1, min_samples_split=25; total time=   1.8s\n",
      "[CV] END ccp_alpha=9e-05, max_depth=None, max_features=0.7, min_samples_leaf=1, min_samples_split=25; total time=   1.8s\n",
      "[CV] END ccp_alpha=9e-05, max_depth=None, max_features=0.7, min_samples_leaf=1, min_samples_split=25; total time=   2.1s\n",
      "[CV] END ccp_alpha=9e-05, max_depth=None, max_features=0.7, min_samples_leaf=1, min_samples_split=25; total time=   2.0s\n",
      "[CV] END ccp_alpha=9e-05, max_depth=None, max_features=0.7, min_samples_leaf=1, min_samples_split=25; total time=   1.9s\n",
      "[CV] END ccp_alpha=9e-05, max_depth=None, max_features=0.7, min_samples_leaf=1, min_samples_split=25; total time=   1.7s\n",
      "[CV] END ccp_alpha=9e-05, max_depth=None, max_features=0.7, min_samples_leaf=1, min_samples_split=25; total time=   2.0s\n",
      "[CV] END ccp_alpha=9e-05, max_depth=None, max_features=0.7, min_samples_leaf=1, min_samples_split=25; total time=   1.8s\n",
      "[CV] END ccp_alpha=9e-05, max_depth=None, max_features=0.7, min_samples_leaf=1, min_samples_split=25; total time=   1.8s\n",
      "[CV] END ccp_alpha=9e-05, max_depth=None, max_features=0.7, min_samples_leaf=1, min_samples_split=25; total time=   1.7s\n",
      "[CV] END ccp_alpha=0.0001, max_depth=None, max_features=0.7, min_samples_leaf=1, min_samples_split=25; total time=   1.7s\n",
      "[CV] END ccp_alpha=0.0001, max_depth=None, max_features=0.7, min_samples_leaf=1, min_samples_split=25; total time=   2.0s\n",
      "[CV] END ccp_alpha=0.0001, max_depth=None, max_features=0.7, min_samples_leaf=1, min_samples_split=25; total time=   1.8s\n",
      "[CV] END ccp_alpha=0.0001, max_depth=None, max_features=0.7, min_samples_leaf=1, min_samples_split=25; total time=   1.7s\n",
      "[CV] END ccp_alpha=0.0001, max_depth=None, max_features=0.7, min_samples_leaf=1, min_samples_split=25; total time=   1.8s\n",
      "[CV] END ccp_alpha=0.0001, max_depth=None, max_features=0.7, min_samples_leaf=1, min_samples_split=25; total time=   1.8s\n",
      "[CV] END ccp_alpha=0.0001, max_depth=None, max_features=0.7, min_samples_leaf=1, min_samples_split=25; total time=   1.7s\n",
      "[CV] END ccp_alpha=0.0001, max_depth=None, max_features=0.7, min_samples_leaf=1, min_samples_split=25; total time=   3.0s\n",
      "[CV] END ccp_alpha=0.0001, max_depth=None, max_features=0.7, min_samples_leaf=1, min_samples_split=25; total time=   2.1s\n",
      "[CV] END ccp_alpha=0.0001, max_depth=None, max_features=0.7, min_samples_leaf=1, min_samples_split=25; total time=   1.9s\n",
      "[CV] END ccp_alpha=0.00011, max_depth=None, max_features=0.7, min_samples_leaf=1, min_samples_split=25; total time=   2.3s\n",
      "[CV] END ccp_alpha=0.00011, max_depth=None, max_features=0.7, min_samples_leaf=1, min_samples_split=25; total time=   2.4s\n",
      "[CV] END ccp_alpha=0.00011, max_depth=None, max_features=0.7, min_samples_leaf=1, min_samples_split=25; total time=   2.2s\n",
      "[CV] END ccp_alpha=0.00011, max_depth=None, max_features=0.7, min_samples_leaf=1, min_samples_split=25; total time=   2.1s\n",
      "[CV] END ccp_alpha=0.00011, max_depth=None, max_features=0.7, min_samples_leaf=1, min_samples_split=25; total time=   2.0s\n",
      "[CV] END ccp_alpha=0.00011, max_depth=None, max_features=0.7, min_samples_leaf=1, min_samples_split=25; total time=   1.9s\n",
      "[CV] END ccp_alpha=0.00011, max_depth=None, max_features=0.7, min_samples_leaf=1, min_samples_split=25; total time=   1.9s\n",
      "[CV] END ccp_alpha=0.00011, max_depth=None, max_features=0.7, min_samples_leaf=1, min_samples_split=25; total time=   2.1s\n",
      "[CV] END ccp_alpha=0.00011, max_depth=None, max_features=0.7, min_samples_leaf=1, min_samples_split=25; total time=   2.0s\n",
      "[CV] END ccp_alpha=0.00011, max_depth=None, max_features=0.7, min_samples_leaf=1, min_samples_split=25; total time=   2.2s\n",
      "[CV] END ccp_alpha=0.00012, max_depth=None, max_features=0.7, min_samples_leaf=1, min_samples_split=25; total time=   2.4s\n",
      "[CV] END ccp_alpha=0.00012, max_depth=None, max_features=0.7, min_samples_leaf=1, min_samples_split=25; total time=   2.1s\n",
      "[CV] END ccp_alpha=0.00012, max_depth=None, max_features=0.7, min_samples_leaf=1, min_samples_split=25; total time=   2.0s\n",
      "[CV] END ccp_alpha=0.00012, max_depth=None, max_features=0.7, min_samples_leaf=1, min_samples_split=25; total time=   1.9s\n",
      "[CV] END ccp_alpha=0.00012, max_depth=None, max_features=0.7, min_samples_leaf=1, min_samples_split=25; total time=   1.9s\n",
      "[CV] END ccp_alpha=0.00012, max_depth=None, max_features=0.7, min_samples_leaf=1, min_samples_split=25; total time=   1.9s\n",
      "[CV] END ccp_alpha=0.00012, max_depth=None, max_features=0.7, min_samples_leaf=1, min_samples_split=25; total time=   2.3s\n",
      "[CV] END ccp_alpha=0.00012, max_depth=None, max_features=0.7, min_samples_leaf=1, min_samples_split=25; total time=   2.2s\n",
      "[CV] END ccp_alpha=0.00012, max_depth=None, max_features=0.7, min_samples_leaf=1, min_samples_split=25; total time=   2.0s\n",
      "[CV] END ccp_alpha=0.00012, max_depth=None, max_features=0.7, min_samples_leaf=1, min_samples_split=25; total time=   1.9s\n"
     ]
    },
    {
     "data": {
      "text/html": [
       "<style>#sk-container-id-2 {color: black;background-color: white;}#sk-container-id-2 pre{padding: 0;}#sk-container-id-2 div.sk-toggleable {background-color: white;}#sk-container-id-2 label.sk-toggleable__label {cursor: pointer;display: block;width: 100%;margin-bottom: 0;padding: 0.3em;box-sizing: border-box;text-align: center;}#sk-container-id-2 label.sk-toggleable__label-arrow:before {content: \"▸\";float: left;margin-right: 0.25em;color: #696969;}#sk-container-id-2 label.sk-toggleable__label-arrow:hover:before {color: black;}#sk-container-id-2 div.sk-estimator:hover label.sk-toggleable__label-arrow:before {color: black;}#sk-container-id-2 div.sk-toggleable__content {max-height: 0;max-width: 0;overflow: hidden;text-align: left;background-color: #f0f8ff;}#sk-container-id-2 div.sk-toggleable__content pre {margin: 0.2em;color: black;border-radius: 0.25em;background-color: #f0f8ff;}#sk-container-id-2 input.sk-toggleable__control:checked~div.sk-toggleable__content {max-height: 200px;max-width: 100%;overflow: auto;}#sk-container-id-2 input.sk-toggleable__control:checked~label.sk-toggleable__label-arrow:before {content: \"▾\";}#sk-container-id-2 div.sk-estimator input.sk-toggleable__control:checked~label.sk-toggleable__label {background-color: #d4ebff;}#sk-container-id-2 div.sk-label input.sk-toggleable__control:checked~label.sk-toggleable__label {background-color: #d4ebff;}#sk-container-id-2 input.sk-hidden--visually {border: 0;clip: rect(1px 1px 1px 1px);clip: rect(1px, 1px, 1px, 1px);height: 1px;margin: -1px;overflow: hidden;padding: 0;position: absolute;width: 1px;}#sk-container-id-2 div.sk-estimator {font-family: monospace;background-color: #f0f8ff;border: 1px dotted black;border-radius: 0.25em;box-sizing: border-box;margin-bottom: 0.5em;}#sk-container-id-2 div.sk-estimator:hover {background-color: #d4ebff;}#sk-container-id-2 div.sk-parallel-item::after {content: \"\";width: 100%;border-bottom: 1px solid gray;flex-grow: 1;}#sk-container-id-2 div.sk-label:hover label.sk-toggleable__label {background-color: #d4ebff;}#sk-container-id-2 div.sk-serial::before {content: \"\";position: absolute;border-left: 1px solid gray;box-sizing: border-box;top: 0;bottom: 0;left: 50%;z-index: 0;}#sk-container-id-2 div.sk-serial {display: flex;flex-direction: column;align-items: center;background-color: white;padding-right: 0.2em;padding-left: 0.2em;position: relative;}#sk-container-id-2 div.sk-item {position: relative;z-index: 1;}#sk-container-id-2 div.sk-parallel {display: flex;align-items: stretch;justify-content: center;background-color: white;position: relative;}#sk-container-id-2 div.sk-item::before, #sk-container-id-2 div.sk-parallel-item::before {content: \"\";position: absolute;border-left: 1px solid gray;box-sizing: border-box;top: 0;bottom: 0;left: 50%;z-index: -1;}#sk-container-id-2 div.sk-parallel-item {display: flex;flex-direction: column;z-index: 1;position: relative;background-color: white;}#sk-container-id-2 div.sk-parallel-item:first-child::after {align-self: flex-end;width: 50%;}#sk-container-id-2 div.sk-parallel-item:last-child::after {align-self: flex-start;width: 50%;}#sk-container-id-2 div.sk-parallel-item:only-child::after {width: 0;}#sk-container-id-2 div.sk-dashed-wrapped {border: 1px dashed gray;margin: 0 0.4em 0.5em 0.4em;box-sizing: border-box;padding-bottom: 0.4em;background-color: white;}#sk-container-id-2 div.sk-label label {font-family: monospace;font-weight: bold;display: inline-block;line-height: 1.2em;}#sk-container-id-2 div.sk-label-container {text-align: center;}#sk-container-id-2 div.sk-container {/* jupyter's `normalize.less` sets `[hidden] { display: none; }` but bootstrap.min.css set `[hidden] { display: none !important; }` so we also need the `!important` here to be able to override the default hidden behavior on the sphinx rendered scikit-learn.org. See: https://github.com/scikit-learn/scikit-learn/issues/21755 */display: inline-block !important;position: relative;}#sk-container-id-2 div.sk-text-repr-fallback {display: none;}</style><div id=\"sk-container-id-2\" class=\"sk-top-container\"><div class=\"sk-text-repr-fallback\"><pre>GridSearchCV(cv=StratifiedKFold(n_splits=10, random_state=None, shuffle=False),\n",
       "             estimator=DecisionTreeClassifier(),\n",
       "             param_grid={&#x27;ccp_alpha&#x27;: [8e-05, 9e-05, 0.0001, 0.00011, 0.00012],\n",
       "                         &#x27;max_depth&#x27;: [None], &#x27;max_features&#x27;: [0.7],\n",
       "                         &#x27;min_samples_leaf&#x27;: [1], &#x27;min_samples_split&#x27;: [25]},\n",
       "             scoring=make_scorer(f1_score), verbose=2)</pre><b>In a Jupyter environment, please rerun this cell to show the HTML representation or trust the notebook. <br />On GitHub, the HTML representation is unable to render, please try loading this page with nbviewer.org.</b></div><div class=\"sk-container\" hidden><div class=\"sk-item sk-dashed-wrapped\"><div class=\"sk-label-container\"><div class=\"sk-label sk-toggleable\"><input class=\"sk-toggleable__control sk-hidden--visually\" id=\"sk-estimator-id-4\" type=\"checkbox\" ><label for=\"sk-estimator-id-4\" class=\"sk-toggleable__label sk-toggleable__label-arrow\">GridSearchCV</label><div class=\"sk-toggleable__content\"><pre>GridSearchCV(cv=StratifiedKFold(n_splits=10, random_state=None, shuffle=False),\n",
       "             estimator=DecisionTreeClassifier(),\n",
       "             param_grid={&#x27;ccp_alpha&#x27;: [8e-05, 9e-05, 0.0001, 0.00011, 0.00012],\n",
       "                         &#x27;max_depth&#x27;: [None], &#x27;max_features&#x27;: [0.7],\n",
       "                         &#x27;min_samples_leaf&#x27;: [1], &#x27;min_samples_split&#x27;: [25]},\n",
       "             scoring=make_scorer(f1_score), verbose=2)</pre></div></div></div><div class=\"sk-parallel\"><div class=\"sk-parallel-item\"><div class=\"sk-item\"><div class=\"sk-label-container\"><div class=\"sk-label sk-toggleable\"><input class=\"sk-toggleable__control sk-hidden--visually\" id=\"sk-estimator-id-5\" type=\"checkbox\" ><label for=\"sk-estimator-id-5\" class=\"sk-toggleable__label sk-toggleable__label-arrow\">estimator: DecisionTreeClassifier</label><div class=\"sk-toggleable__content\"><pre>DecisionTreeClassifier()</pre></div></div></div><div class=\"sk-serial\"><div class=\"sk-item\"><div class=\"sk-estimator sk-toggleable\"><input class=\"sk-toggleable__control sk-hidden--visually\" id=\"sk-estimator-id-6\" type=\"checkbox\" ><label for=\"sk-estimator-id-6\" class=\"sk-toggleable__label sk-toggleable__label-arrow\">DecisionTreeClassifier</label><div class=\"sk-toggleable__content\"><pre>DecisionTreeClassifier()</pre></div></div></div></div></div></div></div></div></div></div>"
      ],
      "text/plain": [
       "GridSearchCV(cv=StratifiedKFold(n_splits=10, random_state=None, shuffle=False),\n",
       "             estimator=DecisionTreeClassifier(),\n",
       "             param_grid={'ccp_alpha': [8e-05, 9e-05, 0.0001, 0.00011, 0.00012],\n",
       "                         'max_depth': [None], 'max_features': [0.7],\n",
       "                         'min_samples_leaf': [1], 'min_samples_split': [25]},\n",
       "             scoring=make_scorer(f1_score), verbose=2)"
      ]
     },
     "execution_count": 63,
     "metadata": {},
     "output_type": "execute_result"
    }
   ],
   "source": [
    "# Construct Grid Parameters\n",
    "from sklearn.model_selection import GridSearchCV\n",
    "\n",
    "folds = 10\n",
    "\n",
    "# Kfold estratificado\n",
    "kfoldcv = StratifiedKFold(n_splits=folds)\n",
    "\n",
    "\"\"\" params_grid = {'criterion':['gini','entropy'],\n",
    "               'max_depth': [None],\n",
    "               'min_samples_split': list(range(2,20,2)),\n",
    "               'min_samples_leaf':list(range(1,10,2)),\n",
    "               'max_features': list(range(1,10,2)),\n",
    "               'ccp_alpha':[0.0005, 0.001, 0.0015, 0.002, 0.0025, 0.003]} \"\"\"\n",
    "\n",
    "# 84%\n",
    "params_grid = {\n",
    "    'max_depth': [None],\n",
    "    'max_features': [0.7],\n",
    "    'min_samples_split': [25],\n",
    "    'min_samples_leaf': [1],\n",
    "    'ccp_alpha': [0.00008, 0.00009, 0.0001, 0.00011, 0.00012]\n",
    "}\n",
    "\n",
    "# %83,7\n",
    "# params_grid = {\n",
    "#     'max_depth': [None],\n",
    "#     'max_features': [0.7],\n",
    "#     'min_samples_split': [25],\n",
    "#     'min_samples_leaf': [1]\n",
    "# }\n",
    "\n",
    "# Metrica que quiero optimizar F1 Score\n",
    "scorer_fn = make_scorer(sk.metrics.f1_score)\n",
    "\n",
    "# Clasificador\n",
    "base_tree = DecisionTreeClassifier()\n",
    "\n",
    "# Perform Grid Search\n",
    "gs = GridSearchCV(base_tree, params_grid,\n",
    "                  cv=kfoldcv,\n",
    "                  scoring=scorer_fn,\n",
    "                  verbose=2)\n",
    "\n",
    "gs.fit(x_train, y_train)\n"
   ]
  },
  {
   "cell_type": "code",
   "execution_count": 64,
   "metadata": {},
   "outputs": [
    {
     "name": "stdout",
     "output_type": "stream",
     "text": [
      "{'ccp_alpha': 0.00011, 'max_depth': None, 'max_features': 0.7, 'min_samples_leaf': 1, 'min_samples_split': 25}\n",
      "0.8537781127607083\n"
     ]
    }
   ],
   "source": [
    "# Mejores hiperparametros del arbol\n",
    "print(gs.best_params_)\n",
    "# Mejor métrica\n",
    "print(gs.best_score_)"
   ]
  },
  {
   "cell_type": "code",
   "execution_count": 65,
   "metadata": {},
   "outputs": [
    {
     "name": "stdout",
     "output_type": "stream",
     "text": [
      "country_TUR: 0.00014963718948578873\n",
      "arrival_date_week_number_42: 0.00022344705626778388\n",
      "country_GBR: 0.00027344598149152703\n",
      "arrival_date_week_number_11: 0.00029214756560526643\n",
      "arrival_date_day_of_month_5: 0.000357554499385762\n",
      "assigned_room_type_B: 0.0003721800814814949\n",
      "arrival_date_week_number_44: 0.00038781797246421575\n",
      "arrival_date_week_number_19: 0.0003900697481064935\n",
      "arrival_date_week_number_14: 0.0003905546389738917\n",
      "country_ARE: 0.00039532857937759713\n",
      "country_DEU: 0.0004035686136684784\n",
      "country_CHE: 0.0004059920749247757\n",
      "arrival_date_week_number_30: 0.00040719313997435153\n",
      "arrival_date_day_of_month_10: 0.00041105609566730023\n",
      "market_segment_Aviation: 0.0004216215685431912\n",
      "arrival_date_month_May: 0.0004231269546109296\n",
      "days_in_waiting_list: 0.00044431020963765826\n",
      "reserved_room_type_A: 0.00046260224676716416\n",
      "adults: 0.00046289425469507914\n",
      "arrival_date_week_number_23: 0.000473840381515792\n",
      "arrival_date_day_of_month_12: 0.0004942648897652588\n",
      "arrival_date_day_of_month_6: 0.0004974367764515488\n",
      "country_BEL: 0.0005057167825024311\n",
      "arrival_date_day_of_month_29: 0.0005362411977235804\n",
      "arrival_date_day_of_month_23: 0.0005363397206383032\n",
      "arrival_date_week_number_22: 0.0005421285819784404\n",
      "country_ESP: 0.0005507936414851927\n",
      "reserved_room_type_D: 0.0005601050966702281\n",
      "market_segment_Groups: 0.0005642635043819727\n",
      "arrival_date_week_number_20: 0.0005729207479439118\n",
      "country_SWE: 0.0005846750087377296\n",
      "arrival_date_month_February: 0.0005977083643817511\n",
      "arrival_date_week_number_1: 0.0006526692707324576\n",
      "arrival_date_month_June: 0.0006864636903533487\n",
      "arrival_date_day_of_month_2: 0.0007141720772511517\n",
      "arrival_date_week_number_35: 0.0007286740611479861\n",
      "arrival_date_day_of_month_22: 0.0007384025542833883\n",
      "arrival_date_week_number_41: 0.0007473762165976901\n",
      "hotel_Resort Hotel: 0.0008023990304917091\n",
      "arrival_date_day_of_month_8: 0.00081164259394851\n",
      "customer_type_Contract: 0.000824898218895944\n",
      "arrival_date_week_number_37: 0.0008791653562317735\n",
      "distribution_channel_TA/TO: 0.000889742204430355\n",
      "arrival_date_month_March: 0.0008929205155321658\n",
      "arrival_date_week_number_34: 0.0009292784140545628\n",
      "country_FRA: 0.0009580714665751468\n",
      "arrival_date_week_number_33: 0.0010019208276546526\n",
      "meal_Undefined: 0.0010194508087092448\n",
      "arrival_date_day_of_month_26: 0.0010664087475423356\n",
      "assigned_room_type_E: 0.001133004828320056\n",
      "deposit_type_Refundable: 0.001153007439111721\n",
      "arrival_date_day_of_month_18: 0.0011943806005030324\n",
      "arrival_date_month_September: 0.001221224991323111\n",
      "country_BRA: 0.0012481824197533025\n",
      "arrival_date_month_November: 0.0012569264857560485\n",
      "arrival_date_week_number_10: 0.0012997833114958108\n",
      "country_AGO: 0.0013129313272813219\n",
      "meal_HB: 0.0013479099381977892\n",
      "stays_in_week_nights: 0.0014379078414477595\n",
      "country_NLD: 0.0014434008142428004\n",
      "arrival_date_month_December: 0.0016111025709666274\n",
      "arrival_date_day_of_month_14: 0.0018218014266431978\n",
      "arrival_date_month_October: 0.001832956470142527\n",
      "arrival_date_day_of_month_28: 0.0018461963651155665\n",
      "is_repeated_guest: 0.001849099616804355\n",
      "market_segment_Offline TA/TO: 0.0019456472257147583\n",
      "assigned_room_type_A: 0.0019738769076369195\n",
      "company: 0.002437027605814558\n",
      "customer_type_Transient-Party: 0.0025045611715998357\n",
      "stays_in_weekend_nights: 0.002579904956953641\n",
      "country_ITA: 0.0034606407376153604\n",
      "previous_bookings_not_canceled: 0.0036967091411938256\n",
      "hotel_City Hotel: 0.005064338249116276\n",
      "distribution_channel_Direct: 0.006309208930124388\n",
      "arrival_date_year_2016: 0.008028682733032862\n",
      "booking_changes: 0.011621437133058146\n",
      "arrival_date_year_2015: 0.011662837905549206\n",
      "arrival_date_year_2017: 0.012649754212875052\n",
      "adr: 0.02177723350084206\n",
      "previous_cancellations: 0.023317435271255724\n",
      "required_car_parking_spaces: 0.03741219912747129\n",
      "market_segment_Online TA: 0.07483168807876554\n",
      "agent: 0.07596375498564224\n",
      "country_PRT: 0.0763565444239781\n",
      "total_of_special_requests: 0.07802867961694165\n",
      "customer_type_Transient: 0.08182046423287206\n",
      "lead_time: 0.09692534051082446\n",
      "deposit_type_No Deposit: 0.30818757767427957\n"
     ]
    }
   ],
   "source": [
    "#Atributos considerados y su importancia\n",
    "best_tree = gs.best_estimator_\n",
    "feat_imps = best_tree.feature_importances_\n",
    "\n",
    "for feat_imp,feat in sorted(zip(feat_imps,x.columns)):\n",
    "  if feat_imp>0:\n",
    "    print('{}: {}'.format(feat,feat_imp))"
   ]
  },
  {
   "attachments": {},
   "cell_type": "markdown",
   "metadata": {},
   "source": [
    "# Decision Tree"
   ]
  },
  {
   "cell_type": "code",
   "execution_count": 66,
   "metadata": {},
   "outputs": [],
   "source": [
    "# Creo el clasificador\n",
    "arbol = tree.DecisionTreeClassifier(random_state=RANDOM_STATE).set_params(**gs.best_params_)\n",
    "\n",
    "modelo = arbol.fit(X=x_train, y=y_train)"
   ]
  },
  {
   "cell_type": "code",
   "execution_count": 67,
   "metadata": {},
   "outputs": [],
   "source": [
    "# Realizamos una predicción sobre el set de test\n",
    "y_pred = modelo.predict(x_test)"
   ]
  },
  {
   "cell_type": "code",
   "execution_count": 68,
   "metadata": {},
   "outputs": [
    {
     "name": "stdout",
     "output_type": "stream",
     "text": [
      "Best Training Accuracy: 0.8660628161392777\n",
      "Best Testing Accuracy: 0.846899407170415\n",
      "Cross-val-score: 0.8505609076922507\n"
     ]
    }
   ],
   "source": [
    "# Scoring\n",
    "print(f'Best Training Accuracy: {modelo.score(x_train, y_train)}')\n",
    "print(f'Best Testing Accuracy: {modelo.score(x_test, y_test)}')\n",
    "print(f'Cross-val-score: {cross_val_score(gs.best_estimator_, x, y, cv=StratifiedKFold(shuffle=True)).mean()}')"
   ]
  },
  {
   "cell_type": "code",
   "execution_count": 69,
   "metadata": {},
   "outputs": [
    {
     "data": {
      "text/plain": [
       "Text(50.722222222222214, 0.5, 'True')"
      ]
     },
     "execution_count": 69,
     "metadata": {},
     "output_type": "execute_result"
    },
    {
     "data": {
      "image/png": "[encoded data removed]",
      "text/plain": [
       "<Figure size 640x480 with 2 Axes>"
      ]
     },
     "metadata": {},
     "output_type": "display_data"
    }
   ],
   "source": [
    "# Creo la matriz de confusión\n",
    "tabla = confusion_matrix(y_test, y_pred)\n",
    "\n",
    "# Grafico la matriz de confusión\n",
    "sns.heatmap(tabla, cmap='GnBu', annot=True, fmt='g')\n",
    "plt.xlabel('Predicted')\n",
    "plt.ylabel('True')"
   ]
  },
  {
   "cell_type": "code",
   "execution_count": 70,
   "metadata": {},
   "outputs": [
    {
     "name": "stdout",
     "output_type": "stream",
     "text": [
      "Accuracy: 0.846899407170415\n",
      "Recall: 0.8574046920821115\n",
      "Precision: 0.8463904468970509\n",
      "f1 score: 0.8518619684967678\n"
     ]
    }
   ],
   "source": [
    "# Calculo las métricas en el conjunto de evaluación\n",
    "accuracy = accuracy_score(y_test, y_pred)\n",
    "recall = recall_score(y_test, y_pred)\n",
    "f1 = f1_score(y_test, y_pred,)\n",
    "precision = precision_score(y_test, y_pred)\n",
    "\n",
    "print(\"Accuracy: \"+str(accuracy))\n",
    "print(\"Recall: \"+str(recall))\n",
    "print(\"Precision: \"+str(precision))\n",
    "print(\"f1 score: \"+str(f1))"
   ]
  },
  {
   "cell_type": "code",
   "execution_count": 71,
   "metadata": {},
   "outputs": [
    {
     "name": "stdout",
     "output_type": "stream",
     "text": [
      "              precision    recall  f1-score   support\n",
      "\n",
      "           0       0.85      0.84      0.84      5171\n",
      "           1       0.85      0.86      0.85      5456\n",
      "\n",
      "    accuracy                           0.85     10627\n",
      "   macro avg       0.85      0.85      0.85     10627\n",
      "weighted avg       0.85      0.85      0.85     10627\n",
      "\n"
     ]
    }
   ],
   "source": [
    "print(classification_report(y_test,y_pred))"
   ]
  },
  {
   "attachments": {},
   "cell_type": "markdown",
   "metadata": {},
   "source": [
    "# Visualizacion del arbol"
   ]
  },
  {
   "cell_type": "code",
   "execution_count": 72,
   "metadata": {},
   "outputs": [
    {
     "data": {
      "text/plain": [
       "array([0, 1], dtype=int64)"
      ]
     },
     "execution_count": 72,
     "metadata": {},
     "output_type": "execute_result"
    }
   ],
   "source": [
    "modelo.classes_"
   ]
  },
  {
   "cell_type": "code",
   "execution_count": 73,
   "metadata": {},
   "outputs": [
    {
     "data": {
      "image/png": "[encoded data removed]",
      "text/plain": [
       "<Figure size 1200x1200 with 1 Axes>"
      ]
     },
     "metadata": {},
     "output_type": "display_data"
    }
   ],
   "source": [
    "plt.figure(figsize=(12, 12))\n",
    "\n",
    "tree_plot = tree.plot_tree(modelo,\n",
    "                           max_depth=2,\n",
    "                           feature_names=x.columns.to_list(),\n",
    "                           filled=True,\n",
    "                           rounded=True,\n",
    "                           class_names=['Not Canceled', 'Canceled'])\n",
    "\n",
    "plt.show(tree_plot)"
   ]
  },
  {
   "attachments": {},
   "cell_type": "markdown",
   "metadata": {},
   "source": [
    "# Submission"
   ]
  },
  {
   "cell_type": "code",
   "execution_count": 74,
   "metadata": {},
   "outputs": [],
   "source": [
    "X_submission = test_.select_dtypes(exclude=['object'])\n",
    "y_pred_test = modelo.predict(X_submission)"
   ]
  },
  {
   "cell_type": "code",
   "execution_count": 75,
   "metadata": {},
   "outputs": [
    {
     "data": {
      "text/html": [
       "<div>\n",
       "<style scoped>\n",
       "    .dataframe tbody tr th:only-of-type {\n",
       "        vertical-align: middle;\n",
       "    }\n",
       "\n",
       "    .dataframe tbody tr th {\n",
       "        vertical-align: top;\n",
       "    }\n",
       "\n",
       "    .dataframe thead th {\n",
       "        text-align: right;\n",
       "    }\n",
       "</style>\n",
       "<table border=\"1\" class=\"dataframe\">\n",
       "  <thead>\n",
       "    <tr style=\"text-align: right;\">\n",
       "      <th></th>\n",
       "      <th>id</th>\n",
       "      <th>is_canceled</th>\n",
       "    </tr>\n",
       "  </thead>\n",
       "  <tbody>\n",
       "    <tr>\n",
       "      <th>0</th>\n",
       "      <td>e6d0d58a-ab96-44d3-b28f-85df1cc15f1e</td>\n",
       "      <td>1</td>\n",
       "    </tr>\n",
       "    <tr>\n",
       "      <th>1</th>\n",
       "      <td>aba9aac2-4495-4645-a60e-90328713c999</td>\n",
       "      <td>1</td>\n",
       "    </tr>\n",
       "    <tr>\n",
       "      <th>2</th>\n",
       "      <td>b345b5dc-c804-4d77-a39f-1f4e65d1f1ad</td>\n",
       "      <td>0</td>\n",
       "    </tr>\n",
       "    <tr>\n",
       "      <th>3</th>\n",
       "      <td>ce1b400e-afa1-4946-bdff-004b859eb61c</td>\n",
       "      <td>1</td>\n",
       "    </tr>\n",
       "    <tr>\n",
       "      <th>4</th>\n",
       "      <td>c4fbec0d-8e2e-4db2-9d4f-a6ccb9f51214</td>\n",
       "      <td>1</td>\n",
       "    </tr>\n",
       "  </tbody>\n",
       "</table>\n",
       "</div>"
      ],
      "text/plain": [
       "                                     id  is_canceled\n",
       "0  e6d0d58a-ab96-44d3-b28f-85df1cc15f1e            1\n",
       "1  aba9aac2-4495-4645-a60e-90328713c999            1\n",
       "2  b345b5dc-c804-4d77-a39f-1f4e65d1f1ad            0\n",
       "3  ce1b400e-afa1-4946-bdff-004b859eb61c            1\n",
       "4  c4fbec0d-8e2e-4db2-9d4f-a6ccb9f51214            1"
      ]
     },
     "execution_count": 75,
     "metadata": {},
     "output_type": "execute_result"
    }
   ],
   "source": [
    "df_submission = pd.DataFrame({'id': df_test['id'], 'is_canceled': y_pred_test})\n",
    "df_submission.head()"
   ]
  },
  {
   "cell_type": "code",
   "execution_count": 76,
   "metadata": {},
   "outputs": [],
   "source": [
    "df_submission.to_csv('submission10.csv', index=False)"
   ]
  }
 ],
 "metadata": {
  "kernelspec": {
   "display_name": "Python 3.8.5 64-bit",
   "language": "python",
   "name": "python3"
  },
  "language_info": {
   "codemirror_mode": {
    "name": "ipython",
    "version": 3
   },
   "file_extension": ".py",
   "mimetype": "text/x-python",
   "name": "python",
   "nbconvert_exporter": "python",
   "pygments_lexer": "ipython3",
   "version": "3.8.5"
  },
  "orig_nbformat": 4,
  "vscode": {
   "interpreter": {
    "hash": "570feb405e2e27c949193ac68f46852414290d515b0ba6e5d90d076ed2284471"
   }
  }
 },
 "nbformat": 4,
 "nbformat_minor": 2
}
