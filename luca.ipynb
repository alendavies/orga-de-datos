{
 "cells": [
  {
   "attachments": {},
   "cell_type": "markdown",
   "metadata": {},
   "source": [
    "#### Análisis Multivariado"
   ]
  },
  {
   "attachments": {},
   "cell_type": "markdown",
   "metadata": {},
   "source": [
    "En primer lugar es necesario cuantificar las columnas con datos de tipo ``object`` para poder ser tratados matemáticamente."
   ]
  },
  {
   "cell_type": "code",
   "execution_count": null,
   "metadata": {
    "vscode": {
     "languageId": "plaintext"
    }
   },
   "outputs": [],
   "source": [
    "hotel.info()"
   ]
  },
  {
   "cell_type": "code",
   "execution_count": null,
   "metadata": {
    "vscode": {
     "languageId": "plaintext"
    }
   },
   "outputs": [],
   "source": [
    "hotel_analisis_multivariado = hotel.copy()\n",
    "\n",
    "hotel_analisis_multivariado['hotel'] = hotel_analisis_multivariado['hotel'].map(\n",
    "    {'Resort Hotel': 0, 'City Hotel': 1})\n",
    "\n",
    "hotel_analisis_multivariado['arrival_date_month'] = hotel_analisis_multivariado['arrival_date_month'].map(\n",
    "    {'January': 1, 'February': 2, 'March': 3, 'April': 4, 'May': 5, 'June': 6, 'July': 7, 'August': 8, 'September': 9, 'October': 10, 'November': 11, 'December': 12})\n",
    "\n",
    "hotel_analisis_multivariado['meal'] = hotel_analisis_multivariado['meal'].map(\n",
    "    {'Undefined': 0, 'FB': 1, 'HB': 2, 'SC': 3, 'BB': 4})\n",
    "\n",
    "hotel_analisis_multivariado['market_segment'] = hotel_analisis_multivariado['market_segment'].map(\n",
    "    {'Undefined': 0, 'Direct': 1, 'Corporate': 2, 'Online TA': 3, 'Offline TA/TO': 4, 'Complementary': 5, 'Groups': 6, 'Aviation': 7})\n",
    "\n",
    "hotel_analisis_multivariado['distribution_channel'] = hotel_analisis_multivariado['distribution_channel'].map(\n",
    "    {'Undefined': 0, 'Direct': 1, 'Corporate': 2, 'TA/TO': 3, 'GDS': 4})\n",
    "\n",
    "hotel_analisis_multivariado['reserved_room_type'] = hotel_analisis_multivariado['reserved_room_type'].map(\n",
    "    {'A': 1, 'D': 2, 'E': 3, 'G': 4, 'F': 5, 'H': 6, 'L': 7, 'B': 8, 'C': 9})\n",
    "\n",
    "hotel_analisis_multivariado['assigned_room_type'] = hotel_analisis_multivariado['assigned_room_type'].map(\n",
    "    {'A': 1, 'D': 2, 'E': 3, 'G': 4, 'F': 5, 'H': 6, 'L': 7, 'K': 8, 'B': 9, 'C': 10, 'I': 11})\n",
    "\n",
    "hotel_analisis_multivariado['deposit_type'] = hotel_analisis_multivariado['deposit_type'].map(\n",
    "    {'No Deposit': 0, 'Non Refund': 1, 'Refundable': 2})\n",
    "\n",
    "hotel_analisis_multivariado['customer_type'] = hotel_analisis_multivariado['customer_type'].map(\n",
    "    {'Transient': 0, 'Contract': 1, 'Transient-Party': 2, 'Group': 3})\n",
    "\n",
    "hotel_analisis_multivariado.drop(\n",
    "    columns=['agent', 'company', 'id', 'country', 'arrival_date'], inplace=True)\n"
   ]
  },
  {
   "cell_type": "code",
   "execution_count": null,
   "metadata": {
    "vscode": {
     "languageId": "plaintext"
    }
   },
   "outputs": [],
   "source": [
    "hotel_analisis_multivariado.info()"
   ]
  },
  {
   "attachments": {},
   "cell_type": "markdown",
   "metadata": {},
   "source": [
    "##### Multivariado - Isolation forest"
   ]
  },
  {
   "cell_type": "code",
   "execution_count": null,
   "metadata": {
    "vscode": {
     "languageId": "plaintext"
    }
   },
   "outputs": [],
   "source": [
    "from sklearn.ensemble import IsolationForest"
   ]
  },
  {
   "cell_type": "code",
   "execution_count": null,
   "metadata": {
    "vscode": {
     "languageId": "plaintext"
    }
   },
   "outputs": [],
   "source": [
    "hotel_isolation_forest = hotel_analisis_multivariado.copy()\n",
    "X = hotel_isolation_forest.copy().drop(columns=['is_canceled'])\n",
    "y = hotel_isolation_forest['is_canceled']\n",
    "# select the features\n",
    "\n",
    "# X = data[['adr', 'children', 'babies', 'adults', 'previous_cancellations']]\n",
    "# y = data['is_canceled']\n",
    "hotel_isolation_forest.head()"
   ]
  },
  {
   "cell_type": "code",
   "execution_count": null,
   "metadata": {
    "vscode": {
     "languageId": "plaintext"
    }
   },
   "outputs": [],
   "source": [
    "iforest = IsolationForest(n_estimators=100, max_samples='auto',\n",
    "                          contamination=0.05, max_features=4,\n",
    "                          bootstrap=False, n_jobs=-1, random_state=1)\n"
   ]
  },
  {
   "cell_type": "code",
   "execution_count": null,
   "metadata": {
    "vscode": {
     "languageId": "plaintext"
    }
   },
   "outputs": [],
   "source": [
    "pred = iforest.fit_predict(X)"
   ]
  },
  {
   "cell_type": "code",
   "execution_count": null,
   "metadata": {
    "vscode": {
     "languageId": "plaintext"
    }
   },
   "outputs": [],
   "source": [
    "#Almaceno scores y etiquetas\n",
    "hotel_isolation_forest['scores'] = iforest.decision_function(X)\n",
    "hotel_isolation_forest['outlier_label'] = pred\n",
    "\n",
    "#Observaciones anómalas\n",
    "hotel_isolation_forest[hotel_isolation_forest.outlier_label == -1]"
   ]
  },
  {
   "cell_type": "code",
   "execution_count": null,
   "metadata": {
    "vscode": {
     "languageId": "plaintext"
    }
   },
   "outputs": [],
   "source": [
    "# count the number of outliers\n",
    "hotel_isolation_forest.outlier_label.value_counts()"
   ]
  },
  {
   "attachments": {},
   "cell_type": "markdown",
   "metadata": {},
   "source": [
    "##### Multivariado - Local Outlier Factor"
   ]
  },
  {
   "cell_type": "code",
   "execution_count": null,
   "metadata": {
    "vscode": {
     "languageId": "plaintext"
    }
   },
   "outputs": [],
   "source": [
    "from sklearn.neighbors import LocalOutlierFactor"
   ]
  },
  {
   "cell_type": "code",
   "execution_count": null,
   "metadata": {
    "vscode": {
     "languageId": "plaintext"
    }
   },
   "outputs": [],
   "source": [
    "hotel_lof = hotel_analisis_multivariado.copy()\n",
    "\n",
    "hotel_lof.head()"
   ]
  },
  {
   "cell_type": "code",
   "execution_count": null,
   "metadata": {
    "vscode": {
     "languageId": "plaintext"
    }
   },
   "outputs": [],
   "source": [
    "X = hotel_lof.copy().drop(columns=['is_canceled']).values\n",
    "\n",
    "clf = LocalOutlierFactor(n_neighbors=20)\n",
    "\n",
    "pred = clf.fit_predict(X)\n",
    "\n",
    "hotel_lof['scores'] = clf.negative_outlier_factor_"
   ]
  },
  {
   "cell_type": "code",
   "execution_count": null,
   "metadata": {
    "vscode": {
     "languageId": "plaintext"
    }
   },
   "outputs": [],
   "source": [
    "hotel_lof.scores.max(), hotel_lof.scores.min()"
   ]
  },
  {
   "cell_type": "code",
   "execution_count": null,
   "metadata": {
    "vscode": {
     "languageId": "plaintext"
    }
   },
   "outputs": [],
   "source": [
    "# count the number of registers with a score less than -1.5\n",
    "hotel_lof[hotel_lof.scores < -1.5].shape[0]"
   ]
  }
 ],
 "metadata": {
  "language_info": {
   "name": "python"
  },
  "orig_nbformat": 4
 },
 "nbformat": 4,
 "nbformat_minor": 2
}
