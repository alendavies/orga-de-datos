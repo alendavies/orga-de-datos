{
  "cells": [
    {
      "cell_type": "markdown",
      "source": [
        "# <center>Organizaci&oacute;n de Datos</center>\n",
        "#### <center>C&aacute;tedra Ing. Rodriguez, Juan Manuel </center>\n",
        "## <center>Trabajo Práctico 1 : Reservas de Hotel </center>\n",
        "## <center>Ensambles de Modelos </center>\n",
        "#### Grupo 29:\n",
        "* Alen Davies Leccese - 107084\n",
        "* Luca Lazcano - 107044\n"
      ],
      "metadata": {
        "id": "eCQ6OoJW8vTg"
      }
    },
    {
      "cell_type": "markdown",
      "metadata": {
        "id": "SqMte2-X_mWd"
      },
      "source": [
        "# Imports y datasets"
      ]
    },
    {
      "cell_type": "markdown",
      "source": [
        "Importamos todas las librerias a utilizar en el notebook:"
      ],
      "metadata": {
        "id": "SWtD9f8y9At3"
      }
    },
    {
      "cell_type": "code",
      "execution_count": 5,
      "metadata": {
        "id": "4JKjV_tf_mWn"
      },
      "outputs": [],
      "source": [
        "import pandas as pd\n",
        "import matplotlib.pyplot as plt\n",
        "import seaborn as sns\n",
        "import numpy as np\n",
        "\n",
        "import sklearn as sk\n",
        "from sklearn.model_selection import train_test_split, cross_val_score, GridSearchCV, StratifiedKFold, KFold, RandomizedSearchCV, RepeatedStratifiedKFold\n",
        "from sklearn.metrics import precision_score, recall_score, accuracy_score, f1_score, confusion_matrix, classification_report, make_scorer\n",
        "from sklearn.neighbors import KNeighborsClassifier\n",
        "from sklearn.preprocessing import MinMaxScaler, StandardScaler\n",
        "from sklearn.svm import SVC\n",
        "from sklearn.ensemble import RandomForestClassifier, BaggingClassifier, VotingClassifier, StackingClassifier\n",
        "from sklearn.tree import plot_tree, DecisionTreeClassifier\n",
        "import xgboost as xgb\n",
        "from xgboost import XGBClassifier\n",
        "from statistics import mean\n",
        "from sklearn.linear_model import LogisticRegression\n",
        "from sklearn.decomposition import PCA\n",
        "import pickle\n",
        "\n",
        "RANDOM_STATE = 42"
      ]
    },
    {
      "cell_type": "markdown",
      "source": [
        "Ahora creamos los DataFrames para trabajar"
      ],
      "metadata": {
        "id": "CM1FIvas9GIy"
      }
    },
    {
      "cell_type": "code",
      "execution_count": 6,
      "metadata": {
        "id": "m_aW9PSe_mWr"
      },
      "outputs": [],
      "source": [
        "original = pd.read_csv('/content/hotels_procesado.csv').copy()\n",
        "original_test = pd.read_csv('/content/hotels_test.csv').copy()\n",
        "train = pd.read_csv('/content/train_encoded.csv').copy()\n",
        "test = pd.read_csv('/content/test_encoded.csv').copy()"
      ]
    },
    {
      "cell_type": "code",
      "execution_count": 7,
      "metadata": {
        "id": "sb_o3O0OY64P"
      },
      "outputs": [],
      "source": [
        "train.drop(columns=['Unnamed: 0'], inplace=True)\n",
        "test.drop(columns=['Unnamed: 0'], inplace=True)"
      ]
    },
    {
      "cell_type": "markdown",
      "source": [
        "# Reduccion de la dimensionalidad"
      ],
      "metadata": {
        "id": "8w2pKkpFbzNU"
      }
    },
    {
      "cell_type": "markdown",
      "source": [
        "Hacemos reduccion de la dimensionalidad mediante el algoritmo de PCA para disminuir el tiempo de entrenamiento de los modelos"
      ],
      "metadata": {
        "id": "iWxmKr3KdyWp"
      }
    },
    {
      "cell_type": "markdown",
      "metadata": {
        "id": "9aL2G4JY_mWx"
      },
      "source": [
        "Primero normalizamos los datos"
      ]
    },
    {
      "cell_type": "code",
      "execution_count": 8,
      "metadata": {
        "id": "0ryBS4Km_mWy"
      },
      "outputs": [],
      "source": [
        "stand_scaler = StandardScaler()\n",
        "train = stand_scaler.fit_transform(train)\n",
        "test = stand_scaler.transform(test)"
      ]
    },
    {
      "cell_type": "markdown",
      "source": [
        "Creamos un primer modelo base de pca para ver la varianza explicada"
      ],
      "metadata": {
        "id": "qXY0qWyQAcTR"
      }
    },
    {
      "cell_type": "code",
      "source": [
        "pca = PCA(n_components = None, random_state = RANDOM_STATE)\n",
        "train = pca.fit_transform(train)\n",
        "test = pca.transform(test)"
      ],
      "metadata": {
        "id": "jBQZyXywb9jL"
      },
      "execution_count": 9,
      "outputs": []
    },
    {
      "cell_type": "code",
      "source": [
        "varianza_explicada = pca.explained_variance_ratio_.cumsum()\n",
        "print(varianza_explicada)"
      ],
      "metadata": {
        "colab": {
          "base_uri": "https://localhost:8080/"
        },
        "id": "2psSC2NXiWNP",
        "outputId": "1e7bf45c-e8c7-4aca-d4bc-45563aa1ab7e"
      },
      "execution_count": 10,
      "outputs": [
        {
          "output_type": "stream",
          "name": "stdout",
          "text": [
            "[0.03758965 0.06403069 0.08595653 0.10360483 0.12091669 0.13662005\n",
            " 0.15166764 0.16608339 0.18005989 0.19306509 0.20554359 0.21796935\n",
            " 0.2302     0.2423903  0.25455254 0.26656743 0.27835234 0.28998885\n",
            " 0.30129266 0.31241317 0.32332506 0.33369056 0.34377856 0.35367584\n",
            " 0.36320813 0.37212197 0.38100801 0.38969653 0.39815582 0.40617419\n",
            " 0.41405414 0.42165201 0.42910414 0.43652899 0.44388328 0.4511339\n",
            " 0.45827165 0.46537833 0.47241613 0.47939736 0.48633296 0.49322464\n",
            " 0.50011187 0.50693175 0.51367965 0.52041116 0.52712024 0.53377695\n",
            " 0.54039465 0.54700406 0.55357703 0.56010205 0.56661129 0.57310202\n",
            " 0.57957174 0.58594355 0.59229024 0.59862553 0.60494043 0.61123722\n",
            " 0.61747964 0.62369543 0.62990184 0.63610389 0.64228338 0.64841873\n",
            " 0.6545315  0.66062103 0.66668795 0.67273548 0.6787605  0.68475887\n",
            " 0.69074935 0.69672718 0.7026905  0.70864087 0.71455367 0.72045759\n",
            " 0.72634151 0.73221346 0.73806949 0.74388648 0.74966754 0.7554338\n",
            " 0.76118715 0.76692231 0.7726185  0.77829781 0.78395848 0.78957349\n",
            " 0.79517594 0.80074655 0.80630463 0.81183766 0.81732705 0.82279524\n",
            " 0.82823543 0.83363944 0.83898967 0.84430222 0.84958297 0.85483434\n",
            " 0.86005922 0.8652256  0.87038672 0.87551342 0.88062018 0.88561247\n",
            " 0.89056736 0.89549239 0.90036253 0.90522056 0.90999552 0.91470112\n",
            " 0.91936722 0.9239237  0.92841152 0.93281793 0.93712411 0.94134581\n",
            " 0.94547941 0.94936324 0.9530357  0.95655948 0.95994395 0.96311987\n",
            " 0.96627361 0.9693402  0.97224903 0.97508908 0.97790644 0.98036088\n",
            " 0.98253982 0.98435053 0.98595883 0.98747448 0.98872456 0.9899648\n",
            " 0.9911211  0.99224402 0.9933141  0.9941827  0.99504441 0.9957912\n",
            " 0.99650601 0.99712922 0.99770587 0.99824434 0.99871159 0.99911796\n",
            " 0.99945347 0.9996917  0.99985638 0.99995351 0.99999872 1.\n",
            " 1.         1.         1.         1.         1.         1.\n",
            " 1.         1.         1.         1.         1.         1.\n",
            " 1.         1.        ]\n"
          ]
        }
      ]
    },
    {
      "cell_type": "markdown",
      "source": [
        "La graficamos para ver la varianza en funcion de la cantidad de componentes principales"
      ],
      "metadata": {
        "id": "wfkea9xTApO1"
      }
    },
    {
      "cell_type": "code",
      "source": [
        "pca_varianza_explicada = pca.explained_variance_ratio_.cumsum()\n",
        "list_x = list(range(1, len(pca_varianza_explicada)+1))\n",
        "\n",
        "# Grafico varianza explicada y cantidad de componentes principales\n",
        "plt.figure(figsize=(10, 10))\n",
        "plt.plot(list_x, pca_varianza_explicada, '-o')\n",
        "plt.xlabel('Componentes Principales')\n",
        "plt.ylabel('Variabilidad explicada')\n",
        "plt.title('Variabilidad explicada acumulada por componente principal')\n",
        "plt.ylim(0, 1)\n",
        "plt.show()"
      ],
      "metadata": {
        "colab": {
          "base_uri": "https://localhost:8080/",
          "height": 0
        },
        "id": "MBG_kGZPcCIb",
        "outputId": "2d13e84b-6e35-4966-93c7-9b996c6ce05a"
      },
      "execution_count": 11,
      "outputs": [
        {
          "output_type": "display_data",
          "data": {
            "text/plain": [
              "<Figure size 1000x1000 with 1 Axes>"
            ],
            "image/png": "[encoded data removed]"
          },
          "metadata": {}
        }
      ]
    },
    {
      "cell_type": "markdown",
      "source": [
        "Podemos ver que aproximadamente entre 100 y 125 componentes, tenemos el mayor porcentaje de la variabilidad total"
      ],
      "metadata": {
        "id": "4K0ZPneIpJq3"
      }
    },
    {
      "cell_type": "markdown",
      "source": [
        "Entonces entrenamos PCA para hallar la cantidad de componentes basandonos en la varianza explicada deseada. En este caso voy a pedir una varianza explicada del 85%"
      ],
      "metadata": {
        "id": "ugrc4wEkpcUe"
      }
    },
    {
      "cell_type": "code",
      "source": [
        "pca = PCA(n_components = 0.85, random_state = RANDOM_STATE)\n",
        "train = pca.fit_transform(train)\n",
        "test = pca.transform(test)"
      ],
      "metadata": {
        "id": "fa-ev8F_cFuI"
      },
      "execution_count": 12,
      "outputs": []
    },
    {
      "cell_type": "code",
      "source": [
        "print(\"Cumulative Variances (Percentage):\")\n",
        "print(np.cumsum(pca.explained_variance_ratio_ * 100))\n",
        "components = len(pca.explained_variance_ratio_)\n",
        "print(f'Number of components: {components}')"
      ],
      "metadata": {
        "colab": {
          "base_uri": "https://localhost:8080/"
        },
        "id": "06APAeHwtr_K",
        "outputId": "e055cae1-1003-491b-f416-3cda69ff0922"
      },
      "execution_count": 13,
      "outputs": [
        {
          "output_type": "stream",
          "name": "stdout",
          "text": [
            "Cumulative Variances (Percentage):\n",
            "[ 3.75896546  6.40306883  8.59565288 10.3604835  12.09166901 13.66200548\n",
            " 15.16676414 16.60833853 18.00598917 19.30650861 20.55435907 21.79693543\n",
            " 23.02000016 24.23902955 25.45525415 26.65674344 27.83523385 28.99888537\n",
            " 30.12926597 31.24131745 32.33250571 33.36905572 34.37785589 35.36758359\n",
            " 36.32081334 37.21219678 38.10080092 38.96965312 39.81558203 40.61741923\n",
            " 41.40541393 42.16520149 42.91041398 43.65289905 44.38832775 45.11338957\n",
            " 45.82716505 46.53783348 47.24161287 47.93973608 48.63329643 49.32246368\n",
            " 50.0111869  50.69317487 51.36796526 52.04111564 52.71202398 53.37769544\n",
            " 54.03946492 54.70040645 55.35770289 56.01020451 56.66112863 57.31020209\n",
            " 57.95717446 58.59435525 59.22902374 59.86255301 60.49404276 61.12372203\n",
            " 61.74796388 62.36954326 62.99018407 63.61038855 64.22833818 64.84187284\n",
            " 65.4531502  66.06210281 66.66879535 67.27354845 67.87604981 68.47588697\n",
            " 69.0749347  69.67271787 70.2690503  70.86408727 71.45536676 72.04575913\n",
            " 72.63415098 73.2213457  73.80694907 74.38864767 74.96675417 75.54338014\n",
            " 76.1187147  76.69223078 77.26185024 77.82978135 78.39584806 78.95734897\n",
            " 79.51759415 80.07465463 80.63046302 81.18376603 81.73270524 82.27952415\n",
            " 82.82354278 83.36394355 83.89896676 84.43022206 84.95829676 85.48343412]\n",
            "Number of components: 102\n"
          ]
        }
      ]
    },
    {
      "cell_type": "markdown",
      "source": [
        "Vemos que el número de componentes necesarios para cubrir el 85% de la varianza explicada es 102 (se puede ver en el gráfico)"
      ],
      "metadata": {
        "id": "SoFo9fvKtNd7"
      }
    },
    {
      "cell_type": "markdown",
      "source": [
        "Guardamos el modelo de pca en un archivo .pickle"
      ],
      "metadata": {
        "id": "ZU_N-KvCBI8J"
      }
    },
    {
      "cell_type": "code",
      "source": [
        "pickle.dump(pca, open('pca_grupo29.pickle', 'wb'))"
      ],
      "metadata": {
        "id": "fNmVRSrycUzA"
      },
      "execution_count": 14,
      "outputs": []
    },
    {
      "cell_type": "markdown",
      "metadata": {
        "id": "JK5TWXYX_mWs"
      },
      "source": [
        "# Split train/test"
      ]
    },
    {
      "cell_type": "markdown",
      "source": [
        "Partimos el dataset en los conjuntos de entrenamiento y testing"
      ],
      "metadata": {
        "id": "c3Nt2ChoBNgF"
      }
    },
    {
      "cell_type": "code",
      "execution_count": 15,
      "metadata": {
        "id": "5qUJ5BKB_mWt"
      },
      "outputs": [],
      "source": [
        "x = train.copy()\n",
        "y = original['is_canceled'].copy()\n",
        "\n",
        "x_train, x_test, y_train, y_test = train_test_split(x,\n",
        "                                                    y, \n",
        "                                                    test_size=0.3,  #proporcion 70/30\n",
        "                                                    random_state=RANDOM_STATE) #semilla"
      ]
    },
    {
      "cell_type": "code",
      "execution_count": 16,
      "metadata": {
        "colab": {
          "base_uri": "https://localhost:8080/"
        },
        "id": "bZd-D01G_mWu",
        "outputId": "35b07cf5-4fdb-47e1-a908-439c41a3f00d"
      },
      "outputs": [
        {
          "output_type": "stream",
          "name": "stdout",
          "text": [
            "# Datos Entrenamiento: 37192\n",
            "# Datos Prueba: 15940\n",
            "% Positivos Entrenamiento: 50.863\n",
            "% Positivos Prueba: 50.866\n"
          ]
        }
      ],
      "source": [
        "print('# Datos Entrenamiento: {}'.format(len(x_train)))\n",
        "print('# Datos Prueba: {}'.format(len(x_test)))\n",
        "\n",
        "for split_name, split in zip(['% Positivos Entrenamiento','% Positivos Prueba'],[y_train,y_test]):\n",
        "  print('{}: {:.3f}'.format(split_name,pd.Series(split).value_counts(normalize=True)[1]*100))"
      ]
    },
    {
      "cell_type": "markdown",
      "source": [
        "Podemos ver que quedaron bien balanceados los datos"
      ],
      "metadata": {
        "id": "eoHTwJYWBS3Q"
      }
    },
    {
      "cell_type": "markdown",
      "metadata": {
        "id": "3ytPDZD8_mW0"
      },
      "source": [
        "# K-Nearest Neighbors (KNN)"
      ]
    },
    {
      "cell_type": "markdown",
      "source": [
        "### Modelo con parámetros por defecto"
      ],
      "metadata": {
        "id": "ySvDZwnCv9Ol"
      }
    },
    {
      "cell_type": "markdown",
      "metadata": {
        "id": "kNNnPownFrcD"
      },
      "source": [
        "Primero creamos el modelo con los parámetros por defecto"
      ]
    },
    {
      "cell_type": "code",
      "execution_count": 13,
      "metadata": {
        "id": "moOh0ibA_mW1"
      },
      "outputs": [],
      "source": [
        "#Crear el modelo con parámetros por defecto\n",
        "modelo_knn = KNeighborsClassifier()"
      ]
    },
    {
      "cell_type": "code",
      "execution_count": 14,
      "metadata": {
        "id": "7rnSvYyr_mW3"
      },
      "outputs": [],
      "source": [
        "#Entrenar el modelo\n",
        "modelo_knn.fit(x_train, y_train)\n",
        "\n",
        "#Predicción sobre test\n",
        "y_pred = modelo_knn.predict(x_test)"
      ]
    },
    {
      "cell_type": "code",
      "execution_count": 15,
      "metadata": {
        "colab": {
          "base_uri": "https://localhost:8080/"
        },
        "id": "m0j4FcsE_mW4",
        "outputId": "ff4718a6-63b3-451a-c5e3-eef95dbfeea6"
      },
      "outputs": [
        {
          "output_type": "stream",
          "name": "stdout",
          "text": [
            "Accuracy: 0.7222710163111669\n",
            "f1 score: 0.7380628365185492\n"
          ]
        }
      ],
      "source": [
        "accuracy = accuracy_score(y_test, y_pred)\n",
        "f1 = f1_score(y_test, y_pred)\n",
        "\n",
        "print(\"Accuracy: \"+str(accuracy))\n",
        "print(\"f1 score: \"+str(f1))"
      ]
    },
    {
      "cell_type": "markdown",
      "metadata": {
        "id": "hxRHDKmVOPKJ"
      },
      "source": [
        "Con estas metricas tenemos una idea de nuestro modelo base y vamos a tratar de mejorarlas haciendo busqueda de hiperparametros"
      ]
    },
    {
      "cell_type": "markdown",
      "metadata": {
        "id": "8pDtcZJJ_mW5"
      },
      "source": [
        "### Aproximacion inicial a la cantidad de vecinos del modelo"
      ]
    },
    {
      "cell_type": "markdown",
      "source": [
        "Podemos obtener una primera aproximacion a la cantidad de vecinos a utilizar en nuestro modelo de knn variando la cantidad y viendo su performance en un gráfico"
      ],
      "metadata": {
        "id": "456n0aiT-i_g"
      }
    },
    {
      "cell_type": "code",
      "execution_count": 16,
      "metadata": {
        "id": "0pkzFkM7_mW6"
      },
      "outputs": [],
      "source": [
        "# Variamos la cantidad de vecinos (K)\n",
        "\n",
        "metrics = [] #cantidad de vecinos y cantidad de aciertos\n",
        "\n",
        "k_range=range(1,20) \n",
        "\n",
        "for n in k_range:\n",
        "\n",
        "    knn = KNeighborsClassifier(n_neighbors=n)\n",
        "    knn.fit(x_train, y_train)\n",
        "    y_pred = knn.predict(x_test)\n",
        "    metrics.append((n, (y_test == y_pred).sum()))"
      ]
    },
    {
      "cell_type": "code",
      "execution_count": 17,
      "metadata": {
        "colab": {
          "base_uri": "https://localhost:8080/",
          "height": 472
        },
        "id": "4ti31-ch_mW7",
        "outputId": "93177401-168a-4934-d260-19a6e3d09f05"
      },
      "outputs": [
        {
          "output_type": "display_data",
          "data": {
            "text/plain": [
              "<Figure size 640x480 with 1 Axes>"
            ],
            "image/png": "[encoded data removed]"
          },
          "metadata": {}
        }
      ],
      "source": [
        "# ploteamos\n",
        "\n",
        "df_metrics = pd.DataFrame(metrics, columns=['cant_vecinos', 'correctos'])\n",
        "\n",
        "ax = df_metrics.plot( x='cant_vecinos', \n",
        "                      y='correctos',\n",
        "                      title='Aciertos vs Cantidad de Vecinos'\n",
        "                     )\n",
        "\n",
        "ax.set_ylabel(\"Cantidad de Aciertos\")\n",
        "ax.set_xlabel(\"Cantidad de Vecinos\")\n",
        "plt.show()"
      ]
    },
    {
      "cell_type": "markdown",
      "source": [
        "Podemos ver que el modelo performa mejor con pocos vecinos, en un rango de 1 a 7 es donde tiene mayor cantidad de aciertos y a medida que aumenta la cantidad de vecinos, la cantidad de aciertos disminuye"
      ],
      "metadata": {
        "id": "wTgHfDmh-yne"
      }
    },
    {
      "cell_type": "markdown",
      "source": [
        "Ahora disminuimos el rango de vecinos posibles y volvemos a realizar otra aproximacion esta vez utilizando cross validation con 10 folds"
      ],
      "metadata": {
        "id": "B63brW0l_ALt"
      }
    },
    {
      "cell_type": "code",
      "execution_count": 18,
      "metadata": {
        "id": "pCO2xbx__mW9"
      },
      "outputs": [],
      "source": [
        "k_range = range(1,6) #cantidad de vecinos a probar\n",
        "\n",
        "k_scores = [] \n",
        "scorer_fn = make_scorer(sk.metrics.f1_score)\n",
        "\n",
        "for k in k_range:\n",
        "    #clasificador Knn\n",
        "    knn = KNeighborsClassifier(n_neighbors=k)\n",
        "    #uso 10 folds\n",
        "    scores = cross_val_score(knn, x_train, y_train, cv=10, scoring=scorer_fn)\n",
        "    #promedio las 10 métricas\n",
        "    k_scores.append(scores.mean())"
      ]
    },
    {
      "cell_type": "code",
      "execution_count": 19,
      "metadata": {
        "colab": {
          "base_uri": "https://localhost:8080/",
          "height": 472
        },
        "id": "wzA3nJeW_mW-",
        "outputId": "ff5c571a-7c54-42b7-9b80-c90e4aaafe40"
      },
      "outputs": [
        {
          "output_type": "display_data",
          "data": {
            "text/plain": [
              "<Figure size 640x480 with 1 Axes>"
            ],
            "image/png": "[encoded data removed]"
          },
          "metadata": {}
        }
      ],
      "source": [
        "plt.plot(k_range, k_scores)\n",
        "plt.xlabel('Cantidad de Vecinos')\n",
        "plt.ylabel('Cross Validation F1 Score')\n",
        "plt.title('F1 Score vs Cantidad de Vecinos')\n",
        "plt.show()"
      ]
    },
    {
      "cell_type": "markdown",
      "source": [
        "Podemos ver con mayor claridad cual seria una buena cantidad de vecinos para probar en nuestro modelo"
      ],
      "metadata": {
        "id": "e-uTs739_JIY"
      }
    },
    {
      "cell_type": "markdown",
      "metadata": {
        "id": "Nzs1P_Pf_mW_"
      },
      "source": [
        "### Random Search Cross Validation"
      ]
    },
    {
      "cell_type": "markdown",
      "source": [
        "Hacemos búsqueda de hiperparámetros mediante Random Search Cross Validation con 5 folds para mejorar nuestro modelo base"
      ],
      "metadata": {
        "id": "NLUOJQb9-Qro"
      }
    },
    {
      "cell_type": "code",
      "execution_count": 22,
      "metadata": {
        "colab": {
          "base_uri": "https://localhost:8080/"
        },
        "id": "Pvilw3Ue_mW_",
        "outputId": "700b03e6-340b-4108-9a16-120eca66c0cd"
      },
      "outputs": [
        {
          "output_type": "stream",
          "name": "stderr",
          "text": [
            "/usr/local/lib/python3.10/dist-packages/sklearn/model_selection/_search.py:305: UserWarning: The total space of parameters 3 is smaller than n_iter=10. Running 3 iterations. For exhaustive searches, use GridSearchCV.\n",
            "  warnings.warn(\n"
          ]
        },
        {
          "output_type": "stream",
          "name": "stdout",
          "text": [
            "Fitting 5 folds for each of 3 candidates, totalling 15 fits\n",
            "[CV] END algorithm=kd_tree, metric=manhattan, n_neighbors=1, weights=distance; total time=  49.1s\n",
            "[CV] END algorithm=kd_tree, metric=manhattan, n_neighbors=1, weights=distance; total time=  49.7s\n",
            "[CV] END algorithm=kd_tree, metric=manhattan, n_neighbors=1, weights=distance; total time=  49.7s\n",
            "[CV] END algorithm=kd_tree, metric=manhattan, n_neighbors=1, weights=distance; total time=  47.9s\n",
            "[CV] END algorithm=kd_tree, metric=manhattan, n_neighbors=1, weights=distance; total time=  49.7s\n",
            "[CV] END algorithm=kd_tree, metric=manhattan, n_neighbors=2, weights=distance; total time=  55.0s\n",
            "[CV] END algorithm=kd_tree, metric=manhattan, n_neighbors=2, weights=distance; total time=  54.6s\n",
            "[CV] END algorithm=kd_tree, metric=manhattan, n_neighbors=2, weights=distance; total time=  54.3s\n",
            "[CV] END algorithm=kd_tree, metric=manhattan, n_neighbors=2, weights=distance; total time=  57.1s\n",
            "[CV] END algorithm=kd_tree, metric=manhattan, n_neighbors=2, weights=distance; total time=  54.4s\n",
            "[CV] END algorithm=kd_tree, metric=manhattan, n_neighbors=3, weights=distance; total time= 1.0min\n",
            "[CV] END algorithm=kd_tree, metric=manhattan, n_neighbors=3, weights=distance; total time= 1.0min\n",
            "[CV] END algorithm=kd_tree, metric=manhattan, n_neighbors=3, weights=distance; total time=  59.3s\n",
            "[CV] END algorithm=kd_tree, metric=manhattan, n_neighbors=3, weights=distance; total time=  57.1s\n",
            "[CV] END algorithm=kd_tree, metric=manhattan, n_neighbors=3, weights=distance; total time=  57.0s\n"
          ]
        },
        {
          "output_type": "execute_result",
          "data": {
            "text/plain": [
              "array([0.74308958, 0.74321518, 0.74716529])"
            ]
          },
          "metadata": {},
          "execution_count": 22
        }
      ],
      "source": [
        "#Grilla de Parámetros a probar\n",
        "params_grid={ 'n_neighbors':[1,2,3], # Vecinos basados en el análisis previo\n",
        "              'weights':['distance'],\n",
        "              'algorithm':['kd_tree'],\n",
        "              'metric':['manhattan'],\n",
        "             }\n",
        "                \n",
        "#Cantidad de splits para el Cross Validation\n",
        "folds=5\n",
        "\n",
        "#Kfold estratificado\n",
        "kfoldcv = StratifiedKFold(n_splits=folds, shuffle=True)\n",
        "\n",
        "#Clasificador\n",
        "knn_model = KNeighborsClassifier()\n",
        "\n",
        "# Metrica que quiero optimizar F1 Score\n",
        "scorer_fn = make_scorer(sk.metrics.f1_score)\n",
        "\n",
        "#Random Search Cross Validation\n",
        "rand_knn = RandomizedSearchCV(estimator = knn_model,\n",
        "                              param_distributions = params_grid,\n",
        "                              scoring = scorer_fn,\n",
        "                              cv = kfoldcv, verbose=2) \n",
        "\n",
        "rand_knn.fit(x_train, y_train)\n",
        "rand_knn.cv_results_['mean_test_score']"
      ]
    },
    {
      "cell_type": "markdown",
      "source": [
        "Vemos los parámetros y el score obtenidos luego de realizar Random Search"
      ],
      "metadata": {
        "id": "3ZH-kXb7-WE9"
      }
    },
    {
      "cell_type": "code",
      "execution_count": 23,
      "metadata": {
        "id": "iQI0-B-t_mXB",
        "colab": {
          "base_uri": "https://localhost:8080/"
        },
        "outputId": "66b1e9a9-c1ec-4368-844b-f265abe76844"
      },
      "outputs": [
        {
          "output_type": "stream",
          "name": "stdout",
          "text": [
            "Mejores parámetros: {'weights': 'distance', 'n_neighbors': 3, 'metric': 'manhattan', 'algorithm': 'kd_tree'}\n",
            "Mejor métrica: 0.7471652926171121\n"
          ]
        }
      ],
      "source": [
        "print('Mejores parámetros: {}'.format(rand_knn.best_params_))\n",
        "print('Mejor métrica: {}'.format(rand_knn.best_score_))"
      ]
    },
    {
      "cell_type": "markdown",
      "source": [
        "Entrenamos el modelo con los mejores parámetros obtenidos y realizamos las predicciones"
      ],
      "metadata": {
        "id": "kqjNvuNA-av8"
      }
    },
    {
      "cell_type": "code",
      "execution_count": 24,
      "metadata": {
        "id": "NpaCqGtB_mXB"
      },
      "outputs": [],
      "source": [
        "knn = KNeighborsClassifier().set_params(**rand_knn.best_params_)\n",
        "modelo_knn = knn.fit(x_train, y_train)\n",
        "y_pred = modelo_knn.predict(x_test)"
      ]
    },
    {
      "cell_type": "code",
      "source": [
        "print(f'Best Training Accuracy: {modelo_knn.score(x_train, y_train)}')\n",
        "print(f'Best Testing Accuracy: {modelo_knn.score(x_test, y_test)}')"
      ],
      "metadata": {
        "colab": {
          "base_uri": "https://localhost:8080/"
        },
        "id": "EJTsvOMczDsf",
        "outputId": "a6025382-e504-46fb-fa80-6a9023a9a20a"
      },
      "execution_count": 32,
      "outputs": [
        {
          "output_type": "stream",
          "name": "stdout",
          "text": [
            "Best Training Accuracy: 0.9965315121531512\n",
            "Best Testing Accuracy: 0.73732747804266\n"
          ]
        }
      ]
    },
    {
      "cell_type": "markdown",
      "source": [
        "Podemos ver que el modelo está un poco overfitteado ya que performa muy bien en los datos de Training pero no tanto en los de Testing"
      ],
      "metadata": {
        "id": "VtbJVbWd_jek"
      }
    },
    {
      "cell_type": "markdown",
      "metadata": {
        "id": "wcNwdH3W_mXC"
      },
      "source": [
        "### Métricas"
      ]
    },
    {
      "cell_type": "markdown",
      "source": [
        "Testeamos el modelo con las métricas mas utilizadas para ver su performance"
      ],
      "metadata": {
        "id": "DVFBXft_-Cq4"
      }
    },
    {
      "cell_type": "code",
      "execution_count": 25,
      "metadata": {
        "id": "YJGtJX6f_mXD",
        "colab": {
          "base_uri": "https://localhost:8080/"
        },
        "outputId": "cd9c33a9-a748-4c91-ce8c-1b3d6d3629a7"
      },
      "outputs": [
        {
          "output_type": "stream",
          "name": "stdout",
          "text": [
            "Accuracy: 0.73732747804266\n",
            "Recall: 0.7920572274296991\n",
            "Precision: 0.7197131009750084\n",
            "f1 score: 0.7541541894192942\n"
          ]
        }
      ],
      "source": [
        "accuracy = accuracy_score(y_test, y_pred)\n",
        "recall = recall_score(y_test, y_pred)\n",
        "f1 = f1_score(y_test, y_pred,)\n",
        "precision = precision_score(y_test, y_pred)\n",
        "\n",
        "print(\"Accuracy: \"+str(accuracy))\n",
        "print(\"Recall: \"+str(recall))\n",
        "print(\"Precision: \"+str(precision))\n",
        "print(\"f1 score: \"+str(f1))"
      ]
    },
    {
      "cell_type": "code",
      "execution_count": 26,
      "metadata": {
        "id": "tmPWefEb_mXE",
        "colab": {
          "base_uri": "https://localhost:8080/"
        },
        "outputId": "9f222067-f3f0-4a93-dfbc-402b747d8de9"
      },
      "outputs": [
        {
          "output_type": "stream",
          "name": "stdout",
          "text": [
            "              precision    recall  f1-score   support\n",
            "\n",
            "           0       0.76      0.68      0.72      7832\n",
            "           1       0.72      0.79      0.75      8108\n",
            "\n",
            "    accuracy                           0.74     15940\n",
            "   macro avg       0.74      0.74      0.74     15940\n",
            "weighted avg       0.74      0.74      0.74     15940\n",
            "\n"
          ]
        }
      ],
      "source": [
        "#Reporte de Clasificación\n",
        "print(classification_report(y_test,y_pred))"
      ]
    },
    {
      "cell_type": "markdown",
      "source": [
        "Podemos ver cuan bien clasificó nuestro modelo mirando la matriz de confusion"
      ],
      "metadata": {
        "id": "AejAHcM2-JaD"
      }
    },
    {
      "cell_type": "code",
      "execution_count": 28,
      "metadata": {
        "id": "OVJH15yD_mXG",
        "colab": {
          "base_uri": "https://localhost:8080/",
          "height": 449
        },
        "outputId": "e6af7f42-f571-40e5-b759-2352a1f06bcc"
      },
      "outputs": [
        {
          "output_type": "display_data",
          "data": {
            "text/plain": [
              "<Figure size 640x480 with 2 Axes>"
            ],
            "image/png": "[encoded data removed]"
          },
          "metadata": {}
        }
      ],
      "source": [
        "#Matriz de Confusión\n",
        "cm = confusion_matrix(y_test,y_pred)\n",
        "sns.heatmap(cm, cmap='Blues',annot=True,fmt='g')\n",
        "plt.xlabel('Predicted')\n",
        "plt.ylabel('True')\n",
        "plt.show()"
      ]
    },
    {
      "cell_type": "markdown",
      "metadata": {
        "id": "FGbC0wgU_mXG"
      },
      "source": [
        "### Submission"
      ]
    },
    {
      "cell_type": "markdown",
      "source": [
        "Guardamos el modelo en un archivo .pickle"
      ],
      "metadata": {
        "id": "ZO8TYtoq96hW"
      }
    },
    {
      "cell_type": "code",
      "execution_count": 29,
      "metadata": {
        "id": "xKaIr7rlv-rn"
      },
      "outputs": [],
      "source": [
        "pickle.dump(modelo_knn, open('knn_grupo29.pickle', 'wb'))"
      ]
    },
    {
      "cell_type": "markdown",
      "source": [
        "y el .csv con las predicciones para subir a kaggle"
      ],
      "metadata": {
        "id": "96essy5-9-Fc"
      }
    },
    {
      "cell_type": "code",
      "execution_count": 31,
      "metadata": {
        "id": "kp4RPtwB_mXH"
      },
      "outputs": [],
      "source": [
        "X_submission_knn = test\n",
        "y_pred_test_knn = modelo_knn.predict(X_submission_knn)\n",
        "df_submission_knn = pd.DataFrame({'id': original_test['id'], 'is_canceled': y_pred_test_knn})\n",
        "df_submission_knn.to_csv('knn03.csv', index=False)"
      ]
    },
    {
      "cell_type": "markdown",
      "metadata": {
        "id": "8gYI8DCR_mXH"
      },
      "source": [
        "# Support Vector Machine (SVM)\n",
        "\n"
      ]
    },
    {
      "cell_type": "markdown",
      "metadata": {
        "id": "kjvpkTM4qrrT"
      },
      "source": [
        "#### Modelo con parámetros por default"
      ]
    },
    {
      "cell_type": "markdown",
      "source": [
        "Creamos un modelos base con sus parámetros por defecto para tener una primera métrica en la cual basarnos"
      ],
      "metadata": {
        "id": "9j5gTNc8BYax"
      }
    },
    {
      "cell_type": "code",
      "execution_count": 33,
      "metadata": {
        "id": "97ovgA7U_mXH"
      },
      "outputs": [],
      "source": [
        "#Crear el modelo con parámetros por defecto\n",
        "SVM_Classifier = SVC()"
      ]
    },
    {
      "cell_type": "code",
      "execution_count": 34,
      "metadata": {
        "id": "KULvTtaZ_mXI"
      },
      "outputs": [],
      "source": [
        "#Entrenar el modelo\n",
        "modelo_svm = SVM_Classifier.fit(x_train, y_train)\n",
        "\n",
        "#Predicción sobre test\n",
        "y_pred = SVM_Classifier.predict(x_test)"
      ]
    },
    {
      "cell_type": "code",
      "execution_count": 35,
      "metadata": {
        "colab": {
          "base_uri": "https://localhost:8080/"
        },
        "id": "3sqDxJrb_mXI",
        "outputId": "00649935-d369-4506-fd22-11888aec7606"
      },
      "outputs": [
        {
          "output_type": "stream",
          "name": "stdout",
          "text": [
            "Accuracy: 0.8291091593475534\n",
            "Recall: 0.8452146028613715\n",
            "Precision: 0.8234799327084835\n",
            "f1 score: 0.8342057212416312\n"
          ]
        }
      ],
      "source": [
        "accuracy = accuracy_score(y_test, y_pred)\n",
        "recall = recall_score(y_test, y_pred)\n",
        "f1 = f1_score(y_test, y_pred,)\n",
        "precision = precision_score(y_test, y_pred)\n",
        "\n",
        "print(\"Accuracy: \"+str(accuracy))\n",
        "print(\"Recall: \"+str(recall))\n",
        "print(\"Precision: \"+str(precision))\n",
        "print(\"f1 score: \"+str(f1))"
      ]
    },
    {
      "cell_type": "markdown",
      "metadata": {
        "id": "gGJZYTSjtpCp"
      },
      "source": [
        "Ahora vamos a entrenar modelos de SVM variando el kernel y algunos parámetros"
      ]
    },
    {
      "cell_type": "markdown",
      "metadata": {
        "id": "9wY02Cz7qpLq"
      },
      "source": [
        "#### Kernel Lineal"
      ]
    },
    {
      "cell_type": "markdown",
      "source": [
        "Entrenamos un svm con kernel Lineal y vemos su performance:"
      ],
      "metadata": {
        "id": "FN7IHQuBHwd3"
      }
    },
    {
      "cell_type": "code",
      "execution_count": 40,
      "metadata": {
        "id": "Vh_OzETZqxsS"
      },
      "outputs": [],
      "source": [
        "SVM_Lineal = SVC(kernel='linear', C=1)\n",
        "modelo_svm = SVM_Lineal.fit(x_train, y_train)\n",
        "y_pred = SVM_Lineal.predict(x_test)"
      ]
    },
    {
      "cell_type": "code",
      "execution_count": 41,
      "metadata": {
        "id": "vae0S7kZrFYf",
        "colab": {
          "base_uri": "https://localhost:8080/"
        },
        "outputId": "6750482d-dfff-482f-f5de-309cc5feb5ae"
      },
      "outputs": [
        {
          "output_type": "stream",
          "name": "stdout",
          "text": [
            "Accuracy: 0.7696988707653701\n",
            "Recall: 0.7767636901825358\n",
            "Precision: 0.7719083220982964\n",
            "f1 score: 0.7743283949099404\n"
          ]
        }
      ],
      "source": [
        "accuracy = accuracy_score(y_test, y_pred)\n",
        "recall = recall_score(y_test, y_pred)\n",
        "f1 = f1_score(y_test, y_pred,)\n",
        "precision = precision_score(y_test, y_pred)\n",
        "\n",
        "print(\"Accuracy: \"+str(accuracy))\n",
        "print(\"Recall: \"+str(recall))\n",
        "print(\"Precision: \"+str(precision))\n",
        "print(\"f1 score: \"+str(f1))"
      ]
    },
    {
      "cell_type": "code",
      "execution_count": 42,
      "metadata": {
        "id": "CBqUDzWksr4B",
        "colab": {
          "base_uri": "https://localhost:8080/"
        },
        "outputId": "5fcec7fc-d2e6-4b47-db42-4d36d92a62dc"
      },
      "outputs": [
        {
          "output_type": "stream",
          "name": "stdout",
          "text": [
            "              precision    recall  f1-score   support\n",
            "\n",
            "           0       0.77      0.76      0.76      7832\n",
            "           1       0.77      0.78      0.77      8108\n",
            "\n",
            "    accuracy                           0.77     15940\n",
            "   macro avg       0.77      0.77      0.77     15940\n",
            "weighted avg       0.77      0.77      0.77     15940\n",
            "\n"
          ]
        }
      ],
      "source": [
        "#Reporte de Clasificación\n",
        "print(classification_report(y_test,y_pred))"
      ]
    },
    {
      "cell_type": "code",
      "execution_count": 43,
      "metadata": {
        "id": "0QTeJqUSsu5L",
        "colab": {
          "base_uri": "https://localhost:8080/",
          "height": 449
        },
        "outputId": "05b1f554-bd2c-4efc-c0ea-4eb8b2c215bd"
      },
      "outputs": [
        {
          "output_type": "display_data",
          "data": {
            "text/plain": [
              "<Figure size 640x480 with 2 Axes>"
            ],
            "image/png": "[encoded data removed]"
          },
          "metadata": {}
        }
      ],
      "source": [
        "#Matriz de Confusión\n",
        "cm = confusion_matrix(y_test,y_pred)\n",
        "sns.heatmap(cm, cmap='Blues',annot=True,fmt='g')\n",
        "plt.xlabel('Predicted')\n",
        "plt.ylabel('True')\n",
        "plt.show()"
      ]
    },
    {
      "cell_type": "markdown",
      "metadata": {
        "id": "7rtvw-BYrGbo"
      },
      "source": [
        "#### Kernel Polinómico"
      ]
    },
    {
      "cell_type": "markdown",
      "source": [
        "Entrenamos un svm con kernel Polinómico y vemos su performance:"
      ],
      "metadata": {
        "id": "zFs3qgiCJSNa"
      }
    },
    {
      "cell_type": "code",
      "execution_count": 13,
      "metadata": {
        "id": "CBdOzvgCt-DQ"
      },
      "outputs": [],
      "source": [
        "SVM_poly = SVC(kernel='poly', C=2, gamma=3)\n",
        "modelo_svm = SVM_poly.fit(x_train, y_train)\n",
        "y_pred = SVM_poly.predict(x_test)"
      ]
    },
    {
      "cell_type": "code",
      "execution_count": 14,
      "metadata": {
        "id": "VYw1uE1cuALn",
        "colab": {
          "base_uri": "https://localhost:8080/"
        },
        "outputId": "b46e9728-b304-434e-a8de-b48bb42eb51c"
      },
      "outputs": [
        {
          "metadata": {
            "tags": null
          },
          "name": "stdout",
          "output_type": "stream",
          "text": [
            "Accuracy: 0.7786700125470515\n",
            "Recall: 0.7993339911198816\n",
            "Precision: 0.773204485802911\n",
            "f1 score: 0.7860521528198908\n"
          ]
        }
      ],
      "source": [
        "accuracy = accuracy_score(y_test, y_pred)\n",
        "recall = recall_score(y_test, y_pred)\n",
        "f1 = f1_score(y_test, y_pred,)\n",
        "precision = precision_score(y_test, y_pred)\n",
        "\n",
        "print(\"Accuracy: \"+str(accuracy))\n",
        "print(\"Recall: \"+str(recall))\n",
        "print(\"Precision: \"+str(precision))\n",
        "print(\"f1 score: \"+str(f1))"
      ]
    },
    {
      "cell_type": "code",
      "execution_count": 15,
      "metadata": {
        "id": "hh9Q82GDuBgY",
        "colab": {
          "base_uri": "https://localhost:8080/"
        },
        "outputId": "90a89649-0cd2-4597-923b-c99242ee51b5"
      },
      "outputs": [
        {
          "output_type": "stream",
          "name": "stdout",
          "text": [
            "              precision    recall  f1-score   support\n",
            "\n",
            "           0       0.78      0.76      0.77      7832\n",
            "           1       0.77      0.80      0.79      8108\n",
            "\n",
            "    accuracy                           0.78     15940\n",
            "   macro avg       0.78      0.78      0.78     15940\n",
            "weighted avg       0.78      0.78      0.78     15940\n",
            "\n"
          ]
        }
      ],
      "source": [
        "#Reporte de Clasificación\n",
        "print(classification_report(y_test,y_pred))"
      ]
    },
    {
      "cell_type": "code",
      "execution_count": 16,
      "metadata": {
        "id": "USD1YiQluE1z",
        "colab": {
          "base_uri": "https://localhost:8080/",
          "height": 449
        },
        "outputId": "bf72ec84-df56-4408-f539-4c3934e6e863"
      },
      "outputs": [
        {
          "output_type": "display_data",
          "data": {
            "text/plain": [
              "<Figure size 640x480 with 2 Axes>"
            ],
            "image/png": "[encoded data removed]"
          },
          "metadata": {}
        }
      ],
      "source": [
        "#Matriz de Confusión\n",
        "cm = confusion_matrix(y_test,y_pred)\n",
        "sns.heatmap(cm, cmap='Blues',annot=True,fmt='g')\n",
        "plt.xlabel('Predicted')\n",
        "plt.ylabel('True')\n",
        "plt.show()"
      ]
    },
    {
      "cell_type": "markdown",
      "metadata": {
        "id": "Ztz68Z7gtcwi"
      },
      "source": [
        "#### Kernel Radial"
      ]
    },
    {
      "cell_type": "markdown",
      "source": [
        "Entrenamos un svm con kernel Radial y vemos su performance:"
      ],
      "metadata": {
        "id": "GvsLmIKiJVaB"
      }
    },
    {
      "cell_type": "code",
      "execution_count": 17,
      "metadata": {
        "id": "Q86fpH5tuGfl"
      },
      "outputs": [],
      "source": [
        "SVM_radial = SVC(kernel='rbf', C=3, gamma=5)\n",
        "modelo_svm = SVM_radial.fit(x_train, y_train)\n",
        "y_pred = SVM_radial.predict(x_test)"
      ]
    },
    {
      "cell_type": "code",
      "execution_count": 18,
      "metadata": {
        "id": "cGWEXNxYuHoJ",
        "colab": {
          "base_uri": "https://localhost:8080/"
        },
        "outputId": "75bfba17-6e81-4455-c5c0-b7a59c459710"
      },
      "outputs": [
        {
          "output_type": "stream",
          "name": "stdout",
          "text": [
            "Accuracy: 0.7462358845671268\n",
            "Recall: 0.511223482979773\n",
            "Precision: 0.9806008989827301\n",
            "f1 score: 0.6720713417105796\n"
          ]
        }
      ],
      "source": [
        "accuracy = accuracy_score(y_test, y_pred)\n",
        "recall = recall_score(y_test, y_pred)\n",
        "f1 = f1_score(y_test, y_pred,)\n",
        "precision = precision_score(y_test, y_pred)\n",
        "\n",
        "print(\"Accuracy: \"+str(accuracy))\n",
        "print(\"Recall: \"+str(recall))\n",
        "print(\"Precision: \"+str(precision))\n",
        "print(\"f1 score: \"+str(f1))"
      ]
    },
    {
      "cell_type": "code",
      "execution_count": 19,
      "metadata": {
        "id": "JzdMjGzNuI13",
        "colab": {
          "base_uri": "https://localhost:8080/"
        },
        "outputId": "8459256e-783e-44af-fb91-4eb0eef073cf"
      },
      "outputs": [
        {
          "output_type": "stream",
          "name": "stdout",
          "text": [
            "              precision    recall  f1-score   support\n",
            "\n",
            "           0       0.66      0.99      0.79      7832\n",
            "           1       0.98      0.51      0.67      8108\n",
            "\n",
            "    accuracy                           0.75     15940\n",
            "   macro avg       0.82      0.75      0.73     15940\n",
            "weighted avg       0.82      0.75      0.73     15940\n",
            "\n"
          ]
        }
      ],
      "source": [
        "#Reporte de Clasificación\n",
        "print(classification_report(y_test,y_pred))"
      ]
    },
    {
      "cell_type": "code",
      "execution_count": 20,
      "metadata": {
        "id": "Y1ttcUUwuLsp",
        "colab": {
          "base_uri": "https://localhost:8080/",
          "height": 449
        },
        "outputId": "6c51b46f-e264-4794-fca8-d6b9d0e93ba1"
      },
      "outputs": [
        {
          "output_type": "display_data",
          "data": {
            "text/plain": [
              "<Figure size 640x480 with 2 Axes>"
            ],
            "image/png": "[encoded data removed]"
          },
          "metadata": {}
        }
      ],
      "source": [
        "#Matriz de Confusión\n",
        "cm = confusion_matrix(y_test,y_pred)\n",
        "sns.heatmap(cm, cmap='Blues',annot=True,fmt='g')\n",
        "plt.xlabel('Predicted')\n",
        "plt.ylabel('True')\n",
        "plt.show()"
      ]
    },
    {
      "cell_type": "markdown",
      "metadata": {
        "id": "RdYD8a9u_mXJ"
      },
      "source": [
        "### Búsqueda de hiperparámetros"
      ]
    },
    {
      "cell_type": "markdown",
      "source": [
        "Hacemos búsqueda de hiperparámetros con Random Search y utilizando un Bagging Classifier para disminuir el tiempo que tarda el modelo en entrenarse"
      ],
      "metadata": {
        "id": "0eq7bvnBBzne"
      }
    },
    {
      "cell_type": "code",
      "execution_count": 22,
      "metadata": {
        "id": "Dk9M9ppZ_mXJ",
        "colab": {
          "base_uri": "https://localhost:8080/"
        },
        "outputId": "1f937ebd-a6db-42f9-8540-0785679f7291"
      },
      "outputs": [
        {
          "output_type": "stream",
          "name": "stdout",
          "text": [
            "Fitting 5 folds for each of 3 candidates, totalling 15 fits\n"
          ]
        },
        {
          "output_type": "stream",
          "name": "stderr",
          "text": [
            "/usr/local/lib/python3.10/dist-packages/sklearn/ensemble/_base.py:166: FutureWarning: `base_estimator` was renamed to `estimator` in version 1.2 and will be removed in 1.4.\n",
            "  warnings.warn(\n"
          ]
        },
        {
          "output_type": "stream",
          "name": "stdout",
          "text": [
            "[CV] END .max_features=0.5, max_samples=0.5, n_estimators=10; total time= 2.5min\n"
          ]
        },
        {
          "output_type": "stream",
          "name": "stderr",
          "text": [
            "/usr/local/lib/python3.10/dist-packages/sklearn/ensemble/_base.py:166: FutureWarning: `base_estimator` was renamed to `estimator` in version 1.2 and will be removed in 1.4.\n",
            "  warnings.warn(\n"
          ]
        },
        {
          "output_type": "stream",
          "name": "stdout",
          "text": [
            "[CV] END .max_features=0.5, max_samples=0.5, n_estimators=10; total time= 2.4min\n"
          ]
        },
        {
          "output_type": "stream",
          "name": "stderr",
          "text": [
            "/usr/local/lib/python3.10/dist-packages/sklearn/ensemble/_base.py:166: FutureWarning: `base_estimator` was renamed to `estimator` in version 1.2 and will be removed in 1.4.\n",
            "  warnings.warn(\n"
          ]
        },
        {
          "output_type": "stream",
          "name": "stdout",
          "text": [
            "[CV] END .max_features=0.5, max_samples=0.5, n_estimators=10; total time= 2.3min\n"
          ]
        },
        {
          "output_type": "stream",
          "name": "stderr",
          "text": [
            "/usr/local/lib/python3.10/dist-packages/sklearn/ensemble/_base.py:166: FutureWarning: `base_estimator` was renamed to `estimator` in version 1.2 and will be removed in 1.4.\n",
            "  warnings.warn(\n"
          ]
        },
        {
          "output_type": "stream",
          "name": "stdout",
          "text": [
            "[CV] END .max_features=0.5, max_samples=0.5, n_estimators=10; total time= 2.4min\n"
          ]
        },
        {
          "output_type": "stream",
          "name": "stderr",
          "text": [
            "/usr/local/lib/python3.10/dist-packages/sklearn/ensemble/_base.py:166: FutureWarning: `base_estimator` was renamed to `estimator` in version 1.2 and will be removed in 1.4.\n",
            "  warnings.warn(\n"
          ]
        },
        {
          "output_type": "stream",
          "name": "stdout",
          "text": [
            "[CV] END .max_features=0.5, max_samples=0.5, n_estimators=10; total time= 2.3min\n"
          ]
        },
        {
          "output_type": "stream",
          "name": "stderr",
          "text": [
            "/usr/local/lib/python3.10/dist-packages/sklearn/ensemble/_base.py:166: FutureWarning: `base_estimator` was renamed to `estimator` in version 1.2 and will be removed in 1.4.\n",
            "  warnings.warn(\n"
          ]
        },
        {
          "output_type": "stream",
          "name": "stdout",
          "text": [
            "[CV] END max_features=0.5, max_samples=0.75, n_estimators=30; total time=11.4min\n"
          ]
        },
        {
          "output_type": "stream",
          "name": "stderr",
          "text": [
            "/usr/local/lib/python3.10/dist-packages/sklearn/ensemble/_base.py:166: FutureWarning: `base_estimator` was renamed to `estimator` in version 1.2 and will be removed in 1.4.\n",
            "  warnings.warn(\n"
          ]
        },
        {
          "output_type": "stream",
          "name": "stdout",
          "text": [
            "[CV] END max_features=0.5, max_samples=0.75, n_estimators=30; total time=10.8min\n"
          ]
        },
        {
          "output_type": "stream",
          "name": "stderr",
          "text": [
            "/usr/local/lib/python3.10/dist-packages/sklearn/ensemble/_base.py:166: FutureWarning: `base_estimator` was renamed to `estimator` in version 1.2 and will be removed in 1.4.\n",
            "  warnings.warn(\n"
          ]
        },
        {
          "output_type": "stream",
          "name": "stdout",
          "text": [
            "[CV] END max_features=0.5, max_samples=0.75, n_estimators=30; total time=11.2min\n"
          ]
        },
        {
          "output_type": "stream",
          "name": "stderr",
          "text": [
            "/usr/local/lib/python3.10/dist-packages/sklearn/ensemble/_base.py:166: FutureWarning: `base_estimator` was renamed to `estimator` in version 1.2 and will be removed in 1.4.\n",
            "  warnings.warn(\n"
          ]
        },
        {
          "output_type": "stream",
          "name": "stdout",
          "text": [
            "[CV] END max_features=0.5, max_samples=0.75, n_estimators=30; total time=11.0min\n"
          ]
        },
        {
          "output_type": "stream",
          "name": "stderr",
          "text": [
            "/usr/local/lib/python3.10/dist-packages/sklearn/ensemble/_base.py:166: FutureWarning: `base_estimator` was renamed to `estimator` in version 1.2 and will be removed in 1.4.\n",
            "  warnings.warn(\n"
          ]
        },
        {
          "output_type": "stream",
          "name": "stdout",
          "text": [
            "[CV] END max_features=0.5, max_samples=0.75, n_estimators=30; total time=11.6min\n"
          ]
        },
        {
          "output_type": "stream",
          "name": "stderr",
          "text": [
            "/usr/local/lib/python3.10/dist-packages/sklearn/ensemble/_base.py:166: FutureWarning: `base_estimator` was renamed to `estimator` in version 1.2 and will be removed in 1.4.\n",
            "  warnings.warn(\n"
          ]
        },
        {
          "output_type": "stream",
          "name": "stdout",
          "text": [
            "[CV] END max_features=1.0, max_samples=0.75, n_estimators=30; total time=14.4min\n"
          ]
        },
        {
          "output_type": "stream",
          "name": "stderr",
          "text": [
            "/usr/local/lib/python3.10/dist-packages/sklearn/ensemble/_base.py:166: FutureWarning: `base_estimator` was renamed to `estimator` in version 1.2 and will be removed in 1.4.\n",
            "  warnings.warn(\n"
          ]
        },
        {
          "output_type": "stream",
          "name": "stdout",
          "text": [
            "[CV] END max_features=1.0, max_samples=0.75, n_estimators=30; total time=14.3min\n"
          ]
        },
        {
          "output_type": "stream",
          "name": "stderr",
          "text": [
            "/usr/local/lib/python3.10/dist-packages/sklearn/ensemble/_base.py:166: FutureWarning: `base_estimator` was renamed to `estimator` in version 1.2 and will be removed in 1.4.\n",
            "  warnings.warn(\n"
          ]
        },
        {
          "output_type": "stream",
          "name": "stdout",
          "text": [
            "[CV] END max_features=1.0, max_samples=0.75, n_estimators=30; total time=14.9min\n"
          ]
        },
        {
          "output_type": "stream",
          "name": "stderr",
          "text": [
            "/usr/local/lib/python3.10/dist-packages/sklearn/ensemble/_base.py:166: FutureWarning: `base_estimator` was renamed to `estimator` in version 1.2 and will be removed in 1.4.\n",
            "  warnings.warn(\n"
          ]
        },
        {
          "output_type": "stream",
          "name": "stdout",
          "text": [
            "[CV] END max_features=1.0, max_samples=0.75, n_estimators=30; total time=15.1min\n"
          ]
        },
        {
          "output_type": "stream",
          "name": "stderr",
          "text": [
            "/usr/local/lib/python3.10/dist-packages/sklearn/ensemble/_base.py:166: FutureWarning: `base_estimator` was renamed to `estimator` in version 1.2 and will be removed in 1.4.\n",
            "  warnings.warn(\n"
          ]
        },
        {
          "output_type": "stream",
          "name": "stdout",
          "text": [
            "[CV] END max_features=1.0, max_samples=0.75, n_estimators=30; total time=15.1min\n"
          ]
        },
        {
          "output_type": "stream",
          "name": "stderr",
          "text": [
            "/usr/local/lib/python3.10/dist-packages/sklearn/ensemble/_base.py:166: FutureWarning: `base_estimator` was renamed to `estimator` in version 1.2 and will be removed in 1.4.\n",
            "  warnings.warn(\n"
          ]
        },
        {
          "output_type": "execute_result",
          "data": {
            "text/plain": [
              "array([0.79348979, 0.80830349, 0.82735204])"
            ]
          },
          "metadata": {},
          "execution_count": 22
        }
      ],
      "source": [
        "#Cantidad de combinaciones que quiero probar\n",
        "n=3\n",
        "\n",
        "#Grilla de Parámetros\n",
        "params_grid= {'n_estimators': [10, 20, 30, 40, 50],\n",
        "              'max_samples': [0.25, 0.5, 0.75, 1.0],\n",
        "              'max_features': [0.1, 0.25, 0.5, 0.75, 1.0],\n",
        "              }\n",
        "\n",
        "#Kfold estratificado\n",
        "kfoldcv = StratifiedKFold(n_splits=5, shuffle=True, random_state=RANDOM_STATE)\n",
        "\n",
        "#Clasificador\n",
        "svm_model = BaggingClassifier(base_estimator=SVC(kernel='rbf'))\n",
        "\n",
        "# Metrica que quiero optimizar F1 Score\n",
        "scorer_fn = make_scorer(sk.metrics.f1_score)\n",
        "\n",
        "#Random Search Cross Validation\n",
        "rand_svm = RandomizedSearchCV(estimator = svm_model,\n",
        "                              param_distributions = params_grid,\n",
        "                              scoring = scorer_fn, n_iter=n, verbose=2) \n",
        "\n",
        "rand_svm.fit(x_train, y_train)\n",
        "rand_svm.cv_results_['mean_test_score']"
      ]
    },
    {
      "cell_type": "markdown",
      "source": [
        "Ahora podemos ver los parámetros y el mejor score obtenidos luego de realizar Random Search"
      ],
      "metadata": {
        "id": "yCNGRHvK9l8X"
      }
    },
    {
      "cell_type": "code",
      "execution_count": 23,
      "metadata": {
        "id": "gRAVGdrr_mXK",
        "outputId": "19890692-373f-4da7-81b5-aa769f6acb4e",
        "colab": {
          "base_uri": "https://localhost:8080/"
        }
      },
      "outputs": [
        {
          "output_type": "stream",
          "name": "stdout",
          "text": [
            "Mejores parámetros: {'n_estimators': 30, 'max_samples': 0.75, 'max_features': 1.0}\n",
            "Mejor métrica: 0.8273520388734121\n"
          ]
        }
      ],
      "source": [
        "print('Mejores parámetros: {}'.format(rand_svm.best_params_))\n",
        "print('Mejor métrica: {}'.format(rand_svm.best_score_))"
      ]
    },
    {
      "cell_type": "markdown",
      "source": [
        "Obtenemos las predicciones del modelo"
      ],
      "metadata": {
        "id": "EzwxPcZx9tk8"
      }
    },
    {
      "cell_type": "code",
      "execution_count": 24,
      "metadata": {
        "id": "wjhbABk1_mXK"
      },
      "outputs": [],
      "source": [
        "y_pred = rand_svm.best_estimator_.predict(x_test)"
      ]
    },
    {
      "cell_type": "markdown",
      "source": [
        "### Métricas"
      ],
      "metadata": {
        "id": "Bac9HKc49zwq"
      }
    },
    {
      "cell_type": "markdown",
      "source": [
        "Ahora vemos que tan bien performa el modelo calculando las métricas y mostrando la matriz de confusion"
      ],
      "metadata": {
        "id": "VETFgZ5pCIET"
      }
    },
    {
      "cell_type": "code",
      "execution_count": 25,
      "metadata": {
        "id": "dhvR7_UMmyJz",
        "outputId": "1d8fd0e8-5a16-45ad-ccce-ba3213e7d5dc",
        "colab": {
          "base_uri": "https://localhost:8080/"
        }
      },
      "outputs": [
        {
          "output_type": "stream",
          "name": "stdout",
          "text": [
            "Accuracy: 0.8272898368883312\n",
            "Recall: 0.836211149481993\n",
            "Precision: 0.8263254113345521\n",
            "f1 score: 0.8312388892294489\n"
          ]
        }
      ],
      "source": [
        "accuracy = accuracy_score(y_test, y_pred)\n",
        "recall = recall_score(y_test, y_pred)\n",
        "f1 = f1_score(y_test, y_pred)\n",
        "precision = precision_score(y_test, y_pred)\n",
        "\n",
        "print(\"Accuracy: \"+str(accuracy))\n",
        "print(\"Recall: \"+str(recall))\n",
        "print(\"Precision: \"+str(precision))\n",
        "print(\"f1 score: \"+str(f1))"
      ]
    },
    {
      "cell_type": "code",
      "execution_count": 26,
      "metadata": {
        "id": "lV9_6aV-myJ0",
        "outputId": "80df6e87-4f0d-4a19-c989-c1e38bc24648",
        "colab": {
          "base_uri": "https://localhost:8080/"
        }
      },
      "outputs": [
        {
          "output_type": "stream",
          "name": "stdout",
          "text": [
            "              precision    recall  f1-score   support\n",
            "\n",
            "           0       0.83      0.82      0.82      7832\n",
            "           1       0.83      0.84      0.83      8108\n",
            "\n",
            "    accuracy                           0.83     15940\n",
            "   macro avg       0.83      0.83      0.83     15940\n",
            "weighted avg       0.83      0.83      0.83     15940\n",
            "\n"
          ]
        }
      ],
      "source": [
        "#Reporte de Clasificación\n",
        "print(classification_report(y_test,y_pred))"
      ]
    },
    {
      "cell_type": "code",
      "execution_count": 27,
      "metadata": {
        "id": "KRMebwx6myJ0",
        "outputId": "3678b9a1-3195-46d9-97f4-dcf01cab22b8",
        "colab": {
          "base_uri": "https://localhost:8080/",
          "height": 449
        }
      },
      "outputs": [
        {
          "output_type": "display_data",
          "data": {
            "text/plain": [
              "<Figure size 640x480 with 2 Axes>"
            ],
            "image/png": "[encoded data removed]"
          },
          "metadata": {}
        }
      ],
      "source": [
        "#Matriz de Confusión\n",
        "cm = confusion_matrix(y_test,y_pred)\n",
        "sns.heatmap(cm, cmap='Blues',annot=True,fmt='g')\n",
        "plt.xlabel('Predicted')\n",
        "plt.ylabel('True')\n",
        "plt.show()"
      ]
    },
    {
      "cell_type": "markdown",
      "metadata": {
        "id": "d7Kkobdj_mXN"
      },
      "source": [
        "### Submission y conclusiones"
      ]
    },
    {
      "cell_type": "markdown",
      "source": [
        "Guardamos el modelo"
      ],
      "metadata": {
        "id": "QzNHRgn99aCK"
      }
    },
    {
      "cell_type": "code",
      "execution_count": 29,
      "metadata": {
        "id": "kzl9MwCd_mXL"
      },
      "outputs": [],
      "source": [
        "pickle.dump(rand_svm.best_estimator_, open('svm_grupo29.pickle', 'wb'))"
      ]
    },
    {
      "cell_type": "markdown",
      "source": [
        "Y la submission para subir a Kaggle"
      ],
      "metadata": {
        "id": "cU_V2x1Z9dWN"
      }
    },
    {
      "cell_type": "code",
      "execution_count": 30,
      "metadata": {
        "id": "vsh2vrYy_mXO"
      },
      "outputs": [],
      "source": [
        "X_submission_svm = test\n",
        "y_pred_test_svm = rand_svm.best_estimator_.predict(X_submission_svm)\n",
        "df_submission_svm = pd.DataFrame({'id': original_test['id'], 'is_canceled': y_pred_test_svm})\n",
        "df_submission_svm.to_csv('svm02.csv', index=False)"
      ]
    },
    {
      "cell_type": "markdown",
      "metadata": {
        "id": "uGiYHZUd_mXO"
      },
      "source": [
        "# Random Forest"
      ]
    },
    {
      "cell_type": "markdown",
      "source": [
        "Creamos un modelo base con sus parámetros por defecto"
      ],
      "metadata": {
        "id": "vZlOLXSVJ1Na"
      }
    },
    {
      "cell_type": "code",
      "execution_count": null,
      "metadata": {
        "id": "OoN35hZq_mXO"
      },
      "outputs": [],
      "source": [
        "modelo_rf = RandomForestClassifier()\n",
        "modelo_rf.fit(x_train, y_train)\n",
        "  \n",
        "y_pred = modelo_rf.predict(x_test)"
      ]
    },
    {
      "cell_type": "code",
      "execution_count": null,
      "metadata": {
        "id": "RmpSuHw5_mXP",
        "outputId": "4070e1bc-70dd-4e23-ba02-b01ddc09ce6e"
      },
      "outputs": [
        {
          "name": "stdout",
          "output_type": "stream",
          "text": [
            "Accuracy: 0.8741530740276036\n",
            "f1 score: 0.8746719980007497\n"
          ]
        }
      ],
      "source": [
        "accuracy = accuracy_score(y_test, y_pred)\n",
        "f1 = f1_score(y_test, y_pred)\n",
        "\n",
        "print(\"Accuracy: \"+str(accuracy))\n",
        "print(\"f1 score: \"+str(f1))"
      ]
    },
    {
      "cell_type": "markdown",
      "metadata": {
        "id": "z4qWzeUe_mXP"
      },
      "source": [
        "### Random Search Cross Validation"
      ]
    },
    {
      "cell_type": "markdown",
      "source": [
        "Ahora tratamos de mejorar el modelo base mediante búsqueda de hiperparámetros con Random Search cross validation con 10 folds"
      ],
      "metadata": {
        "id": "21CykOF9J9ar"
      }
    },
    {
      "cell_type": "code",
      "execution_count": null,
      "metadata": {
        "colab": {
          "base_uri": "https://localhost:8080/"
        },
        "id": "Xm4kzlqo_mXQ",
        "outputId": "ccc1138c-3753-4fb8-a4e1-adbfa022a6b8"
      },
      "outputs": [
        {
          "name": "stdout",
          "output_type": "stream",
          "text": [
            "Fitting 10 folds for each of 5 candidates, totalling 50 fits\n",
            "[CV] END max_depth=None, max_samples=1.0, min_samples_split=3, n_estimators=130; total time=   8.1s\n",
            "[CV] END max_depth=None, max_samples=1.0, min_samples_split=3, n_estimators=130; total time=   8.9s\n",
            "[CV] END max_depth=None, max_samples=1.0, min_samples_split=3, n_estimators=130; total time=   8.8s\n",
            "[CV] END max_depth=None, max_samples=1.0, min_samples_split=3, n_estimators=130; total time=   7.9s\n",
            "[CV] END max_depth=None, max_samples=1.0, min_samples_split=3, n_estimators=130; total time=   8.8s\n",
            "[CV] END max_depth=None, max_samples=1.0, min_samples_split=3, n_estimators=130; total time=   8.8s\n",
            "[CV] END max_depth=None, max_samples=1.0, min_samples_split=3, n_estimators=130; total time=   7.8s\n",
            "[CV] END max_depth=None, max_samples=1.0, min_samples_split=3, n_estimators=130; total time=   9.3s\n",
            "[CV] END max_depth=None, max_samples=1.0, min_samples_split=3, n_estimators=130; total time=   9.4s\n",
            "[CV] END max_depth=None, max_samples=1.0, min_samples_split=3, n_estimators=130; total time=   7.8s\n",
            "[CV] END max_depth=None, max_samples=0.5, min_samples_split=9, n_estimators=100; total time=   5.7s\n",
            "[CV] END max_depth=None, max_samples=0.5, min_samples_split=9, n_estimators=100; total time=   3.6s\n",
            "[CV] END max_depth=None, max_samples=0.5, min_samples_split=9, n_estimators=100; total time=   3.5s\n",
            "[CV] END max_depth=None, max_samples=0.5, min_samples_split=9, n_estimators=100; total time=   4.5s\n",
            "[CV] END max_depth=None, max_samples=0.5, min_samples_split=9, n_estimators=100; total time=   3.5s\n",
            "[CV] END max_depth=None, max_samples=0.5, min_samples_split=9, n_estimators=100; total time=   3.6s\n",
            "[CV] END max_depth=None, max_samples=0.5, min_samples_split=9, n_estimators=100; total time=   4.5s\n",
            "[CV] END max_depth=None, max_samples=0.5, min_samples_split=9, n_estimators=100; total time=   3.6s\n",
            "[CV] END max_depth=None, max_samples=0.5, min_samples_split=9, n_estimators=100; total time=   3.6s\n",
            "[CV] END max_depth=None, max_samples=0.5, min_samples_split=9, n_estimators=100; total time=   5.3s\n",
            "[CV] END max_depth=None, max_samples=0.75, min_samples_split=5, n_estimators=30; total time=   1.5s\n",
            "[CV] END max_depth=None, max_samples=0.75, min_samples_split=5, n_estimators=30; total time=   1.5s\n",
            "[CV] END max_depth=None, max_samples=0.75, min_samples_split=5, n_estimators=30; total time=   1.5s\n",
            "[CV] END max_depth=None, max_samples=0.75, min_samples_split=5, n_estimators=30; total time=   1.5s\n",
            "[CV] END max_depth=None, max_samples=0.75, min_samples_split=5, n_estimators=30; total time=   1.5s\n",
            "[CV] END max_depth=None, max_samples=0.75, min_samples_split=5, n_estimators=30; total time=   1.5s\n",
            "[CV] END max_depth=None, max_samples=0.75, min_samples_split=5, n_estimators=30; total time=   1.7s\n",
            "[CV] END max_depth=None, max_samples=0.75, min_samples_split=5, n_estimators=30; total time=   2.2s\n",
            "[CV] END max_depth=None, max_samples=0.75, min_samples_split=5, n_estimators=30; total time=   1.5s\n",
            "[CV] END max_depth=None, max_samples=0.75, min_samples_split=5, n_estimators=30; total time=   1.5s\n",
            "[CV] END max_depth=None, max_samples=0.625, min_samples_split=9, n_estimators=110; total time=   4.5s\n",
            "[CV] END max_depth=None, max_samples=0.625, min_samples_split=9, n_estimators=110; total time=   5.5s\n",
            "[CV] END max_depth=None, max_samples=0.625, min_samples_split=9, n_estimators=110; total time=   4.4s\n",
            "[CV] END max_depth=None, max_samples=0.625, min_samples_split=9, n_estimators=110; total time=   4.5s\n",
            "[CV] END max_depth=None, max_samples=0.625, min_samples_split=9, n_estimators=110; total time=   5.4s\n",
            "[CV] END max_depth=None, max_samples=0.625, min_samples_split=9, n_estimators=110; total time=   4.4s\n",
            "[CV] END max_depth=None, max_samples=0.625, min_samples_split=9, n_estimators=110; total time=   5.1s\n",
            "[CV] END max_depth=None, max_samples=0.625, min_samples_split=9, n_estimators=110; total time=   4.8s\n",
            "[CV] END max_depth=None, max_samples=0.625, min_samples_split=9, n_estimators=110; total time=   4.4s\n",
            "[CV] END max_depth=None, max_samples=0.625, min_samples_split=9, n_estimators=110; total time=   5.4s\n",
            "[CV] END max_depth=None, max_samples=0.5, min_samples_split=7, n_estimators=80; total time=   2.8s\n",
            "[CV] END max_depth=None, max_samples=0.5, min_samples_split=7, n_estimators=80; total time=   2.8s\n",
            "[CV] END max_depth=None, max_samples=0.5, min_samples_split=7, n_estimators=80; total time=   2.8s\n",
            "[CV] END max_depth=None, max_samples=0.5, min_samples_split=7, n_estimators=80; total time=   3.8s\n",
            "[CV] END max_depth=None, max_samples=0.5, min_samples_split=7, n_estimators=80; total time=   2.9s\n",
            "[CV] END max_depth=None, max_samples=0.5, min_samples_split=7, n_estimators=80; total time=   2.8s\n",
            "[CV] END max_depth=None, max_samples=0.5, min_samples_split=7, n_estimators=80; total time=   2.8s\n",
            "[CV] END max_depth=None, max_samples=0.5, min_samples_split=7, n_estimators=80; total time=   3.8s\n",
            "[CV] END max_depth=None, max_samples=0.5, min_samples_split=7, n_estimators=80; total time=   2.8s\n",
            "[CV] END max_depth=None, max_samples=0.5, min_samples_split=7, n_estimators=80; total time=   2.9s\n"
          ]
        },
        {
          "data": {
            "text/plain": [
              "array([0.87764186, 0.87255552, 0.87143985, 0.87335465, 0.87248101])"
            ]
          },
          "execution_count": 7,
          "metadata": {},
          "output_type": "execute_result"
        }
      ],
      "source": [
        "#Cantidad de combinaciones que quiero probar\n",
        "n=5\n",
        "\n",
        "#Grilla de Parámetros\n",
        "params_grid={ 'n_estimators':      list(range(10,161,10)),\n",
        "                'min_samples_split': list(range(2,15)),\n",
        "                'max_depth':         [None],\n",
        "                'max_samples':       np.linspace(0.5,1,n)\n",
        "             }\n",
        "                \n",
        "#Cantidad de splits para el Cross Validation\n",
        "folds=10\n",
        "\n",
        "#Kfold estratificado\n",
        "kfoldcv = StratifiedKFold(n_splits=folds, shuffle=True, random_state=RANDOM_STATE)\n",
        "\n",
        "#Clasificador\n",
        "modelo_rf = RandomForestClassifier(random_state=RANDOM_STATE)\n",
        "\n",
        "# Metrica que quiero optimizar F1 Score\n",
        "scorer_fn = make_scorer(sk.metrics.f1_score)\n",
        "\n",
        "#Random Search Cross Validation\n",
        "rand_rf = RandomizedSearchCV(estimator = modelo_rf,\n",
        "                              param_distributions = params_grid,\n",
        "                              scoring = scorer_fn,\n",
        "                              cv = kfoldcv,\n",
        "                              n_iter = n,\n",
        "                              random_state=RANDOM_STATE, verbose=2) \n",
        "\n",
        "rand_rf.fit(x_train, y_train)\n",
        "rand_rf.cv_results_['mean_test_score']"
      ]
    },
    {
      "cell_type": "code",
      "execution_count": null,
      "metadata": {
        "colab": {
          "base_uri": "https://localhost:8080/"
        },
        "id": "fWXUbmj9_mXQ",
        "outputId": "e1d2f304-74c1-4e8c-fa02-0a43e5aea24e"
      },
      "outputs": [
        {
          "name": "stdout",
          "output_type": "stream",
          "text": [
            "Mejores parámetros: {'n_estimators': 130, 'min_samples_split': 3, 'max_samples': 1.0, 'max_depth': None}\n",
            "Mejor métrica: 0.8776418629671225\n"
          ]
        }
      ],
      "source": [
        "print('Mejores parámetros: {}'.format(rand_rf.best_params_))\n",
        "print('Mejor métrica: {}'.format(rand_rf.best_score_))"
      ]
    },
    {
      "cell_type": "code",
      "execution_count": null,
      "metadata": {
        "id": "GRSt8oMV_mXR"
      },
      "outputs": [],
      "source": [
        "rf = RandomForestClassifier(random_state=RANDOM_STATE).set_params(**rand_rf.best_params_)\n",
        "modelo_rf = rf.fit(x_train, y_train)\n",
        "y_pred = modelo_rf.predict(x_test)"
      ]
    },
    {
      "cell_type": "code",
      "execution_count": null,
      "metadata": {
        "colab": {
          "base_uri": "https://localhost:8080/"
        },
        "id": "FwcjzKIl_mXS",
        "outputId": "499df560-4dba-4d52-cc59-12d45612f3fb"
      },
      "outputs": [
        {
          "name": "stdout",
          "output_type": "stream",
          "text": [
            "Best Training Accuracy: 0.9954291245429124\n",
            "Best Testing Accuracy: 0.8806148055207026\n"
          ]
        }
      ],
      "source": [
        "print(f'Best Training Accuracy: {modelo_rf.score(x_train, y_train)}')\n",
        "print(f'Best Testing Accuracy: {modelo_rf.score(x_test, y_test)}')"
      ]
    },
    {
      "cell_type": "markdown",
      "metadata": {
        "id": "vI7xa26f_mXS"
      },
      "source": [
        "### Métricas"
      ]
    },
    {
      "cell_type": "markdown",
      "source": [
        "Vemos que tan bueno es el modelo, calculando las métricas y la matriz de confusion"
      ],
      "metadata": {
        "id": "jCvIlsNoKNXf"
      }
    },
    {
      "cell_type": "code",
      "execution_count": null,
      "metadata": {
        "colab": {
          "base_uri": "https://localhost:8080/"
        },
        "id": "5FeYPCZG_mXT",
        "outputId": "5d217028-b197-46c4-c769-fa8c4d64973b"
      },
      "outputs": [
        {
          "name": "stdout",
          "output_type": "stream",
          "text": [
            "Accuracy: 0.8806148055207026\n",
            "Recall: 0.8771583621114948\n",
            "Precision: 0.8868936276343684\n",
            "f1 score: 0.8819991318906182\n"
          ]
        }
      ],
      "source": [
        "accuracy = accuracy_score(y_test, y_pred)\n",
        "recall = recall_score(y_test, y_pred)\n",
        "f1 = f1_score(y_test, y_pred,)\n",
        "precision = precision_score(y_test, y_pred)\n",
        "\n",
        "print(\"Accuracy: \"+str(accuracy))\n",
        "print(\"Recall: \"+str(recall))\n",
        "print(\"Precision: \"+str(precision))\n",
        "print(\"f1 score: \"+str(f1))"
      ]
    },
    {
      "cell_type": "code",
      "execution_count": null,
      "metadata": {
        "colab": {
          "base_uri": "https://localhost:8080/"
        },
        "id": "p6Xm-Jy0_mXT",
        "outputId": "ab24e4b1-a6d1-46a0-c2fc-444e5b9fbbda"
      },
      "outputs": [
        {
          "name": "stdout",
          "output_type": "stream",
          "text": [
            "              precision    recall  f1-score   support\n",
            "\n",
            "           0       0.87      0.88      0.88      7832\n",
            "           1       0.89      0.88      0.88      8108\n",
            "\n",
            "    accuracy                           0.88     15940\n",
            "   macro avg       0.88      0.88      0.88     15940\n",
            "weighted avg       0.88      0.88      0.88     15940\n",
            "\n"
          ]
        }
      ],
      "source": [
        "#Reporte de Clasificación\n",
        "print(classification_report(y_test,y_pred))"
      ]
    },
    {
      "cell_type": "code",
      "execution_count": null,
      "metadata": {
        "colab": {
          "base_uri": "https://localhost:8080/"
        },
        "id": "O7qWWQ0H_mXU",
        "outputId": "0a3a97de-2051-4cfd-ea8c-c94bd1208740"
      },
      "outputs": [
        {
          "name": "stdout",
          "output_type": "stream",
          "text": [
            "              precision    recall  f1-score   support\n",
            "\n",
            "           0       1.00      0.99      1.00     18275\n",
            "           1       0.99      1.00      1.00     18917\n",
            "\n",
            "    accuracy                           1.00     37192\n",
            "   macro avg       1.00      1.00      1.00     37192\n",
            "weighted avg       1.00      1.00      1.00     37192\n",
            "\n"
          ]
        }
      ],
      "source": [
        "print(classification_report(y_train, modelo_rf.predict(x_train)))"
      ]
    },
    {
      "cell_type": "code",
      "execution_count": null,
      "metadata": {
        "colab": {
          "base_uri": "https://localhost:8080/",
          "height": 449
        },
        "id": "VCRabf3V_mXU",
        "outputId": "707d7ecd-5c93-4545-a181-d7635935d405"
      },
      "outputs": [
        {
          "data": {
            "image/png": "[encoded data removed]",
            "text/plain": [
              "<Figure size 640x480 with 2 Axes>"
            ]
          },
          "metadata": {},
          "output_type": "display_data"
        }
      ],
      "source": [
        "#Matriz de Confusión\n",
        "cm = confusion_matrix(y_test,y_pred)\n",
        "sns.heatmap(cm, cmap='Blues',annot=True,fmt='g')\n",
        "plt.xlabel('Predicted')\n",
        "plt.ylabel('True')\n",
        "plt.show()"
      ]
    },
    {
      "cell_type": "markdown",
      "metadata": {
        "id": "PqVFSFLP_mXV"
      },
      "source": [
        "### Visualizacion del árbol y feature importance"
      ]
    },
    {
      "cell_type": "markdown",
      "source": [
        "Podemos ver que features son importantes para el modelo ordenadas de mayor a menos importancia"
      ],
      "metadata": {
        "id": "LgA9-3vIKYOT"
      }
    },
    {
      "cell_type": "code",
      "execution_count": null,
      "metadata": {
        "colab": {
          "base_uri": "https://localhost:8080/"
        },
        "id": "xc3go0zM_mXV",
        "outputId": "32e8b108-38c7-42f2-e73a-b8a2083ceb89"
      },
      "outputs": [
        {
          "name": "stdout",
          "output_type": "stream",
          "text": [
            "lead_time: 0.09424247011041242\n",
            "country_PRT: 0.07725692538975933\n",
            "deposit_type_Non Refund: 0.05498718429458808\n",
            "total_of_special_requests: 0.052572140870440105\n",
            "adr: 0.0500707741752953\n",
            "deposit_type_No Deposit: 0.04906966582679281\n",
            "stays_in_week_nights: 0.025075279637032877\n",
            "required_car_parking_spaces: 0.021182238709646528\n",
            "previous_cancellations: 0.019662077260996287\n",
            "booking_changes: 0.019226724222215812\n",
            "market_segment_Online TA: 0.017735133930335472\n",
            "agent_10000: 0.017423472898257776\n",
            "agent_9: 0.01660767900863189\n",
            "stays_in_weekend_nights: 0.016386730968183945\n",
            "customer_type_Transient: 0.01445066425000167\n",
            "assigned_room_type_A: 0.013550622227748351\n",
            "customer_type_Transient-Party: 0.01256027460621416\n",
            "market_segment_Groups: 0.01213664025144553\n"
          ]
        }
      ],
      "source": [
        "feat_imps = rf.feature_importances_\n",
        "\n",
        "for feat_imp,feat in sorted(zip(feat_imps,x.columns), reverse=True):\n",
        "  if feat_imp > 0.01:\n",
        "    print('{}: {}'.format(feat,feat_imp))"
      ]
    },
    {
      "cell_type": "code",
      "execution_count": null,
      "metadata": {
        "colab": {
          "base_uri": "https://localhost:8080/",
          "height": 449
        },
        "id": "tlJi5adF_mXW",
        "outputId": "96a7317d-b49c-454c-8660-73af8d318171"
      },
      "outputs": [
        {
          "data": {
            "image/png": "[encoded data removed]",
            "text/plain": [
              "<Figure size 640x480 with 1 Axes>"
            ]
          },
          "metadata": {},
          "output_type": "display_data"
        }
      ],
      "source": [
        "feat_imp_df = pd.DataFrame({'feature':x.columns,'importance':feat_imps})\n",
        "feat_imp_df = feat_imp_df[feat_imp_df['importance']>0.01]\n",
        "feat_imp_df = feat_imp_df.sort_values(by='importance',ascending=False)\n",
        "sns.barplot(x='importance',y='feature',data=feat_imp_df)\n",
        "plt.show()"
      ]
    },
    {
      "cell_type": "markdown",
      "source": [
        "Graficamos una porcion representativa de uno de los estimadores de nuestro modelo de Random Forest"
      ],
      "metadata": {
        "id": "oEZPbEQFKjS9"
      }
    },
    {
      "cell_type": "code",
      "execution_count": null,
      "metadata": {
        "colab": {
          "base_uri": "https://localhost:8080/",
          "height": 1000
        },
        "id": "tlSJC0sc_mXW",
        "outputId": "669ac57a-af4f-4176-a303-af43a53491a0"
      },
      "outputs": [
        {
          "data": {
            "image/png": "[encoded data removed]",
            "text/plain": [
              "<Figure size 1500x1500 with 1 Axes>"
            ]
          },
          "metadata": {},
          "output_type": "display_data"
        }
      ],
      "source": [
        "plt.figure(figsize=(15, 15))\n",
        "\n",
        "tree_plot = plot_tree(modelo_rf.estimators_[0],\n",
        "                           max_depth=2,\n",
        "                           feature_names=x.columns.to_list(),\n",
        "                           filled=True,\n",
        "                           rounded=True,\n",
        "                           class_names=['Not Canceled', 'Canceled'])\n",
        "plt.show(tree_plot)"
      ]
    },
    {
      "cell_type": "markdown",
      "metadata": {
        "id": "5XFqhcda_mXX"
      },
      "source": [
        "### Submission"
      ]
    },
    {
      "cell_type": "markdown",
      "source": [
        "Guardamos el modelo en un archivo .pickle"
      ],
      "metadata": {
        "id": "ejtDhuPFKrdf"
      }
    },
    {
      "cell_type": "code",
      "execution_count": null,
      "metadata": {
        "id": "Qs-STWomppze"
      },
      "outputs": [],
      "source": [
        "pickle.dump(modelo_rf, open('rf_grupo29.pickle', 'wb'))"
      ]
    },
    {
      "cell_type": "markdown",
      "source": [
        "Y el .csv para subir a Kaggle"
      ],
      "metadata": {
        "id": "vjDGnVcbKuAp"
      }
    },
    {
      "cell_type": "code",
      "execution_count": null,
      "metadata": {
        "id": "h1FUqr_O_mXX"
      },
      "outputs": [],
      "source": [
        "X_submission_rf = test.select_dtypes(exclude=['object'])\n",
        "y_pred_test_rf = modelo_rf.predict(X_submission_rf)\n",
        "df_submission_rf = pd.DataFrame({'id': original_test['id'], 'is_canceled': y_pred_test_rf})\n",
        "df_submission_rf.to_csv('rf02.csv', index=False)"
      ]
    },
    {
      "cell_type": "markdown",
      "metadata": {
        "id": "H-kmk14q_mXX"
      },
      "source": [
        "# XGBoost"
      ]
    },
    {
      "cell_type": "markdown",
      "metadata": {
        "id": "KfVkP8vdmyKG"
      },
      "source": [
        "### Modelo con parámetros por default"
      ]
    },
    {
      "cell_type": "markdown",
      "source": [
        "Creamos un modelo base con sus parámetros por defecto"
      ],
      "metadata": {
        "id": "uBsInc3wK7Bj"
      }
    },
    {
      "cell_type": "code",
      "execution_count": null,
      "metadata": {
        "id": "tvpk2qUXmyKG"
      },
      "outputs": [],
      "source": [
        "modelo_xgb = XGBClassifier(random_state=RANDOM_STATE)\n",
        "modelo_xgb.fit(x_train, y_train)\n",
        "y_pred = modelo_xgb.predict(x_test)"
      ]
    },
    {
      "cell_type": "code",
      "execution_count": null,
      "metadata": {
        "colab": {
          "base_uri": "https://localhost:8080/"
        },
        "id": "BRplVGn1myKG",
        "outputId": "d93cf27d-f80a-4d3e-c54c-cbd73c43709f"
      },
      "outputs": [
        {
          "name": "stdout",
          "output_type": "stream",
          "text": [
            "Accuracy: 0.8718946047678795\n",
            "f1 score: 0.8751223091976518\n"
          ]
        }
      ],
      "source": [
        "accuracy = accuracy_score(y_test, y_pred)\n",
        "f1 = f1_score(y_test, y_pred)\n",
        "\n",
        "print(\"Accuracy: \"+str(accuracy))\n",
        "print(\"f1 score: \"+str(f1))"
      ]
    },
    {
      "cell_type": "code",
      "execution_count": null,
      "metadata": {
        "colab": {
          "base_uri": "https://localhost:8080/"
        },
        "id": "Pvq0YzQrmyKH",
        "outputId": "e843e184-9a10-464f-a273-3167f65a6f42"
      },
      "outputs": [
        {
          "name": "stdout",
          "output_type": "stream",
          "text": [
            "Best Training Accuracy: 0.9065659281565929\n",
            "Best Testing Accuracy: 0.8718946047678795\n"
          ]
        }
      ],
      "source": [
        "print(f'Best Training Accuracy: {modelo_xgb.score(x_train, y_train)}')\n",
        "print(f'Best Testing Accuracy: {modelo_xgb.score(x_test, y_test)}')"
      ]
    },
    {
      "cell_type": "markdown",
      "source": [
        "Podemos ver que el modelo base ya performa muy bien pero vamos a buscar hiperparámetros igualmente"
      ],
      "metadata": {
        "id": "gqp3icppK_8V"
      }
    },
    {
      "cell_type": "markdown",
      "metadata": {
        "id": "554tC5tDmyKH"
      },
      "source": [
        "### Random Search Cross Validation"
      ]
    },
    {
      "cell_type": "markdown",
      "source": [
        "Hacemos búsqueda de hiperparámetros mediante Random Search cross validation con 5 folds"
      ],
      "metadata": {
        "id": "qRwxHb5dLFyX"
      }
    },
    {
      "cell_type": "code",
      "execution_count": null,
      "metadata": {
        "colab": {
          "base_uri": "https://localhost:8080/"
        },
        "id": "L8gbQzZWmyKI",
        "outputId": "feb5ffc9-4175-42fb-9dfc-1779314cd196"
      },
      "outputs": [
        {
          "name": "stdout",
          "output_type": "stream",
          "text": [
            "Fitting 5 folds for each of 10 candidates, totalling 50 fits\n",
            "[CV] END alpha=1, gamma=2, lambda=2, learning_rate=0.1969387755102041, max_depth=8, n_estimators=120, subsample=0.5263157894736842; total time=  46.8s\n",
            "[CV] END alpha=1, gamma=2, lambda=2, learning_rate=0.1969387755102041, max_depth=8, n_estimators=120, subsample=0.5263157894736842; total time=  48.3s\n",
            "[CV] END alpha=1, gamma=2, lambda=2, learning_rate=0.1969387755102041, max_depth=8, n_estimators=120, subsample=0.5263157894736842; total time=  45.2s\n",
            "[CV] END alpha=1, gamma=2, lambda=2, learning_rate=0.1969387755102041, max_depth=8, n_estimators=120, subsample=0.5263157894736842; total time=  46.9s\n",
            "[CV] END alpha=1, gamma=2, lambda=2, learning_rate=0.1969387755102041, max_depth=8, n_estimators=120, subsample=0.5263157894736842; total time=  48.6s\n",
            "[CV] END alpha=2, gamma=1, lambda=0, learning_rate=0.3346938775510204, max_depth=4, n_estimators=160, subsample=0.3684210526315789; total time=  25.6s\n",
            "[CV] END alpha=2, gamma=1, lambda=0, learning_rate=0.3346938775510204, max_depth=4, n_estimators=160, subsample=0.3684210526315789; total time=  25.8s\n",
            "[CV] END alpha=2, gamma=1, lambda=0, learning_rate=0.3346938775510204, max_depth=4, n_estimators=160, subsample=0.3684210526315789; total time=  26.0s\n",
            "[CV] END alpha=2, gamma=1, lambda=0, learning_rate=0.3346938775510204, max_depth=4, n_estimators=160, subsample=0.3684210526315789; total time=  26.4s\n",
            "[CV] END alpha=2, gamma=1, lambda=0, learning_rate=0.3346938775510204, max_depth=4, n_estimators=160, subsample=0.3684210526315789; total time=  25.7s\n",
            "[CV] END alpha=1, gamma=2, lambda=2, learning_rate=0.23367346938775513, max_depth=7, n_estimators=150, subsample=0.21052631578947367; total time=  32.2s\n",
            "[CV] END alpha=1, gamma=2, lambda=2, learning_rate=0.23367346938775513, max_depth=7, n_estimators=150, subsample=0.21052631578947367; total time=  30.4s\n",
            "[CV] END alpha=1, gamma=2, lambda=2, learning_rate=0.23367346938775513, max_depth=7, n_estimators=150, subsample=0.21052631578947367; total time=  31.9s\n",
            "[CV] END alpha=1, gamma=2, lambda=2, learning_rate=0.23367346938775513, max_depth=7, n_estimators=150, subsample=0.21052631578947367; total time=  30.2s\n",
            "[CV] END alpha=1, gamma=2, lambda=2, learning_rate=0.23367346938775513, max_depth=7, n_estimators=150, subsample=0.21052631578947367; total time=  31.9s\n",
            "[CV] END alpha=2, gamma=0, lambda=0, learning_rate=0.23367346938775513, max_depth=5, n_estimators=90, subsample=0.5263157894736842; total time=  19.8s\n",
            "[CV] END alpha=2, gamma=0, lambda=0, learning_rate=0.23367346938775513, max_depth=5, n_estimators=90, subsample=0.5263157894736842; total time=  21.4s\n",
            "[CV] END alpha=2, gamma=0, lambda=0, learning_rate=0.23367346938775513, max_depth=5, n_estimators=90, subsample=0.5263157894736842; total time=  21.3s\n",
            "[CV] END alpha=2, gamma=0, lambda=0, learning_rate=0.23367346938775513, max_depth=5, n_estimators=90, subsample=0.5263157894736842; total time=  19.7s\n",
            "[CV] END alpha=2, gamma=0, lambda=0, learning_rate=0.23367346938775513, max_depth=5, n_estimators=90, subsample=0.5263157894736842; total time=  21.4s\n",
            "[CV] END alpha=1, gamma=1, lambda=1, learning_rate=0.1510204081632653, max_depth=3, n_estimators=140, subsample=0.15789473684210525; total time=  12.4s\n",
            "[CV] END alpha=1, gamma=1, lambda=1, learning_rate=0.1510204081632653, max_depth=3, n_estimators=140, subsample=0.15789473684210525; total time=  12.3s\n",
            "[CV] END alpha=1, gamma=1, lambda=1, learning_rate=0.1510204081632653, max_depth=3, n_estimators=140, subsample=0.15789473684210525; total time=  12.3s\n",
            "[CV] END alpha=1, gamma=1, lambda=1, learning_rate=0.1510204081632653, max_depth=3, n_estimators=140, subsample=0.15789473684210525; total time=  12.4s\n",
            "[CV] END alpha=1, gamma=1, lambda=1, learning_rate=0.1510204081632653, max_depth=3, n_estimators=140, subsample=0.15789473684210525; total time=  12.3s\n",
            "[CV] END alpha=0, gamma=0, lambda=0, learning_rate=0.4448979591836735, max_depth=2, n_estimators=100, subsample=0.42105263157894735; total time=   9.2s\n",
            "[CV] END alpha=0, gamma=0, lambda=0, learning_rate=0.4448979591836735, max_depth=2, n_estimators=100, subsample=0.42105263157894735; total time=   9.0s\n",
            "[CV] END alpha=0, gamma=0, lambda=0, learning_rate=0.4448979591836735, max_depth=2, n_estimators=100, subsample=0.42105263157894735; total time=  10.1s\n",
            "[CV] END alpha=0, gamma=0, lambda=0, learning_rate=0.4448979591836735, max_depth=2, n_estimators=100, subsample=0.42105263157894735; total time=  10.0s\n",
            "[CV] END alpha=0, gamma=0, lambda=0, learning_rate=0.4448979591836735, max_depth=2, n_estimators=100, subsample=0.42105263157894735; total time=   9.4s\n",
            "[CV] END alpha=0, gamma=1, lambda=2, learning_rate=0.3806122448979592, max_depth=2, n_estimators=20, subsample=0.0; total time=   1.4s\n",
            "[CV] END alpha=0, gamma=1, lambda=2, learning_rate=0.3806122448979592, max_depth=2, n_estimators=20, subsample=0.0; total time=   0.9s\n",
            "[CV] END alpha=0, gamma=1, lambda=2, learning_rate=0.3806122448979592, max_depth=2, n_estimators=20, subsample=0.0; total time=   0.9s\n",
            "[CV] END alpha=0, gamma=1, lambda=2, learning_rate=0.3806122448979592, max_depth=2, n_estimators=20, subsample=0.0; total time=   0.9s\n",
            "[CV] END alpha=0, gamma=1, lambda=2, learning_rate=0.3806122448979592, max_depth=2, n_estimators=20, subsample=0.0; total time=   0.9s\n",
            "[CV] END alpha=2, gamma=2, lambda=1, learning_rate=0.05, max_depth=3, n_estimators=150, subsample=0.7368421052631579; total time=  19.4s\n",
            "[CV] END alpha=2, gamma=2, lambda=1, learning_rate=0.05, max_depth=3, n_estimators=150, subsample=0.7368421052631579; total time=  20.8s\n",
            "[CV] END alpha=2, gamma=2, lambda=1, learning_rate=0.05, max_depth=3, n_estimators=150, subsample=0.7368421052631579; total time=  20.9s\n",
            "[CV] END alpha=2, gamma=2, lambda=1, learning_rate=0.05, max_depth=3, n_estimators=150, subsample=0.7368421052631579; total time=  19.4s\n",
            "[CV] END alpha=2, gamma=2, lambda=1, learning_rate=0.05, max_depth=3, n_estimators=150, subsample=0.7368421052631579; total time=  20.9s\n",
            "[CV] END alpha=1, gamma=2, lambda=2, learning_rate=0.25204081632653064, max_depth=8, n_estimators=130, subsample=0.47368421052631576; total time=  46.3s\n",
            "[CV] END alpha=1, gamma=2, lambda=2, learning_rate=0.25204081632653064, max_depth=8, n_estimators=130, subsample=0.47368421052631576; total time=  44.6s\n",
            "[CV] END alpha=1, gamma=2, lambda=2, learning_rate=0.25204081632653064, max_depth=8, n_estimators=130, subsample=0.47368421052631576; total time=  46.2s\n",
            "[CV] END alpha=1, gamma=2, lambda=2, learning_rate=0.25204081632653064, max_depth=8, n_estimators=130, subsample=0.47368421052631576; total time=  44.9s\n",
            "[CV] END alpha=1, gamma=2, lambda=2, learning_rate=0.25204081632653064, max_depth=8, n_estimators=130, subsample=0.47368421052631576; total time=  46.1s\n",
            "[CV] END alpha=2, gamma=2, lambda=0, learning_rate=0.1326530612244898, max_depth=8, n_estimators=50, subsample=0.10526315789473684; total time=  10.0s\n",
            "[CV] END alpha=2, gamma=2, lambda=0, learning_rate=0.1326530612244898, max_depth=8, n_estimators=50, subsample=0.10526315789473684; total time=  10.1s\n",
            "[CV] END alpha=2, gamma=2, lambda=0, learning_rate=0.1326530612244898, max_depth=8, n_estimators=50, subsample=0.10526315789473684; total time=   8.4s\n",
            "[CV] END alpha=2, gamma=2, lambda=0, learning_rate=0.1326530612244898, max_depth=8, n_estimators=50, subsample=0.10526315789473684; total time=  10.0s\n",
            "[CV] END alpha=2, gamma=2, lambda=0, learning_rate=0.1326530612244898, max_depth=8, n_estimators=50, subsample=0.10526315789473684; total time=  10.0s\n"
          ]
        },
        {
          "data": {
            "text/plain": [
              "array([0.87000869, 0.86074654, 0.8613553 , 0.8662935 , 0.85083807,\n",
              "       0.85299663, 0.        , 0.83558883, 0.86701917, 0.85478763])"
            ]
          },
          "execution_count": 26,
          "metadata": {},
          "output_type": "execute_result"
        }
      ],
      "source": [
        "#Cantidad de combinaciones que quiero probar\n",
        "n=10\n",
        "\n",
        "#Grilla de Parámetros\n",
        "params_grid= {'learning_rate': np.linspace(0.05, 0.5, 50),\n",
        "                'gamma': [0,1,2],\n",
        "                'max_depth': list(range(2,10)),\n",
        "                'subsample': np.linspace(0, 1, 20),\n",
        "                'lambda': [0,1,2],\n",
        "                'alpha' : [1],\n",
        "                'n_estimators': list(range(10,161,10))\n",
        "              }\n",
        "folds = 5\n",
        "#Kfold estratificado\n",
        "kfoldcv = StratifiedKFold(n_splits=folds)\n",
        "\n",
        "#Clasificador\n",
        "xgb = XGBClassifier(random_state=RANDOM_STATE)\n",
        "\n",
        "# Metrica que quiero optimizar F1 Score\n",
        "scorer_fn = make_scorer(sk.metrics.f1_score)\n",
        "\n",
        "#Random Search Cross Validation\n",
        "rand_xgb = RandomizedSearchCV(estimator = xgb,\n",
        "                              param_distributions = params_grid,\n",
        "                              scoring = scorer_fn,\n",
        "                              cv=kfoldcv,\n",
        "                              n_iter = n,\n",
        "                              random_state=RANDOM_STATE, verbose=2) \n",
        "\n",
        "rand_xgb.fit(x_train, y_train)\n",
        "rand_xgb.cv_results_['mean_test_score']"
      ]
    },
    {
      "cell_type": "markdown",
      "source": [
        "Vemos los parámetros elegidos y el mejore score obtenidos"
      ],
      "metadata": {
        "id": "4PpfycmfLREl"
      }
    },
    {
      "cell_type": "code",
      "execution_count": null,
      "metadata": {
        "colab": {
          "base_uri": "https://localhost:8080/"
        },
        "id": "kE5mQTAVmyKI",
        "outputId": "85bd83a4-63d7-4b94-db8d-cce99b75603b"
      },
      "outputs": [
        {
          "name": "stdout",
          "output_type": "stream",
          "text": [
            "Mejores parámetros: {'subsample': 0.5263157894736842, 'n_estimators': 120, 'max_depth': 8, 'learning_rate': 0.1969387755102041, 'lambda': 2, 'gamma': 2, 'alpha': 1}\n",
            "Mejor métrica: 0.8700086861780193\n"
          ]
        }
      ],
      "source": [
        "print('Mejores parámetros: {}'.format(rand_xgb.best_params_))\n",
        "print('Mejor métrica: {}'.format(rand_xgb.best_score_))"
      ]
    },
    {
      "cell_type": "markdown",
      "source": [
        "Obtenemos las predicciones del modelo"
      ],
      "metadata": {
        "id": "qgBpmUIlLZMW"
      }
    },
    {
      "cell_type": "code",
      "execution_count": null,
      "metadata": {
        "id": "9aAocZAYmyKJ"
      },
      "outputs": [],
      "source": [
        "modelo_xgb = XGBClassifier(random_state=RANDOM_STATE).set_params(**rand_xgb.best_params_)\n",
        "modelo_xgb.fit(x_train, y_train)\n",
        "y_pred = modelo_xgb.predict(x_test)"
      ]
    },
    {
      "cell_type": "markdown",
      "metadata": {
        "id": "AlTTKEzjmyKJ"
      },
      "source": [
        "### Métricas"
      ]
    },
    {
      "cell_type": "markdown",
      "source": [
        "Evaluamos el modelo calculando las métricas y la matriz de confusion"
      ],
      "metadata": {
        "id": "jYmjJHJZLb2T"
      }
    },
    {
      "cell_type": "code",
      "execution_count": null,
      "metadata": {
        "colab": {
          "base_uri": "https://localhost:8080/"
        },
        "id": "VbLF_C4UmyKJ",
        "outputId": "76610dd6-11f6-4a2f-b06a-5a12bba60160"
      },
      "outputs": [
        {
          "name": "stdout",
          "output_type": "stream",
          "text": [
            "Accuracy: 0.8696361355081555\n",
            "Recall: 0.8804884065120868\n",
            "Precision: 0.8655431619786615\n",
            "f1 score: 0.8729518219613597\n"
          ]
        }
      ],
      "source": [
        "accuracy = accuracy_score(y_test, y_pred)\n",
        "recall = recall_score(y_test, y_pred)\n",
        "f1 = f1_score(y_test, y_pred)\n",
        "precision = precision_score(y_test, y_pred)\n",
        "\n",
        "print(\"Accuracy: \"+str(accuracy))\n",
        "print(\"Recall: \"+str(recall))\n",
        "print(\"Precision: \"+str(precision))\n",
        "print(\"f1 score: \"+str(f1))"
      ]
    },
    {
      "cell_type": "code",
      "execution_count": null,
      "metadata": {
        "colab": {
          "base_uri": "https://localhost:8080/"
        },
        "id": "GQT6WEKBmyKK",
        "outputId": "e93c13a6-58a6-44a7-f60a-0c6dc6afd4fc"
      },
      "outputs": [
        {
          "name": "stdout",
          "output_type": "stream",
          "text": [
            "              precision    recall  f1-score   support\n",
            "\n",
            "           0       0.87      0.86      0.87      7832\n",
            "           1       0.87      0.88      0.87      8108\n",
            "\n",
            "    accuracy                           0.87     15940\n",
            "   macro avg       0.87      0.87      0.87     15940\n",
            "weighted avg       0.87      0.87      0.87     15940\n",
            "\n"
          ]
        }
      ],
      "source": [
        "#Reporte de Clasificación\n",
        "print(classification_report(y_test,y_pred))"
      ]
    },
    {
      "cell_type": "code",
      "execution_count": null,
      "metadata": {
        "colab": {
          "base_uri": "https://localhost:8080/"
        },
        "id": "twzj7WKBmyKK",
        "outputId": "6079fdae-e574-467f-f2d0-830d1ed2d100"
      },
      "outputs": [
        {
          "name": "stdout",
          "output_type": "stream",
          "text": [
            "              precision    recall  f1-score   support\n",
            "\n",
            "           0       0.91      0.90      0.90     18275\n",
            "           1       0.90      0.92      0.91     18917\n",
            "\n",
            "    accuracy                           0.91     37192\n",
            "   macro avg       0.91      0.91      0.91     37192\n",
            "weighted avg       0.91      0.91      0.91     37192\n",
            "\n"
          ]
        }
      ],
      "source": [
        "print(classification_report(y_train, modelo_xgb.predict(x_train)))"
      ]
    },
    {
      "cell_type": "code",
      "execution_count": null,
      "metadata": {
        "colab": {
          "base_uri": "https://localhost:8080/",
          "height": 449
        },
        "id": "kyJpOm8BmyKK",
        "outputId": "ec0cf629-6409-4c42-d02c-78af3edad7e1"
      },
      "outputs": [
        {
          "data": {
            "image/png": "[encoded data removed]",
            "text/plain": [
              "<Figure size 640x480 with 2 Axes>"
            ]
          },
          "metadata": {},
          "output_type": "display_data"
        }
      ],
      "source": [
        "#Matriz de Confusión\n",
        "cm = confusion_matrix(y_test,y_pred)\n",
        "sns.heatmap(cm, cmap='Blues',annot=True,fmt='g')\n",
        "plt.xlabel('Predicted')\n",
        "plt.ylabel('True')\n",
        "plt.show()"
      ]
    },
    {
      "cell_type": "markdown",
      "metadata": {
        "id": "WBRYY7PYmyKL"
      },
      "source": [
        "### Submission"
      ]
    },
    {
      "cell_type": "markdown",
      "source": [
        "Guardamos el modelo en un archivo .pickle"
      ],
      "metadata": {
        "id": "j3axb5ReLi70"
      }
    },
    {
      "cell_type": "code",
      "execution_count": null,
      "metadata": {
        "id": "O9-CWXK1myKL"
      },
      "outputs": [],
      "source": [
        "pickle.dump(modelo_xgb, open('xgb_grupo29.pickle', 'wb'))"
      ]
    },
    {
      "cell_type": "markdown",
      "source": [
        "Y el archivo .csv para subir a Kaggle"
      ],
      "metadata": {
        "id": "uS9CDdHpLlQ7"
      }
    },
    {
      "cell_type": "code",
      "execution_count": null,
      "metadata": {
        "id": "MzLd_uLBmyKL"
      },
      "outputs": [],
      "source": [
        "X_submission_xgb = test.select_dtypes(exclude=['object'])\n",
        "y_pred_test_xgb = modelo_xgb.predict(X_submission_xgb)\n",
        "df_submission_xgb = pd.DataFrame({'id': original_test['id'], 'is_canceled': y_pred_test_xgb})\n",
        "df_submission_xgb.to_csv('xgb01.csv', index=False)"
      ]
    },
    {
      "cell_type": "markdown",
      "metadata": {
        "id": "pBlJvwjGmyKM"
      },
      "source": [
        "# Voting Classifier"
      ]
    },
    {
      "cell_type": "code",
      "execution_count": null,
      "metadata": {
        "id": "3lAoKHnfmyKM"
      },
      "outputs": [],
      "source": [
        "def score(model, X, y):\n",
        "     cv = RepeatedStratifiedKFold(n_splits=5, n_repeats=2, random_state=RANDOM_STATE)\n",
        "     scores = cross_val_score(model, X, y, scoring='f1', cv=cv, error_score='raise')\n",
        "     return scores"
      ]
    },
    {
      "cell_type": "markdown",
      "metadata": {
        "id": "aLadv5Q5myKM"
      },
      "source": [
        "Se crean los clasificadores que se utilizarán para el ensamble híbrido, en este caso se eligió Random Forest, Decision Tree y KNN"
      ]
    },
    {
      "cell_type": "code",
      "execution_count": null,
      "metadata": {
        "id": "r5Khy64LmyKN"
      },
      "outputs": [],
      "source": [
        "rf = RandomForestClassifier(random_state=RANDOM_STATE, n_estimators=40)\n",
        "tree = DecisionTreeClassifier(random_state=RANDOM_STATE)\n",
        "knn = KNeighborsClassifier(n_neighbors=7)"
      ]
    },
    {
      "cell_type": "markdown",
      "metadata": {
        "id": "RLjMxkAamyKN"
      },
      "source": [
        "Evaluamos la performance de cada uno de los clasificadores por separado "
      ]
    },
    {
      "cell_type": "code",
      "execution_count": null,
      "metadata": {
        "colab": {
          "base_uri": "https://localhost:8080/"
        },
        "id": "VIAfkn7NmyKN",
        "outputId": "7bc61079-73a7-44c2-fa3b-7be23c43b806"
      },
      "outputs": [
        {
          "name": "stdout",
          "output_type": "stream",
          "text": [
            "random_forest 0.871\n",
            "tree 0.838\n",
            "knn 0.728\n"
          ]
        }
      ],
      "source": [
        "models = {'random_forest': rf,\n",
        "               'tree': tree,\n",
        "               'knn': knn}\n",
        "\n",
        "resultado, nombres = list(), list()\n",
        "for nombre, model in models.items():\n",
        "\tscores = score(model, x_train, y_train)\n",
        "\tresultado.append(scores)\n",
        "\tnombres.append(nombre)\n",
        "\tprint('%s %.3f' % (nombre, mean(scores)))"
      ]
    },
    {
      "cell_type": "markdown",
      "metadata": {
        "id": "evKWbC-PmyKO"
      },
      "source": [
        "Creamos el Voting Classifier, lo entrenamos con los datos y obtenemos las predicciones"
      ]
    },
    {
      "cell_type": "code",
      "execution_count": null,
      "metadata": {
        "id": "x_Rw_x8gmyKO"
      },
      "outputs": [],
      "source": [
        "#Creo ensemble de Votación\n",
        "voting = VotingClassifier(estimators = [('random_forest', rf), ('tree', tree), ('knn', knn)], voting = 'hard', n_jobs=-1)\n",
        "\n",
        "#Entreno el ensemble\n",
        "modelo_voting = voting.fit(x_train, y_train)\n",
        "\n",
        "#Evaluo en conjunto de test\n",
        "y_pred = voting.predict(x_test)"
      ]
    },
    {
      "cell_type": "markdown",
      "metadata": {
        "id": "pmNQAAD6myKP"
      },
      "source": [
        "Ahora evaluamos la performance del Voting Classifier calculando las métricas y la matriz de confusion"
      ]
    },
    {
      "cell_type": "code",
      "execution_count": null,
      "metadata": {
        "colab": {
          "base_uri": "https://localhost:8080/"
        },
        "id": "jBebHfvXmyKP",
        "outputId": "8fb86408-62ed-44f5-f49c-34e4d07caa0c"
      },
      "outputs": [
        {
          "name": "stdout",
          "output_type": "stream",
          "text": [
            "Voting Classifier: 0.8594893037172796\n"
          ]
        }
      ],
      "source": [
        "score_voting = score(voting, x_train, y_train)\n",
        "print('Voting Classifier:', mean(score_voting))"
      ]
    },
    {
      "cell_type": "code",
      "execution_count": null,
      "metadata": {
        "id": "XLEG6l6mmyKQ"
      },
      "outputs": [],
      "source": [
        "resultado.append(score_voting)\n",
        "nombres.append('voting')"
      ]
    },
    {
      "cell_type": "code",
      "execution_count": null,
      "metadata": {
        "colab": {
          "base_uri": "https://localhost:8080/"
        },
        "id": "YZN5jdLDmyKQ",
        "outputId": "b9a5a34e-41d9-49d7-fb8b-7d4779a0e3b3"
      },
      "outputs": [
        {
          "name": "stdout",
          "output_type": "stream",
          "text": [
            "Accuracy: 0.8631744040150564\n",
            "Recall: 0.8660582141095214\n",
            "Precision: 0.8650979425896267\n",
            "f1 score: 0.8655778120184899\n"
          ]
        }
      ],
      "source": [
        "accuracy = accuracy_score(y_test, y_pred)\n",
        "recall = recall_score(y_test, y_pred)\n",
        "f1 = f1_score(y_test, y_pred)\n",
        "precision = precision_score(y_test, y_pred)\n",
        "\n",
        "print(\"Accuracy: \"+str(accuracy))\n",
        "print(\"Recall: \"+str(recall))\n",
        "print(\"Precision: \"+str(precision))\n",
        "print(\"f1 score: \"+str(f1))"
      ]
    },
    {
      "cell_type": "code",
      "execution_count": null,
      "metadata": {
        "colab": {
          "base_uri": "https://localhost:8080/"
        },
        "id": "efj0XeKdmyKQ",
        "outputId": "3cdacd39-c8a0-4383-ed1c-1253d55c9b77"
      },
      "outputs": [
        {
          "name": "stdout",
          "output_type": "stream",
          "text": [
            "              precision    recall  f1-score   support\n",
            "\n",
            "           0       0.86      0.86      0.86      7832\n",
            "           1       0.87      0.87      0.87      8108\n",
            "\n",
            "    accuracy                           0.86     15940\n",
            "   macro avg       0.86      0.86      0.86     15940\n",
            "weighted avg       0.86      0.86      0.86     15940\n",
            "\n"
          ]
        }
      ],
      "source": [
        "#Reporte de Clasificación\n",
        "print(classification_report(y_test,y_pred))"
      ]
    },
    {
      "cell_type": "code",
      "execution_count": null,
      "metadata": {
        "colab": {
          "base_uri": "https://localhost:8080/",
          "height": 454
        },
        "id": "JN2x684dmyKR",
        "outputId": "52de7526-7c76-4e41-c1a4-8198941e0026"
      },
      "outputs": [
        {
          "data": {
            "image/png": "[encoded data removed]",
            "text/plain": [
              "<Figure size 640x480 with 2 Axes>"
            ]
          },
          "metadata": {},
          "output_type": "display_data"
        }
      ],
      "source": [
        "#Matriz de Confusión\n",
        "cm = confusion_matrix(y_test,y_pred)\n",
        "sns.heatmap(cm, cmap='Blues',annot=True,fmt='g')\n",
        "plt.xlabel('Predicted')\n",
        "plt.ylabel('True')\n",
        "plt.show()"
      ]
    },
    {
      "cell_type": "markdown",
      "metadata": {
        "id": "JpSxkQG6myKR"
      },
      "source": [
        "Ahora podemos comparar la performance de los modelos utilizados con la del ensamble"
      ]
    },
    {
      "cell_type": "code",
      "execution_count": null,
      "metadata": {
        "colab": {
          "base_uri": "https://localhost:8080/",
          "height": 564
        },
        "id": "iJfi0l7kmyKS",
        "outputId": "5a0f0ec0-400b-40da-fc97-40bedaec000b"
      },
      "outputs": [
        {
          "data": {
            "image/png": "[encoded data removed]",
            "text/plain": [
              "<Figure size 1000x600 with 1 Axes>"
            ]
          },
          "metadata": {},
          "output_type": "display_data"
        }
      ],
      "source": [
        "plt.figure(figsize=(10,6))\n",
        "sns.boxplot(resultado).set(xticklabels=nombres, title='Performance de los modelos', xlabel='Modelos', ylabel='F1 Score')\n",
        "plt.show()"
      ]
    },
    {
      "cell_type": "markdown",
      "source": [
        "Podemos ver que como la predicción final se basa en la mayoría de los votos de los modelos base, obtenemos un modelo que en general posee mayor precision que los modelos individuales. Esto se debe a que puede aprovechar las fortalezas de cada modelo base y reducir el impacto de las debilidades individuales."
      ],
      "metadata": {
        "id": "GJALRczMNcFZ"
      }
    },
    {
      "cell_type": "markdown",
      "source": [
        "En este caso en particular, el random_forest es mucho mejor que los otros dos modelos. Pero al ensamblarlos en un voting obtenemos un modelo que es bastante mejor que el decision tree y que el knn aunque apenas peor que el random forest."
      ],
      "metadata": {
        "id": "iftYbULuO8uK"
      }
    },
    {
      "cell_type": "markdown",
      "metadata": {
        "id": "cKnYNGbhmyKS"
      },
      "source": [
        "### Submission"
      ]
    },
    {
      "cell_type": "markdown",
      "source": [
        "Guardamos el modelo en un archivo .pickle"
      ],
      "metadata": {
        "id": "w5lQwCTkMwAJ"
      }
    },
    {
      "cell_type": "code",
      "execution_count": null,
      "metadata": {
        "id": "W6JYWOqUmyKT"
      },
      "outputs": [],
      "source": [
        "pickle.dump(modelo_voting, open('voting_grupo29.pickle', 'wb'))"
      ]
    },
    {
      "cell_type": "markdown",
      "source": [
        "y el archivo .csv para subir a Kaggle"
      ],
      "metadata": {
        "id": "SVLmeJrXMybF"
      }
    },
    {
      "cell_type": "code",
      "execution_count": null,
      "metadata": {
        "id": "fR077_dNmyKT"
      },
      "outputs": [],
      "source": [
        "X_submission_voting = test.select_dtypes(exclude=['object'])\n",
        "y_pred_test_voting = modelo_voting.predict(X_submission_voting)\n",
        "df_submission_voting = pd.DataFrame({'id': original_test['id'], 'is_canceled': y_pred_test_voting})\n",
        "df_submission_voting.to_csv('voting00.csv', index=False)"
      ]
    },
    {
      "cell_type": "markdown",
      "metadata": {
        "id": "mZES_L02myKU"
      },
      "source": [
        "# Stacking Classifier"
      ]
    },
    {
      "cell_type": "markdown",
      "metadata": {
        "id": "6r9Fgs61myKU"
      },
      "source": [
        "Creamos los modelos a utilizar en el ensamble, en este caso se utilizarán random forest, KNN y XGBoost\n"
      ]
    },
    {
      "cell_type": "code",
      "execution_count": null,
      "metadata": {
        "id": "7SD-n6kpmyKV"
      },
      "outputs": [],
      "source": [
        "rf = RandomForestClassifier(random_state=RANDOM_STATE, n_estimators=60)\n",
        "knn = KNeighborsClassifier(n_neighbors=3)\n",
        "xgboost = xgb.XGBClassifier(random_state=RANDOM_STATE)"
      ]
    },
    {
      "cell_type": "markdown",
      "metadata": {
        "id": "_spXkwzimyKV"
      },
      "source": [
        "Evaluamos los modelos por separado"
      ]
    },
    {
      "cell_type": "code",
      "execution_count": null,
      "metadata": {
        "colab": {
          "base_uri": "https://localhost:8080/"
        },
        "id": "_em7lYVtmyKV",
        "outputId": "53030837-2011-40b0-b469-c1bf587e2d78"
      },
      "outputs": [
        {
          "name": "stdout",
          "output_type": "stream",
          "text": [
            "random_forest 0.873\n",
            "knn 0.743\n",
            "xgboost 0.871\n"
          ]
        }
      ],
      "source": [
        "base_models = {'random_forest': rf,\n",
        "               'knn': knn,\n",
        "               'xgboost': xgboost}\n",
        "\n",
        "result, names = list(), list()\n",
        "for name, model in base_models.items():\n",
        "\tscores = score(model, x_train, y_train)\n",
        "\tresult.append(scores)\n",
        "\tnames.append(name)\n",
        "\tprint('%s %.3f' % (name, mean(scores)))"
      ]
    },
    {
      "cell_type": "markdown",
      "metadata": {
        "id": "QPFH-pK_myKW"
      },
      "source": [
        "Creamos el Stacking Classifier, lo entrenamos con los datos y obtenemos las predicciones"
      ]
    },
    {
      "cell_type": "code",
      "execution_count": null,
      "metadata": {
        "id": "U-R4gC9kmyKa"
      },
      "outputs": [],
      "source": [
        "#Modelos Base\n",
        "modelos_base = [('random_forest', rf), ('knn', knn), ('xgboost', xgboost)]\n",
        "\n",
        "#Meta Modelo\n",
        "meta_model = LogisticRegression()\n",
        "\n",
        "#Ensemble Stacking\n",
        "stacking = StackingClassifier(estimators=modelos_base, final_estimator=meta_model, cv=5)\n",
        "\n",
        "modelo_stacking = stacking.fit(x_train, y_train)\n",
        "\n",
        "y_pred = stacking.predict(x_test)"
      ]
    },
    {
      "cell_type": "markdown",
      "source": [
        "Evaluamos la performance del Stacking calculando las métricas y la matriz de confusion"
      ],
      "metadata": {
        "id": "V4My9PLCP0jB"
      }
    },
    {
      "cell_type": "code",
      "execution_count": null,
      "metadata": {
        "colab": {
          "base_uri": "https://localhost:8080/"
        },
        "id": "j5C78Tj-myKa",
        "outputId": "31b355d2-52e3-4805-8d45-fabfaaee1d86"
      },
      "outputs": [
        {
          "name": "stdout",
          "output_type": "stream",
          "text": [
            "Stacking Classifier: 0.8781978976988492\n"
          ]
        }
      ],
      "source": [
        "score_stacking = score(stacking, x_train, y_train)\n",
        "print('Stacking Classifier:', mean(score_stacking))"
      ]
    },
    {
      "cell_type": "code",
      "execution_count": null,
      "metadata": {
        "id": "dkE_VTq5myKb"
      },
      "outputs": [],
      "source": [
        "result.append(score_stacking)\n",
        "names.append('stacking')"
      ]
    },
    {
      "cell_type": "code",
      "execution_count": null,
      "metadata": {
        "colab": {
          "base_uri": "https://localhost:8080/"
        },
        "id": "-19fGiQMmyKb",
        "outputId": "9167abe2-2be2-4a54-84ba-9967787dd9be"
      },
      "outputs": [
        {
          "name": "stdout",
          "output_type": "stream",
          "text": [
            "Accuracy: 0.8801756587202008\n",
            "Recall: 0.8856684755796744\n",
            "Precision: 0.8795933365997061\n",
            "f1 score: 0.8826204523107178\n"
          ]
        }
      ],
      "source": [
        "accuracy = accuracy_score(y_test, y_pred)\n",
        "recall = recall_score(y_test, y_pred)\n",
        "f1 = f1_score(y_test, y_pred)\n",
        "precision = precision_score(y_test, y_pred)\n",
        "\n",
        "print(\"Accuracy: \"+str(accuracy))\n",
        "print(\"Recall: \"+str(recall))\n",
        "print(\"Precision: \"+str(precision))\n",
        "print(\"f1 score: \"+str(f1))"
      ]
    },
    {
      "cell_type": "code",
      "execution_count": null,
      "metadata": {
        "colab": {
          "base_uri": "https://localhost:8080/"
        },
        "id": "4zh074lomyKc",
        "outputId": "5fb9d2a9-7b96-4d61-8eba-6b23f2f57834"
      },
      "outputs": [
        {
          "name": "stdout",
          "output_type": "stream",
          "text": [
            "              precision    recall  f1-score   support\n",
            "\n",
            "           0       0.88      0.87      0.88      7832\n",
            "           1       0.88      0.89      0.88      8108\n",
            "\n",
            "    accuracy                           0.88     15940\n",
            "   macro avg       0.88      0.88      0.88     15940\n",
            "weighted avg       0.88      0.88      0.88     15940\n",
            "\n"
          ]
        }
      ],
      "source": [
        "#Reporte de Clasificación\n",
        "print(classification_report(y_test,y_pred))"
      ]
    },
    {
      "cell_type": "code",
      "execution_count": null,
      "metadata": {
        "colab": {
          "base_uri": "https://localhost:8080/",
          "height": 449
        },
        "id": "ZJeodXnbmyKc",
        "outputId": "2ef1b50b-d340-4a2a-b353-876b9954c79d"
      },
      "outputs": [
        {
          "data": {
            "image/png": "[encoded data removed]",
            "text/plain": [
              "<Figure size 640x480 with 2 Axes>"
            ]
          },
          "metadata": {},
          "output_type": "display_data"
        }
      ],
      "source": [
        "#Matriz de Confusión\n",
        "cm = confusion_matrix(y_test,y_pred)\n",
        "sns.heatmap(cm, cmap='Blues',annot=True,fmt='g')\n",
        "plt.xlabel('Predicted')\n",
        "plt.ylabel('True')\n",
        "plt.show()"
      ]
    },
    {
      "cell_type": "code",
      "execution_count": null,
      "metadata": {
        "colab": {
          "base_uri": "https://localhost:8080/",
          "height": 564
        },
        "id": "c62a4AvlmyKd",
        "outputId": "fff80bf6-a685-4074-d00d-52327dc4bc60"
      },
      "outputs": [
        {
          "data": {
            "image/png": "[encoded data removed]",
            "text/plain": [
              "<Figure size 1000x600 with 1 Axes>"
            ]
          },
          "metadata": {},
          "output_type": "display_data"
        }
      ],
      "source": [
        "#Grafico performance\n",
        "plt.figure(figsize=(10,6))\n",
        "sns.boxplot(result).set(xticklabels=names, title='Performance de los modelos', xlabel='Modelos', ylabel='F1 Score')\n",
        "plt.show()"
      ]
    },
    {
      "cell_type": "markdown",
      "source": [
        "Ya que el modelo meta se entrena utilizando las predicciones realizadas por los modelos base, obtenemos un modelo con una mejor performance que los modelos base por separados"
      ],
      "metadata": {
        "id": "tE4Ha67CQHg4"
      }
    },
    {
      "cell_type": "markdown",
      "source": [
        "En este caso tenemos dos modelos bases muy buenos: random forest y xgboost y aun asi el stacking classifier es mejor que ellos."
      ],
      "metadata": {
        "id": "mrVB2KAIP_6V"
      }
    },
    {
      "cell_type": "markdown",
      "metadata": {
        "id": "BhWA7-qWmyKd"
      },
      "source": [
        "### Submission"
      ]
    },
    {
      "cell_type": "markdown",
      "source": [
        "Guardamos el model en un archivo .pickle"
      ],
      "metadata": {
        "id": "d0sIhPJjQJLG"
      }
    },
    {
      "cell_type": "code",
      "execution_count": null,
      "metadata": {
        "id": "queJRdsumyKd"
      },
      "outputs": [],
      "source": [
        "pickle.dump(modelo_stacking, open('stacking_grupo29.pickle', 'wb'))"
      ]
    },
    {
      "cell_type": "markdown",
      "source": [
        "y el archivo .csv para subir a Kaggle"
      ],
      "metadata": {
        "id": "6h5bxWs0QLyf"
      }
    },
    {
      "cell_type": "code",
      "execution_count": null,
      "metadata": {
        "id": "1fTl96sLmyKe"
      },
      "outputs": [],
      "source": [
        "X_submission_stacking = test.select_dtypes(exclude=['object'])\n",
        "y_pred_test_stacking = modelo_stacking.predict(X_submission_stacking)\n",
        "df_submission_stacking = pd.DataFrame({'id': original_test['id'], 'is_canceled': y_pred_test_stacking})\n",
        "df_submission_stacking.to_csv('stacking00.csv', index=False)"
      ]
    }
  ],
  "metadata": {
    "colab": {
      "collapsed_sections": [
        "JK5TWXYX_mWs",
        "3ytPDZD8_mW0",
        "RdYD8a9u_mXJ"
      ],
      "provenance": []
    },
    "kernelspec": {
      "display_name": "Python 3.8.5 64-bit",
      "language": "python",
      "name": "python3"
    },
    "language_info": {
      "codemirror_mode": {
        "name": "ipython",
        "version": 3
      },
      "file_extension": ".py",
      "mimetype": "text/x-python",
      "name": "python",
      "nbconvert_exporter": "python",
      "pygments_lexer": "ipython3",
      "version": "3.8.5"
    },
    "orig_nbformat": 4,
    "vscode": {
      "interpreter": {
        "hash": "570feb405e2e27c949193ac68f46852414290d515b0ba6e5d90d076ed2284471"
      }
    }
  },
  "nbformat": 4,
  "nbformat_minor": 0
}