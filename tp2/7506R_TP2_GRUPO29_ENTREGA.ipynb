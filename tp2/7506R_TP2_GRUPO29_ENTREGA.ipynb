{
 "cells": [
  {
   "attachments": {},
   "cell_type": "markdown",
   "metadata": {},
   "source": [
    "# <center>Organizaci&oacute;n de Datos</center>\n",
    "#### <center>C&aacute;tedra Ing. Rodriguez, Juan Manuel </center>\n",
    "## <center>Trabajo Práctico 2 : Críticas Cinematográficas </center>\n",
    "#### Grupo 29:\n",
    "* Alen Davies Leccese - 107084\n",
    "* Luca Lazcano - 107044"
   ]
  },
  {
   "attachments": {},
   "cell_type": "markdown",
   "metadata": {},
   "source": [
    "## Imports y carga de datos"
   ]
  },
  {
   "cell_type": "code",
   "execution_count": 331,
   "metadata": {},
   "outputs": [],
   "source": [
    "import pandas as pd\n",
    "import matplotlib.pyplot as plt\n",
    "import seaborn as sns\n",
    "import numpy as np\n",
    "\n",
    "import sklearn as sk\n",
    "from sklearn.model_selection import train_test_split, cross_val_score, StratifiedKFold, KFold, RandomizedSearchCV, RepeatedStratifiedKFold\n",
    "from sklearn.metrics import precision_score, recall_score, accuracy_score, f1_score, confusion_matrix, classification_report, make_scorer\n",
    "from sklearn.neighbors import KNeighborsClassifier\n",
    "from sklearn.preprocessing import MinMaxScaler, StandardScaler\n",
    "from sklearn.ensemble import RandomForestClassifier, VotingClassifier\n",
    "from sklearn.feature_extraction.text import TfidfVectorizer\n",
    "from sklearn.pipeline import make_pipeline\n",
    "from sklearn.naive_bayes import MultinomialNB\n",
    "\n",
    "import xgboost as xgb\n",
    "from xgboost import XGBClassifier\n",
    "import pickle\n",
    "import re\n",
    "\n",
    "import nltk\n",
    "from nltk.tokenize import word_tokenize, sent_tokenize\n",
    "from nltk.corpus import stopwords\n",
    "from nltk.tokenize import RegexpTokenizer\n",
    "from nltk.corpus import stopwords\n",
    "from nltk.probability import FreqDist\n",
    "from nltk.tokenize import word_tokenize\n",
    "from nltk.stem import WordNetLemmatizer\n",
    "\n",
    "import tensorflow as tf\n",
    "from tensorflow import keras\n",
    "from keras.utils.vis_utils import plot_model\n",
    "from keras.callbacks import EarlyStopping\n",
    "\n",
    "from collections import Counter\n",
    "from statistics import mean\n",
    "\n",
    "RANDOM_STATE = 42"
   ]
  },
  {
   "cell_type": "markdown",
   "metadata": {},
   "source": [
    "Cargamos los datasets a utilizar."
   ]
  },
  {
   "cell_type": "code",
   "execution_count": 332,
   "metadata": {},
   "outputs": [],
   "source": [
    "train = pd.read_csv('Datasets/train.csv')\n",
    "test = pd.read_csv('Datasets/test.csv')"
   ]
  },
  {
   "cell_type": "markdown",
   "metadata": {},
   "source": [
    "Vemos la forma del dataset de entrenamiento:"
   ]
  },
  {
   "cell_type": "code",
   "execution_count": 333,
   "metadata": {},
   "outputs": [
    {
     "name": "stdout",
     "output_type": "stream",
     "text": [
      "Filas: 50000 Columnas: 3\n"
     ]
    }
   ],
   "source": [
    "shape = train.shape\n",
    "print(\"Filas: %d Columnas: %d\" % (shape[0], shape[1]))"
   ]
  },
  {
   "cell_type": "markdown",
   "metadata": {},
   "source": [
    "Y algunas filas del mismo:"
   ]
  },
  {
   "cell_type": "code",
   "execution_count": 334,
   "metadata": {},
   "outputs": [
    {
     "data": {
      "text/html": [
       "<div>\n",
       "<style scoped>\n",
       "    .dataframe tbody tr th:only-of-type {\n",
       "        vertical-align: middle;\n",
       "    }\n",
       "\n",
       "    .dataframe tbody tr th {\n",
       "        vertical-align: top;\n",
       "    }\n",
       "\n",
       "    .dataframe thead th {\n",
       "        text-align: right;\n",
       "    }\n",
       "</style>\n",
       "<table border=\"1\" class=\"dataframe\">\n",
       "  <thead>\n",
       "    <tr style=\"text-align: right;\">\n",
       "      <th></th>\n",
       "      <th>ID</th>\n",
       "      <th>review_es</th>\n",
       "      <th>sentimiento</th>\n",
       "    </tr>\n",
       "  </thead>\n",
       "  <tbody>\n",
       "    <tr>\n",
       "      <th>0</th>\n",
       "      <td>0</td>\n",
       "      <td>Uno de los otros críticos ha mencionado que de...</td>\n",
       "      <td>positivo</td>\n",
       "    </tr>\n",
       "    <tr>\n",
       "      <th>1</th>\n",
       "      <td>1</td>\n",
       "      <td>Una pequeña pequeña producción.La técnica de f...</td>\n",
       "      <td>positivo</td>\n",
       "    </tr>\n",
       "    <tr>\n",
       "      <th>2</th>\n",
       "      <td>2</td>\n",
       "      <td>Pensé que esta era una manera maravillosa de p...</td>\n",
       "      <td>positivo</td>\n",
       "    </tr>\n",
       "    <tr>\n",
       "      <th>3</th>\n",
       "      <td>3</td>\n",
       "      <td>Básicamente, hay una familia donde un niño peq...</td>\n",
       "      <td>negativo</td>\n",
       "    </tr>\n",
       "    <tr>\n",
       "      <th>4</th>\n",
       "      <td>4</td>\n",
       "      <td>El \"amor en el tiempo\" de Petter Mattei es una...</td>\n",
       "      <td>positivo</td>\n",
       "    </tr>\n",
       "  </tbody>\n",
       "</table>\n",
       "</div>"
      ],
      "text/plain": [
       "   ID                                          review_es sentimiento\n",
       "0   0  Uno de los otros críticos ha mencionado que de...    positivo\n",
       "1   1  Una pequeña pequeña producción.La técnica de f...    positivo\n",
       "2   2  Pensé que esta era una manera maravillosa de p...    positivo\n",
       "3   3  Básicamente, hay una familia donde un niño peq...    negativo\n",
       "4   4  El \"amor en el tiempo\" de Petter Mattei es una...    positivo"
      ]
     },
     "execution_count": 334,
     "metadata": {},
     "output_type": "execute_result"
    }
   ],
   "source": [
    "train.head()"
   ]
  },
  {
   "attachments": {},
   "cell_type": "markdown",
   "metadata": {},
   "source": [
    "## Preprocesamiento"
   ]
  },
  {
   "attachments": {},
   "cell_type": "markdown",
   "metadata": {},
   "source": [
    "Comenzamos por convertir a tipo str y a minúscula la columna ``'review_es'`` que es la que contiene las críticas."
   ]
  },
  {
   "cell_type": "code",
   "execution_count": 335,
   "metadata": {},
   "outputs": [
    {
     "data": {
      "text/html": [
       "<div>\n",
       "<style scoped>\n",
       "    .dataframe tbody tr th:only-of-type {\n",
       "        vertical-align: middle;\n",
       "    }\n",
       "\n",
       "    .dataframe tbody tr th {\n",
       "        vertical-align: top;\n",
       "    }\n",
       "\n",
       "    .dataframe thead th {\n",
       "        text-align: right;\n",
       "    }\n",
       "</style>\n",
       "<table border=\"1\" class=\"dataframe\">\n",
       "  <thead>\n",
       "    <tr style=\"text-align: right;\">\n",
       "      <th></th>\n",
       "      <th>ID</th>\n",
       "      <th>review_es</th>\n",
       "      <th>sentimiento</th>\n",
       "    </tr>\n",
       "  </thead>\n",
       "  <tbody>\n",
       "    <tr>\n",
       "      <th>0</th>\n",
       "      <td>0</td>\n",
       "      <td>uno de los otros críticos ha mencionado que de...</td>\n",
       "      <td>positivo</td>\n",
       "    </tr>\n",
       "    <tr>\n",
       "      <th>1</th>\n",
       "      <td>1</td>\n",
       "      <td>una pequeña pequeña producción.la técnica de f...</td>\n",
       "      <td>positivo</td>\n",
       "    </tr>\n",
       "    <tr>\n",
       "      <th>2</th>\n",
       "      <td>2</td>\n",
       "      <td>pensé que esta era una manera maravillosa de p...</td>\n",
       "      <td>positivo</td>\n",
       "    </tr>\n",
       "    <tr>\n",
       "      <th>3</th>\n",
       "      <td>3</td>\n",
       "      <td>básicamente, hay una familia donde un niño peq...</td>\n",
       "      <td>negativo</td>\n",
       "    </tr>\n",
       "    <tr>\n",
       "      <th>4</th>\n",
       "      <td>4</td>\n",
       "      <td>el \"amor en el tiempo\" de petter mattei es una...</td>\n",
       "      <td>positivo</td>\n",
       "    </tr>\n",
       "  </tbody>\n",
       "</table>\n",
       "</div>"
      ],
      "text/plain": [
       "   ID                                          review_es sentimiento\n",
       "0   0  uno de los otros críticos ha mencionado que de...    positivo\n",
       "1   1  una pequeña pequeña producción.la técnica de f...    positivo\n",
       "2   2  pensé que esta era una manera maravillosa de p...    positivo\n",
       "3   3  básicamente, hay una familia donde un niño peq...    negativo\n",
       "4   4  el \"amor en el tiempo\" de petter mattei es una...    positivo"
      ]
     },
     "execution_count": 335,
     "metadata": {},
     "output_type": "execute_result"
    }
   ],
   "source": [
    "test['review_es'] = test['review_es'].astype(str).str.lower()\n",
    "train['review_es'] = train['review_es'].astype(str).str.lower()\n",
    "train.head()"
   ]
  },
  {
   "attachments": {},
   "cell_type": "markdown",
   "metadata": {},
   "source": [
    "### Tokenización de las reviews"
   ]
  },
  {
   "attachments": {},
   "cell_type": "markdown",
   "metadata": {},
   "source": [
    "Usamos RegexpTokenizer de nltk para splitear las reviews en palabras. Usamos la expresión regular ``\\w+`` que coincide con una o más letras, números o guiones bajos."
   ]
  },
  {
   "cell_type": "code",
   "execution_count": 336,
   "metadata": {},
   "outputs": [
    {
     "data": {
      "text/html": [
       "<div>\n",
       "<style scoped>\n",
       "    .dataframe tbody tr th:only-of-type {\n",
       "        vertical-align: middle;\n",
       "    }\n",
       "\n",
       "    .dataframe tbody tr th {\n",
       "        vertical-align: top;\n",
       "    }\n",
       "\n",
       "    .dataframe thead th {\n",
       "        text-align: right;\n",
       "    }\n",
       "</style>\n",
       "<table border=\"1\" class=\"dataframe\">\n",
       "  <thead>\n",
       "    <tr style=\"text-align: right;\">\n",
       "      <th></th>\n",
       "      <th>ID</th>\n",
       "      <th>review_es</th>\n",
       "      <th>sentimiento</th>\n",
       "      <th>review_token</th>\n",
       "    </tr>\n",
       "  </thead>\n",
       "  <tbody>\n",
       "    <tr>\n",
       "      <th>0</th>\n",
       "      <td>0</td>\n",
       "      <td>uno de los otros críticos ha mencionado que de...</td>\n",
       "      <td>positivo</td>\n",
       "      <td>[uno, de, los, otros, críticos, ha, mencionado...</td>\n",
       "    </tr>\n",
       "    <tr>\n",
       "      <th>1</th>\n",
       "      <td>1</td>\n",
       "      <td>una pequeña pequeña producción.la técnica de f...</td>\n",
       "      <td>positivo</td>\n",
       "      <td>[una, pequeña, pequeña, producción, la, técnic...</td>\n",
       "    </tr>\n",
       "    <tr>\n",
       "      <th>2</th>\n",
       "      <td>2</td>\n",
       "      <td>pensé que esta era una manera maravillosa de p...</td>\n",
       "      <td>positivo</td>\n",
       "      <td>[pensé, que, esta, era, una, manera, maravillo...</td>\n",
       "    </tr>\n",
       "    <tr>\n",
       "      <th>3</th>\n",
       "      <td>3</td>\n",
       "      <td>básicamente, hay una familia donde un niño peq...</td>\n",
       "      <td>negativo</td>\n",
       "      <td>[básicamente, hay, una, familia, donde, un, ni...</td>\n",
       "    </tr>\n",
       "    <tr>\n",
       "      <th>4</th>\n",
       "      <td>4</td>\n",
       "      <td>el \"amor en el tiempo\" de petter mattei es una...</td>\n",
       "      <td>positivo</td>\n",
       "      <td>[el, amor, en, el, tiempo, de, petter, mattei,...</td>\n",
       "    </tr>\n",
       "  </tbody>\n",
       "</table>\n",
       "</div>"
      ],
      "text/plain": [
       "   ID                                          review_es sentimiento  \\\n",
       "0   0  uno de los otros críticos ha mencionado que de...    positivo   \n",
       "1   1  una pequeña pequeña producción.la técnica de f...    positivo   \n",
       "2   2  pensé que esta era una manera maravillosa de p...    positivo   \n",
       "3   3  básicamente, hay una familia donde un niño peq...    negativo   \n",
       "4   4  el \"amor en el tiempo\" de petter mattei es una...    positivo   \n",
       "\n",
       "                                        review_token  \n",
       "0  [uno, de, los, otros, críticos, ha, mencionado...  \n",
       "1  [una, pequeña, pequeña, producción, la, técnic...  \n",
       "2  [pensé, que, esta, era, una, manera, maravillo...  \n",
       "3  [básicamente, hay, una, familia, donde, un, ni...  \n",
       "4  [el, amor, en, el, tiempo, de, petter, mattei,...  "
      ]
     },
     "execution_count": 336,
     "metadata": {},
     "output_type": "execute_result"
    }
   ],
   "source": [
    "regexp = RegexpTokenizer('\\w+')\n",
    "\n",
    "test['review_token'] = test['review_es'].apply(regexp.tokenize)\n",
    "train['review_token'] = train['review_es'].apply(regexp.tokenize)\n",
    "train.head()"
   ]
  },
  {
   "attachments": {},
   "cell_type": "markdown",
   "metadata": {},
   "source": [
    "### Eliminar Stopwords"
   ]
  },
  {
   "attachments": {},
   "cell_type": "markdown",
   "metadata": {},
   "source": [
    "Las stopwords (palabras vacías), son palabras muy comunes en un idioma que generalmente no aportan un significado importante al análisis de texto.\n",
    "\n",
    "Incluyen palabras como artículos (\"el\", \"la\", \"los\", \"las\"), pronombres (\"yo\", \"tú\", \"él\", \"ella\"), preposiciones (\"a\", \"de\", \"en\", \"con\").\n",
    "\n",
    "Se eliminan para reducir el ruido y el tamaño del vocabulario en el texto analizado, centrándose en las palabras clave. Al hacer esto, se puede mejorar el rendimiento de algoritmos de procesamiento de texto."
   ]
  },
  {
   "cell_type": "markdown",
   "metadata": {},
   "source": [
    "Procedemos a descargar el paquete de stopwords de nltk."
   ]
  },
  {
   "cell_type": "code",
   "execution_count": 337,
   "metadata": {},
   "outputs": [
    {
     "name": "stderr",
     "output_type": "stream",
     "text": [
      "[nltk_data] Downloading package stopwords to\n",
      "[nltk_data]     C:\\Users\\Luca\\AppData\\Roaming\\nltk_data...\n",
      "[nltk_data]   Package stopwords is already up-to-date!\n"
     ]
    },
    {
     "data": {
      "text/plain": [
       "True"
      ]
     },
     "execution_count": 337,
     "metadata": {},
     "output_type": "execute_result"
    }
   ],
   "source": [
    "nltk.download('stopwords')"
   ]
  },
  {
   "cell_type": "markdown",
   "metadata": {},
   "source": [
    "Obtenemos las stopwords en español y las almacenamos en una variable."
   ]
  },
  {
   "cell_type": "code",
   "execution_count": 338,
   "metadata": {},
   "outputs": [
    {
     "name": "stdout",
     "output_type": "stream",
     "text": [
      "['de', 'la', 'que', 'el', 'en', 'y', 'a', 'los', 'del', 'se', 'las', 'por', 'un', 'para', 'con', 'no', 'una', 'su', 'al', 'lo', 'como', 'más', 'pero', 'sus', 'le', 'ya', 'o', 'este', 'sí', 'porque', 'esta', 'entre', 'cuando', 'muy', 'sin', 'sobre', 'también', 'me', 'hasta', 'hay', 'donde', 'quien', 'desde', 'todo', 'nos', 'durante', 'todos', 'uno', 'les', 'ni', 'contra', 'otros', 'ese', 'eso', 'ante', 'ellos', 'e', 'esto', 'mí', 'antes', 'algunos', 'qué', 'unos', 'yo', 'otro', 'otras', 'otra', 'él', 'tanto', 'esa', 'estos', 'mucho', 'quienes', 'nada', 'muchos', 'cual', 'poco', 'ella', 'estar', 'estas', 'algunas', 'algo', 'nosotros', 'mi', 'mis', 'tú', 'te', 'ti', 'tu', 'tus', 'ellas', 'nosotras', 'vosotros', 'vosotras', 'os', 'mío', 'mía', 'míos', 'mías', 'tuyo', 'tuya', 'tuyos', 'tuyas', 'suyo', 'suya', 'suyos', 'suyas', 'nuestro', 'nuestra', 'nuestros', 'nuestras', 'vuestro', 'vuestra', 'vuestros', 'vuestras', 'esos', 'esas', 'estoy', 'estás', 'está', 'estamos', 'estáis', 'están', 'esté', 'estés', 'estemos', 'estéis', 'estén', 'estaré', 'estarás', 'estará', 'estaremos', 'estaréis', 'estarán', 'estaría', 'estarías', 'estaríamos', 'estaríais', 'estarían', 'estaba', 'estabas', 'estábamos', 'estabais', 'estaban', 'estuve', 'estuviste', 'estuvo', 'estuvimos', 'estuvisteis', 'estuvieron', 'estuviera', 'estuvieras', 'estuviéramos', 'estuvierais', 'estuvieran', 'estuviese', 'estuvieses', 'estuviésemos', 'estuvieseis', 'estuviesen', 'estando', 'estado', 'estada', 'estados', 'estadas', 'estad', 'he', 'has', 'ha', 'hemos', 'habéis', 'han', 'haya', 'hayas', 'hayamos', 'hayáis', 'hayan', 'habré', 'habrás', 'habrá', 'habremos', 'habréis', 'habrán', 'habría', 'habrías', 'habríamos', 'habríais', 'habrían', 'había', 'habías', 'habíamos', 'habíais', 'habían', 'hube', 'hubiste', 'hubo', 'hubimos', 'hubisteis', 'hubieron', 'hubiera', 'hubieras', 'hubiéramos', 'hubierais', 'hubieran', 'hubiese', 'hubieses', 'hubiésemos', 'hubieseis', 'hubiesen', 'habiendo', 'habido', 'habida', 'habidos', 'habidas', 'soy', 'eres', 'es', 'somos', 'sois', 'son', 'sea', 'seas', 'seamos', 'seáis', 'sean', 'seré', 'serás', 'será', 'seremos', 'seréis', 'serán', 'sería', 'serías', 'seríamos', 'seríais', 'serían', 'era', 'eras', 'éramos', 'erais', 'eran', 'fui', 'fuiste', 'fue', 'fuimos', 'fuisteis', 'fueron', 'fuera', 'fueras', 'fuéramos', 'fuerais', 'fueran', 'fuese', 'fueses', 'fuésemos', 'fueseis', 'fuesen', 'sintiendo', 'sentido', 'sentida', 'sentidos', 'sentidas', 'siente', 'sentid', 'tengo', 'tienes', 'tiene', 'tenemos', 'tenéis', 'tienen', 'tenga', 'tengas', 'tengamos', 'tengáis', 'tengan', 'tendré', 'tendrás', 'tendrá', 'tendremos', 'tendréis', 'tendrán', 'tendría', 'tendrías', 'tendríamos', 'tendríais', 'tendrían', 'tenía', 'tenías', 'teníamos', 'teníais', 'tenían', 'tuve', 'tuviste', 'tuvo', 'tuvimos', 'tuvisteis', 'tuvieron', 'tuviera', 'tuvieras', 'tuviéramos', 'tuvierais', 'tuvieran', 'tuviese', 'tuvieses', 'tuviésemos', 'tuvieseis', 'tuviesen', 'teniendo', 'tenido', 'tenida', 'tenidos', 'tenidas', 'tened']\n"
     ]
    }
   ],
   "source": [
    "stopwords_es = nltk.corpus.stopwords.words(\"spanish\")\n",
    "print(stopwords_es)"
   ]
  },
  {
   "cell_type": "markdown",
   "metadata": {},
   "source": [
    "Y ahora las eliminamos de las reviews."
   ]
  },
  {
   "cell_type": "code",
   "execution_count": 339,
   "metadata": {},
   "outputs": [
    {
     "data": {
      "text/html": [
       "<div>\n",
       "<style scoped>\n",
       "    .dataframe tbody tr th:only-of-type {\n",
       "        vertical-align: middle;\n",
       "    }\n",
       "\n",
       "    .dataframe tbody tr th {\n",
       "        vertical-align: top;\n",
       "    }\n",
       "\n",
       "    .dataframe thead th {\n",
       "        text-align: right;\n",
       "    }\n",
       "</style>\n",
       "<table border=\"1\" class=\"dataframe\">\n",
       "  <thead>\n",
       "    <tr style=\"text-align: right;\">\n",
       "      <th></th>\n",
       "      <th>ID</th>\n",
       "      <th>review_es</th>\n",
       "      <th>sentimiento</th>\n",
       "      <th>review_token</th>\n",
       "    </tr>\n",
       "  </thead>\n",
       "  <tbody>\n",
       "    <tr>\n",
       "      <th>0</th>\n",
       "      <td>0</td>\n",
       "      <td>uno de los otros críticos ha mencionado que de...</td>\n",
       "      <td>positivo</td>\n",
       "      <td>[críticos, mencionado, después, ver, solo, 1, ...</td>\n",
       "    </tr>\n",
       "    <tr>\n",
       "      <th>1</th>\n",
       "      <td>1</td>\n",
       "      <td>una pequeña pequeña producción.la técnica de f...</td>\n",
       "      <td>positivo</td>\n",
       "      <td>[pequeña, pequeña, producción, técnica, filmac...</td>\n",
       "    </tr>\n",
       "    <tr>\n",
       "      <th>2</th>\n",
       "      <td>2</td>\n",
       "      <td>pensé que esta era una manera maravillosa de p...</td>\n",
       "      <td>positivo</td>\n",
       "      <td>[pensé, manera, maravillosa, pasar, tiempo, fi...</td>\n",
       "    </tr>\n",
       "    <tr>\n",
       "      <th>3</th>\n",
       "      <td>3</td>\n",
       "      <td>básicamente, hay una familia donde un niño peq...</td>\n",
       "      <td>negativo</td>\n",
       "      <td>[básicamente, familia, niño, pequeño, jake, pi...</td>\n",
       "    </tr>\n",
       "    <tr>\n",
       "      <th>4</th>\n",
       "      <td>4</td>\n",
       "      <td>el \"amor en el tiempo\" de petter mattei es una...</td>\n",
       "      <td>positivo</td>\n",
       "      <td>[amor, tiempo, petter, mattei, película, visua...</td>\n",
       "    </tr>\n",
       "  </tbody>\n",
       "</table>\n",
       "</div>"
      ],
      "text/plain": [
       "   ID                                          review_es sentimiento  \\\n",
       "0   0  uno de los otros críticos ha mencionado que de...    positivo   \n",
       "1   1  una pequeña pequeña producción.la técnica de f...    positivo   \n",
       "2   2  pensé que esta era una manera maravillosa de p...    positivo   \n",
       "3   3  básicamente, hay una familia donde un niño peq...    negativo   \n",
       "4   4  el \"amor en el tiempo\" de petter mattei es una...    positivo   \n",
       "\n",
       "                                        review_token  \n",
       "0  [críticos, mencionado, después, ver, solo, 1, ...  \n",
       "1  [pequeña, pequeña, producción, técnica, filmac...  \n",
       "2  [pensé, manera, maravillosa, pasar, tiempo, fi...  \n",
       "3  [básicamente, familia, niño, pequeño, jake, pi...  \n",
       "4  [amor, tiempo, petter, mattei, película, visua...  "
      ]
     },
     "execution_count": 339,
     "metadata": {},
     "output_type": "execute_result"
    }
   ],
   "source": [
    "test['review_token'] = test['review_token'].apply(lambda x: [item for item in x if item not in stopwords_es])\n",
    "train['review_token'] = train['review_token'].apply(lambda x: [item for item in x if item not in stopwords_es])\n",
    "train.head()"
   ]
  },
  {
   "cell_type": "markdown",
   "metadata": {},
   "source": [
    "Hacemos lo mismo con las stopwords en inglés. Las reviews están en español pero puede haber palabras en inglés asociadas a nombres propios o títulos de películas."
   ]
  },
  {
   "cell_type": "code",
   "execution_count": 340,
   "metadata": {},
   "outputs": [
    {
     "name": "stdout",
     "output_type": "stream",
     "text": [
      "['i', 'me', 'my', 'myself', 'we', 'our', 'ours', 'ourselves', 'you', \"you're\", \"you've\", \"you'll\", \"you'd\", 'your', 'yours', 'yourself', 'yourselves', 'he', 'him', 'his', 'himself', 'she', \"she's\", 'her', 'hers', 'herself', 'it', \"it's\", 'its', 'itself', 'they', 'them', 'their', 'theirs', 'themselves', 'what', 'which', 'who', 'whom', 'this', 'that', \"that'll\", 'these', 'those', 'am', 'is', 'are', 'was', 'were', 'be', 'been', 'being', 'have', 'has', 'had', 'having', 'do', 'does', 'did', 'doing', 'a', 'an', 'the', 'and', 'but', 'if', 'or', 'because', 'as', 'until', 'while', 'of', 'at', 'by', 'for', 'with', 'about', 'against', 'between', 'into', 'through', 'during', 'before', 'after', 'above', 'below', 'to', 'from', 'up', 'down', 'in', 'out', 'on', 'off', 'over', 'under', 'again', 'further', 'then', 'once', 'here', 'there', 'when', 'where', 'why', 'how', 'all', 'any', 'both', 'each', 'few', 'more', 'most', 'other', 'some', 'such', 'no', 'nor', 'not', 'only', 'own', 'same', 'so', 'than', 'too', 'very', 's', 't', 'can', 'will', 'just', 'don', \"don't\", 'should', \"should've\", 'now', 'd', 'll', 'm', 'o', 're', 've', 'y', 'ain', 'aren', \"aren't\", 'couldn', \"couldn't\", 'didn', \"didn't\", 'doesn', \"doesn't\", 'hadn', \"hadn't\", 'hasn', \"hasn't\", 'haven', \"haven't\", 'isn', \"isn't\", 'ma', 'mightn', \"mightn't\", 'mustn', \"mustn't\", 'needn', \"needn't\", 'shan', \"shan't\", 'shouldn', \"shouldn't\", 'wasn', \"wasn't\", 'weren', \"weren't\", 'won', \"won't\", 'wouldn', \"wouldn't\"]\n"
     ]
    }
   ],
   "source": [
    "stopwords_en = nltk.corpus.stopwords.words(\"english\")\n",
    "print(stopwords_en)"
   ]
  },
  {
   "cell_type": "code",
   "execution_count": 341,
   "metadata": {},
   "outputs": [
    {
     "data": {
      "text/html": [
       "<div>\n",
       "<style scoped>\n",
       "    .dataframe tbody tr th:only-of-type {\n",
       "        vertical-align: middle;\n",
       "    }\n",
       "\n",
       "    .dataframe tbody tr th {\n",
       "        vertical-align: top;\n",
       "    }\n",
       "\n",
       "    .dataframe thead th {\n",
       "        text-align: right;\n",
       "    }\n",
       "</style>\n",
       "<table border=\"1\" class=\"dataframe\">\n",
       "  <thead>\n",
       "    <tr style=\"text-align: right;\">\n",
       "      <th></th>\n",
       "      <th>ID</th>\n",
       "      <th>review_es</th>\n",
       "      <th>sentimiento</th>\n",
       "      <th>review_token</th>\n",
       "    </tr>\n",
       "  </thead>\n",
       "  <tbody>\n",
       "    <tr>\n",
       "      <th>0</th>\n",
       "      <td>0</td>\n",
       "      <td>uno de los otros críticos ha mencionado que de...</td>\n",
       "      <td>positivo</td>\n",
       "      <td>[críticos, mencionado, después, ver, solo, 1, ...</td>\n",
       "    </tr>\n",
       "    <tr>\n",
       "      <th>1</th>\n",
       "      <td>1</td>\n",
       "      <td>una pequeña pequeña producción.la técnica de f...</td>\n",
       "      <td>positivo</td>\n",
       "      <td>[pequeña, pequeña, producción, técnica, filmac...</td>\n",
       "    </tr>\n",
       "    <tr>\n",
       "      <th>2</th>\n",
       "      <td>2</td>\n",
       "      <td>pensé que esta era una manera maravillosa de p...</td>\n",
       "      <td>positivo</td>\n",
       "      <td>[pensé, manera, maravillosa, pasar, tiempo, fi...</td>\n",
       "    </tr>\n",
       "    <tr>\n",
       "      <th>3</th>\n",
       "      <td>3</td>\n",
       "      <td>básicamente, hay una familia donde un niño peq...</td>\n",
       "      <td>negativo</td>\n",
       "      <td>[básicamente, familia, niño, pequeño, jake, pi...</td>\n",
       "    </tr>\n",
       "    <tr>\n",
       "      <th>4</th>\n",
       "      <td>4</td>\n",
       "      <td>el \"amor en el tiempo\" de petter mattei es una...</td>\n",
       "      <td>positivo</td>\n",
       "      <td>[amor, tiempo, petter, mattei, película, visua...</td>\n",
       "    </tr>\n",
       "  </tbody>\n",
       "</table>\n",
       "</div>"
      ],
      "text/plain": [
       "   ID                                          review_es sentimiento  \\\n",
       "0   0  uno de los otros críticos ha mencionado que de...    positivo   \n",
       "1   1  una pequeña pequeña producción.la técnica de f...    positivo   \n",
       "2   2  pensé que esta era una manera maravillosa de p...    positivo   \n",
       "3   3  básicamente, hay una familia donde un niño peq...    negativo   \n",
       "4   4  el \"amor en el tiempo\" de petter mattei es una...    positivo   \n",
       "\n",
       "                                        review_token  \n",
       "0  [críticos, mencionado, después, ver, solo, 1, ...  \n",
       "1  [pequeña, pequeña, producción, técnica, filmac...  \n",
       "2  [pensé, manera, maravillosa, pasar, tiempo, fi...  \n",
       "3  [básicamente, familia, niño, pequeño, jake, pi...  \n",
       "4  [amor, tiempo, petter, mattei, película, visua...  "
      ]
     },
     "execution_count": 341,
     "metadata": {},
     "output_type": "execute_result"
    }
   ],
   "source": [
    "test['review_token'] = test['review_token'].apply(lambda x: [item for item in x if item not in stopwords_en])\n",
    "train['review_token'] = train['review_token'].apply(lambda x: [item for item in x if item not in stopwords_en])\n",
    "train.head()"
   ]
  },
  {
   "attachments": {},
   "cell_type": "markdown",
   "metadata": {},
   "source": [
    "### Filtrar por largo de las palabras"
   ]
  },
  {
   "attachments": {},
   "cell_type": "markdown",
   "metadata": {},
   "source": [
    "Ahora vamos a eliminar las palabras que contengan menos de 3 letras, ya que éstas suelen ser conectores o artículos que no aportan información relevante."
   ]
  },
  {
   "cell_type": "code",
   "execution_count": 342,
   "metadata": {},
   "outputs": [
    {
     "data": {
      "text/html": [
       "<div>\n",
       "<style scoped>\n",
       "    .dataframe tbody tr th:only-of-type {\n",
       "        vertical-align: middle;\n",
       "    }\n",
       "\n",
       "    .dataframe tbody tr th {\n",
       "        vertical-align: top;\n",
       "    }\n",
       "\n",
       "    .dataframe thead th {\n",
       "        text-align: right;\n",
       "    }\n",
       "</style>\n",
       "<table border=\"1\" class=\"dataframe\">\n",
       "  <thead>\n",
       "    <tr style=\"text-align: right;\">\n",
       "      <th></th>\n",
       "      <th>ID</th>\n",
       "      <th>review_es</th>\n",
       "      <th>sentimiento</th>\n",
       "      <th>review_token</th>\n",
       "    </tr>\n",
       "  </thead>\n",
       "  <tbody>\n",
       "    <tr>\n",
       "      <th>0</th>\n",
       "      <td>0</td>\n",
       "      <td>uno de los otros críticos ha mencionado que de...</td>\n",
       "      <td>positivo</td>\n",
       "      <td>[críticos, mencionado, después, solo, episodio...</td>\n",
       "    </tr>\n",
       "    <tr>\n",
       "      <th>1</th>\n",
       "      <td>1</td>\n",
       "      <td>una pequeña pequeña producción.la técnica de f...</td>\n",
       "      <td>positivo</td>\n",
       "      <td>[pequeña, pequeña, producción, técnica, filmac...</td>\n",
       "    </tr>\n",
       "    <tr>\n",
       "      <th>2</th>\n",
       "      <td>2</td>\n",
       "      <td>pensé que esta era una manera maravillosa de p...</td>\n",
       "      <td>positivo</td>\n",
       "      <td>[pensé, manera, maravillosa, pasar, tiempo, se...</td>\n",
       "    </tr>\n",
       "    <tr>\n",
       "      <th>3</th>\n",
       "      <td>3</td>\n",
       "      <td>básicamente, hay una familia donde un niño peq...</td>\n",
       "      <td>negativo</td>\n",
       "      <td>[básicamente, familia, niño, pequeño, jake, pi...</td>\n",
       "    </tr>\n",
       "    <tr>\n",
       "      <th>4</th>\n",
       "      <td>4</td>\n",
       "      <td>el \"amor en el tiempo\" de petter mattei es una...</td>\n",
       "      <td>positivo</td>\n",
       "      <td>[amor, tiempo, petter, mattei, película, visua...</td>\n",
       "    </tr>\n",
       "  </tbody>\n",
       "</table>\n",
       "</div>"
      ],
      "text/plain": [
       "   ID                                          review_es sentimiento  \\\n",
       "0   0  uno de los otros críticos ha mencionado que de...    positivo   \n",
       "1   1  una pequeña pequeña producción.la técnica de f...    positivo   \n",
       "2   2  pensé que esta era una manera maravillosa de p...    positivo   \n",
       "3   3  básicamente, hay una familia donde un niño peq...    negativo   \n",
       "4   4  el \"amor en el tiempo\" de petter mattei es una...    positivo   \n",
       "\n",
       "                                        review_token  \n",
       "0  [críticos, mencionado, después, solo, episodio...  \n",
       "1  [pequeña, pequeña, producción, técnica, filmac...  \n",
       "2  [pensé, manera, maravillosa, pasar, tiempo, se...  \n",
       "3  [básicamente, familia, niño, pequeño, jake, pi...  \n",
       "4  [amor, tiempo, petter, mattei, película, visua...  "
      ]
     },
     "execution_count": 342,
     "metadata": {},
     "output_type": "execute_result"
    }
   ],
   "source": [
    "test['review_token'] = test['review_token'].apply(lambda x: [item for item in x if len(item) > 3])\n",
    "train['review_token'] = train['review_token'].apply(lambda x: [item for item in x if len(item) > 3])\n",
    "train.head()"
   ]
  },
  {
   "attachments": {},
   "cell_type": "markdown",
   "metadata": {},
   "source": [
    "### Igualar palabras con o sin tilde"
   ]
  },
  {
   "cell_type": "markdown",
   "metadata": {},
   "source": [
    "Pudimos observar que algunas palabras estaban duplicadas ya que algunas tenian tilde y otras no. Por ejemplo, \"pelicula\" y \"película\". Para evitar esto, vamos a reemplazar las vocales con tilde por las mismas sin tilde."
   ]
  },
  {
   "cell_type": "code",
   "execution_count": 343,
   "metadata": {},
   "outputs": [],
   "source": [
    "def remove_tildes(text):\n",
    "    tildes = {\n",
    "        'á': 'a',\n",
    "        'é': 'e',\n",
    "        'í': 'i',\n",
    "        'ó': 'o',\n",
    "        'ú': 'u'\n",
    "    }\n",
    "    for key, value in tildes.items():\n",
    "        text = text.replace(key, value)\n",
    "    return text"
   ]
  },
  {
   "cell_type": "code",
   "execution_count": 344,
   "metadata": {},
   "outputs": [
    {
     "data": {
      "text/html": [
       "<div>\n",
       "<style scoped>\n",
       "    .dataframe tbody tr th:only-of-type {\n",
       "        vertical-align: middle;\n",
       "    }\n",
       "\n",
       "    .dataframe tbody tr th {\n",
       "        vertical-align: top;\n",
       "    }\n",
       "\n",
       "    .dataframe thead th {\n",
       "        text-align: right;\n",
       "    }\n",
       "</style>\n",
       "<table border=\"1\" class=\"dataframe\">\n",
       "  <thead>\n",
       "    <tr style=\"text-align: right;\">\n",
       "      <th></th>\n",
       "      <th>ID</th>\n",
       "      <th>review_es</th>\n",
       "      <th>sentimiento</th>\n",
       "      <th>review_token</th>\n",
       "    </tr>\n",
       "  </thead>\n",
       "  <tbody>\n",
       "    <tr>\n",
       "      <th>0</th>\n",
       "      <td>0</td>\n",
       "      <td>uno de los otros críticos ha mencionado que de...</td>\n",
       "      <td>positivo</td>\n",
       "      <td>[criticos, mencionado, despues, solo, episodio...</td>\n",
       "    </tr>\n",
       "    <tr>\n",
       "      <th>1</th>\n",
       "      <td>1</td>\n",
       "      <td>una pequeña pequeña producción.la técnica de f...</td>\n",
       "      <td>positivo</td>\n",
       "      <td>[pequeña, pequeña, produccion, tecnica, filmac...</td>\n",
       "    </tr>\n",
       "    <tr>\n",
       "      <th>2</th>\n",
       "      <td>2</td>\n",
       "      <td>pensé que esta era una manera maravillosa de p...</td>\n",
       "      <td>positivo</td>\n",
       "      <td>[pense, manera, maravillosa, pasar, tiempo, se...</td>\n",
       "    </tr>\n",
       "    <tr>\n",
       "      <th>3</th>\n",
       "      <td>3</td>\n",
       "      <td>básicamente, hay una familia donde un niño peq...</td>\n",
       "      <td>negativo</td>\n",
       "      <td>[basicamente, familia, niño, pequeño, jake, pi...</td>\n",
       "    </tr>\n",
       "    <tr>\n",
       "      <th>4</th>\n",
       "      <td>4</td>\n",
       "      <td>el \"amor en el tiempo\" de petter mattei es una...</td>\n",
       "      <td>positivo</td>\n",
       "      <td>[amor, tiempo, petter, mattei, pelicula, visua...</td>\n",
       "    </tr>\n",
       "  </tbody>\n",
       "</table>\n",
       "</div>"
      ],
      "text/plain": [
       "   ID                                          review_es sentimiento  \\\n",
       "0   0  uno de los otros críticos ha mencionado que de...    positivo   \n",
       "1   1  una pequeña pequeña producción.la técnica de f...    positivo   \n",
       "2   2  pensé que esta era una manera maravillosa de p...    positivo   \n",
       "3   3  básicamente, hay una familia donde un niño peq...    negativo   \n",
       "4   4  el \"amor en el tiempo\" de petter mattei es una...    positivo   \n",
       "\n",
       "                                        review_token  \n",
       "0  [criticos, mencionado, despues, solo, episodio...  \n",
       "1  [pequeña, pequeña, produccion, tecnica, filmac...  \n",
       "2  [pense, manera, maravillosa, pasar, tiempo, se...  \n",
       "3  [basicamente, familia, niño, pequeño, jake, pi...  \n",
       "4  [amor, tiempo, petter, mattei, pelicula, visua...  "
      ]
     },
     "execution_count": 344,
     "metadata": {},
     "output_type": "execute_result"
    }
   ],
   "source": [
    "test['review_token'] = test['review_token'].apply(lambda x: [remove_tildes(item) for item in x])\n",
    "train['review_token'] = train['review_token'].apply(lambda x: [remove_tildes(item) for item in x])\n",
    "train.head()"
   ]
  },
  {
   "attachments": {},
   "cell_type": "markdown",
   "metadata": {},
   "source": [
    "### Filtrar palabras por frecuencia"
   ]
  },
  {
   "attachments": {},
   "cell_type": "markdown",
   "metadata": {},
   "source": [
    "Vamos a crear una variable que contenga todas las palabras de las reviews."
   ]
  },
  {
   "cell_type": "code",
   "execution_count": 345,
   "metadata": {},
   "outputs": [],
   "source": [
    "vocabulario = Counter()\n",
    "\n",
    "for review in train['review_token']:\n",
    "    for palabra in review:\n",
    "        vocabulario[palabra] += 1\n"
   ]
  },
  {
   "cell_type": "code",
   "execution_count": 346,
   "metadata": {},
   "outputs": [
    {
     "data": {
      "text/plain": [
       "168294"
      ]
     },
     "execution_count": 346,
     "metadata": {},
     "output_type": "execute_result"
    }
   ],
   "source": [
    "len(vocabulario)"
   ]
  },
  {
   "cell_type": "markdown",
   "metadata": {},
   "source": [
    "Vamos a conservar solo las 10000 palabras más frecuentes y descartar las demás."
   ]
  },
  {
   "cell_type": "code",
   "execution_count": 347,
   "metadata": {},
   "outputs": [],
   "source": [
    "vocab_size = 10000\n",
    "vocabulario_truncado = [ word for word, count in vocabulario.most_common()[:vocab_size] ]"
   ]
  },
  {
   "cell_type": "code",
   "execution_count": 348,
   "metadata": {},
   "outputs": [
    {
     "data": {
      "text/plain": [
       "10000"
      ]
     },
     "execution_count": 348,
     "metadata": {},
     "output_type": "execute_result"
    }
   ],
   "source": [
    "len(vocabulario_truncado)"
   ]
  },
  {
   "cell_type": "markdown",
   "metadata": {},
   "source": [
    "Podemos ver las 20 palabras más frecuentes en el siguiente gráfico:"
   ]
  },
  {
   "cell_type": "code",
   "execution_count": 349,
   "metadata": {},
   "outputs": [
    {
     "data": {
      "image/png": "[encoded data removed]",
      "text/plain": [
       "<Figure size 640x480 with 1 Axes>"
      ]
     },
     "metadata": {},
     "output_type": "display_data"
    }
   ],
   "source": [
    "top20 = pd.Series(dict(vocabulario.most_common(20)))\n",
    "sns.barplot(y=top20.index, x=top20.values).set(title='Top 20 palabras más frecuentes', xlabel='Frecuencia', ylabel='Palabra')\n",
    "\n",
    "plt.show()"
   ]
  },
  {
   "attachments": {},
   "cell_type": "markdown",
   "metadata": {},
   "source": [
    "Ahora procedemos a dejar solo las palabras que se encuentran entre las 10000 más frecuentes."
   ]
  },
  {
   "cell_type": "code",
   "execution_count": 350,
   "metadata": {},
   "outputs": [
    {
     "data": {
      "text/html": [
       "<div>\n",
       "<style scoped>\n",
       "    .dataframe tbody tr th:only-of-type {\n",
       "        vertical-align: middle;\n",
       "    }\n",
       "\n",
       "    .dataframe tbody tr th {\n",
       "        vertical-align: top;\n",
       "    }\n",
       "\n",
       "    .dataframe thead th {\n",
       "        text-align: right;\n",
       "    }\n",
       "</style>\n",
       "<table border=\"1\" class=\"dataframe\">\n",
       "  <thead>\n",
       "    <tr style=\"text-align: right;\">\n",
       "      <th></th>\n",
       "      <th>ID</th>\n",
       "      <th>review_es</th>\n",
       "      <th>sentimiento</th>\n",
       "      <th>review_token</th>\n",
       "      <th>review_filtrado</th>\n",
       "    </tr>\n",
       "  </thead>\n",
       "  <tbody>\n",
       "    <tr>\n",
       "      <th>0</th>\n",
       "      <td>0</td>\n",
       "      <td>uno de los otros críticos ha mencionado que de...</td>\n",
       "      <td>positivo</td>\n",
       "      <td>[criticos, mencionado, despues, solo, episodio...</td>\n",
       "      <td>[criticos, mencionado, despues, solo, episodio...</td>\n",
       "    </tr>\n",
       "    <tr>\n",
       "      <th>1</th>\n",
       "      <td>1</td>\n",
       "      <td>una pequeña pequeña producción.la técnica de f...</td>\n",
       "      <td>positivo</td>\n",
       "      <td>[pequeña, pequeña, produccion, tecnica, filmac...</td>\n",
       "      <td>[pequeña, pequeña, produccion, tecnica, filmac...</td>\n",
       "    </tr>\n",
       "    <tr>\n",
       "      <th>2</th>\n",
       "      <td>2</td>\n",
       "      <td>pensé que esta era una manera maravillosa de p...</td>\n",
       "      <td>positivo</td>\n",
       "      <td>[pense, manera, maravillosa, pasar, tiempo, se...</td>\n",
       "      <td>[pense, manera, maravillosa, pasar, tiempo, se...</td>\n",
       "    </tr>\n",
       "    <tr>\n",
       "      <th>3</th>\n",
       "      <td>3</td>\n",
       "      <td>básicamente, hay una familia donde un niño peq...</td>\n",
       "      <td>negativo</td>\n",
       "      <td>[basicamente, familia, niño, pequeño, jake, pi...</td>\n",
       "      <td>[basicamente, familia, niño, pequeño, jake, pi...</td>\n",
       "    </tr>\n",
       "    <tr>\n",
       "      <th>4</th>\n",
       "      <td>4</td>\n",
       "      <td>el \"amor en el tiempo\" de petter mattei es una...</td>\n",
       "      <td>positivo</td>\n",
       "      <td>[amor, tiempo, petter, mattei, pelicula, visua...</td>\n",
       "      <td>[amor, tiempo, pelicula, visualmente, impresio...</td>\n",
       "    </tr>\n",
       "  </tbody>\n",
       "</table>\n",
       "</div>"
      ],
      "text/plain": [
       "   ID                                          review_es sentimiento  \\\n",
       "0   0  uno de los otros críticos ha mencionado que de...    positivo   \n",
       "1   1  una pequeña pequeña producción.la técnica de f...    positivo   \n",
       "2   2  pensé que esta era una manera maravillosa de p...    positivo   \n",
       "3   3  básicamente, hay una familia donde un niño peq...    negativo   \n",
       "4   4  el \"amor en el tiempo\" de petter mattei es una...    positivo   \n",
       "\n",
       "                                        review_token  \\\n",
       "0  [criticos, mencionado, despues, solo, episodio...   \n",
       "1  [pequeña, pequeña, produccion, tecnica, filmac...   \n",
       "2  [pense, manera, maravillosa, pasar, tiempo, se...   \n",
       "3  [basicamente, familia, niño, pequeño, jake, pi...   \n",
       "4  [amor, tiempo, petter, mattei, pelicula, visua...   \n",
       "\n",
       "                                     review_filtrado  \n",
       "0  [criticos, mencionado, despues, solo, episodio...  \n",
       "1  [pequeña, pequeña, produccion, tecnica, filmac...  \n",
       "2  [pense, manera, maravillosa, pasar, tiempo, se...  \n",
       "3  [basicamente, familia, niño, pequeño, jake, pi...  \n",
       "4  [amor, tiempo, pelicula, visualmente, impresio...  "
      ]
     },
     "execution_count": 350,
     "metadata": {},
     "output_type": "execute_result"
    }
   ],
   "source": [
    "test['review_filtrado'] = test['review_token'].apply(lambda x: [item for item in x if item in vocabulario_truncado])\n",
    "train['review_filtrado'] = train['review_token'].apply(lambda x: [item for item in x if item in vocabulario_truncado])\n",
    "train.head()"
   ]
  },
  {
   "attachments": {},
   "cell_type": "markdown",
   "metadata": {},
   "source": [
    "### Truncar reviews"
   ]
  },
  {
   "attachments": {},
   "cell_type": "markdown",
   "metadata": {},
   "source": [
    "Vamos a dejar solo las 300 primeras palabras de cada review, para acortarlas."
   ]
  },
  {
   "cell_type": "code",
   "execution_count": 351,
   "metadata": {},
   "outputs": [
    {
     "data": {
      "text/html": [
       "<div>\n",
       "<style scoped>\n",
       "    .dataframe tbody tr th:only-of-type {\n",
       "        vertical-align: middle;\n",
       "    }\n",
       "\n",
       "    .dataframe tbody tr th {\n",
       "        vertical-align: top;\n",
       "    }\n",
       "\n",
       "    .dataframe thead th {\n",
       "        text-align: right;\n",
       "    }\n",
       "</style>\n",
       "<table border=\"1\" class=\"dataframe\">\n",
       "  <thead>\n",
       "    <tr style=\"text-align: right;\">\n",
       "      <th></th>\n",
       "      <th>ID</th>\n",
       "      <th>review_es</th>\n",
       "      <th>sentimiento</th>\n",
       "      <th>review_token</th>\n",
       "      <th>review_filtrado</th>\n",
       "      <th>review_filtrado_300</th>\n",
       "    </tr>\n",
       "  </thead>\n",
       "  <tbody>\n",
       "    <tr>\n",
       "      <th>0</th>\n",
       "      <td>0</td>\n",
       "      <td>uno de los otros críticos ha mencionado que de...</td>\n",
       "      <td>positivo</td>\n",
       "      <td>[criticos, mencionado, despues, solo, episodio...</td>\n",
       "      <td>[criticos, mencionado, despues, solo, episodio...</td>\n",
       "      <td>[criticos, mencionado, despues, solo, episodio...</td>\n",
       "    </tr>\n",
       "    <tr>\n",
       "      <th>1</th>\n",
       "      <td>1</td>\n",
       "      <td>una pequeña pequeña producción.la técnica de f...</td>\n",
       "      <td>positivo</td>\n",
       "      <td>[pequeña, pequeña, produccion, tecnica, filmac...</td>\n",
       "      <td>[pequeña, pequeña, produccion, tecnica, filmac...</td>\n",
       "      <td>[pequeña, pequeña, produccion, tecnica, filmac...</td>\n",
       "    </tr>\n",
       "    <tr>\n",
       "      <th>2</th>\n",
       "      <td>2</td>\n",
       "      <td>pensé que esta era una manera maravillosa de p...</td>\n",
       "      <td>positivo</td>\n",
       "      <td>[pense, manera, maravillosa, pasar, tiempo, se...</td>\n",
       "      <td>[pense, manera, maravillosa, pasar, tiempo, se...</td>\n",
       "      <td>[pense, manera, maravillosa, pasar, tiempo, se...</td>\n",
       "    </tr>\n",
       "    <tr>\n",
       "      <th>3</th>\n",
       "      <td>3</td>\n",
       "      <td>básicamente, hay una familia donde un niño peq...</td>\n",
       "      <td>negativo</td>\n",
       "      <td>[basicamente, familia, niño, pequeño, jake, pi...</td>\n",
       "      <td>[basicamente, familia, niño, pequeño, jake, pi...</td>\n",
       "      <td>[basicamente, familia, niño, pequeño, jake, pi...</td>\n",
       "    </tr>\n",
       "    <tr>\n",
       "      <th>4</th>\n",
       "      <td>4</td>\n",
       "      <td>el \"amor en el tiempo\" de petter mattei es una...</td>\n",
       "      <td>positivo</td>\n",
       "      <td>[amor, tiempo, petter, mattei, pelicula, visua...</td>\n",
       "      <td>[amor, tiempo, pelicula, visualmente, impresio...</td>\n",
       "      <td>[amor, tiempo, pelicula, visualmente, impresio...</td>\n",
       "    </tr>\n",
       "  </tbody>\n",
       "</table>\n",
       "</div>"
      ],
      "text/plain": [
       "   ID                                          review_es sentimiento  \\\n",
       "0   0  uno de los otros críticos ha mencionado que de...    positivo   \n",
       "1   1  una pequeña pequeña producción.la técnica de f...    positivo   \n",
       "2   2  pensé que esta era una manera maravillosa de p...    positivo   \n",
       "3   3  básicamente, hay una familia donde un niño peq...    negativo   \n",
       "4   4  el \"amor en el tiempo\" de petter mattei es una...    positivo   \n",
       "\n",
       "                                        review_token  \\\n",
       "0  [criticos, mencionado, despues, solo, episodio...   \n",
       "1  [pequeña, pequeña, produccion, tecnica, filmac...   \n",
       "2  [pense, manera, maravillosa, pasar, tiempo, se...   \n",
       "3  [basicamente, familia, niño, pequeño, jake, pi...   \n",
       "4  [amor, tiempo, petter, mattei, pelicula, visua...   \n",
       "\n",
       "                                     review_filtrado  \\\n",
       "0  [criticos, mencionado, despues, solo, episodio...   \n",
       "1  [pequeña, pequeña, produccion, tecnica, filmac...   \n",
       "2  [pense, manera, maravillosa, pasar, tiempo, se...   \n",
       "3  [basicamente, familia, niño, pequeño, jake, pi...   \n",
       "4  [amor, tiempo, pelicula, visualmente, impresio...   \n",
       "\n",
       "                                 review_filtrado_300  \n",
       "0  [criticos, mencionado, despues, solo, episodio...  \n",
       "1  [pequeña, pequeña, produccion, tecnica, filmac...  \n",
       "2  [pense, manera, maravillosa, pasar, tiempo, se...  \n",
       "3  [basicamente, familia, niño, pequeño, jake, pi...  \n",
       "4  [amor, tiempo, pelicula, visualmente, impresio...  "
      ]
     },
     "execution_count": 351,
     "metadata": {},
     "output_type": "execute_result"
    }
   ],
   "source": [
    "test['review_filtrado_300'] = test['review_filtrado'].apply(lambda x: x[:300])\n",
    "train['review_filtrado_300'] = train['review_filtrado'].apply(lambda x: x[:300])\n",
    "train.head()"
   ]
  },
  {
   "attachments": {},
   "cell_type": "markdown",
   "metadata": {},
   "source": [
    "### Unión de las palabras en strings"
   ]
  },
  {
   "cell_type": "markdown",
   "metadata": {},
   "source": [
    "Juntamos las palabras de todas las reviews para que vuelvan a ser un string."
   ]
  },
  {
   "cell_type": "code",
   "execution_count": 352,
   "metadata": {},
   "outputs": [
    {
     "data": {
      "text/html": [
       "<div>\n",
       "<style scoped>\n",
       "    .dataframe tbody tr th:only-of-type {\n",
       "        vertical-align: middle;\n",
       "    }\n",
       "\n",
       "    .dataframe tbody tr th {\n",
       "        vertical-align: top;\n",
       "    }\n",
       "\n",
       "    .dataframe thead th {\n",
       "        text-align: right;\n",
       "    }\n",
       "</style>\n",
       "<table border=\"1\" class=\"dataframe\">\n",
       "  <thead>\n",
       "    <tr style=\"text-align: right;\">\n",
       "      <th></th>\n",
       "      <th>ID</th>\n",
       "      <th>review_es</th>\n",
       "      <th>sentimiento</th>\n",
       "      <th>review_token</th>\n",
       "      <th>review_filtrado</th>\n",
       "      <th>review_filtrado_300</th>\n",
       "      <th>review_filtrado_string</th>\n",
       "    </tr>\n",
       "  </thead>\n",
       "  <tbody>\n",
       "    <tr>\n",
       "      <th>0</th>\n",
       "      <td>0</td>\n",
       "      <td>uno de los otros críticos ha mencionado que de...</td>\n",
       "      <td>positivo</td>\n",
       "      <td>[criticos, mencionado, despues, solo, episodio...</td>\n",
       "      <td>[criticos, mencionado, despues, solo, episodio...</td>\n",
       "      <td>[criticos, mencionado, despues, solo, episodio...</td>\n",
       "      <td>criticos mencionado despues solo episodio enga...</td>\n",
       "    </tr>\n",
       "    <tr>\n",
       "      <th>1</th>\n",
       "      <td>1</td>\n",
       "      <td>una pequeña pequeña producción.la técnica de f...</td>\n",
       "      <td>positivo</td>\n",
       "      <td>[pequeña, pequeña, produccion, tecnica, filmac...</td>\n",
       "      <td>[pequeña, pequeña, produccion, tecnica, filmac...</td>\n",
       "      <td>[pequeña, pequeña, produccion, tecnica, filmac...</td>\n",
       "      <td>pequeña pequeña produccion tecnica filmacion a...</td>\n",
       "    </tr>\n",
       "    <tr>\n",
       "      <th>2</th>\n",
       "      <td>2</td>\n",
       "      <td>pensé que esta era una manera maravillosa de p...</td>\n",
       "      <td>positivo</td>\n",
       "      <td>[pense, manera, maravillosa, pasar, tiempo, se...</td>\n",
       "      <td>[pense, manera, maravillosa, pasar, tiempo, se...</td>\n",
       "      <td>[pense, manera, maravillosa, pasar, tiempo, se...</td>\n",
       "      <td>pense manera maravillosa pasar tiempo semana v...</td>\n",
       "    </tr>\n",
       "    <tr>\n",
       "      <th>3</th>\n",
       "      <td>3</td>\n",
       "      <td>básicamente, hay una familia donde un niño peq...</td>\n",
       "      <td>negativo</td>\n",
       "      <td>[basicamente, familia, niño, pequeño, jake, pi...</td>\n",
       "      <td>[basicamente, familia, niño, pequeño, jake, pi...</td>\n",
       "      <td>[basicamente, familia, niño, pequeño, jake, pi...</td>\n",
       "      <td>basicamente familia niño pequeño jake piensa z...</td>\n",
       "    </tr>\n",
       "    <tr>\n",
       "      <th>4</th>\n",
       "      <td>4</td>\n",
       "      <td>el \"amor en el tiempo\" de petter mattei es una...</td>\n",
       "      <td>positivo</td>\n",
       "      <td>[amor, tiempo, petter, mattei, pelicula, visua...</td>\n",
       "      <td>[amor, tiempo, pelicula, visualmente, impresio...</td>\n",
       "      <td>[amor, tiempo, pelicula, visualmente, impresio...</td>\n",
       "      <td>amor tiempo pelicula visualmente impresionante...</td>\n",
       "    </tr>\n",
       "  </tbody>\n",
       "</table>\n",
       "</div>"
      ],
      "text/plain": [
       "   ID                                          review_es sentimiento  \\\n",
       "0   0  uno de los otros críticos ha mencionado que de...    positivo   \n",
       "1   1  una pequeña pequeña producción.la técnica de f...    positivo   \n",
       "2   2  pensé que esta era una manera maravillosa de p...    positivo   \n",
       "3   3  básicamente, hay una familia donde un niño peq...    negativo   \n",
       "4   4  el \"amor en el tiempo\" de petter mattei es una...    positivo   \n",
       "\n",
       "                                        review_token  \\\n",
       "0  [criticos, mencionado, despues, solo, episodio...   \n",
       "1  [pequeña, pequeña, produccion, tecnica, filmac...   \n",
       "2  [pense, manera, maravillosa, pasar, tiempo, se...   \n",
       "3  [basicamente, familia, niño, pequeño, jake, pi...   \n",
       "4  [amor, tiempo, petter, mattei, pelicula, visua...   \n",
       "\n",
       "                                     review_filtrado  \\\n",
       "0  [criticos, mencionado, despues, solo, episodio...   \n",
       "1  [pequeña, pequeña, produccion, tecnica, filmac...   \n",
       "2  [pense, manera, maravillosa, pasar, tiempo, se...   \n",
       "3  [basicamente, familia, niño, pequeño, jake, pi...   \n",
       "4  [amor, tiempo, pelicula, visualmente, impresio...   \n",
       "\n",
       "                                 review_filtrado_300  \\\n",
       "0  [criticos, mencionado, despues, solo, episodio...   \n",
       "1  [pequeña, pequeña, produccion, tecnica, filmac...   \n",
       "2  [pense, manera, maravillosa, pasar, tiempo, se...   \n",
       "3  [basicamente, familia, niño, pequeño, jake, pi...   \n",
       "4  [amor, tiempo, pelicula, visualmente, impresio...   \n",
       "\n",
       "                              review_filtrado_string  \n",
       "0  criticos mencionado despues solo episodio enga...  \n",
       "1  pequeña pequeña produccion tecnica filmacion a...  \n",
       "2  pense manera maravillosa pasar tiempo semana v...  \n",
       "3  basicamente familia niño pequeño jake piensa z...  \n",
       "4  amor tiempo pelicula visualmente impresionante...  "
      ]
     },
     "execution_count": 352,
     "metadata": {},
     "output_type": "execute_result"
    }
   ],
   "source": [
    "test['review_filtrado_string'] = test['review_filtrado_300'].apply(lambda x: ' '.join(x))\n",
    "train['review_filtrado_string'] = train['review_filtrado_300'].apply(lambda x: ' '.join(x))\n",
    "train.head()"
   ]
  },
  {
   "attachments": {},
   "cell_type": "markdown",
   "metadata": {},
   "source": [
    "### Bag of Words"
   ]
  },
  {
   "attachments": {},
   "cell_type": "markdown",
   "metadata": {},
   "source": [
    "La técnica Bag of Words es una forma de representar datos de texto en aprendizaje automático. El concepto básico es tratar cada documento de texto como una \"bolsa\" de palabras, donde se ignora el orden y la estructura gramatical de las palabras. En lugar de eso, se enfoca únicamente en la presencia y frecuencia de las palabras en el texto."
   ]
  },
  {
   "attachments": {},
   "cell_type": "markdown",
   "metadata": {},
   "source": [
    "Vamos a utilizar ``TfidfVectorizer`` de scikit-learn que implementa la técnica de ponderación TF-IDF (Term Frequency-Inverse Document Frequency) para convertir datos de texto en características numéricas."
   ]
  },
  {
   "cell_type": "code",
   "execution_count": 353,
   "metadata": {},
   "outputs": [],
   "source": [
    "vectorizer = TfidfVectorizer()\n",
    "train_fid = vectorizer.fit_transform(train.review_filtrado_string)\n",
    "test_fid = vectorizer.transform(test.review_filtrado_string)"
   ]
  },
  {
   "cell_type": "code",
   "execution_count": 354,
   "metadata": {},
   "outputs": [
    {
     "name": "stdout",
     "output_type": "stream",
     "text": [
      "  (0, 6793)\t0.07895856355280216\n",
      "  (0, 5458)\t0.0614521065749212\n",
      "  (0, 2121)\t0.0957988678733533\n",
      "  (0, 7630)\t0.05916120808205655\n",
      "  (0, 9813)\t0.09059946962097332\n",
      "  (0, 4949)\t0.09514568292128175\n",
      "  (0, 1911)\t0.11160465578791753\n",
      "  (0, 8538)\t0.09419271756567639\n",
      "  (0, 7628)\t0.03923741692650343\n",
      "  (0, 9745)\t0.06709350492991467\n",
      "  (0, 3806)\t0.07075567801600022\n",
      "  (0, 4530)\t0.08677248602244989\n",
      "  (0, 3925)\t0.0662566795715937\n",
      "  (0, 2541)\t0.060437456577177515\n",
      "  (0, 2193)\t0.10606132799322633\n",
      "  (0, 6035)\t0.07304564508415505\n",
      "  (0, 1749)\t0.07070850674913352\n",
      "  (0, 5884)\t0.04615034355496539\n",
      "  (0, 6761)\t0.0934842094457536\n",
      "  (0, 4488)\t0.11545187845691489\n",
      "  (0, 5045)\t0.11858166086046516\n",
      "  (0, 8717)\t0.05807295214419874\n",
      "  (0, 4426)\t0.10727937759000064\n",
      "  (0, 6520)\t0.0901545491867353\n",
      "  (0, 432)\t0.09484966129558828\n",
      "  :\t:\n",
      "  (49999, 9413)\t0.08651695551162088\n",
      "  (49999, 2069)\t0.16774689261842027\n",
      "  (49999, 9701)\t0.10049870175086295\n",
      "  (49999, 7019)\t0.09451293552296919\n",
      "  (49999, 4115)\t0.09158906313691571\n",
      "  (49999, 3613)\t0.13469426043004984\n",
      "  (49999, 8897)\t0.13719110523849481\n",
      "  (49999, 7314)\t0.15717632460067638\n",
      "  (49999, 6063)\t0.09185310919249647\n",
      "  (49999, 3274)\t0.1554120469256965\n",
      "  (49999, 9686)\t0.11377777054957362\n",
      "  (49999, 3942)\t0.11394812674599121\n",
      "  (49999, 325)\t0.0831904696028192\n",
      "  (49999, 6985)\t0.11389432560256565\n",
      "  (49999, 1257)\t0.0776528242930714\n",
      "  (49999, 9529)\t0.10011700453557819\n",
      "  (49999, 6420)\t0.10297135627402701\n",
      "  (49999, 6984)\t0.23491490354104252\n",
      "  (49999, 4942)\t0.1419207451147022\n",
      "  (49999, 7092)\t0.0730881904474511\n",
      "  (49999, 6997)\t0.18628528345097475\n",
      "  (49999, 9599)\t0.20793773757778614\n",
      "  (49999, 7628)\t0.06765483730469711\n",
      "  (49999, 9309)\t0.08728046952078858\n",
      "  (49999, 3528)\t0.08111060449717981\n"
     ]
    }
   ],
   "source": [
    "print(train_fid)"
   ]
  },
  {
   "attachments": {},
   "cell_type": "markdown",
   "metadata": {},
   "source": [
    "## Split train/test"
   ]
  },
  {
   "attachments": {},
   "cell_type": "markdown",
   "metadata": {},
   "source": [
    "Dvidimos el dataset en train y test."
   ]
  },
  {
   "cell_type": "code",
   "execution_count": 393,
   "metadata": {},
   "outputs": [],
   "source": [
    "x_train, x_test, y_train, y_test = train_test_split(train_fid,\n",
    "                                                    train.sentimiento, \n",
    "                                                    test_size=0.3,\n",
    "                                                    random_state=RANDOM_STATE, shuffle=True)"
   ]
  },
  {
   "cell_type": "markdown",
   "metadata": {},
   "source": [
    "Mapeamos las etiquetas de los targets a 0 y 1 para no tener inconvenientes con los modelos."
   ]
  },
  {
   "cell_type": "code",
   "execution_count": null,
   "metadata": {},
   "outputs": [
    {
     "data": {
      "text/plain": [
       "38094    0\n",
       "40624    1\n",
       "49425    0\n",
       "35734    1\n",
       "41708    0\n",
       "Name: sentimiento, dtype: int64"
      ]
     },
     "metadata": {},
     "output_type": "display_data"
    }
   ],
   "source": [
    "label_map = {'negativo': 0, 'positivo': 1}\n",
    "y_train_mapped = y_train.map(label_map)\n",
    "y_test_mapped = y_test.map(label_map)\n",
    "y_train_mapped.head()"
   ]
  },
  {
   "attachments": {},
   "cell_type": "markdown",
   "metadata": {},
   "source": [
    "## Bayes Naive"
   ]
  },
  {
   "cell_type": "markdown",
   "metadata": {},
   "source": [
    "### Random Search"
   ]
  },
  {
   "attachments": {},
   "cell_type": "markdown",
   "metadata": {},
   "source": [
    "Realizamos optimización de hiperparámetros con Random Search."
   ]
  },
  {
   "cell_type": "code",
   "execution_count": 417,
   "metadata": {},
   "outputs": [
    {
     "name": "stdout",
     "output_type": "stream",
     "text": [
      "Fitting 5 folds for each of 15 candidates, totalling 75 fits\n",
      "[CV] END alpha=1.0, class_prior=[0.3, 0.7], fit_prior=True, force_alpha=True; total time=   0.0s\n",
      "[CV] END alpha=1.0, class_prior=[0.3, 0.7], fit_prior=True, force_alpha=True; total time=   0.0s\n",
      "[CV] END alpha=1.0, class_prior=[0.3, 0.7], fit_prior=True, force_alpha=True; total time=   0.0s\n",
      "[CV] END alpha=1.0, class_prior=[0.3, 0.7], fit_prior=True, force_alpha=True; total time=   0.0s\n",
      "[CV] END alpha=1.0, class_prior=[0.3, 0.7], fit_prior=True, force_alpha=True; total time=   0.0s\n",
      "[CV] END alpha=2.0, class_prior=[0.2, 0.8], fit_prior=True, force_alpha=False; total time=   0.0s\n",
      "[CV] END alpha=2.0, class_prior=[0.2, 0.8], fit_prior=True, force_alpha=False; total time=   0.0s\n",
      "[CV] END alpha=2.0, class_prior=[0.2, 0.8], fit_prior=True, force_alpha=False; total time=   0.0s\n",
      "[CV] END alpha=2.0, class_prior=[0.2, 0.8], fit_prior=True, force_alpha=False; total time=   0.0s\n",
      "[CV] END alpha=2.0, class_prior=[0.2, 0.8], fit_prior=True, force_alpha=False; total time=   0.0s\n",
      "[CV] END alpha=0.5, class_prior=[0.1, 0.9], fit_prior=True, force_alpha=True; total time=   0.1s\n",
      "[CV] END alpha=0.5, class_prior=[0.1, 0.9], fit_prior=True, force_alpha=True; total time=   0.1s\n",
      "[CV] END alpha=0.5, class_prior=[0.1, 0.9], fit_prior=True, force_alpha=True; total time=   0.0s\n",
      "[CV] END alpha=0.5, class_prior=[0.1, 0.9], fit_prior=True, force_alpha=True; total time=   0.0s\n",
      "[CV] END alpha=0.5, class_prior=[0.1, 0.9], fit_prior=True, force_alpha=True; total time=   0.0s\n",
      "[CV] END alpha=1.0, class_prior=[0.4, 0.6], fit_prior=False, force_alpha=False; total time=   0.0s\n",
      "[CV] END alpha=1.0, class_prior=[0.4, 0.6], fit_prior=False, force_alpha=False; total time=   0.0s\n",
      "[CV] END alpha=1.0, class_prior=[0.4, 0.6], fit_prior=False, force_alpha=False; total time=   0.0s\n",
      "[CV] END alpha=1.0, class_prior=[0.4, 0.6], fit_prior=False, force_alpha=False; total time=   0.0s\n",
      "[CV] END alpha=1.0, class_prior=[0.4, 0.6], fit_prior=False, force_alpha=False; total time=   0.0s\n",
      "[CV] END alpha=1.0, class_prior=[0.3, 0.7], fit_prior=False, force_alpha=True; total time=   0.0s\n",
      "[CV] END alpha=1.0, class_prior=[0.3, 0.7], fit_prior=False, force_alpha=True; total time=   0.0s\n",
      "[CV] END alpha=1.0, class_prior=[0.3, 0.7], fit_prior=False, force_alpha=True; total time=   0.0s\n",
      "[CV] END alpha=1.0, class_prior=[0.3, 0.7], fit_prior=False, force_alpha=True; total time=   0.0s\n",
      "[CV] END alpha=1.0, class_prior=[0.3, 0.7], fit_prior=False, force_alpha=True; total time=   0.0s\n",
      "[CV] END alpha=2.0, class_prior=[0.3, 0.7], fit_prior=True, force_alpha=False; total time=   0.0s\n",
      "[CV] END alpha=2.0, class_prior=[0.3, 0.7], fit_prior=True, force_alpha=False; total time=   0.0s\n",
      "[CV] END alpha=2.0, class_prior=[0.3, 0.7], fit_prior=True, force_alpha=False; total time=   0.0s\n",
      "[CV] END alpha=2.0, class_prior=[0.3, 0.7], fit_prior=True, force_alpha=False; total time=   0.0s\n",
      "[CV] END alpha=2.0, class_prior=[0.3, 0.7], fit_prior=True, force_alpha=False; total time=   0.0s\n",
      "[CV] END alpha=0.5, class_prior=[0.6, 0.4], fit_prior=False, force_alpha=True; total time=   0.0s\n",
      "[CV] END alpha=0.5, class_prior=[0.6, 0.4], fit_prior=False, force_alpha=True; total time=   0.0s\n",
      "[CV] END alpha=0.5, class_prior=[0.6, 0.4], fit_prior=False, force_alpha=True; total time=   0.0s\n",
      "[CV] END alpha=0.5, class_prior=[0.6, 0.4], fit_prior=False, force_alpha=True; total time=   0.0s\n",
      "[CV] END alpha=0.5, class_prior=[0.6, 0.4], fit_prior=False, force_alpha=True; total time=   0.0s\n",
      "[CV] END alpha=0.5, class_prior=[0.2, 0.8], fit_prior=False, force_alpha=False; total time=   0.0s\n",
      "[CV] END alpha=0.5, class_prior=[0.2, 0.8], fit_prior=False, force_alpha=False; total time=   0.0s\n",
      "[CV] END alpha=0.5, class_prior=[0.2, 0.8], fit_prior=False, force_alpha=False; total time=   0.0s\n",
      "[CV] END alpha=0.5, class_prior=[0.2, 0.8], fit_prior=False, force_alpha=False; total time=   0.0s\n",
      "[CV] END alpha=0.5, class_prior=[0.2, 0.8], fit_prior=False, force_alpha=False; total time=   0.0s\n",
      "[CV] END alpha=0.5, class_prior=[0.2, 0.8], fit_prior=False, force_alpha=True; total time=   0.0s\n",
      "[CV] END alpha=0.5, class_prior=[0.2, 0.8], fit_prior=False, force_alpha=True; total time=   0.0s\n",
      "[CV] END alpha=0.5, class_prior=[0.2, 0.8], fit_prior=False, force_alpha=True; total time=   0.0s\n",
      "[CV] END alpha=0.5, class_prior=[0.2, 0.8], fit_prior=False, force_alpha=True; total time=   0.0s\n",
      "[CV] END alpha=0.5, class_prior=[0.2, 0.8], fit_prior=False, force_alpha=True; total time=   0.0s\n",
      "[CV] END alpha=1.0, class_prior=[0.4, 0.6], fit_prior=True, force_alpha=True; total time=   0.0s\n",
      "[CV] END alpha=1.0, class_prior=[0.4, 0.6], fit_prior=True, force_alpha=True; total time=   0.0s\n",
      "[CV] END alpha=1.0, class_prior=[0.4, 0.6], fit_prior=True, force_alpha=True; total time=   0.0s\n",
      "[CV] END alpha=1.0, class_prior=[0.4, 0.6], fit_prior=True, force_alpha=True; total time=   0.0s\n",
      "[CV] END alpha=1.0, class_prior=[0.4, 0.6], fit_prior=True, force_alpha=True; total time=   0.0s\n",
      "[CV] END alpha=2.0, class_prior=[0.4, 0.6], fit_prior=True, force_alpha=False; total time=   0.0s\n",
      "[CV] END alpha=2.0, class_prior=[0.4, 0.6], fit_prior=True, force_alpha=False; total time=   0.0s\n",
      "[CV] END alpha=2.0, class_prior=[0.4, 0.6], fit_prior=True, force_alpha=False; total time=   0.0s\n",
      "[CV] END alpha=2.0, class_prior=[0.4, 0.6], fit_prior=True, force_alpha=False; total time=   0.0s\n",
      "[CV] END alpha=2.0, class_prior=[0.4, 0.6], fit_prior=True, force_alpha=False; total time=   0.0s\n",
      "[CV] END alpha=1.0, class_prior=[0.6, 0.4], fit_prior=False, force_alpha=False; total time=   0.0s\n",
      "[CV] END alpha=1.0, class_prior=[0.6, 0.4], fit_prior=False, force_alpha=False; total time=   0.0s\n",
      "[CV] END alpha=1.0, class_prior=[0.6, 0.4], fit_prior=False, force_alpha=False; total time=   0.0s\n",
      "[CV] END alpha=1.0, class_prior=[0.6, 0.4], fit_prior=False, force_alpha=False; total time=   0.0s\n",
      "[CV] END alpha=1.0, class_prior=[0.6, 0.4], fit_prior=False, force_alpha=False; total time=   0.0s\n",
      "[CV] END alpha=2.0, class_prior=[0.3, 0.7], fit_prior=True, force_alpha=True; total time=   0.0s\n",
      "[CV] END alpha=2.0, class_prior=[0.3, 0.7], fit_prior=True, force_alpha=True; total time=   0.0s\n",
      "[CV] END alpha=2.0, class_prior=[0.3, 0.7], fit_prior=True, force_alpha=True; total time=   0.0s\n",
      "[CV] END alpha=2.0, class_prior=[0.3, 0.7], fit_prior=True, force_alpha=True; total time=   0.0s\n",
      "[CV] END alpha=2.0, class_prior=[0.3, 0.7], fit_prior=True, force_alpha=True; total time=   0.0s\n",
      "[CV] END alpha=5.0, class_prior=[0.3, 0.7], fit_prior=True, force_alpha=False; total time=   0.0s\n",
      "[CV] END alpha=5.0, class_prior=[0.3, 0.7], fit_prior=True, force_alpha=False; total time=   0.0s\n",
      "[CV] END alpha=5.0, class_prior=[0.3, 0.7], fit_prior=True, force_alpha=False; total time=   0.0s\n",
      "[CV] END alpha=5.0, class_prior=[0.3, 0.7], fit_prior=True, force_alpha=False; total time=   0.0s\n",
      "[CV] END alpha=5.0, class_prior=[0.3, 0.7], fit_prior=True, force_alpha=False; total time=   0.0s\n",
      "[CV] END alpha=0.5, class_prior=None, fit_prior=True, force_alpha=True; total time=   0.0s\n",
      "[CV] END alpha=0.5, class_prior=None, fit_prior=True, force_alpha=True; total time=   0.0s\n",
      "[CV] END alpha=0.5, class_prior=None, fit_prior=True, force_alpha=True; total time=   0.0s\n",
      "[CV] END alpha=0.5, class_prior=None, fit_prior=True, force_alpha=True; total time=   0.0s\n",
      "[CV] END alpha=0.5, class_prior=None, fit_prior=True, force_alpha=True; total time=   0.0s\n"
     ]
    },
    {
     "data": {
      "text/html": [
       "<style>#sk-container-id-4 {color: black;background-color: white;}#sk-container-id-4 pre{padding: 0;}#sk-container-id-4 div.sk-toggleable {background-color: white;}#sk-container-id-4 label.sk-toggleable__label {cursor: pointer;display: block;width: 100%;margin-bottom: 0;padding: 0.3em;box-sizing: border-box;text-align: center;}#sk-container-id-4 label.sk-toggleable__label-arrow:before {content: \"▸\";float: left;margin-right: 0.25em;color: #696969;}#sk-container-id-4 label.sk-toggleable__label-arrow:hover:before {color: black;}#sk-container-id-4 div.sk-estimator:hover label.sk-toggleable__label-arrow:before {color: black;}#sk-container-id-4 div.sk-toggleable__content {max-height: 0;max-width: 0;overflow: hidden;text-align: left;background-color: #f0f8ff;}#sk-container-id-4 div.sk-toggleable__content pre {margin: 0.2em;color: black;border-radius: 0.25em;background-color: #f0f8ff;}#sk-container-id-4 input.sk-toggleable__control:checked~div.sk-toggleable__content {max-height: 200px;max-width: 100%;overflow: auto;}#sk-container-id-4 input.sk-toggleable__control:checked~label.sk-toggleable__label-arrow:before {content: \"▾\";}#sk-container-id-4 div.sk-estimator input.sk-toggleable__control:checked~label.sk-toggleable__label {background-color: #d4ebff;}#sk-container-id-4 div.sk-label input.sk-toggleable__control:checked~label.sk-toggleable__label {background-color: #d4ebff;}#sk-container-id-4 input.sk-hidden--visually {border: 0;clip: rect(1px 1px 1px 1px);clip: rect(1px, 1px, 1px, 1px);height: 1px;margin: -1px;overflow: hidden;padding: 0;position: absolute;width: 1px;}#sk-container-id-4 div.sk-estimator {font-family: monospace;background-color: #f0f8ff;border: 1px dotted black;border-radius: 0.25em;box-sizing: border-box;margin-bottom: 0.5em;}#sk-container-id-4 div.sk-estimator:hover {background-color: #d4ebff;}#sk-container-id-4 div.sk-parallel-item::after {content: \"\";width: 100%;border-bottom: 1px solid gray;flex-grow: 1;}#sk-container-id-4 div.sk-label:hover label.sk-toggleable__label {background-color: #d4ebff;}#sk-container-id-4 div.sk-serial::before {content: \"\";position: absolute;border-left: 1px solid gray;box-sizing: border-box;top: 0;bottom: 0;left: 50%;z-index: 0;}#sk-container-id-4 div.sk-serial {display: flex;flex-direction: column;align-items: center;background-color: white;padding-right: 0.2em;padding-left: 0.2em;position: relative;}#sk-container-id-4 div.sk-item {position: relative;z-index: 1;}#sk-container-id-4 div.sk-parallel {display: flex;align-items: stretch;justify-content: center;background-color: white;position: relative;}#sk-container-id-4 div.sk-item::before, #sk-container-id-4 div.sk-parallel-item::before {content: \"\";position: absolute;border-left: 1px solid gray;box-sizing: border-box;top: 0;bottom: 0;left: 50%;z-index: -1;}#sk-container-id-4 div.sk-parallel-item {display: flex;flex-direction: column;z-index: 1;position: relative;background-color: white;}#sk-container-id-4 div.sk-parallel-item:first-child::after {align-self: flex-end;width: 50%;}#sk-container-id-4 div.sk-parallel-item:last-child::after {align-self: flex-start;width: 50%;}#sk-container-id-4 div.sk-parallel-item:only-child::after {width: 0;}#sk-container-id-4 div.sk-dashed-wrapped {border: 1px dashed gray;margin: 0 0.4em 0.5em 0.4em;box-sizing: border-box;padding-bottom: 0.4em;background-color: white;}#sk-container-id-4 div.sk-label label {font-family: monospace;font-weight: bold;display: inline-block;line-height: 1.2em;}#sk-container-id-4 div.sk-label-container {text-align: center;}#sk-container-id-4 div.sk-container {/* jupyter's `normalize.less` sets `[hidden] { display: none; }` but bootstrap.min.css set `[hidden] { display: none !important; }` so we also need the `!important` here to be able to override the default hidden behavior on the sphinx rendered scikit-learn.org. See: https://github.com/scikit-learn/scikit-learn/issues/21755 */display: inline-block !important;position: relative;}#sk-container-id-4 div.sk-text-repr-fallback {display: none;}</style><div id=\"sk-container-id-4\" class=\"sk-top-container\"><div class=\"sk-text-repr-fallback\"><pre>RandomizedSearchCV(cv=StratifiedKFold(n_splits=5, random_state=None, shuffle=True),\n",
       "                   estimator=MultinomialNB(), n_iter=15,\n",
       "                   param_distributions={&#x27;alpha&#x27;: [0.5, 1.0, 2.0, 5.0],\n",
       "                                        &#x27;class_prior&#x27;: [None, [0.1, 0.9],\n",
       "                                                        [0.2, 0.8], [0.3, 0.7],\n",
       "                                                        [0.4, 0.6], [0.5, 0.5],\n",
       "                                                        [0.6, 0.4]],\n",
       "                                        &#x27;fit_prior&#x27;: [True, False],\n",
       "                                        &#x27;force_alpha&#x27;: [True, False]},\n",
       "                   random_state=42, scoring=make_scorer(f1_score, pos_label=1),\n",
       "                   verbose=2)</pre><b>In a Jupyter environment, please rerun this cell to show the HTML representation or trust the notebook. <br />On GitHub, the HTML representation is unable to render, please try loading this page with nbviewer.org.</b></div><div class=\"sk-container\" hidden><div class=\"sk-item sk-dashed-wrapped\"><div class=\"sk-label-container\"><div class=\"sk-label sk-toggleable\"><input class=\"sk-toggleable__control sk-hidden--visually\" id=\"sk-estimator-id-10\" type=\"checkbox\" ><label for=\"sk-estimator-id-10\" class=\"sk-toggleable__label sk-toggleable__label-arrow\">RandomizedSearchCV</label><div class=\"sk-toggleable__content\"><pre>RandomizedSearchCV(cv=StratifiedKFold(n_splits=5, random_state=None, shuffle=True),\n",
       "                   estimator=MultinomialNB(), n_iter=15,\n",
       "                   param_distributions={&#x27;alpha&#x27;: [0.5, 1.0, 2.0, 5.0],\n",
       "                                        &#x27;class_prior&#x27;: [None, [0.1, 0.9],\n",
       "                                                        [0.2, 0.8], [0.3, 0.7],\n",
       "                                                        [0.4, 0.6], [0.5, 0.5],\n",
       "                                                        [0.6, 0.4]],\n",
       "                                        &#x27;fit_prior&#x27;: [True, False],\n",
       "                                        &#x27;force_alpha&#x27;: [True, False]},\n",
       "                   random_state=42, scoring=make_scorer(f1_score, pos_label=1),\n",
       "                   verbose=2)</pre></div></div></div><div class=\"sk-parallel\"><div class=\"sk-parallel-item\"><div class=\"sk-item\"><div class=\"sk-label-container\"><div class=\"sk-label sk-toggleable\"><input class=\"sk-toggleable__control sk-hidden--visually\" id=\"sk-estimator-id-11\" type=\"checkbox\" ><label for=\"sk-estimator-id-11\" class=\"sk-toggleable__label sk-toggleable__label-arrow\">estimator: MultinomialNB</label><div class=\"sk-toggleable__content\"><pre>MultinomialNB()</pre></div></div></div><div class=\"sk-serial\"><div class=\"sk-item\"><div class=\"sk-estimator sk-toggleable\"><input class=\"sk-toggleable__control sk-hidden--visually\" id=\"sk-estimator-id-12\" type=\"checkbox\" ><label for=\"sk-estimator-id-12\" class=\"sk-toggleable__label sk-toggleable__label-arrow\">MultinomialNB</label><div class=\"sk-toggleable__content\"><pre>MultinomialNB()</pre></div></div></div></div></div></div></div></div></div></div>"
      ],
      "text/plain": [
       "RandomizedSearchCV(cv=StratifiedKFold(n_splits=5, random_state=None, shuffle=True),\n",
       "                   estimator=MultinomialNB(), n_iter=15,\n",
       "                   param_distributions={'alpha': [0.5, 1.0, 2.0, 5.0],\n",
       "                                        'class_prior': [None, [0.1, 0.9],\n",
       "                                                        [0.2, 0.8], [0.3, 0.7],\n",
       "                                                        [0.4, 0.6], [0.5, 0.5],\n",
       "                                                        [0.6, 0.4]],\n",
       "                                        'fit_prior': [True, False],\n",
       "                                        'force_alpha': [True, False]},\n",
       "                   random_state=42, scoring=make_scorer(f1_score, pos_label=1),\n",
       "                   verbose=2)"
      ]
     },
     "execution_count": 417,
     "metadata": {},
     "output_type": "execute_result"
    }
   ],
   "source": [
    "#Cantidad de combinaciones que quiero probar\n",
    "n=15\n",
    "\n",
    "#Grilla de Parámetros a probar\n",
    "params_grid={ 'alpha': [0.5, 1.0, 2.0, 5.0],\n",
    "               'class_prior': [None, [0.1, 0.9], [0.2, 0.8], [0.3, 0.7], [0.4, 0.6], [0.5, 0.5], [0.6, 0.4]],\n",
    "               'fit_prior': [True, False],\n",
    "               'force_alpha': [True, False]\n",
    "             }\n",
    "                \n",
    "#Cantidad de splits para el Cross Validation\n",
    "folds=5\n",
    "\n",
    "#Kfold estratificado\n",
    "kfoldcv = StratifiedKFold(n_splits=folds, shuffle=True)\n",
    "\n",
    "#Clasificador\n",
    "NB_model = MultinomialNB()\n",
    "\n",
    "# Metrica que quiero optimizar F1 Score\n",
    "scorer_fn = make_scorer(sk.metrics.f1_score, pos_label=1)\n",
    "\n",
    "#Random Search Cross Validation\n",
    "rand_NB = RandomizedSearchCV(estimator = NB_model,\n",
    "                              param_distributions = params_grid,\n",
    "                              scoring = scorer_fn,\n",
    "                              cv=kfoldcv,\n",
    "                              n_iter = n,\n",
    "                              random_state = RANDOM_STATE,\n",
    "                              verbose=2) \n",
    "\n",
    "rand_NB.fit(x_train, y_train_mapped)"
   ]
  },
  {
   "attachments": {},
   "cell_type": "markdown",
   "metadata": {},
   "source": [
    "Vemos cuales fueron los mejores hiperparámetros y la mejor métrica obtenida."
   ]
  },
  {
   "cell_type": "code",
   "execution_count": 418,
   "metadata": {},
   "outputs": [
    {
     "name": "stdout",
     "output_type": "stream",
     "text": [
      "Mejores parámetros: {'force_alpha': True, 'fit_prior': True, 'class_prior': None, 'alpha': 0.5}\n",
      "Mejor métrica: 0.8432260543879829\n"
     ]
    }
   ],
   "source": [
    "print('Mejores parámetros: {}'.format(rand_NB.best_params_))\n",
    "print('Mejor métrica: {}'.format(rand_NB.best_score_))"
   ]
  },
  {
   "attachments": {},
   "cell_type": "markdown",
   "metadata": {},
   "source": [
    "Entrenamos el modelo de Bayes Naive con los mejores hiperparámetros y realizamos las predicciones."
   ]
  },
  {
   "cell_type": "code",
   "execution_count": 419,
   "metadata": {},
   "outputs": [],
   "source": [
    "NB_model = MultinomialNB().set_params(**rand_NB.best_params_)\n",
    "NB_model.fit(x_train, y_train_mapped)\n",
    "\n",
    "y_pred = NB_model.predict(x_test)"
   ]
  },
  {
   "cell_type": "markdown",
   "metadata": {},
   "source": [
    "Ahora podemos ver que tan bien le fue a nuestro modelo."
   ]
  },
  {
   "cell_type": "code",
   "execution_count": 420,
   "metadata": {},
   "outputs": [
    {
     "name": "stdout",
     "output_type": "stream",
     "text": [
      "Best Training Accuracy: 0.8660571428571429\n",
      "Best Testing Accuracy: 0.8439333333333333\n"
     ]
    }
   ],
   "source": [
    "print(f'Best Training Accuracy: {NB_model.score(x_train, y_train_mapped)}')\n",
    "print(f'Best Testing Accuracy: {NB_model.score(x_test, y_test_mapped)}')"
   ]
  },
  {
   "attachments": {},
   "cell_type": "markdown",
   "metadata": {},
   "source": [
    "### Métricas"
   ]
  },
  {
   "attachments": {},
   "cell_type": "markdown",
   "metadata": {},
   "source": [
    "Calculamos las métricas de accuracy, precision, recall y f1-score."
   ]
  },
  {
   "cell_type": "code",
   "execution_count": 423,
   "metadata": {},
   "outputs": [
    {
     "name": "stdout",
     "output_type": "stream",
     "text": [
      "Accuracy: 0.8439333333333333\n",
      "Recall: 0.8492555013835815\n",
      "Precision: 0.8433656110965716\n",
      "f1 score: 0.8463003085811831\n"
     ]
    }
   ],
   "source": [
    "accuracy = accuracy_score(y_test_mapped, y_pred)\n",
    "recall = recall_score(y_test_mapped, y_pred, pos_label=1)\n",
    "f1 = f1_score(y_test_mapped, y_pred, pos_label=1)\n",
    "precision = precision_score(y_test_mapped, y_pred, pos_label=1)\n",
    "\n",
    "print(\"Accuracy: \"  + str(accuracy))\n",
    "print(\"Recall: \"    + str(recall))\n",
    "print(\"Precision: \" + str(precision))\n",
    "print(\"f1 score: \"  + str(f1))"
   ]
  },
  {
   "cell_type": "markdown",
   "metadata": {},
   "source": [
    "Vemos el reporte de clasificación."
   ]
  },
  {
   "cell_type": "code",
   "execution_count": 424,
   "metadata": {},
   "outputs": [
    {
     "name": "stdout",
     "output_type": "stream",
     "text": [
      "              precision    recall  f1-score   support\n",
      "\n",
      "           0       0.84      0.84      0.84      7411\n",
      "           1       0.84      0.85      0.85      7589\n",
      "\n",
      "    accuracy                           0.84     15000\n",
      "   macro avg       0.84      0.84      0.84     15000\n",
      "weighted avg       0.84      0.84      0.84     15000\n",
      "\n"
     ]
    }
   ],
   "source": [
    "print(classification_report(y_test_mapped, y_pred))"
   ]
  },
  {
   "cell_type": "markdown",
   "metadata": {},
   "source": [
    "Y la matriz de confusion."
   ]
  },
  {
   "cell_type": "code",
   "execution_count": 425,
   "metadata": {},
   "outputs": [
    {
     "data": {
      "image/png": "[encoded data removed]",
      "text/plain": [
       "<Figure size 640x480 with 2 Axes>"
      ]
     },
     "metadata": {},
     "output_type": "display_data"
    }
   ],
   "source": [
    "cm = confusion_matrix(y_test_mapped,y_pred)\n",
    "sns.heatmap(cm, cmap='Blues',annot=True,fmt='g').set(title='Matriz de Confusión', xlabel='Predicted', ylabel='True', xticklabels=['negativo', 'positivo'], yticklabels=['negativo', 'positivo'])\n",
    "plt.show()"
   ]
  },
  {
   "attachments": {},
   "cell_type": "markdown",
   "metadata": {},
   "source": [
    "### Submission"
   ]
  },
  {
   "cell_type": "markdown",
   "metadata": {},
   "source": [
    "Guardamos el modelo en un archivo .pickle y generamos la submission para kaggle."
   ]
  },
  {
   "cell_type": "code",
   "execution_count": 364,
   "metadata": {
    "id": "xKaIr7rlv-rn"
   },
   "outputs": [],
   "source": [
    "pickle.dump(NB_model, open('NB_grupo29.pickle', 'wb'))"
   ]
  },
  {
   "cell_type": "code",
   "execution_count": 429,
   "metadata": {
    "id": "kp4RPtwB_mXH"
   },
   "outputs": [],
   "source": [
    "X_submission_NB = test_fid\n",
    "y_pred_test_NB = NB_model.predict(X_submission_NB)"
   ]
  },
  {
   "cell_type": "code",
   "execution_count": 432,
   "metadata": {},
   "outputs": [],
   "source": [
    "label_map = {0: 'negativo', 1: 'positivo'}\n",
    "y_pred_test_NB = pd.Series(y_pred_test_NB).map(label_map)"
   ]
  },
  {
   "cell_type": "code",
   "execution_count": 434,
   "metadata": {},
   "outputs": [],
   "source": [
    "df_submission_NB = pd.DataFrame({'ID': test['ID'], 'sentimiento': y_pred_test_NB})\n",
    "df_submission_NB.to_csv('NB04.csv', index=False)"
   ]
  },
  {
   "attachments": {},
   "cell_type": "markdown",
   "metadata": {},
   "source": [
    "## Random Forest"
   ]
  },
  {
   "cell_type": "markdown",
   "metadata": {},
   "source": [
    "### Random Search"
   ]
  },
  {
   "cell_type": "markdown",
   "metadata": {},
   "source": [
    "Optimizamos hiperparámetros con Random Search."
   ]
  },
  {
   "cell_type": "code",
   "execution_count": 373,
   "metadata": {},
   "outputs": [
    {
     "name": "stdout",
     "output_type": "stream",
     "text": [
      "Fitting 2 folds for each of 5 candidates, totalling 10 fits\n"
     ]
    },
    {
     "name": "stdout",
     "output_type": "stream",
     "text": [
      "[CV] END ccp_alpha=0.1, max_depth=None, max_samples=0.95, min_samples_split=2, n_estimators=200; total time= 2.6min\n",
      "[CV] END ccp_alpha=0.1, max_depth=None, max_samples=0.95, min_samples_split=2, n_estimators=200; total time= 2.7min\n",
      "[CV] END ccp_alpha=1.0, max_depth=None, max_samples=0.95, min_samples_split=15, n_estimators=500; total time= 5.1min\n",
      "[CV] END ccp_alpha=1.0, max_depth=None, max_samples=0.95, min_samples_split=15, n_estimators=500; total time=10.4min\n",
      "[CV] END ccp_alpha=0.01, max_depth=None, max_samples=0.99, min_samples_split=5, n_estimators=100; total time= 3.4min\n",
      "[CV] END ccp_alpha=0.01, max_depth=None, max_samples=0.99, min_samples_split=5, n_estimators=100; total time= 2.5min\n",
      "[CV] END ccp_alpha=1.0, max_depth=None, max_samples=None, min_samples_split=30, n_estimators=500; total time= 6.0min\n",
      "[CV] END ccp_alpha=1.0, max_depth=None, max_samples=None, min_samples_split=30, n_estimators=500; total time= 3.7min\n",
      "[CV] END ccp_alpha=0.1, max_depth=None, max_samples=0.95, min_samples_split=5, n_estimators=100; total time=  53.6s\n",
      "[CV] END ccp_alpha=0.1, max_depth=None, max_samples=0.95, min_samples_split=5, n_estimators=100; total time=  56.0s\n"
     ]
    },
    {
     "data": {
      "text/plain": [
       "array([0.        , 0.        , 0.72418879, 0.        , 0.        ])"
      ]
     },
     "execution_count": 373,
     "metadata": {},
     "output_type": "execute_result"
    }
   ],
   "source": [
    "#Cantidad de combinaciones que quiero probar\n",
    "n=5\n",
    "\n",
    "#Grilla de Parámetros\n",
    "params_grid={ 'n_estimators': [100, 200, 300, 400, 500],\n",
    "                'min_samples_split': [2, 5, 10, 15, 20, 25, 30, 35, 40],\n",
    "                'max_depth': [None],\n",
    "                'max_samples': [None, 0.5, 0.75, 0.9, 0.95, 0.99, 1.0],\n",
    "                'ccp_alpha': [0.0, 0.001, 0.01, 0.1, 1.0],\n",
    "             }\n",
    "\n",
    "#Clasificador\n",
    "rf_model = RandomForestClassifier(random_state=RANDOM_STATE)\n",
    "\n",
    "# Metrica que quiero optimizar F1 Score\n",
    "scorer_fn = make_scorer(sk.metrics.f1_score)\n",
    "\n",
    "#Random Search Cross Validation\n",
    "rand_rf = RandomizedSearchCV(estimator = rf_model,\n",
    "                              param_distributions = params_grid,\n",
    "                              scoring = scorer_fn,\n",
    "                              n_iter = n,\n",
    "                              random_state=RANDOM_STATE,\n",
    "                              verbose=2,\n",
    "                              cv=2) \n",
    "\n",
    "rand_rf.fit(x_train, y_train)\n",
    "rand_rf.cv_results_['mean_test_score'] "
   ]
  },
  {
   "cell_type": "code",
   "execution_count": 374,
   "metadata": {},
   "outputs": [
    {
     "name": "stdout",
     "output_type": "stream",
     "text": [
      "Mejores parámetros: {'n_estimators': 100, 'min_samples_split': 5, 'max_samples': 0.99, 'max_depth': None, 'ccp_alpha': 0.01}\n",
      "Mejor métrica: 0.7241887891698224\n"
     ]
    }
   ],
   "source": [
    "print('Mejores parámetros: {}'.format(rand_rf.best_params_))\n",
    "print('Mejor métrica: {}'.format(rand_rf.best_score_))"
   ]
  },
  {
   "cell_type": "markdown",
   "metadata": {},
   "source": [
    "Entrenamos el modelo con los mejores hiperparámetros y realizamos las predicciones."
   ]
  },
  {
   "cell_type": "code",
   "execution_count": 375,
   "metadata": {},
   "outputs": [],
   "source": [
    "rf_model = RandomForestClassifier(random_state=RANDOM_STATE).set_params(**rand_rf.best_params_)\n",
    "rf_model.fit(x_train, y_train)\n",
    "\n",
    "y_pred = rf_model.predict(x_test)"
   ]
  },
  {
   "cell_type": "markdown",
   "metadata": {},
   "source": [
    "Veamos que tan bien le fue a nuestro modelo."
   ]
  },
  {
   "cell_type": "code",
   "execution_count": 376,
   "metadata": {},
   "outputs": [
    {
     "name": "stdout",
     "output_type": "stream",
     "text": [
      "Best Training Accuracy: 0.6955142857142858\n",
      "Best Testing Accuracy: 0.7028666666666666\n"
     ]
    }
   ],
   "source": [
    "print(f'Best Training Accuracy: {rf_model.score(x_train, y_train)}')\n",
    "print(f'Best Testing Accuracy: {rf_model.score(x_test, y_test)}')"
   ]
  },
  {
   "attachments": {},
   "cell_type": "markdown",
   "metadata": {},
   "source": [
    "### Métricas"
   ]
  },
  {
   "cell_type": "markdown",
   "metadata": {},
   "source": [
    "Calculamos las métricas de accuracy, precision, recall y f1-score."
   ]
  },
  {
   "cell_type": "code",
   "execution_count": 381,
   "metadata": {},
   "outputs": [
    {
     "name": "stdout",
     "output_type": "stream",
     "text": [
      "Accuracy: 0.7028666666666666\n",
      "Recall: 0.8115693767294768\n",
      "Precision: 0.670476812540823\n",
      "f1 score: 0.7343070044709389\n"
     ]
    }
   ],
   "source": [
    "accuracy = accuracy_score(y_test, y_pred)\n",
    "recall = recall_score(y_test, y_pred)\n",
    "f1 = f1_score(y_test, y_pred)\n",
    "precision = precision_score(y_test, y_pred)\n",
    "\n",
    "print(\"Accuracy: \"  + str(accuracy))\n",
    "print(\"Recall: \"    + str(recall))\n",
    "print(\"Precision: \" + str(precision))\n",
    "print(\"f1 score: \"  + str(f1))"
   ]
  },
  {
   "cell_type": "markdown",
   "metadata": {},
   "source": [
    "El reporte de clasificación."
   ]
  },
  {
   "cell_type": "code",
   "execution_count": 382,
   "metadata": {},
   "outputs": [
    {
     "name": "stdout",
     "output_type": "stream",
     "text": [
      "              precision    recall  f1-score   support\n",
      "\n",
      "           0       0.75      0.59      0.66      7411\n",
      "           1       0.67      0.81      0.73      7589\n",
      "\n",
      "    accuracy                           0.70     15000\n",
      "   macro avg       0.71      0.70      0.70     15000\n",
      "weighted avg       0.71      0.70      0.70     15000\n",
      "\n"
     ]
    }
   ],
   "source": [
    "print(classification_report(y_test, y_pred))"
   ]
  },
  {
   "cell_type": "markdown",
   "metadata": {},
   "source": [
    "Y la matriz de confusion."
   ]
  },
  {
   "cell_type": "code",
   "execution_count": 383,
   "metadata": {},
   "outputs": [
    {
     "data": {
      "image/png": "[encoded data removed]",
      "text/plain": [
       "<Figure size 640x480 with 2 Axes>"
      ]
     },
     "metadata": {},
     "output_type": "display_data"
    }
   ],
   "source": [
    "cm = confusion_matrix(y_test,y_pred)\n",
    "sns.heatmap(cm, cmap='Blues',annot=True,fmt='g').set(title='Matriz de Confusión', xlabel='Predicted', ylabel='True', xticklabels=['negativo', 'positivo'], yticklabels=['negativo', 'positivo'])\n",
    "plt.show()"
   ]
  },
  {
   "attachments": {},
   "cell_type": "markdown",
   "metadata": {},
   "source": [
    "### Submission"
   ]
  },
  {
   "cell_type": "markdown",
   "metadata": {},
   "source": [
    "Guardamos el modelo en un archivo .pickle y generamos la submission para kaggle."
   ]
  },
  {
   "cell_type": "code",
   "execution_count": 384,
   "metadata": {
    "id": "xKaIr7rlv-rn"
   },
   "outputs": [],
   "source": [
    "pickle.dump(rf_model, open('rf_grupo29.pickle', 'wb'))"
   ]
  },
  {
   "cell_type": "code",
   "execution_count": 386,
   "metadata": {
    "id": "kp4RPtwB_mXH"
   },
   "outputs": [],
   "source": [
    "X_submission_rf = test_fid\n",
    "y_pred_test_rf = rf_model.predict(X_submission_rf)"
   ]
  },
  {
   "cell_type": "code",
   "execution_count": 388,
   "metadata": {},
   "outputs": [],
   "source": [
    "label_map = {0: 'negativo', 1: 'positivo'}\n",
    "y_pred_test_rf = pd.Series(y_pred_test_rf).map(label_map)"
   ]
  },
  {
   "cell_type": "code",
   "execution_count": 389,
   "metadata": {},
   "outputs": [],
   "source": [
    "df_submission_rf = pd.DataFrame({'ID': test['ID'], 'sentimiento': y_pred_test_rf})\n",
    "df_submission_rf.to_csv('rf01.csv', index=False)"
   ]
  },
  {
   "attachments": {},
   "cell_type": "markdown",
   "metadata": {},
   "source": [
    "## XGBoost"
   ]
  },
  {
   "cell_type": "markdown",
   "metadata": {},
   "source": [
    "### Random Search"
   ]
  },
  {
   "cell_type": "markdown",
   "metadata": {},
   "source": [
    "Optimizamos hiperparámetros con Random Search."
   ]
  },
  {
   "cell_type": "code",
   "execution_count": 395,
   "metadata": {},
   "outputs": [
    {
     "name": "stdout",
     "output_type": "stream",
     "text": [
      "Fitting 5 folds for each of 5 candidates, totalling 25 fits\n",
      "[CV] END alpha=1, gamma=0, lambda=0, learning_rate=0.4816326530612245, max_depth=7, n_estimators=20, subsample=0.9473684210526315; total time=  12.0s\n",
      "[CV] END alpha=1, gamma=0, lambda=0, learning_rate=0.4816326530612245, max_depth=7, n_estimators=20, subsample=0.9473684210526315; total time=  12.7s\n",
      "[CV] END alpha=1, gamma=0, lambda=0, learning_rate=0.4816326530612245, max_depth=7, n_estimators=20, subsample=0.9473684210526315; total time=  13.7s\n",
      "[CV] END alpha=1, gamma=0, lambda=0, learning_rate=0.4816326530612245, max_depth=7, n_estimators=20, subsample=0.9473684210526315; total time=  15.2s\n",
      "[CV] END alpha=1, gamma=0, lambda=0, learning_rate=0.4816326530612245, max_depth=7, n_estimators=20, subsample=0.9473684210526315; total time=  18.5s\n",
      "[CV] END alpha=1, gamma=1, lambda=2, learning_rate=0.1602040816326531, max_depth=3, n_estimators=60, subsample=0.7894736842105263; total time=  16.3s\n",
      "[CV] END alpha=1, gamma=1, lambda=2, learning_rate=0.1602040816326531, max_depth=3, n_estimators=60, subsample=0.7894736842105263; total time=  16.3s\n",
      "[CV] END alpha=1, gamma=1, lambda=2, learning_rate=0.1602040816326531, max_depth=3, n_estimators=60, subsample=0.7894736842105263; total time=  28.4s\n",
      "[CV] END alpha=1, gamma=1, lambda=2, learning_rate=0.1602040816326531, max_depth=3, n_estimators=60, subsample=0.7894736842105263; total time=  18.3s\n",
      "[CV] END alpha=1, gamma=1, lambda=2, learning_rate=0.1602040816326531, max_depth=3, n_estimators=60, subsample=0.7894736842105263; total time=  19.9s\n",
      "[CV] END alpha=1, gamma=0, lambda=1, learning_rate=0.05918367346938776, max_depth=6, n_estimators=50, subsample=0.631578947368421; total time=  24.6s\n",
      "[CV] END alpha=1, gamma=0, lambda=1, learning_rate=0.05918367346938776, max_depth=6, n_estimators=50, subsample=0.631578947368421; total time=  26.0s\n",
      "[CV] END alpha=1, gamma=0, lambda=1, learning_rate=0.05918367346938776, max_depth=6, n_estimators=50, subsample=0.631578947368421; total time=  26.9s\n",
      "[CV] END alpha=1, gamma=0, lambda=1, learning_rate=0.05918367346938776, max_depth=6, n_estimators=50, subsample=0.631578947368421; total time=  22.5s\n",
      "[CV] END alpha=1, gamma=0, lambda=1, learning_rate=0.05918367346938776, max_depth=6, n_estimators=50, subsample=0.631578947368421; total time=  24.9s\n",
      "[CV] END alpha=1, gamma=0, lambda=2, learning_rate=0.05918367346938776, max_depth=3, n_estimators=150, subsample=0.9473684210526315; total time=  51.0s\n",
      "[CV] END alpha=1, gamma=0, lambda=2, learning_rate=0.05918367346938776, max_depth=3, n_estimators=150, subsample=0.9473684210526315; total time= 1.0min\n",
      "[CV] END alpha=1, gamma=0, lambda=2, learning_rate=0.05918367346938776, max_depth=3, n_estimators=150, subsample=0.9473684210526315; total time=  48.1s\n",
      "[CV] END alpha=1, gamma=0, lambda=2, learning_rate=0.05918367346938776, max_depth=3, n_estimators=150, subsample=0.9473684210526315; total time=  52.5s\n",
      "[CV] END alpha=1, gamma=0, lambda=2, learning_rate=0.05918367346938776, max_depth=3, n_estimators=150, subsample=0.9473684210526315; total time=  50.0s\n",
      "[CV] END alpha=1, gamma=0, lambda=0, learning_rate=0.4448979591836735, max_depth=2, n_estimators=100, subsample=0.42105263157894735; total time=  13.0s\n",
      "[CV] END alpha=1, gamma=0, lambda=0, learning_rate=0.4448979591836735, max_depth=2, n_estimators=100, subsample=0.42105263157894735; total time=  13.9s\n",
      "[CV] END alpha=1, gamma=0, lambda=0, learning_rate=0.4448979591836735, max_depth=2, n_estimators=100, subsample=0.42105263157894735; total time=  12.6s\n",
      "[CV] END alpha=1, gamma=0, lambda=0, learning_rate=0.4448979591836735, max_depth=2, n_estimators=100, subsample=0.42105263157894735; total time=  12.7s\n",
      "[CV] END alpha=1, gamma=0, lambda=0, learning_rate=0.4448979591836735, max_depth=2, n_estimators=100, subsample=0.42105263157894735; total time=  12.4s\n"
     ]
    },
    {
     "data": {
      "text/plain": [
       "array([0.79729197, 0.79227801, 0.77605035, 0.78959425, 0.81612308])"
      ]
     },
     "execution_count": 395,
     "metadata": {},
     "output_type": "execute_result"
    }
   ],
   "source": [
    "#Cantidad de combinaciones que quiero probar\n",
    "n=5\n",
    "\n",
    "#Grilla de Parámetros\n",
    "params_grid= {'learning_rate': np.linspace(0.05, 0.5, 50),\n",
    "                'gamma': [0,1,2],\n",
    "                'max_depth': list(range(2,10)),\n",
    "                'subsample': np.linspace(0, 1, 20),\n",
    "                'lambda': [0,1,2],\n",
    "                'alpha' : [1],\n",
    "                'n_estimators': list(range(10,161,10))\n",
    "              }\n",
    "\n",
    "#Clasificador\n",
    "xgb_model = XGBClassifier(random_state=RANDOM_STATE)\n",
    "\n",
    "# Metrica que quiero optimizar F1 Score\n",
    "scorer_fn = make_scorer(sk.metrics.f1_score)\n",
    "\n",
    "#Random Search Cross Validation\n",
    "rand_xgb = RandomizedSearchCV(estimator = xgb_model,\n",
    "                              param_distributions = params_grid,\n",
    "                              scoring = scorer_fn,\n",
    "                              n_iter = n,\n",
    "                              random_state=RANDOM_STATE,\n",
    "                              verbose=2) \n",
    "\n",
    "rand_xgb.fit(x_train, y_train_mapped)\n",
    "rand_xgb.cv_results_['mean_test_score'] "
   ]
  },
  {
   "cell_type": "code",
   "execution_count": 396,
   "metadata": {},
   "outputs": [
    {
     "name": "stdout",
     "output_type": "stream",
     "text": [
      "Mejores parámetros: {'subsample': 0.42105263157894735, 'n_estimators': 100, 'max_depth': 2, 'learning_rate': 0.4448979591836735, 'lambda': 0, 'gamma': 0, 'alpha': 1}\n",
      "Mejor métrica: 0.8161230789803892\n"
     ]
    }
   ],
   "source": [
    "print('Mejores parámetros: {}'.format(rand_xgb.best_params_))\n",
    "print('Mejor métrica: {}'.format(rand_xgb.best_score_))"
   ]
  },
  {
   "cell_type": "markdown",
   "metadata": {},
   "source": [
    "Entrenamos el modelo con los mejores hiperparámetros y realizamos las predicciones."
   ]
  },
  {
   "cell_type": "code",
   "execution_count": 398,
   "metadata": {},
   "outputs": [],
   "source": [
    "xgb_model = XGBClassifier(random_state=RANDOM_STATE).set_params(**rand_xgb.best_params_)\n",
    "xgb_model.fit(x_train, y_train_mapped)\n",
    "\n",
    "y_pred = xgb_model.predict(x_test)"
   ]
  },
  {
   "cell_type": "markdown",
   "metadata": {},
   "source": [
    "Veamos que tan bien le fue a nuestro modelo."
   ]
  },
  {
   "cell_type": "code",
   "execution_count": 399,
   "metadata": {},
   "outputs": [
    {
     "name": "stdout",
     "output_type": "stream",
     "text": [
      "Best Training Accuracy: 0.8331428571428572\n",
      "Best Testing Accuracy: 0.8163333333333334\n"
     ]
    }
   ],
   "source": [
    "print(f'Best Training Accuracy: {xgb_model.score(x_train, y_train_mapped)}')\n",
    "print(f'Best Testing Accuracy: {xgb_model.score(x_test, y_test_mapped)}')"
   ]
  },
  {
   "attachments": {},
   "cell_type": "markdown",
   "metadata": {},
   "source": [
    "### Métricas"
   ]
  },
  {
   "cell_type": "markdown",
   "metadata": {},
   "source": [
    "Calculamos las métricas de accuracy, precision, recall y f1-score."
   ]
  },
  {
   "cell_type": "code",
   "execution_count": 400,
   "metadata": {},
   "outputs": [
    {
     "name": "stdout",
     "output_type": "stream",
     "text": [
      "Accuracy: 0.8163333333333334\n",
      "Recall: 0.8517591250494136\n",
      "Precision: 0.7986162589572523\n",
      "f1 score: 0.8243320793215584\n"
     ]
    }
   ],
   "source": [
    "accuracy = accuracy_score(y_test_mapped, y_pred)\n",
    "recall = recall_score(y_test_mapped, y_pred)\n",
    "f1 = f1_score(y_test_mapped, y_pred)\n",
    "precision = precision_score(y_test_mapped, y_pred)\n",
    "\n",
    "print(\"Accuracy: \"  + str(accuracy))\n",
    "print(\"Recall: \"    + str(recall))\n",
    "print(\"Precision: \" + str(precision))\n",
    "print(\"f1 score: \"  + str(f1))"
   ]
  },
  {
   "cell_type": "markdown",
   "metadata": {},
   "source": [
    "El reporte de clasificación."
   ]
  },
  {
   "cell_type": "code",
   "execution_count": 401,
   "metadata": {},
   "outputs": [
    {
     "name": "stdout",
     "output_type": "stream",
     "text": [
      "              precision    recall  f1-score   support\n",
      "\n",
      "           0       0.84      0.78      0.81      7411\n",
      "           1       0.80      0.85      0.82      7589\n",
      "\n",
      "    accuracy                           0.82     15000\n",
      "   macro avg       0.82      0.82      0.82     15000\n",
      "weighted avg       0.82      0.82      0.82     15000\n",
      "\n"
     ]
    }
   ],
   "source": [
    "print(classification_report(y_test_mapped, y_pred))"
   ]
  },
  {
   "cell_type": "markdown",
   "metadata": {},
   "source": [
    "Y la matriz de confusion."
   ]
  },
  {
   "cell_type": "code",
   "execution_count": 402,
   "metadata": {},
   "outputs": [
    {
     "data": {
      "image/png": "[encoded data removed]",
      "text/plain": [
       "<Figure size 640x480 with 2 Axes>"
      ]
     },
     "metadata": {},
     "output_type": "display_data"
    }
   ],
   "source": [
    "cm = confusion_matrix(y_test_mapped, y_pred)\n",
    "sns.heatmap(cm, cmap='Blues',annot=True,fmt='g').set(title='Matriz de Confusión', xlabel='Predicted', ylabel='True', xticklabels=['negativo', 'positivo'], yticklabels=['negativo', 'positivo'])\n",
    "plt.show()"
   ]
  },
  {
   "attachments": {},
   "cell_type": "markdown",
   "metadata": {},
   "source": [
    "### Submission"
   ]
  },
  {
   "cell_type": "markdown",
   "metadata": {},
   "source": [
    "Guardamos el modelo en un archivo .pickle y generamos la submission para kaggle."
   ]
  },
  {
   "cell_type": "code",
   "execution_count": 403,
   "metadata": {
    "id": "xKaIr7rlv-rn"
   },
   "outputs": [],
   "source": [
    "pickle.dump(xgb_model, open('xgb_grupo29.pickle', 'wb'))"
   ]
  },
  {
   "cell_type": "code",
   "execution_count": 405,
   "metadata": {
    "id": "kp4RPtwB_mXH"
   },
   "outputs": [],
   "source": [
    "X_submission_xgb = test_fid\n",
    "y_pred_test_xgb = xgb_model.predict(X_submission_xgb)"
   ]
  },
  {
   "cell_type": "code",
   "execution_count": 406,
   "metadata": {},
   "outputs": [],
   "source": [
    "label_map = {0: 'negativo', 1: 'positivo'}\n",
    "y_pred_test_xgb = pd.Series(y_pred_test_xgb).map(label_map)"
   ]
  },
  {
   "cell_type": "code",
   "execution_count": 407,
   "metadata": {},
   "outputs": [],
   "source": [
    "df_submission_xgb = pd.DataFrame({'ID': test['ID'], 'sentimiento': y_pred_test_xgb})\n",
    "df_submission_xgb.to_csv('xgb01.csv', index=False)"
   ]
  },
  {
   "attachments": {},
   "cell_type": "markdown",
   "metadata": {},
   "source": [
    "## Red Neuronal"
   ]
  },
  {
   "attachments": {},
   "cell_type": "markdown",
   "metadata": {},
   "source": [
    "### Tokenización y preprocesamiento"
   ]
  },
  {
   "attachments": {},
   "cell_type": "markdown",
   "metadata": {},
   "source": [
    "Debido a que las redes neuronales puede trabajar únicamente con datos numéricos, es necesario convertir de alguna forma las palabras a alguna representación numérica. Para esto, utilizamos la técnica de tokenización, que consiste en asignarle un número a cada palabra del vocabulario. Luego, cada review se representa como una secuencia de números, donde cada número representa una palabra."
   ]
  },
  {
   "attachments": {},
   "cell_type": "markdown",
   "metadata": {},
   "source": [
    "Como ya vimos, la cantidad de palabras únicas es muy alta, y entrenar un modelo con tantos parámetros agrega costo computacional. Se puede limitar el \"diccionario\", o vocabulario conocido de la red a una cantidad más baja de palabras, que representan las más frecuentes. Para ello, a continuación seteamos este parámetro, en 10000, que es un valor que nos pareció razonable, y que no la performance del modelo."
   ]
  },
  {
   "cell_type": "code",
   "execution_count": 290,
   "metadata": {},
   "outputs": [],
   "source": [
    "VOCAB_SIZE = 10000"
   ]
  },
  {
   "attachments": {},
   "cell_type": "markdown",
   "metadata": {},
   "source": [
    "Además, considerando que algunas reviews son extremadamente largas, y leyendo algunas de ellas, concluimos que en general es posible determinar el sentimiento de una review con las primeras pocas cientos de palabras. Seteamos entonces el largo máximo de las reviews en 300 palabras."
   ]
  },
  {
   "cell_type": "code",
   "execution_count": 291,
   "metadata": {},
   "outputs": [],
   "source": [
    "REVIEW_MAX_LENGTH = 300"
   ]
  },
  {
   "attachments": {},
   "cell_type": "markdown",
   "metadata": {},
   "source": [
    "En la etapa de preprocesamiento, además, se eliminaron las stopwords, se igualaron las palabras con y sin acento, y se eliminaron las palabras con menos de 3 letras. Este preprocesamiento había quedado en la columna ```review_token```, el cual aprovecharemos aquí, pero sin la parte de codificación, largo de review y limitación del vocabulario, ya que eso lo hace el tokenizador de Keras. Preferimos mantener esa parte del procesamiento aquí. Por más que parezca redundate, de este modo tenemos un control más fino sobre el preprocesamiento para la red neuronal, y no afectamos los datos de los otros modelos."
   ]
  },
  {
   "attachments": {},
   "cell_type": "markdown",
   "metadata": {},
   "source": [
    "Reconstruimos entonces las reviews en forma de strings a partir la columna ```review_token```"
   ]
  },
  {
   "cell_type": "code",
   "execution_count": 292,
   "metadata": {},
   "outputs": [
    {
     "data": {
      "text/html": [
       "<div>\n",
       "<style scoped>\n",
       "    .dataframe tbody tr th:only-of-type {\n",
       "        vertical-align: middle;\n",
       "    }\n",
       "\n",
       "    .dataframe tbody tr th {\n",
       "        vertical-align: top;\n",
       "    }\n",
       "\n",
       "    .dataframe thead th {\n",
       "        text-align: right;\n",
       "    }\n",
       "</style>\n",
       "<table border=\"1\" class=\"dataframe\">\n",
       "  <thead>\n",
       "    <tr style=\"text-align: right;\">\n",
       "      <th></th>\n",
       "      <th>ID</th>\n",
       "      <th>review_es</th>\n",
       "      <th>sentimiento</th>\n",
       "      <th>review_token</th>\n",
       "      <th>review_token_string_rnn</th>\n",
       "    </tr>\n",
       "  </thead>\n",
       "  <tbody>\n",
       "    <tr>\n",
       "      <th>0</th>\n",
       "      <td>0</td>\n",
       "      <td>uno de los otros críticos ha mencionado que de...</td>\n",
       "      <td>positivo</td>\n",
       "      <td>[criticos, mencionado, despues, solo, episodio...</td>\n",
       "      <td>criticos mencionado despues solo episodio enga...</td>\n",
       "    </tr>\n",
       "    <tr>\n",
       "      <th>1</th>\n",
       "      <td>1</td>\n",
       "      <td>una pequeña pequeña producción.la técnica de f...</td>\n",
       "      <td>positivo</td>\n",
       "      <td>[pequeña, pequeña, produccion, tecnica, filmac...</td>\n",
       "      <td>pequeña pequeña produccion tecnica filmacion i...</td>\n",
       "    </tr>\n",
       "    <tr>\n",
       "      <th>2</th>\n",
       "      <td>2</td>\n",
       "      <td>pensé que esta era una manera maravillosa de p...</td>\n",
       "      <td>positivo</td>\n",
       "      <td>[pense, manera, maravillosa, pasar, tiempo, se...</td>\n",
       "      <td>pense manera maravillosa pasar tiempo semana v...</td>\n",
       "    </tr>\n",
       "    <tr>\n",
       "      <th>3</th>\n",
       "      <td>3</td>\n",
       "      <td>básicamente, hay una familia donde un niño peq...</td>\n",
       "      <td>negativo</td>\n",
       "      <td>[basicamente, familia, niño, pequeño, jake, pi...</td>\n",
       "      <td>basicamente familia niño pequeño jake piensa z...</td>\n",
       "    </tr>\n",
       "    <tr>\n",
       "      <th>4</th>\n",
       "      <td>4</td>\n",
       "      <td>el \"amor en el tiempo\" de petter mattei es una...</td>\n",
       "      <td>positivo</td>\n",
       "      <td>[amor, tiempo, petter, mattei, pelicula, visua...</td>\n",
       "      <td>amor tiempo petter mattei pelicula visualmente...</td>\n",
       "    </tr>\n",
       "  </tbody>\n",
       "</table>\n",
       "</div>"
      ],
      "text/plain": [
       "   ID                                          review_es sentimiento  \\\n",
       "0   0  uno de los otros críticos ha mencionado que de...    positivo   \n",
       "1   1  una pequeña pequeña producción.la técnica de f...    positivo   \n",
       "2   2  pensé que esta era una manera maravillosa de p...    positivo   \n",
       "3   3  básicamente, hay una familia donde un niño peq...    negativo   \n",
       "4   4  el \"amor en el tiempo\" de petter mattei es una...    positivo   \n",
       "\n",
       "                                        review_token  \\\n",
       "0  [criticos, mencionado, despues, solo, episodio...   \n",
       "1  [pequeña, pequeña, produccion, tecnica, filmac...   \n",
       "2  [pense, manera, maravillosa, pasar, tiempo, se...   \n",
       "3  [basicamente, familia, niño, pequeño, jake, pi...   \n",
       "4  [amor, tiempo, petter, mattei, pelicula, visua...   \n",
       "\n",
       "                             review_token_string_rnn  \n",
       "0  criticos mencionado despues solo episodio enga...  \n",
       "1  pequeña pequeña produccion tecnica filmacion i...  \n",
       "2  pense manera maravillosa pasar tiempo semana v...  \n",
       "3  basicamente familia niño pequeño jake piensa z...  \n",
       "4  amor tiempo petter mattei pelicula visualmente...  "
      ]
     },
     "execution_count": 292,
     "metadata": {},
     "output_type": "execute_result"
    }
   ],
   "source": [
    "test['review_token_string_rnn'] = test['review_token'].apply(lambda x: ' '.join(x))\n",
    "train['review_token_string_rnn'] = train['review_token'].apply(lambda x: ' '.join(x))\n",
    "train.head()"
   ]
  },
  {
   "attachments": {},
   "cell_type": "markdown",
   "metadata": {},
   "source": [
    "LLegamos entonces a la utilización de ```Tokenizer()```. Esta herramienta de Keras se encarga de tokenizar las reviews. Por defecto, separa los tokens (argumento ```split```) por espacios, los cual es suficiente para reviews en idioma español, donde las palabras están separadas por espacios. También tiene un filtro (argumento ```filters```) que elimna los signos de puntuación y otros símbolos que no aportan demasiado a la interpretación de una review."
   ]
  },
  {
   "attachments": {},
   "cell_type": "markdown",
   "metadata": {},
   "source": [
    "El otro argumento importante, es el argumento ```oov_token```. \"OOV\" significa \"Out Of Vocabulary\", y se refiere a las palabras que no están en el vocabulario (recordemos que limitamos el largo del vocabulario, pero aún así, podemos tener en cuenta palabras poco frecuentes con los \"buckets\" de palabras fuera del vocabulario). Estos buckets agrupan las palabras poco comunes en \"buckets\" de palabras relacionadas. El tokenizador se encarga de llenar estos \"buckets\". En general, para estimar la cantidad de buckets, se utiliza un número en el rango del 2% al 5% del tamaño del vocabulario."
   ]
  },
  {
   "cell_type": "code",
   "execution_count": 293,
   "metadata": {},
   "outputs": [],
   "source": [
    "OOV_BUCKETS_FACTOR = 0.02\n",
    "OOV_BUCKETS = int(VOCAB_SIZE * OOV_BUCKETS_FACTOR)"
   ]
  },
  {
   "attachments": {},
   "cell_type": "markdown",
   "metadata": {},
   "source": [
    "Luego, se encarga de codificar cada review como una secuencia de números, donde cada número representa una palabra del vocabulario. Para esto, se utiliza el método ```fit_on_texts()```, que recibe como parámetro una lista de reviews, y crea el vocabulario a partir de ellas. Luego, se utiliza el método ```texts_to_sequences()```, que recibe como parámetro una lista de reviews, y devuelve una lista de listas, donde cada lista representa una review, y cada número de la lista representa una palabra."
   ]
  },
  {
   "attachments": {},
   "cell_type": "markdown",
   "metadata": {},
   "source": [
    "Creamos entonces el tokenizador con los parámetros establecidos."
   ]
  },
  {
   "cell_type": "code",
   "execution_count": 294,
   "metadata": {},
   "outputs": [],
   "source": [
    "tokenizer = keras.preprocessing.text.Tokenizer(num_words=VOCAB_SIZE, oov_token=f'<OOV>')"
   ]
  },
  {
   "attachments": {},
   "cell_type": "markdown",
   "metadata": {},
   "source": [
    "Lo fiteamos con las reviews previamente procesadas."
   ]
  },
  {
   "cell_type": "code",
   "execution_count": 295,
   "metadata": {},
   "outputs": [],
   "source": [
    "tokenizer.fit_on_texts(train['review_token_string_rnn'])"
   ]
  },
  {
   "attachments": {},
   "cell_type": "markdown",
   "metadata": {},
   "source": [
    "Podemos ver la cantidad de palabras únicas que encontró el tokenizador. Se deduce que la inmensa mayoría de las palabras quedarán fuera del vocabulario."
   ]
  },
  {
   "cell_type": "code",
   "execution_count": 296,
   "metadata": {},
   "outputs": [
    {
     "name": "stdout",
     "output_type": "stream",
     "text": [
      "168177\n"
     ]
    }
   ],
   "source": [
    "print(len(tokenizer.word_index))"
   ]
  },
  {
   "attachments": {},
   "cell_type": "markdown",
   "metadata": {},
   "source": [
    "Convertimos la columna deseada a un array de numpy, para ser interpretado por los métodos de Keras."
   ]
  },
  {
   "cell_type": "code",
   "execution_count": 297,
   "metadata": {},
   "outputs": [],
   "source": [
    "reviews_lista_train = pd.Series(train['review_token_string_rnn']).to_numpy()\n",
    "reviews_lista_test = pd.Series(test['review_token_string_rnn']).to_numpy()"
   ]
  },
  {
   "cell_type": "code",
   "execution_count": 298,
   "metadata": {},
   "outputs": [
    {
     "name": "stdout",
     "output_type": "stream",
     "text": [
      "['criticos mencionado despues solo episodio enganchado razon exactamente sucedio conmigo primera cosa golpeo brutalidad escenas violencia inconfiadas encuentran derecha palabra confia espectaculo debiles corazon timido espectaculo extrae punzones respecto drogas sexo violencia hardcore clasico palabra llama apodo dado penitenciario seguridad maximo oswald centra principalmente ciudad emeralda seccion experimental prision todas celulas frentes vidrio enfrentan hacia adentro privacidad alta agenda city hogar fariarios musulmanes gangstas latinos cristianos italianos irlandeses esposas miradas muerte relaciones peligrosas acuerdos sombreados nunca lejos diria principal atractivo espectaculo debe hecho espectaculos atreverian olvidate imagenes bonitas pintadas audiencias convencionales olvidan encanto olviden romance mete primer episodio visto sorprendio desagradable surrealista podia decir listo ello observe desarrolle gusto acostumbre altos niveles violencia grafica solo violencia sino injusticia guardias torcidas vendran niquel reclusos mataran orden alejaran manera educada reclusos clase media convirtieron perras prision debido falta habilidades callejeras experiencia prision viendo puede sentirse comodo incomodo visualizacion puedes ponerte contacto lado oscuro'\n",
      " 'pequeña pequeña produccion tecnica filmacion incuestionable antigua moda sensacion realismo reconfortante veces incomodo veces pieza actores extremadamente bien elegidos michael sheen solo polari todas voces palmaditas realmente puede edicion perfecta guiada referencias entradas diario williams solo vale pena observacion pieza imperrementemente escrita realizada produccion magistral grandes maestros comedia vida realismo realmente llega casa pequeñas cosas fantasia guardia lugar usar tecnicas sueño tradicionales permanece solido entonces desaparece desempeña conocimiento particularmente escenas relacionadas orton halliwell conjuntos particularmente apartamento murales halliwell decoran cada superficie terriblemente bien hechos'\n",
      " 'pense manera maravillosa pasar tiempo semana verano demasiado caliente sentado teatro aire acondicionado observando comedia alegre parcela simplista dialogo ingenioso personajes agradables incluso asesino serie sospecha pozo mientras pueden decepcionarse cuenta punto partido adiccion riesgo pense prueba woody allen todavia control estilo crecido amar reido comedias woody años dare digo decada mientras nunca quede impresionado scarlet johanson logro tonificar imagen sexy salto joven promedio energica puede joya corona carrera wittier diablo viste prada interesante superman gran comedia amigos']\n"
     ]
    }
   ],
   "source": [
    "print(reviews_lista_train[:3])"
   ]
  },
  {
   "attachments": {},
   "cell_type": "markdown",
   "metadata": {},
   "source": [
    "Para probar el resultado hasta ahora, podemos inventar un texto y ver a qué indices del vocabulario corresponden; o inventar secuencias de números y ver qué texto se genera."
   ]
  },
  {
   "cell_type": "code",
   "execution_count": 299,
   "metadata": {},
   "outputs": [
    {
     "data": {
      "text/plain": [
       "[[937, 2, 1]]"
      ]
     },
     "execution_count": 299,
     "metadata": {},
     "output_type": "execute_result"
    }
   ],
   "source": [
    "tokenizer.texts_to_sequences(['criticos pelicula ijdrbsgds'])"
   ]
  },
  {
   "attachments": {},
   "cell_type": "markdown",
   "metadata": {},
   "source": [
    "Vemos que \"criticos\" y \"pelicula\" corresponden a índices del vocabulario, mientras que la secuencia aleatoria \"ijdrbsgds\", se guarda en el índice 1, que corresponde a los \"buckets\" de palabras fuera del vocabulario."
   ]
  },
  {
   "cell_type": "code",
   "execution_count": 300,
   "metadata": {},
   "outputs": [
    {
     "data": {
      "text/plain": [
       "['pelicula <OOV> vida episodio']"
      ]
     },
     "execution_count": 300,
     "metadata": {},
     "output_type": "execute_result"
    }
   ],
   "source": [
    "tokenizer.sequences_to_texts([[2, 1, 17, 235]])"
   ]
  },
  {
   "attachments": {},
   "cell_type": "markdown",
   "metadata": {},
   "source": [
    "Guardamos entonces en ```encoded_train``` el resultado de codificar las reviews de entrenamiento, con el método ```texts_to_sequences()``` del tokenizador."
   ]
  },
  {
   "cell_type": "code",
   "execution_count": 301,
   "metadata": {},
   "outputs": [],
   "source": [
    "encoded_train = tokenizer.texts_to_sequences(reviews_lista_train)\n",
    "encoded_test = tokenizer.texts_to_sequences(reviews_lista_test)"
   ]
  },
  {
   "attachments": {},
   "cell_type": "markdown",
   "metadata": {},
   "source": [
    "Otro paso clave antes de poder utilizar el modelo, es que todas las reviews deben tener el mismo largo. Para esto, utilizamos el método ```pad_sequences()```, que recibe las reviews codificadas. Si la review es más corta que el largo máximo, se rellena con ceros al final. Si la review es más larga que el largo máximo, se trunca al largo máximo. Aprovechamos este paso para setear el largo máximo de las reviews en el largo deseado."
   ]
  },
  {
   "cell_type": "code",
   "execution_count": 302,
   "metadata": {},
   "outputs": [],
   "source": [
    "encoded_train_truncado = tf.keras.preprocessing.sequence.pad_sequences(encoded_train, maxlen=REVIEW_MAX_LENGTH, truncating='post', padding='post', value=0)\n",
    "encoded_test_truncado = tf.keras.preprocessing.sequence.pad_sequences(encoded_test, maxlen=REVIEW_MAX_LENGTH, truncating='post', padding='post', value=0)"
   ]
  },
  {
   "attachments": {},
   "cell_type": "markdown",
   "metadata": {},
   "source": [
    "Ahora, todas las reviews codificadas son arrays de números, todas del mismo largo. De este modo, podemos utilizarlas como entrada de la red neuronal, que necesita recibir un Tensor \"denso\", en vez de \"ragged\" (como sería el caso si no tuvieran todas el mismo largo)."
   ]
  },
  {
   "attachments": {},
   "cell_type": "markdown",
   "metadata": {},
   "source": [
    "Visualizamos algunas reviews codificadas, para ver como quedaron."
   ]
  },
  {
   "cell_type": "code",
   "execution_count": 303,
   "metadata": {},
   "outputs": [
    {
     "name": "stdout",
     "output_type": "stream",
     "text": [
      "[[ 937 2712   13 ...    0    0    0]\n",
      " [ 221  221  201 ...    0    0    0]\n",
      " [ 153   45  589 ...    0    0    0]\n",
      " [ 502  136  109 ...    0    0    0]\n",
      " [  97   12    1 ...    0    0    0]]\n"
     ]
    }
   ],
   "source": [
    "print(encoded_train_truncado[:5])"
   ]
  },
  {
   "attachments": {},
   "cell_type": "markdown",
   "metadata": {},
   "source": [
    "### Split train / test"
   ]
  },
  {
   "attachments": {},
   "cell_type": "markdown",
   "metadata": {},
   "source": [
    "Llega el paso de spliteo de los datos codificados, que es el mismo que se viene utilizando en todos los modelos. Nada nuevo por acá."
   ]
  },
  {
   "cell_type": "code",
   "execution_count": 304,
   "metadata": {},
   "outputs": [],
   "source": [
    "x_train_rnn, x_test_rnn, y_train_rnn, y_test_rnn = train_test_split(encoded_train_truncado,\n",
    "                                                                    train.sentimiento,\n",
    "                                                                    test_size=0.3,\n",
    "                                                                    random_state=RANDOM_STATE, shuffle=True)"
   ]
  },
  {
   "attachments": {},
   "cell_type": "markdown",
   "metadata": {},
   "source": [
    "Otro paso importante es mapear los sentimientos \"negativo\" y \"positivo\" a valores numéricos, ya que esta es la salida de una red neuronal. Discretizamos entonces la columna ```sentiment``` en 0 (negativo) y 1 (positivo)."
   ]
  },
  {
   "cell_type": "code",
   "execution_count": 305,
   "metadata": {},
   "outputs": [],
   "source": [
    "label_map = {'negativo': 0, 'positivo': 1}\n",
    "y_train_rnn = y_train_rnn.map(label_map)\n",
    "y_test_rnn  = y_test_rnn.map(label_map)"
   ]
  },
  {
   "attachments": {},
   "cell_type": "markdown",
   "metadata": {},
   "source": [
    "Convertimos aquí el array de numpy a un tensor ragged de TensorFlow, para convertirlo a uno denso, para poder utilizarlo en el modelo."
   ]
  },
  {
   "cell_type": "code",
   "execution_count": 306,
   "metadata": {},
   "outputs": [
    {
     "data": {
      "text/plain": [
       "<tf.Tensor: shape=(35000, 300), dtype=int32, numpy=\n",
       "array([[2739, 5162,  656, ...,    0,    0,    0],\n",
       "       [  87, 9613,   14, ...,    0,    0,    0],\n",
       "       [ 180,  339, 5243, ...,    0,    0,    0],\n",
       "       ...,\n",
       "       [2145,    2,  187, ...,    0,    0,    0],\n",
       "       [ 201,   23,  736, ...,    0,    0,    0],\n",
       "       [   2,  450,   37, ...,    0,    0,    0]])>"
      ]
     },
     "execution_count": 306,
     "metadata": {},
     "output_type": "execute_result"
    }
   ],
   "source": [
    "x_train_rnn_ragged = tf.ragged.stack([tf.convert_to_tensor(lista) for lista in x_train_rnn], axis=0)\n",
    "x_train_rnn_dense = x_train_rnn_ragged.to_tensor()\n",
    "x_train_rnn_dense"
   ]
  },
  {
   "attachments": {},
   "cell_type": "markdown",
   "metadata": {},
   "source": [
    "### Parámetros y creación del modelo"
   ]
  },
  {
   "attachments": {},
   "cell_type": "markdown",
   "metadata": {},
   "source": [
    "A continuación se crea el modelo y se lo compila. En primer lugar, se utiliza una capa Embedding, que tendrá como parámetros:\n",
    " - Dimensión de entrada: tamaño del vocabulario más los buckets de palabras fuera del vocabulario.\n",
    " - Dimensión de salida: este valor es un hiperparámetro, que se puede optimizar. El tamaño de salida se llama \"embed size\", y es el tamaño de los vectores que representan a cada palabra. Entonces, si el \"embed size\" es de 128, significa que cada palabra estará representada por 128 parámetros entrenables. Estos permiten capturar relaciones entre palabras. A mayor tamaño, más detalle semántico se puede capturar. Entonces, cada palabra se puede pensar como una palabra en el espacio 128-dimensional, donde palabras más cercanas tienen mayor relación semántica."
   ]
  },
  {
   "cell_type": "code",
   "execution_count": 307,
   "metadata": {},
   "outputs": [],
   "source": [
    "EMBED_SIZE = 128\n",
    "capa_embedding = keras.layers.Embedding(VOCAB_SIZE + OOV_BUCKETS, EMBED_SIZE, input_shape=[None])"
   ]
  },
  {
   "attachments": {},
   "cell_type": "markdown",
   "metadata": {},
   "source": [
    "La siguientes dos capas son GRU. Son variantes \"simplificadas\" de LSTM."
   ]
  },
  {
   "cell_type": "code",
   "execution_count": 308,
   "metadata": {},
   "outputs": [],
   "source": [
    "capa_gru_1 = keras.layers.GRU(16, return_sequences=True)\n",
    "capa_gru_2 = keras.layers.GRU(8)"
   ]
  },
  {
   "attachments": {},
   "cell_type": "markdown",
   "metadata": {},
   "source": [
    "Por último, la capa de salida, que es una capa densa con una neurona, y función de activación sigmoidea. La salida de esta capa es un número entre 0 y 1, que representa la probabilidad de que la review sea positiva."
   ]
  },
  {
   "cell_type": "code",
   "execution_count": 309,
   "metadata": {},
   "outputs": [],
   "source": [
    "capa_salida = keras.layers.Dense(1, activation=\"sigmoid\")"
   ]
  },
  {
   "attachments": {},
   "cell_type": "markdown",
   "metadata": {},
   "source": [
    "Creamos el modelo con las capas definidas."
   ]
  },
  {
   "cell_type": "code",
   "execution_count": 310,
   "metadata": {},
   "outputs": [],
   "source": [
    "rnn_model = keras.models.Sequential([\n",
    "    capa_embedding,\n",
    "    capa_gru_1,\n",
    "    capa_gru_2,\n",
    "    capa_salida\n",
    "])"
   ]
  },
  {
   "attachments": {},
   "cell_type": "markdown",
   "metadata": {},
   "source": [
    "Presentamos un resumen del modelo."
   ]
  },
  {
   "cell_type": "code",
   "execution_count": 312,
   "metadata": {},
   "outputs": [
    {
     "name": "stdout",
     "output_type": "stream",
     "text": [
      "Model: \"sequential_16\"\n",
      "_________________________________________________________________\n",
      " Layer (type)                Output Shape              Param #   \n",
      "=================================================================\n",
      " embedding_15 (Embedding)    (None, None, 128)         1305600   \n",
      "                                                                 \n",
      " gru_32 (GRU)                (None, None, 16)          7008      \n",
      "                                                                 \n",
      " gru_33 (GRU)                (None, 8)                 624       \n",
      "                                                                 \n",
      " dense_16 (Dense)            (None, 1)                 9         \n",
      "                                                                 \n",
      "=================================================================\n",
      "Total params: 1,313,241\n",
      "Trainable params: 1,313,241\n",
      "Non-trainable params: 0\n",
      "_________________________________________________________________\n"
     ]
    }
   ],
   "source": [
    "rnn_model.summary()"
   ]
  },
  {
   "attachments": {},
   "cell_type": "markdown",
   "metadata": {},
   "source": [
    "Se compila el modelo, con la función de pérdida \"binary crossentropy\", el optimizador \"adam\" y la métrica \"f1\"."
   ]
  },
  {
   "cell_type": "code",
   "execution_count": 313,
   "metadata": {},
   "outputs": [],
   "source": [
    "rnn_model.compile(loss=\"binary_crossentropy\", optimizer=\"adam\", metrics=[\"accuracy\"])"
   ]
  },
  {
   "attachments": {},
   "cell_type": "markdown",
   "metadata": {},
   "source": [
    "Además, agregamos un callback \"early stopping\" para evitar el overfitting."
   ]
  },
  {
   "cell_type": "code",
   "execution_count": 314,
   "metadata": {},
   "outputs": [],
   "source": [
    "es = EarlyStopping(monitor='loss', patience=5) "
   ]
  },
  {
   "attachments": {},
   "cell_type": "markdown",
   "metadata": {},
   "source": [
    "Se fitea el modelo:"
   ]
  },
  {
   "cell_type": "code",
   "execution_count": 317,
   "metadata": {},
   "outputs": [],
   "source": [
    "EPOCHS = 20"
   ]
  },
  {
   "cell_type": "code",
   "execution_count": 318,
   "metadata": {},
   "outputs": [
    {
     "name": "stdout",
     "output_type": "stream",
     "text": [
      "Epoch 1/20\n"
     ]
    },
    {
     "name": "stdout",
     "output_type": "stream",
     "text": [
      "547/547 [==============================] - 193s 353ms/step - loss: 0.6932 - accuracy: 0.5020\n",
      "Epoch 2/20\n",
      "547/547 [==============================] - 403s 736ms/step - loss: 0.6845 - accuracy: 0.5153\n",
      "Epoch 3/20\n",
      "547/547 [==============================] - 361s 660ms/step - loss: 0.6648 - accuracy: 0.5268\n",
      "Epoch 4/20\n",
      "547/547 [==============================] - 352s 642ms/step - loss: 0.6578 - accuracy: 0.5387\n",
      "Epoch 5/20\n",
      "547/547 [==============================] - 285s 520ms/step - loss: 0.6539 - accuracy: 0.5329\n",
      "Epoch 6/20\n",
      "547/547 [==============================] - 274s 501ms/step - loss: 0.6469 - accuracy: 0.5460\n",
      "Epoch 7/20\n",
      "547/547 [==============================] - 254s 465ms/step - loss: 0.6380 - accuracy: 0.5572\n",
      "Epoch 8/20\n",
      "547/547 [==============================] - 256s 468ms/step - loss: 0.6236 - accuracy: 0.5762\n",
      "Epoch 9/20\n",
      "547/547 [==============================] - 247s 451ms/step - loss: 0.6028 - accuracy: 0.6017\n",
      "Epoch 10/20\n",
      "547/547 [==============================] - 207s 378ms/step - loss: 0.5758 - accuracy: 0.6423\n",
      "Epoch 11/20\n",
      "547/547 [==============================] - 194s 355ms/step - loss: 0.5374 - accuracy: 0.6916\n",
      "Epoch 12/20\n",
      "547/547 [==============================] - 191s 349ms/step - loss: 0.4865 - accuracy: 0.7507\n",
      "Epoch 13/20\n",
      "547/547 [==============================] - 191s 349ms/step - loss: 0.4236 - accuracy: 0.8048\n",
      "Epoch 14/20\n",
      "547/547 [==============================] - 183s 334ms/step - loss: 0.3542 - accuracy: 0.8508\n",
      "Epoch 15/20\n",
      "547/547 [==============================] - 187s 341ms/step - loss: 0.2923 - accuracy: 0.8851\n",
      "Epoch 16/20\n",
      "547/547 [==============================] - 181s 331ms/step - loss: 0.2483 - accuracy: 0.9074\n",
      "Epoch 17/20\n",
      "547/547 [==============================] - 180s 329ms/step - loss: 0.1992 - accuracy: 0.9291\n",
      "Epoch 18/20\n",
      "547/547 [==============================] - 172s 315ms/step - loss: 0.1635 - accuracy: 0.9450\n",
      "Epoch 19/20\n",
      "547/547 [==============================] - 173s 317ms/step - loss: 0.1421 - accuracy: 0.9528\n",
      "Epoch 20/20\n",
      "547/547 [==============================] - 200s 365ms/step - loss: 0.1175 - accuracy: 0.9624\n"
     ]
    }
   ],
   "source": [
    "history = rnn_model.fit(x_train_rnn_dense, y_train_rnn, batch_size=64, epochs=EPOCHS, callbacks=[es])"
   ]
  },
  {
   "attachments": {},
   "cell_type": "markdown",
   "metadata": {},
   "source": [
    "### Métricas"
   ]
  },
  {
   "cell_type": "markdown",
   "metadata": {},
   "source": [
    "Calculamos las métricas para ver el desempeño del modelo."
   ]
  },
  {
   "cell_type": "code",
   "execution_count": 319,
   "metadata": {},
   "outputs": [
    {
     "name": "stdout",
     "output_type": "stream",
     "text": [
      "1094/1094 [==============================] - 85s 69ms/step - loss: 0.0713 - accuracy: 0.9827\n",
      "469/469 [==============================] - 46s 98ms/step - loss: 1.8046 - accuracy: 0.5086\n",
      "\n",
      "Training Accuracy: 0.9827428460121155\n",
      "Testing Accuracy: 0.5085999965667725\n"
     ]
    }
   ],
   "source": [
    "train_score = rnn_model.evaluate(x_train_rnn,\n",
    "                       y_train_rnn,\n",
    "                       verbose=1)\n",
    "test_score = rnn_model.evaluate(x_test_rnn,\n",
    "                       y_test_rnn,\n",
    "                       verbose=1)\n",
    "labels = rnn_model.metrics_names\n",
    "\n",
    "print('')\n",
    "print(f'Training Accuracy: {train_score[1]}')\n",
    "print(f'Testing Accuracy: {test_score[1]}')"
   ]
  },
  {
   "cell_type": "code",
   "execution_count": 320,
   "metadata": {},
   "outputs": [
    {
     "name": "stdout",
     "output_type": "stream",
     "text": [
      "469/469 [==============================] - 33s 65ms/step\n"
     ]
    }
   ],
   "source": [
    "y_pred = rnn_model.predict(x_test_rnn)"
   ]
  },
  {
   "cell_type": "markdown",
   "metadata": {},
   "source": [
    "Accuracy, precision, recall y f1-score:"
   ]
  },
  {
   "cell_type": "code",
   "execution_count": 321,
   "metadata": {},
   "outputs": [
    {
     "name": "stdout",
     "output_type": "stream",
     "text": [
      "Accuracy: 0.5086\n",
      "Recall: 0.5049413624983529\n",
      "Precision: 0.5146387322052108\n",
      "f1 score: 0.5097439308280678\n"
     ]
    }
   ],
   "source": [
    "y_pred_binario = np.where(y_pred > 0.5, 1, 0)\n",
    "\n",
    "accuracy = accuracy_score(y_test_rnn, y_pred_binario)\n",
    "recall = recall_score(y_test_rnn, y_pred_binario)\n",
    "f1 = f1_score(y_test_rnn, y_pred_binario,)\n",
    "precision = precision_score(y_test_rnn, y_pred_binario)\n",
    "\n",
    "print(\"Accuracy: \"  + str(accuracy))\n",
    "print(\"Recall: \"    + str(recall))\n",
    "print(\"Precision: \" + str(precision))\n",
    "print(\"f1 score: \"  + str(f1))"
   ]
  },
  {
   "cell_type": "markdown",
   "metadata": {},
   "source": [
    "El reporte de clasificación:"
   ]
  },
  {
   "cell_type": "code",
   "execution_count": 322,
   "metadata": {},
   "outputs": [
    {
     "name": "stdout",
     "output_type": "stream",
     "text": [
      "              precision    recall  f1-score   support\n",
      "\n",
      "           0       0.50      0.51      0.51      7411\n",
      "           1       0.51      0.50      0.51      7589\n",
      "\n",
      "    accuracy                           0.51     15000\n",
      "   macro avg       0.51      0.51      0.51     15000\n",
      "weighted avg       0.51      0.51      0.51     15000\n",
      "\n"
     ]
    }
   ],
   "source": [
    "print(classification_report(y_test_rnn, y_pred_binario))"
   ]
  },
  {
   "cell_type": "markdown",
   "metadata": {},
   "source": [
    "Y la matriz de confusión:"
   ]
  },
  {
   "cell_type": "code",
   "execution_count": 323,
   "metadata": {},
   "outputs": [
    {
     "data": {
      "image/png": "[encoded data removed]",
      "text/plain": [
       "<Figure size 640x480 with 2 Axes>"
      ]
     },
     "metadata": {},
     "output_type": "display_data"
    }
   ],
   "source": [
    "cm = confusion_matrix(y_test_rnn,y_pred_binario)\n",
    "sns.heatmap(cm, cmap='Blues',annot=True,fmt='g')\n",
    "plt.xlabel('Predicted')\n",
    "plt.ylabel('True')\n",
    "plt.show()"
   ]
  },
  {
   "attachments": {},
   "cell_type": "markdown",
   "metadata": {},
   "source": [
    "### Submission"
   ]
  },
  {
   "cell_type": "markdown",
   "metadata": {},
   "source": [
    "Guardamos el modelo y generamos la submission para kaggle."
   ]
  },
  {
   "cell_type": "code",
   "execution_count": 324,
   "metadata": {},
   "outputs": [],
   "source": [
    "pickle.dump(rnn_model, open('rnn_grupo29.pickle', 'wb'))"
   ]
  },
  {
   "cell_type": "code",
   "execution_count": null,
   "metadata": {},
   "outputs": [],
   "source": [
    "X_submission_rnn = encoded_test_truncado.tolist()"
   ]
  },
  {
   "cell_type": "code",
   "execution_count": 326,
   "metadata": {},
   "outputs": [
    {
     "name": "stdout",
     "output_type": "stream",
     "text": [
      "269/269 [==============================] - 16s 60ms/step\n"
     ]
    }
   ],
   "source": [
    "y_pred_test_rnn = rnn_model.predict(X_submission_rnn)"
   ]
  },
  {
   "cell_type": "code",
   "execution_count": 327,
   "metadata": {},
   "outputs": [
    {
     "data": {
      "text/plain": [
       "array([[0],\n",
       "       [1],\n",
       "       [0],\n",
       "       ...,\n",
       "       [0],\n",
       "       [1],\n",
       "       [0]])"
      ]
     },
     "execution_count": 327,
     "metadata": {},
     "output_type": "execute_result"
    }
   ],
   "source": [
    "y_pred_test_rnn_binario = np.where(y_pred_test_rnn > 0.5, 1, 0)\n",
    "y_pred_test_rnn_binario"
   ]
  },
  {
   "cell_type": "code",
   "execution_count": 328,
   "metadata": {},
   "outputs": [
    {
     "data": {
      "text/plain": [
       "array(['negativo', 'positivo', 'negativo', ..., 'negativo', 'positivo',\n",
       "       'negativo'], dtype=object)"
      ]
     },
     "execution_count": 328,
     "metadata": {},
     "output_type": "execute_result"
    }
   ],
   "source": [
    "label_map = {0: 'negativo', 1: 'positivo'}\n",
    "\n",
    "y_pred_test_rnn_binario = pd.Series(y_pred_test_rnn_binario.flatten()).map(label_map).values\n",
    "y_pred_test_rnn_binario"
   ]
  },
  {
   "cell_type": "code",
   "execution_count": 329,
   "metadata": {},
   "outputs": [],
   "source": [
    "df_submission_rnn = pd.DataFrame({'ID': test['ID'], 'sentimiento': y_pred_test_rnn_binario})\n",
    "df_submission_rnn.to_csv('rnn01.csv', index=False)"
   ]
  },
  {
   "attachments": {},
   "cell_type": "markdown",
   "metadata": {},
   "source": [
    "## Ensamble"
   ]
  },
  {
   "cell_type": "markdown",
   "metadata": {},
   "source": [
    "### Creacion del voting classifier"
   ]
  },
  {
   "cell_type": "markdown",
   "metadata": {},
   "source": [
    "Vamos a crear un ensamble de tipo Voting Classifier, que consiste en obtener la predicción de varios modelos, y quedarnos con la predicción que más votos tenga."
   ]
  },
  {
   "cell_type": "code",
   "execution_count": 408,
   "metadata": {},
   "outputs": [],
   "source": [
    "def score(model, X, y):\n",
    "    cv = RepeatedStratifiedKFold(n_splits=5, n_repeats=2, random_state=RANDOM_STATE)\n",
    "    scores = cross_val_score(model, X, y, scoring='f1', cv=cv, error_score='raise')\n",
    "    return scores"
   ]
  },
  {
   "cell_type": "markdown",
   "metadata": {},
   "source": [
    "Los modelos clasificadores que se utilizarán para el ensamble serán Random Forest, XGBoost y Naive Bayes que ya fueron entrenados en este notebook."
   ]
  },
  {
   "cell_type": "code",
   "execution_count": 409,
   "metadata": {},
   "outputs": [],
   "source": [
    "models = {\n",
    "    'random_forest': rf_model,\n",
    "    'xgboost': xgb_model,\n",
    "    'bayes_naive': NB_model,\n",
    "}"
   ]
  },
  {
   "cell_type": "markdown",
   "metadata": {},
   "source": [
    "Creamos el Voting Classifier con los modelos elegidos, lo entrenamos con los datos y obtenemos las predicciones."
   ]
  },
  {
   "cell_type": "code",
   "execution_count": 436,
   "metadata": {},
   "outputs": [],
   "source": [
    "#Creo ensemble de Votación\n",
    "voting = VotingClassifier(estimators = [('random_forest', rf_model), ('xgboost', xgb_model), ('bayes_naive', NB_model)], voting = 'hard', n_jobs=-1)\n",
    "\n",
    "#Entreno el ensemble\n",
    "modelo_voting = voting.fit(x_train, y_train_mapped)\n",
    "\n",
    "#Obtengo predicciones\n",
    "y_pred = voting.predict(x_test)"
   ]
  },
  {
   "cell_type": "markdown",
   "metadata": {},
   "source": [
    "Evaluamos la performance de cada uno de los modelos por separado:"
   ]
  },
  {
   "cell_type": "code",
   "execution_count": 457,
   "metadata": {},
   "outputs": [
    {
     "name": "stdout",
     "output_type": "stream",
     "text": [
      "random_forest 0.718\n",
      "xgboost 0.819\n",
      "bayes_naive 0.844\n"
     ]
    }
   ],
   "source": [
    "resultado, nombres = list(), list()\n",
    "for nombre, model in models.items():\n",
    "\tscores = score(model, x_train, y_train_mapped)\n",
    "\tresultado.append(scores)\n",
    "\tnombres.append(nombre)\n",
    "\tprint('%s %.3f' % (nombre, mean(scores)))"
   ]
  },
  {
   "cell_type": "markdown",
   "metadata": {},
   "source": [
    "Ahora evaluamos la performance del Voting Classifier:"
   ]
  },
  {
   "cell_type": "code",
   "execution_count": 458,
   "metadata": {},
   "outputs": [],
   "source": [
    "score_voting = score(voting, x_train, y_train_mapped)"
   ]
  },
  {
   "cell_type": "code",
   "execution_count": 459,
   "metadata": {},
   "outputs": [
    {
     "data": {
      "text/plain": [
       "array([0.8245348 , 0.83118309, 0.83342421, 0.83149134, 0.83654629,\n",
       "       0.82985487, 0.83642268, 0.83005561, 0.83143913, 0.83215452])"
      ]
     },
     "execution_count": 459,
     "metadata": {},
     "output_type": "execute_result"
    }
   ],
   "source": [
    "score_voting"
   ]
  },
  {
   "cell_type": "markdown",
   "metadata": {},
   "source": [
    "Obtenemos la media de los scores"
   ]
  },
  {
   "cell_type": "code",
   "execution_count": 460,
   "metadata": {},
   "outputs": [
    {
     "name": "stdout",
     "output_type": "stream",
     "text": [
      "Voting Classifier: 0.8317106540450812\n"
     ]
    }
   ],
   "source": [
    "print('Voting Classifier:', mean(score_voting))"
   ]
  },
  {
   "cell_type": "code",
   "execution_count": 461,
   "metadata": {},
   "outputs": [],
   "source": [
    "resultado.append(score_voting)\n",
    "nombres.append('voting')"
   ]
  },
  {
   "cell_type": "markdown",
   "metadata": {},
   "source": [
    "### Métricas"
   ]
  },
  {
   "cell_type": "markdown",
   "metadata": {},
   "source": [
    "Calculamos las métricas para ver el desempeño del ensamble de modelos."
   ]
  },
  {
   "cell_type": "code",
   "execution_count": 440,
   "metadata": {},
   "outputs": [
    {
     "name": "stdout",
     "output_type": "stream",
     "text": [
      "Accuracy: 0.8304666666666667\n",
      "Recall: 0.8811437607062854\n",
      "Precision: 0.8029538904899135\n",
      "f1 score: 0.8402337123829867\n"
     ]
    }
   ],
   "source": [
    "accuracy = accuracy_score(y_test_mapped, y_pred)\n",
    "recall = recall_score(y_test_mapped, y_pred)\n",
    "f1 = f1_score(y_test_mapped, y_pred)\n",
    "precision = precision_score(y_test_mapped, y_pred)\n",
    "\n",
    "print(\"Accuracy: \"  + str(accuracy))\n",
    "print(\"Recall: \"    + str(recall))\n",
    "print(\"Precision: \" + str(precision))\n",
    "print(\"f1 score: \"  + str(f1))"
   ]
  },
  {
   "cell_type": "markdown",
   "metadata": {},
   "source": [
    "El reporte de clasificación:"
   ]
  },
  {
   "cell_type": "code",
   "execution_count": 442,
   "metadata": {},
   "outputs": [
    {
     "name": "stdout",
     "output_type": "stream",
     "text": [
      "              precision    recall  f1-score   support\n",
      "\n",
      "           0       0.86      0.78      0.82      7411\n",
      "           1       0.80      0.88      0.84      7589\n",
      "\n",
      "    accuracy                           0.83     15000\n",
      "   macro avg       0.83      0.83      0.83     15000\n",
      "weighted avg       0.83      0.83      0.83     15000\n",
      "\n"
     ]
    }
   ],
   "source": [
    "print(classification_report(y_test_mapped,y_pred))"
   ]
  },
  {
   "cell_type": "markdown",
   "metadata": {},
   "source": [
    "Y la matriz de confusión:"
   ]
  },
  {
   "cell_type": "code",
   "execution_count": 444,
   "metadata": {},
   "outputs": [
    {
     "data": {
      "image/png": "[encoded data removed]",
      "text/plain": [
       "<Figure size 640x480 with 2 Axes>"
      ]
     },
     "metadata": {},
     "output_type": "display_data"
    }
   ],
   "source": [
    "cm = confusion_matrix(y_test_mapped,y_pred)\n",
    "sns.heatmap(cm, cmap='Blues',annot=True,fmt='g')\n",
    "plt.xlabel('Predicted')\n",
    "plt.ylabel('True')\n",
    "plt.show()"
   ]
  },
  {
   "cell_type": "markdown",
   "metadata": {},
   "source": [
    "Ahora podemos comparar la performance de los modelos por separado con la del ensamble de dichos modelos, como se puede ver en el siguiente gráfico:"
   ]
  },
  {
   "cell_type": "code",
   "execution_count": 463,
   "metadata": {},
   "outputs": [
    {
     "data": {
      "image/png": "[encoded data removed]",
      "text/plain": [
       "<Figure size 1000x600 with 1 Axes>"
      ]
     },
     "metadata": {},
     "output_type": "display_data"
    }
   ],
   "source": [
    "plt.figure(figsize=(10,6))\n",
    "sns.boxplot(resultado).set(xticklabels=nombres, title='Performance de los modelos', xlabel='Modelos', ylabel='F1 Score')\n",
    "plt.show()"
   ]
  },
  {
   "cell_type": "markdown",
   "metadata": {},
   "source": [
    "La predicción final se basa en la mayoría de los votos de los modelos base, por lo que obtenemos un modelo que en general posee mayor precision que los modelos individuales. \n",
    "\n",
    "Esto se debe a que puede aprovechar las fortalezas de cada modelo individual y reducir el impacto de las debilidades de cada uno.\n",
    "\n",
    "En este caso, al evaluar la performance de los modelos por separado, el bayes naive tiene un mejor desempeño que los otros dos modelos base (xgboost y random forest). \n",
    "\n",
    "Al ensamblar los modelos en un ensamble híbrido de tipo voting classifier obtenemos un modelo que performa de mejor manera que el random forest y que el xgboost por separado aunque es apenas peor que el bayes naive."
   ]
  },
  {
   "attachments": {},
   "cell_type": "markdown",
   "metadata": {},
   "source": [
    "### Submission"
   ]
  },
  {
   "cell_type": "markdown",
   "metadata": {},
   "source": [
    "Guardamos el ensamble en un archivo .pickle y generamos la submission para kaggle."
   ]
  },
  {
   "cell_type": "code",
   "execution_count": 446,
   "metadata": {},
   "outputs": [],
   "source": [
    "pickle.dump(modelo_voting, open('voting_grupo29.pickle', 'wb'))"
   ]
  },
  {
   "cell_type": "code",
   "execution_count": 448,
   "metadata": {},
   "outputs": [],
   "source": [
    "X_submission_voting = test_fid\n",
    "y_pred_test_voting = modelo_voting.predict(X_submission_voting)"
   ]
  },
  {
   "cell_type": "code",
   "execution_count": 449,
   "metadata": {},
   "outputs": [],
   "source": [
    "label_map = {0: 'negativo', 1: 'positivo'}\n",
    "y_pred_test_voting = pd.Series(y_pred_test_voting).map(label_map)"
   ]
  },
  {
   "cell_type": "code",
   "execution_count": 450,
   "metadata": {},
   "outputs": [],
   "source": [
    "df_submission_voting = pd.DataFrame({'ID': test['ID'], 'sentimiento': y_pred_test_voting})\n",
    "df_submission_voting.to_csv('voting00.csv', index=False)"
   ]
  }
 ],
 "metadata": {
  "kernelspec": {
   "display_name": "Python 3.8.5 64-bit",
   "language": "python",
   "name": "python3"
  },
  "language_info": {
   "codemirror_mode": {
    "name": "ipython",
    "version": 3
   },
   "file_extension": ".py",
   "mimetype": "text/x-python",
   "name": "python",
   "nbconvert_exporter": "python",
   "pygments_lexer": "ipython3",
   "version": "3.11.2"
  },
  "orig_nbformat": 4,
  "vscode": {
   "interpreter": {
    "hash": "570feb405e2e27c949193ac68f46852414290d515b0ba6e5d90d076ed2284471"
   }
  }
 },
 "nbformat": 4,
 "nbformat_minor": 2
}
